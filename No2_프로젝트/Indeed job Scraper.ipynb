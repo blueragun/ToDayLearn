{
 "cells": [
  {
   "cell_type": "code",
   "execution_count": 2,
   "id": "mysterious-gates",
   "metadata": {},
   "outputs": [
    {
     "name": "stdout",
     "output_type": "stream",
     "text": [
      "Requirement already satisfied: pip in /home/ubuntu/anaconda3/envs/python3/lib/python3.6/site-packages (21.2.4)\n",
      "Collecting pip\n",
      "  Downloading pip-21.3.1-py3-none-any.whl (1.7 MB)\n",
      "\u001b[K     |████████████████████████████████| 1.7 MB 38.4 MB/s eta 0:00:01\n",
      "\u001b[?25hInstalling collected packages: pip\n",
      "  Attempting uninstall: pip\n",
      "    Found existing installation: pip 21.2.4\n",
      "    Uninstalling pip-21.2.4:\n",
      "      Successfully uninstalled pip-21.2.4\n",
      "Successfully installed pip-21.3.1\n"
     ]
    }
   ],
   "source": [
    "!pip install --upgrade pip"
   ]
  },
  {
   "cell_type": "code",
   "execution_count": 3,
   "id": "rocky-clock",
   "metadata": {},
   "outputs": [
    {
     "name": "stdout",
     "output_type": "stream",
     "text": [
      "Requirement already satisfied: bs4 in /home/ubuntu/anaconda3/envs/python3/lib/python3.6/site-packages (0.0.1)\n",
      "Requirement already satisfied: beautifulsoup4 in /home/ubuntu/anaconda3/envs/python3/lib/python3.6/site-packages (from bs4) (4.9.3)\n",
      "Requirement already satisfied: soupsieve>1.2 in /home/ubuntu/anaconda3/envs/python3/lib/python3.6/site-packages (from beautifulsoup4->bs4) (2.0.1)\n"
     ]
    }
   ],
   "source": [
    "!pip install bs4"
   ]
  },
  {
   "cell_type": "code",
   "execution_count": 4,
   "id": "rocky-monte",
   "metadata": {},
   "outputs": [
    {
     "name": "stdout",
     "output_type": "stream",
     "text": [
      "Requirement already satisfied: requests in /home/ubuntu/anaconda3/envs/python3/lib/python3.6/site-packages (2.26.0)\r\n",
      "Requirement already satisfied: charset-normalizer~=2.0.0 in /home/ubuntu/anaconda3/envs/python3/lib/python3.6/site-packages (from requests) (2.0.4)\r\n",
      "Requirement already satisfied: certifi>=2017.4.17 in /home/ubuntu/anaconda3/envs/python3/lib/python3.6/site-packages (from requests) (2020.12.5)\r\n",
      "Requirement already satisfied: urllib3<1.27,>=1.21.1 in /home/ubuntu/anaconda3/envs/python3/lib/python3.6/site-packages (from requests) (1.26.6)\r\n",
      "Requirement already satisfied: idna<4,>=2.5 in /home/ubuntu/anaconda3/envs/python3/lib/python3.6/site-packages (from requests) (3.1)\r\n"
     ]
    }
   ],
   "source": [
    "!pip install requests"
   ]
  },
  {
   "cell_type": "code",
   "execution_count": 79,
   "id": "coupled-tackle",
   "metadata": {},
   "outputs": [],
   "source": [
    "import csv\n",
    "from datetime import datetime\n",
    "import requests\n",
    "from bs4 import BeautifulSoup as bs"
   ]
  },
  {
   "cell_type": "code",
   "execution_count": null,
   "id": "moderate-oklahoma",
   "metadata": {},
   "outputs": [],
   "source": [
    "## Setup the query and url"
   ]
  },
  {
   "cell_type": "code",
   "execution_count": 18,
   "id": "cheap-sigma",
   "metadata": {},
   "outputs": [],
   "source": [
    "def get_url(position, location):\n",
    "    \"\"\"Generate url from position and location\"\"\"\n",
    "    template = 'https://www.indeed.com/jobs?q={}&l={}'\n",
    "    position = position.replace(' ', '+')\n",
    "    location = location.replace(' ', '+')\n",
    "    url = template.format(position, location)\n",
    "    return url"
   ]
  },
  {
   "cell_type": "code",
   "execution_count": 19,
   "id": "injured-arthur",
   "metadata": {},
   "outputs": [
    {
     "name": "stdout",
     "output_type": "stream",
     "text": [
      "https://www.indeed.com/jobs?q=data+scientist&l=usa\n"
     ]
    }
   ],
   "source": [
    "url = get_url('data scientist', 'usa')\n",
    "print(url)"
   ]
  },
  {
   "cell_type": "code",
   "execution_count": 20,
   "id": "capable-asbestos",
   "metadata": {},
   "outputs": [],
   "source": [
    "response = requests.get(url)"
   ]
  },
  {
   "cell_type": "code",
   "execution_count": 21,
   "id": "planned-jordan",
   "metadata": {},
   "outputs": [],
   "source": [
    "soup = BeautifulSoup(response.text, 'html.parser')"
   ]
  },
  {
   "cell_type": "code",
   "execution_count": 26,
   "id": "streaming-train",
   "metadata": {},
   "outputs": [],
   "source": [
    "cards = soup.find_all('div', 'job_seen_beacon')"
   ]
  },
  {
   "cell_type": "code",
   "execution_count": 27,
   "id": "italic-outline",
   "metadata": {},
   "outputs": [
    {
     "data": {
      "text/plain": [
       "15"
      ]
     },
     "execution_count": 27,
     "metadata": {},
     "output_type": "execute_result"
    }
   ],
   "source": [
    "len(cards)"
   ]
  },
  {
   "cell_type": "code",
   "execution_count": 28,
   "id": "sealed-printer",
   "metadata": {},
   "outputs": [],
   "source": [
    "card = cards[0]"
   ]
  },
  {
   "cell_type": "code",
   "execution_count": 97,
   "id": "minus-interpretation",
   "metadata": {},
   "outputs": [],
   "source": [
    "job_title = card.h2.get('jobTitle')"
   ]
  },
  {
   "cell_type": "code",
   "execution_count": 46,
   "id": "intense-alliance",
   "metadata": {},
   "outputs": [],
   "source": [
    "company = card.find('span', 'companyName').text.strip()"
   ]
  },
  {
   "cell_type": "code",
   "execution_count": 47,
   "id": "adaptive-awareness",
   "metadata": {},
   "outputs": [],
   "source": [
    "job_location = card.find('div', 'companyLocation')"
   ]
  },
  {
   "cell_type": "code",
   "execution_count": 48,
   "id": "failing-stylus",
   "metadata": {},
   "outputs": [
    {
     "data": {
      "text/plain": [
       "'US Military Sealift Command'"
      ]
     },
     "execution_count": 48,
     "metadata": {},
     "output_type": "execute_result"
    }
   ],
   "source": [
    "company"
   ]
  },
  {
   "cell_type": "code",
   "execution_count": 57,
   "id": "reliable-greenhouse",
   "metadata": {},
   "outputs": [],
   "source": [
    "post_date = card.find('span', 'date').text\n",
    "today = datetime.today().strftime('%Y-%m-%d')"
   ]
  },
  {
   "cell_type": "code",
   "execution_count": 56,
   "id": "asian-accident",
   "metadata": {},
   "outputs": [],
   "source": [
    "summary = card.find('div', 'job-snippet').text.strip().replace('\\n', ' ')"
   ]
  },
  {
   "cell_type": "code",
   "execution_count": 58,
   "id": "photographic-genesis",
   "metadata": {},
   "outputs": [],
   "source": [
    "# this does not exists for all jobs, so handle the exceptions\n",
    "salary_tag = card.find('div', 'attribute_snippet')\n",
    "if salary_tag:\n",
    "    salary = salary_tag.text.strip()\n",
    "else:\n",
    "    salary = ''    "
   ]
  },
  {
   "cell_type": "code",
   "execution_count": 62,
   "id": "individual-plate",
   "metadata": {},
   "outputs": [
    {
     "data": {
      "text/plain": [
       "'$66,773 - $104,046 a year'"
      ]
     },
     "execution_count": 62,
     "metadata": {},
     "output_type": "execute_result"
    }
   ],
   "source": [
    "salary"
   ]
  },
  {
   "cell_type": "code",
   "execution_count": 95,
   "id": "welsh-mobile",
   "metadata": {},
   "outputs": [
    {
     "ename": "AttributeError",
     "evalue": "'NoneType' object has no attribute 'get'",
     "output_type": "error",
     "traceback": [
      "\u001b[0;31m---------------------------------------------------------------------------\u001b[0m",
      "\u001b[0;31mAttributeError\u001b[0m                            Traceback (most recent call last)",
      "\u001b[0;32m<ipython-input-95-5c363f8f2e9a>\u001b[0m in \u001b[0;36m<module>\u001b[0;34m()\u001b[0m\n\u001b[0;32m----> 1\u001b[0;31m \u001b[0mjob_url\u001b[0m \u001b[0;34m=\u001b[0m \u001b[0;34m'https://www.indeed.com'\u001b[0m \u001b[0;34m+\u001b[0m \u001b[0mcard\u001b[0m\u001b[0;34m.\u001b[0m\u001b[0mh2\u001b[0m\u001b[0;34m.\u001b[0m\u001b[0ma\u001b[0m\u001b[0;34m.\u001b[0m\u001b[0mget\u001b[0m\u001b[0;34m(\u001b[0m\u001b[0;34m'href'\u001b[0m\u001b[0;34m)\u001b[0m\u001b[0;34m\u001b[0m\u001b[0;34m\u001b[0m\u001b[0m\n\u001b[0m",
      "\u001b[0;31mAttributeError\u001b[0m: 'NoneType' object has no attribute 'get'"
     ]
    }
   ],
   "source": [
    "job_url = 'https://www.indeed.com' + card.h2.a.get('href')"
   ]
  },
  {
   "cell_type": "code",
   "execution_count": 100,
   "id": "complimentary-modem",
   "metadata": {},
   "outputs": [],
   "source": [
    "job_title"
   ]
  },
  {
   "cell_type": "code",
   "execution_count": 101,
   "id": "inner-bulletin",
   "metadata": {},
   "outputs": [
    {
     "data": {
      "text/plain": [
       "<div class=\"companyLocation\">Naval Base, VA</div>"
      ]
     },
     "execution_count": 101,
     "metadata": {},
     "output_type": "execute_result"
    }
   ],
   "source": [
    "job_location"
   ]
  },
  {
   "cell_type": "code",
   "execution_count": 71,
   "id": "broke-mustang",
   "metadata": {},
   "outputs": [
    {
     "name": "stdout",
     "output_type": "stream",
     "text": [
      "Requirement already satisfied: beautifulsoup4 in /home/ubuntu/anaconda3/envs/python3/lib/python3.6/site-packages (4.9.3)\r\n",
      "Requirement already satisfied: soupsieve>1.2 in /home/ubuntu/anaconda3/envs/python3/lib/python3.6/site-packages (from beautifulsoup4) (2.0.1)\r\n"
     ]
    }
   ],
   "source": [
    "!pip install beautifulsoup4"
   ]
  },
  {
   "cell_type": "code",
   "execution_count": 73,
   "id": "positive-halifax",
   "metadata": {},
   "outputs": [],
   "source": [
    "import urllib.request as ureq"
   ]
  },
  {
   "cell_type": "code",
   "execution_count": null,
   "id": "entitled-sponsorship",
   "metadata": {},
   "outputs": [],
   "source": []
  }
 ],
 "metadata": {
  "kernelspec": {
   "display_name": "Python 3",
   "language": "python",
   "name": "python3"
  },
  "language_info": {
   "codemirror_mode": {
    "name": "ipython",
    "version": 3
   },
   "file_extension": ".py",
   "mimetype": "text/x-python",
   "name": "python",
   "nbconvert_exporter": "python",
   "pygments_lexer": "ipython3",
   "version": "3.6.13"
  }
 },
 "nbformat": 4,
 "nbformat_minor": 5
}
