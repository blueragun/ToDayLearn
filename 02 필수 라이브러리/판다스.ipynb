{
  "nbformat": 4,
  "nbformat_minor": 0,
  "metadata": {
    "colab": {
      "name": "판다스.ipynb",
      "provenance": [],
      "collapsed_sections": [],
      "toc_visible": true
    },
    "kernelspec": {
      "name": "python3",
      "display_name": "Python 3"
    },
    "language_info": {
      "name": "python"
    }
  },
  "cells": [
    {
      "cell_type": "code",
      "execution_count": null,
      "metadata": {
        "id": "7VsIg0Y2wdZY"
      },
      "outputs": [],
      "source": [
        "# 데이터 분석용 필수 패키지들 입니다. \n",
        "# 사용하지 않더라도 일단 가져오고 봅니다\n",
        "import numpy as np\n",
        "import pandas as pd"
      ]
    },
    {
      "cell_type": "markdown",
      "source": [
        "# 판다스란?\n",
        "- 파이썬에서 사용할 수 있는 데이터 전처리용 패키지 입니다. \n",
        "  - 엑셀처럼 파일을 다룰 수 있게 해주는 도구 입니다. \n",
        "  - 엑셀과의 가장 큰 차이점은 아주 큰 파일도 처리가 가능\n",
        "    - 일반적으로 100MB만 넘어가도 잘 안열립니다\n",
        "    - 판다스는 1GB 넘어가는 아주 큰 파일도 빠르게 처리가 가능\n",
        "  - 엑셀보다 더 복잡한 처리, 디비와 연동 등의 기능을 제공\n",
        "\n",
        "- 데이터 분석 \n",
        "  - 분석 업무의 80%는 전처리 입니다. \n",
        "  - 잘 정제되지 않은 데이터는 분석을 아무리 잘해도 의미가 없습니다"
      ],
      "metadata": {
        "id": "n4LHyK9IwpQr"
      }
    },
    {
      "cell_type": "markdown",
      "source": [
        "## Series\n",
        "- 1차원 구조를 표현\n"
      ],
      "metadata": {
        "id": "hO4sADp701wc"
      }
    },
    {
      "cell_type": "code",
      "source": [
        "# 인덱스와 함께 표현되서 2차원 처럼 보이지만, 1차원 입니다. \n",
        "series = pd.Series( [10, 20, 30, 40] )\n",
        "series"
      ],
      "metadata": {
        "colab": {
          "base_uri": "https://localhost:8080/"
        },
        "id": "p4NntFAZ3h2q",
        "outputId": "d457f523-0798-4d12-a8b7-a802df226cec"
      },
      "execution_count": null,
      "outputs": [
        {
          "output_type": "execute_result",
          "data": {
            "text/plain": [
              "0    10\n",
              "1    20\n",
              "2    30\n",
              "3    40\n",
              "dtype: int64"
            ]
          },
          "metadata": {},
          "execution_count": 28
        }
      ]
    },
    {
      "cell_type": "code",
      "source": [
        "display( series.ndim )\n",
        "display( series.shape )"
      ],
      "metadata": {
        "colab": {
          "base_uri": "https://localhost:8080/",
          "height": 52
        },
        "id": "_h0pU2Ad3v4H",
        "outputId": "ba5de1ca-fbba-4e25-ec29-a71433579b9f"
      },
      "execution_count": null,
      "outputs": [
        {
          "output_type": "display_data",
          "data": {
            "text/plain": [
              "1"
            ]
          },
          "metadata": {}
        },
        {
          "output_type": "display_data",
          "data": {
            "text/plain": [
              "(4,)"
            ]
          },
          "metadata": {}
        }
      ]
    },
    {
      "cell_type": "markdown",
      "source": [
        "## DataFrame\n",
        "- 2차원 구조\n",
        "- 여러개의 시리즈가 모여서 하나의 데이터프레임이 됩니다. "
      ],
      "metadata": {
        "id": "PktZXBRI7xk7"
      }
    },
    {
      "cell_type": "code",
      "source": [
        "weight = pd.DataFrame([\n",
        "  [76.4, 'kg'],\n",
        "  [75.7, 'kg'],\n",
        "  [76, 'kg'],\n",
        "  [76.2, 'kg']\n",
        "])\n",
        "weight"
      ],
      "metadata": {
        "colab": {
          "base_uri": "https://localhost:8080/",
          "height": 175
        },
        "id": "9yQUBwoD72jC",
        "outputId": "819b7b6f-67c5-4dd1-c110-f8ac02eaf98f"
      },
      "execution_count": null,
      "outputs": [
        {
          "output_type": "execute_result",
          "data": {
            "text/html": [
              "<div>\n",
              "<style scoped>\n",
              "    .dataframe tbody tr th:only-of-type {\n",
              "        vertical-align: middle;\n",
              "    }\n",
              "\n",
              "    .dataframe tbody tr th {\n",
              "        vertical-align: top;\n",
              "    }\n",
              "\n",
              "    .dataframe thead th {\n",
              "        text-align: right;\n",
              "    }\n",
              "</style>\n",
              "<table border=\"1\" class=\"dataframe\">\n",
              "  <thead>\n",
              "    <tr style=\"text-align: right;\">\n",
              "      <th></th>\n",
              "      <th>0</th>\n",
              "      <th>1</th>\n",
              "    </tr>\n",
              "  </thead>\n",
              "  <tbody>\n",
              "    <tr>\n",
              "      <th>0</th>\n",
              "      <td>76.4</td>\n",
              "      <td>kg</td>\n",
              "    </tr>\n",
              "    <tr>\n",
              "      <th>1</th>\n",
              "      <td>75.7</td>\n",
              "      <td>kg</td>\n",
              "    </tr>\n",
              "    <tr>\n",
              "      <th>2</th>\n",
              "      <td>76.0</td>\n",
              "      <td>kg</td>\n",
              "    </tr>\n",
              "    <tr>\n",
              "      <th>3</th>\n",
              "      <td>76.2</td>\n",
              "      <td>kg</td>\n",
              "    </tr>\n",
              "  </tbody>\n",
              "</table>\n",
              "</div>"
            ],
            "text/plain": [
              "      0   1\n",
              "0  76.4  kg\n",
              "1  75.7  kg\n",
              "2  76.0  kg\n",
              "3  76.2  kg"
            ]
          },
          "metadata": {},
          "execution_count": 30
        }
      ]
    },
    {
      "cell_type": "code",
      "source": [
        "display( weight.ndim )\n",
        "display( weight.shape )"
      ],
      "metadata": {
        "colab": {
          "base_uri": "https://localhost:8080/",
          "height": 52
        },
        "id": "WE7mgSpX8W6_",
        "outputId": "34ba3bd4-0c30-4114-9bb4-fdc8e3d9844f"
      },
      "execution_count": null,
      "outputs": [
        {
          "output_type": "display_data",
          "data": {
            "text/plain": [
              "2"
            ]
          },
          "metadata": {}
        },
        {
          "output_type": "display_data",
          "data": {
            "text/plain": [
              "(4, 2)"
            ]
          },
          "metadata": {}
        }
      ]
    },
    {
      "cell_type": "markdown",
      "source": [
        "## 파일 읽어오기\n",
        "- 판다스는 `read_csv`라는 기능으로 파일을 읽어올 수 있습니다. \n",
        "  - CSV(Comma Seperated Value)\n",
        "  - 텍스트가 콤마로 구분된 형태로 되어있는 파일\n",
        "  - 엑셀, CSV, ... 등의 다양한 파일 형태를 읽어서 `데이터 프레임` 형태로 자동으로 변환을 해줍니다. "
      ],
      "metadata": {
        "id": "wWio4sZ5_WJI"
      }
    },
    {
      "cell_type": "code",
      "source": [
        "rawData = pd.read_csv('/content/drive/MyDrive/멀티캠퍼스/data/weight_log.csv')\n",
        "rawData"
      ],
      "metadata": {
        "colab": {
          "base_uri": "https://localhost:8080/",
          "height": 331
        },
        "id": "QzBG0qCj_XRq",
        "outputId": "8742179f-714b-4c7b-d62c-2519a49fd43e"
      },
      "execution_count": null,
      "outputs": [
        {
          "output_type": "execute_result",
          "data": {
            "text/html": [
              "<div>\n",
              "<style scoped>\n",
              "    .dataframe tbody tr th:only-of-type {\n",
              "        vertical-align: middle;\n",
              "    }\n",
              "\n",
              "    .dataframe tbody tr th {\n",
              "        vertical-align: top;\n",
              "    }\n",
              "\n",
              "    .dataframe thead th {\n",
              "        text-align: right;\n",
              "    }\n",
              "</style>\n",
              "<table border=\"1\" class=\"dataframe\">\n",
              "  <thead>\n",
              "    <tr style=\"text-align: right;\">\n",
              "      <th></th>\n",
              "      <th>회차</th>\n",
              "      <th>이름</th>\n",
              "      <th>측정일</th>\n",
              "      <th>몸무게</th>\n",
              "      <th>단위</th>\n",
              "      <th>담당</th>\n",
              "      <th>지점</th>\n",
              "    </tr>\n",
              "  </thead>\n",
              "  <tbody>\n",
              "    <tr>\n",
              "      <th>0</th>\n",
              "      <td>1</td>\n",
              "      <td>홍길동</td>\n",
              "      <td>2020-03-01</td>\n",
              "      <td>76.4</td>\n",
              "      <td>kg</td>\n",
              "      <td>박현경</td>\n",
              "      <td>관악구</td>\n",
              "    </tr>\n",
              "    <tr>\n",
              "      <th>1</th>\n",
              "      <td>2</td>\n",
              "      <td>홍길동</td>\n",
              "      <td>2020-03-02</td>\n",
              "      <td>75.7</td>\n",
              "      <td>kg</td>\n",
              "      <td>김현경</td>\n",
              "      <td>관악구</td>\n",
              "    </tr>\n",
              "    <tr>\n",
              "      <th>2</th>\n",
              "      <td>3</td>\n",
              "      <td>홍길동</td>\n",
              "      <td>2020-03-03</td>\n",
              "      <td>76.0</td>\n",
              "      <td>kg</td>\n",
              "      <td>최현경</td>\n",
              "      <td>여의도</td>\n",
              "    </tr>\n",
              "    <tr>\n",
              "      <th>3</th>\n",
              "      <td>4</td>\n",
              "      <td>홍길동</td>\n",
              "      <td>2020-03-04</td>\n",
              "      <td>NaN</td>\n",
              "      <td>kg</td>\n",
              "      <td>최현경</td>\n",
              "      <td>여의도</td>\n",
              "    </tr>\n",
              "    <tr>\n",
              "      <th>4</th>\n",
              "      <td>5</td>\n",
              "      <td>홍길동</td>\n",
              "      <td>2020-03-05</td>\n",
              "      <td>76.2</td>\n",
              "      <td>kg</td>\n",
              "      <td>김현경</td>\n",
              "      <td>강남구</td>\n",
              "    </tr>\n",
              "    <tr>\n",
              "      <th>5</th>\n",
              "      <td>6</td>\n",
              "      <td>홍길동</td>\n",
              "      <td>2020-03-06</td>\n",
              "      <td>75.7</td>\n",
              "      <td>kg</td>\n",
              "      <td>최현경</td>\n",
              "      <td>서초구</td>\n",
              "    </tr>\n",
              "    <tr>\n",
              "      <th>6</th>\n",
              "      <td>7</td>\n",
              "      <td>홍길동</td>\n",
              "      <td>2020-03-07</td>\n",
              "      <td>NaN</td>\n",
              "      <td>kg</td>\n",
              "      <td>최현경</td>\n",
              "      <td>서초구</td>\n",
              "    </tr>\n",
              "    <tr>\n",
              "      <th>7</th>\n",
              "      <td>8</td>\n",
              "      <td>홍길동</td>\n",
              "      <td>2020-03-08</td>\n",
              "      <td>NaN</td>\n",
              "      <td>kg</td>\n",
              "      <td>김현경</td>\n",
              "      <td>서초구</td>\n",
              "    </tr>\n",
              "    <tr>\n",
              "      <th>8</th>\n",
              "      <td>9</td>\n",
              "      <td>홍길동</td>\n",
              "      <td>2020-03-09</td>\n",
              "      <td>75.0</td>\n",
              "      <td>kg</td>\n",
              "      <td>김현경</td>\n",
              "      <td>서초구</td>\n",
              "    </tr>\n",
              "  </tbody>\n",
              "</table>\n",
              "</div>"
            ],
            "text/plain": [
              "   회차   이름         측정일   몸무게  단위   담당   지점\n",
              "0   1  홍길동  2020-03-01  76.4  kg  박현경  관악구\n",
              "1   2  홍길동  2020-03-02  75.7  kg  김현경  관악구\n",
              "2   3  홍길동  2020-03-03  76.0  kg  최현경  여의도\n",
              "3   4  홍길동  2020-03-04   NaN  kg  최현경  여의도\n",
              "4   5  홍길동  2020-03-05  76.2  kg  김현경  강남구\n",
              "5   6  홍길동  2020-03-06  75.7  kg  최현경  서초구\n",
              "6   7  홍길동  2020-03-07   NaN  kg  최현경  서초구\n",
              "7   8  홍길동  2020-03-08   NaN  kg  김현경  서초구\n",
              "8   9  홍길동  2020-03-09  75.0  kg  김현경  서초구"
            ]
          },
          "metadata": {},
          "execution_count": 32
        }
      ]
    },
    {
      "cell_type": "code",
      "source": [
        "type( rawData )"
      ],
      "metadata": {
        "colab": {
          "base_uri": "https://localhost:8080/"
        },
        "id": "5M7Ks9zFAH3t",
        "outputId": "7891527f-f384-4939-94b3-aefab13fbc97"
      },
      "execution_count": null,
      "outputs": [
        {
          "output_type": "execute_result",
          "data": {
            "text/plain": [
              "pandas.core.frame.DataFrame"
            ]
          },
          "metadata": {},
          "execution_count": 33
        }
      ]
    },
    {
      "cell_type": "markdown",
      "source": [
        "# 데이터 프레임 사용하기"
      ],
      "metadata": {
        "id": "83hfj3NrAmPE"
      }
    },
    {
      "cell_type": "markdown",
      "source": [
        "## 출력\n",
        "- head\n",
        "  - 자료의 제일 앞 5개를 출력\n",
        "\n",
        "```\n",
        "    DataFrame.head(n=5)\n",
        "```\n",
        "\n",
        "- tail\n",
        "  - 자료의 맨 끝 5개를 출력\n",
        "\n",
        "```\n",
        "    DataFrame.tail(n=5)\n",
        "```\n"
      ],
      "metadata": {
        "id": "CwJ2M4RcAr2U"
      }
    },
    {
      "cell_type": "code",
      "source": [
        "# 상위 5개의 자료를 출력\n",
        "rawData.head()"
      ],
      "metadata": {
        "colab": {
          "base_uri": "https://localhost:8080/",
          "height": 206
        },
        "id": "BlngWgdtAt9q",
        "outputId": "c1fe1032-4711-4588-8701-edaef548b964"
      },
      "execution_count": null,
      "outputs": [
        {
          "output_type": "execute_result",
          "data": {
            "text/html": [
              "<div>\n",
              "<style scoped>\n",
              "    .dataframe tbody tr th:only-of-type {\n",
              "        vertical-align: middle;\n",
              "    }\n",
              "\n",
              "    .dataframe tbody tr th {\n",
              "        vertical-align: top;\n",
              "    }\n",
              "\n",
              "    .dataframe thead th {\n",
              "        text-align: right;\n",
              "    }\n",
              "</style>\n",
              "<table border=\"1\" class=\"dataframe\">\n",
              "  <thead>\n",
              "    <tr style=\"text-align: right;\">\n",
              "      <th></th>\n",
              "      <th>회차</th>\n",
              "      <th>이름</th>\n",
              "      <th>측정일</th>\n",
              "      <th>몸무게</th>\n",
              "      <th>단위</th>\n",
              "      <th>담당</th>\n",
              "      <th>지점</th>\n",
              "    </tr>\n",
              "  </thead>\n",
              "  <tbody>\n",
              "    <tr>\n",
              "      <th>0</th>\n",
              "      <td>1</td>\n",
              "      <td>홍길동</td>\n",
              "      <td>2020-03-01</td>\n",
              "      <td>76.4</td>\n",
              "      <td>kg</td>\n",
              "      <td>박현경</td>\n",
              "      <td>관악구</td>\n",
              "    </tr>\n",
              "    <tr>\n",
              "      <th>1</th>\n",
              "      <td>2</td>\n",
              "      <td>홍길동</td>\n",
              "      <td>2020-03-02</td>\n",
              "      <td>75.7</td>\n",
              "      <td>kg</td>\n",
              "      <td>김현경</td>\n",
              "      <td>관악구</td>\n",
              "    </tr>\n",
              "    <tr>\n",
              "      <th>2</th>\n",
              "      <td>3</td>\n",
              "      <td>홍길동</td>\n",
              "      <td>2020-03-03</td>\n",
              "      <td>76.0</td>\n",
              "      <td>kg</td>\n",
              "      <td>최현경</td>\n",
              "      <td>여의도</td>\n",
              "    </tr>\n",
              "    <tr>\n",
              "      <th>3</th>\n",
              "      <td>4</td>\n",
              "      <td>홍길동</td>\n",
              "      <td>2020-03-04</td>\n",
              "      <td>NaN</td>\n",
              "      <td>kg</td>\n",
              "      <td>최현경</td>\n",
              "      <td>여의도</td>\n",
              "    </tr>\n",
              "    <tr>\n",
              "      <th>4</th>\n",
              "      <td>5</td>\n",
              "      <td>홍길동</td>\n",
              "      <td>2020-03-05</td>\n",
              "      <td>76.2</td>\n",
              "      <td>kg</td>\n",
              "      <td>김현경</td>\n",
              "      <td>강남구</td>\n",
              "    </tr>\n",
              "  </tbody>\n",
              "</table>\n",
              "</div>"
            ],
            "text/plain": [
              "   회차   이름         측정일   몸무게  단위   담당   지점\n",
              "0   1  홍길동  2020-03-01  76.4  kg  박현경  관악구\n",
              "1   2  홍길동  2020-03-02  75.7  kg  김현경  관악구\n",
              "2   3  홍길동  2020-03-03  76.0  kg  최현경  여의도\n",
              "3   4  홍길동  2020-03-04   NaN  kg  최현경  여의도\n",
              "4   5  홍길동  2020-03-05  76.2  kg  김현경  강남구"
            ]
          },
          "metadata": {},
          "execution_count": 34
        }
      ]
    },
    {
      "cell_type": "code",
      "source": [
        "# 하위 5개의 자료를 출력\n",
        "rawData.tail()"
      ],
      "metadata": {
        "colab": {
          "base_uri": "https://localhost:8080/",
          "height": 206
        },
        "id": "owh3PqYXA0ds",
        "outputId": "d05c09bd-60b6-4bb0-ad9b-7d12506ad9b8"
      },
      "execution_count": null,
      "outputs": [
        {
          "output_type": "execute_result",
          "data": {
            "text/html": [
              "<div>\n",
              "<style scoped>\n",
              "    .dataframe tbody tr th:only-of-type {\n",
              "        vertical-align: middle;\n",
              "    }\n",
              "\n",
              "    .dataframe tbody tr th {\n",
              "        vertical-align: top;\n",
              "    }\n",
              "\n",
              "    .dataframe thead th {\n",
              "        text-align: right;\n",
              "    }\n",
              "</style>\n",
              "<table border=\"1\" class=\"dataframe\">\n",
              "  <thead>\n",
              "    <tr style=\"text-align: right;\">\n",
              "      <th></th>\n",
              "      <th>회차</th>\n",
              "      <th>이름</th>\n",
              "      <th>측정일</th>\n",
              "      <th>몸무게</th>\n",
              "      <th>단위</th>\n",
              "      <th>담당</th>\n",
              "      <th>지점</th>\n",
              "    </tr>\n",
              "  </thead>\n",
              "  <tbody>\n",
              "    <tr>\n",
              "      <th>4</th>\n",
              "      <td>5</td>\n",
              "      <td>홍길동</td>\n",
              "      <td>2020-03-05</td>\n",
              "      <td>76.2</td>\n",
              "      <td>kg</td>\n",
              "      <td>김현경</td>\n",
              "      <td>강남구</td>\n",
              "    </tr>\n",
              "    <tr>\n",
              "      <th>5</th>\n",
              "      <td>6</td>\n",
              "      <td>홍길동</td>\n",
              "      <td>2020-03-06</td>\n",
              "      <td>75.7</td>\n",
              "      <td>kg</td>\n",
              "      <td>최현경</td>\n",
              "      <td>서초구</td>\n",
              "    </tr>\n",
              "    <tr>\n",
              "      <th>6</th>\n",
              "      <td>7</td>\n",
              "      <td>홍길동</td>\n",
              "      <td>2020-03-07</td>\n",
              "      <td>NaN</td>\n",
              "      <td>kg</td>\n",
              "      <td>최현경</td>\n",
              "      <td>서초구</td>\n",
              "    </tr>\n",
              "    <tr>\n",
              "      <th>7</th>\n",
              "      <td>8</td>\n",
              "      <td>홍길동</td>\n",
              "      <td>2020-03-08</td>\n",
              "      <td>NaN</td>\n",
              "      <td>kg</td>\n",
              "      <td>김현경</td>\n",
              "      <td>서초구</td>\n",
              "    </tr>\n",
              "    <tr>\n",
              "      <th>8</th>\n",
              "      <td>9</td>\n",
              "      <td>홍길동</td>\n",
              "      <td>2020-03-09</td>\n",
              "      <td>75.0</td>\n",
              "      <td>kg</td>\n",
              "      <td>김현경</td>\n",
              "      <td>서초구</td>\n",
              "    </tr>\n",
              "  </tbody>\n",
              "</table>\n",
              "</div>"
            ],
            "text/plain": [
              "   회차   이름         측정일   몸무게  단위   담당   지점\n",
              "4   5  홍길동  2020-03-05  76.2  kg  김현경  강남구\n",
              "5   6  홍길동  2020-03-06  75.7  kg  최현경  서초구\n",
              "6   7  홍길동  2020-03-07   NaN  kg  최현경  서초구\n",
              "7   8  홍길동  2020-03-08   NaN  kg  김현경  서초구\n",
              "8   9  홍길동  2020-03-09  75.0  kg  김현경  서초구"
            ]
          },
          "metadata": {},
          "execution_count": 35
        }
      ]
    },
    {
      "cell_type": "code",
      "source": [
        "# 파라미터를 통해서 출력 갯수를 제한\n",
        "rawData.head(2)"
      ],
      "metadata": {
        "colab": {
          "base_uri": "https://localhost:8080/",
          "height": 112
        },
        "id": "WaG5G7L4Brir",
        "outputId": "da7262df-da37-48aa-cb54-e802e1f0fd31"
      },
      "execution_count": null,
      "outputs": [
        {
          "output_type": "execute_result",
          "data": {
            "text/html": [
              "<div>\n",
              "<style scoped>\n",
              "    .dataframe tbody tr th:only-of-type {\n",
              "        vertical-align: middle;\n",
              "    }\n",
              "\n",
              "    .dataframe tbody tr th {\n",
              "        vertical-align: top;\n",
              "    }\n",
              "\n",
              "    .dataframe thead th {\n",
              "        text-align: right;\n",
              "    }\n",
              "</style>\n",
              "<table border=\"1\" class=\"dataframe\">\n",
              "  <thead>\n",
              "    <tr style=\"text-align: right;\">\n",
              "      <th></th>\n",
              "      <th>회차</th>\n",
              "      <th>이름</th>\n",
              "      <th>측정일</th>\n",
              "      <th>몸무게</th>\n",
              "      <th>단위</th>\n",
              "      <th>담당</th>\n",
              "      <th>지점</th>\n",
              "    </tr>\n",
              "  </thead>\n",
              "  <tbody>\n",
              "    <tr>\n",
              "      <th>0</th>\n",
              "      <td>1</td>\n",
              "      <td>홍길동</td>\n",
              "      <td>2020-03-01</td>\n",
              "      <td>76.4</td>\n",
              "      <td>kg</td>\n",
              "      <td>박현경</td>\n",
              "      <td>관악구</td>\n",
              "    </tr>\n",
              "    <tr>\n",
              "      <th>1</th>\n",
              "      <td>2</td>\n",
              "      <td>홍길동</td>\n",
              "      <td>2020-03-02</td>\n",
              "      <td>75.7</td>\n",
              "      <td>kg</td>\n",
              "      <td>김현경</td>\n",
              "      <td>관악구</td>\n",
              "    </tr>\n",
              "  </tbody>\n",
              "</table>\n",
              "</div>"
            ],
            "text/plain": [
              "   회차   이름         측정일   몸무게  단위   담당   지점\n",
              "0   1  홍길동  2020-03-01  76.4  kg  박현경  관악구\n",
              "1   2  홍길동  2020-03-02  75.7  kg  김현경  관악구"
            ]
          },
          "metadata": {},
          "execution_count": 36
        }
      ]
    },
    {
      "cell_type": "code",
      "source": [
        "rawData.tail(2)"
      ],
      "metadata": {
        "colab": {
          "base_uri": "https://localhost:8080/",
          "height": 112
        },
        "id": "DVKPgs5bBvGb",
        "outputId": "c8b17a4f-fa6b-4cc5-b505-1cdba01bcff0"
      },
      "execution_count": null,
      "outputs": [
        {
          "output_type": "execute_result",
          "data": {
            "text/html": [
              "<div>\n",
              "<style scoped>\n",
              "    .dataframe tbody tr th:only-of-type {\n",
              "        vertical-align: middle;\n",
              "    }\n",
              "\n",
              "    .dataframe tbody tr th {\n",
              "        vertical-align: top;\n",
              "    }\n",
              "\n",
              "    .dataframe thead th {\n",
              "        text-align: right;\n",
              "    }\n",
              "</style>\n",
              "<table border=\"1\" class=\"dataframe\">\n",
              "  <thead>\n",
              "    <tr style=\"text-align: right;\">\n",
              "      <th></th>\n",
              "      <th>회차</th>\n",
              "      <th>이름</th>\n",
              "      <th>측정일</th>\n",
              "      <th>몸무게</th>\n",
              "      <th>단위</th>\n",
              "      <th>담당</th>\n",
              "      <th>지점</th>\n",
              "    </tr>\n",
              "  </thead>\n",
              "  <tbody>\n",
              "    <tr>\n",
              "      <th>7</th>\n",
              "      <td>8</td>\n",
              "      <td>홍길동</td>\n",
              "      <td>2020-03-08</td>\n",
              "      <td>NaN</td>\n",
              "      <td>kg</td>\n",
              "      <td>김현경</td>\n",
              "      <td>서초구</td>\n",
              "    </tr>\n",
              "    <tr>\n",
              "      <th>8</th>\n",
              "      <td>9</td>\n",
              "      <td>홍길동</td>\n",
              "      <td>2020-03-09</td>\n",
              "      <td>75.0</td>\n",
              "      <td>kg</td>\n",
              "      <td>김현경</td>\n",
              "      <td>서초구</td>\n",
              "    </tr>\n",
              "  </tbody>\n",
              "</table>\n",
              "</div>"
            ],
            "text/plain": [
              "   회차   이름         측정일   몸무게  단위   담당   지점\n",
              "7   8  홍길동  2020-03-08   NaN  kg  김현경  서초구\n",
              "8   9  홍길동  2020-03-09  75.0  kg  김현경  서초구"
            ]
          },
          "metadata": {},
          "execution_count": 37
        }
      ]
    },
    {
      "cell_type": "markdown",
      "source": [
        "## 데이터의 요약된 정보"
      ],
      "metadata": {
        "id": "sw9mfwypB6sX"
      }
    },
    {
      "cell_type": "code",
      "source": [
        "rawData.info()"
      ],
      "metadata": {
        "colab": {
          "base_uri": "https://localhost:8080/"
        },
        "id": "2qR3_rSYB82r",
        "outputId": "4c573ec3-37c0-480e-df94-b8f30cb01db0"
      },
      "execution_count": null,
      "outputs": [
        {
          "output_type": "stream",
          "name": "stdout",
          "text": [
            "<class 'pandas.core.frame.DataFrame'>\n",
            "RangeIndex: 9 entries, 0 to 8\n",
            "Data columns (total 7 columns):\n",
            " #   Column  Non-Null Count  Dtype  \n",
            "---  ------  --------------  -----  \n",
            " 0   회차      9 non-null      int64  \n",
            " 1   이름      9 non-null      object \n",
            " 2   측정일     9 non-null      object \n",
            " 3   몸무게     6 non-null      float64\n",
            " 4   단위      9 non-null      object \n",
            " 5   담당      9 non-null      object \n",
            " 6   지점      9 non-null      object \n",
            "dtypes: float64(1), int64(1), object(5)\n",
            "memory usage: 632.0+ bytes\n"
          ]
        }
      ]
    },
    {
      "cell_type": "code",
      "source": [
        "rawData.describe(include='all')"
      ],
      "metadata": {
        "colab": {
          "base_uri": "https://localhost:8080/",
          "height": 394
        },
        "id": "uNunHjmzCdOl",
        "outputId": "41061257-f0c8-48bf-a008-8152a74fb2f7"
      },
      "execution_count": null,
      "outputs": [
        {
          "output_type": "execute_result",
          "data": {
            "text/html": [
              "<div>\n",
              "<style scoped>\n",
              "    .dataframe tbody tr th:only-of-type {\n",
              "        vertical-align: middle;\n",
              "    }\n",
              "\n",
              "    .dataframe tbody tr th {\n",
              "        vertical-align: top;\n",
              "    }\n",
              "\n",
              "    .dataframe thead th {\n",
              "        text-align: right;\n",
              "    }\n",
              "</style>\n",
              "<table border=\"1\" class=\"dataframe\">\n",
              "  <thead>\n",
              "    <tr style=\"text-align: right;\">\n",
              "      <th></th>\n",
              "      <th>회차</th>\n",
              "      <th>이름</th>\n",
              "      <th>측정일</th>\n",
              "      <th>몸무게</th>\n",
              "      <th>단위</th>\n",
              "      <th>담당</th>\n",
              "      <th>지점</th>\n",
              "    </tr>\n",
              "  </thead>\n",
              "  <tbody>\n",
              "    <tr>\n",
              "      <th>count</th>\n",
              "      <td>9.000000</td>\n",
              "      <td>9</td>\n",
              "      <td>9</td>\n",
              "      <td>6.000000</td>\n",
              "      <td>9</td>\n",
              "      <td>9</td>\n",
              "      <td>9</td>\n",
              "    </tr>\n",
              "    <tr>\n",
              "      <th>unique</th>\n",
              "      <td>NaN</td>\n",
              "      <td>1</td>\n",
              "      <td>9</td>\n",
              "      <td>NaN</td>\n",
              "      <td>1</td>\n",
              "      <td>3</td>\n",
              "      <td>4</td>\n",
              "    </tr>\n",
              "    <tr>\n",
              "      <th>top</th>\n",
              "      <td>NaN</td>\n",
              "      <td>홍길동</td>\n",
              "      <td>2020-03-04</td>\n",
              "      <td>NaN</td>\n",
              "      <td>kg</td>\n",
              "      <td>김현경</td>\n",
              "      <td>서초구</td>\n",
              "    </tr>\n",
              "    <tr>\n",
              "      <th>freq</th>\n",
              "      <td>NaN</td>\n",
              "      <td>9</td>\n",
              "      <td>1</td>\n",
              "      <td>NaN</td>\n",
              "      <td>9</td>\n",
              "      <td>4</td>\n",
              "      <td>4</td>\n",
              "    </tr>\n",
              "    <tr>\n",
              "      <th>mean</th>\n",
              "      <td>5.000000</td>\n",
              "      <td>NaN</td>\n",
              "      <td>NaN</td>\n",
              "      <td>75.833333</td>\n",
              "      <td>NaN</td>\n",
              "      <td>NaN</td>\n",
              "      <td>NaN</td>\n",
              "    </tr>\n",
              "    <tr>\n",
              "      <th>std</th>\n",
              "      <td>2.738613</td>\n",
              "      <td>NaN</td>\n",
              "      <td>NaN</td>\n",
              "      <td>0.492612</td>\n",
              "      <td>NaN</td>\n",
              "      <td>NaN</td>\n",
              "      <td>NaN</td>\n",
              "    </tr>\n",
              "    <tr>\n",
              "      <th>min</th>\n",
              "      <td>1.000000</td>\n",
              "      <td>NaN</td>\n",
              "      <td>NaN</td>\n",
              "      <td>75.000000</td>\n",
              "      <td>NaN</td>\n",
              "      <td>NaN</td>\n",
              "      <td>NaN</td>\n",
              "    </tr>\n",
              "    <tr>\n",
              "      <th>25%</th>\n",
              "      <td>3.000000</td>\n",
              "      <td>NaN</td>\n",
              "      <td>NaN</td>\n",
              "      <td>75.700000</td>\n",
              "      <td>NaN</td>\n",
              "      <td>NaN</td>\n",
              "      <td>NaN</td>\n",
              "    </tr>\n",
              "    <tr>\n",
              "      <th>50%</th>\n",
              "      <td>5.000000</td>\n",
              "      <td>NaN</td>\n",
              "      <td>NaN</td>\n",
              "      <td>75.850000</td>\n",
              "      <td>NaN</td>\n",
              "      <td>NaN</td>\n",
              "      <td>NaN</td>\n",
              "    </tr>\n",
              "    <tr>\n",
              "      <th>75%</th>\n",
              "      <td>7.000000</td>\n",
              "      <td>NaN</td>\n",
              "      <td>NaN</td>\n",
              "      <td>76.150000</td>\n",
              "      <td>NaN</td>\n",
              "      <td>NaN</td>\n",
              "      <td>NaN</td>\n",
              "    </tr>\n",
              "    <tr>\n",
              "      <th>max</th>\n",
              "      <td>9.000000</td>\n",
              "      <td>NaN</td>\n",
              "      <td>NaN</td>\n",
              "      <td>76.400000</td>\n",
              "      <td>NaN</td>\n",
              "      <td>NaN</td>\n",
              "      <td>NaN</td>\n",
              "    </tr>\n",
              "  </tbody>\n",
              "</table>\n",
              "</div>"
            ],
            "text/plain": [
              "              회차   이름         측정일        몸무게   단위   담당   지점\n",
              "count   9.000000    9           9   6.000000    9    9    9\n",
              "unique       NaN    1           9        NaN    1    3    4\n",
              "top          NaN  홍길동  2020-03-04        NaN   kg  김현경  서초구\n",
              "freq         NaN    9           1        NaN    9    4    4\n",
              "mean    5.000000  NaN         NaN  75.833333  NaN  NaN  NaN\n",
              "std     2.738613  NaN         NaN   0.492612  NaN  NaN  NaN\n",
              "min     1.000000  NaN         NaN  75.000000  NaN  NaN  NaN\n",
              "25%     3.000000  NaN         NaN  75.700000  NaN  NaN  NaN\n",
              "50%     5.000000  NaN         NaN  75.850000  NaN  NaN  NaN\n",
              "75%     7.000000  NaN         NaN  76.150000  NaN  NaN  NaN\n",
              "max     9.000000  NaN         NaN  76.400000  NaN  NaN  NaN"
            ]
          },
          "metadata": {},
          "execution_count": 39
        }
      ]
    },
    {
      "cell_type": "markdown",
      "source": [
        "## 인덱싱(색인)\n",
        "- 넘파이의 배열 인덱스와 유사\n",
        "- 판다스의 데이터프레임은 기본적으로 열우선 인덱스 입니다. "
      ],
      "metadata": {
        "id": "kEbEtxv7C6qX"
      }
    },
    {
      "cell_type": "markdown",
      "source": [
        "### 열(column) 인덱싱"
      ],
      "metadata": {
        "id": "E--5n5ZrEfW5"
      }
    },
    {
      "cell_type": "code",
      "source": [
        "# 데이터 프레임은 행을 선택하지 않고, 시리즈를 선택하는 방향으로 인덱스를 합니다. \n",
        "rawData['몸무게']"
      ],
      "metadata": {
        "colab": {
          "base_uri": "https://localhost:8080/"
        },
        "id": "qcs5tIgLDFkT",
        "outputId": "3446bad0-051c-4a9e-e3dc-d0c7691fdccc"
      },
      "execution_count": null,
      "outputs": [
        {
          "output_type": "execute_result",
          "data": {
            "text/plain": [
              "0    76.4\n",
              "1    75.7\n",
              "2    76.0\n",
              "3     NaN\n",
              "4    76.2\n",
              "5    75.7\n",
              "6     NaN\n",
              "7     NaN\n",
              "8    75.0\n",
              "Name: 몸무게, dtype: float64"
            ]
          },
          "metadata": {},
          "execution_count": 40
        }
      ]
    },
    {
      "cell_type": "code",
      "source": [
        "type( rawData['몸무게'] )"
      ],
      "metadata": {
        "colab": {
          "base_uri": "https://localhost:8080/"
        },
        "id": "GsJlCwHLDrQa",
        "outputId": "604cf224-c9de-4ed2-d9c7-5bd54269708a"
      },
      "execution_count": null,
      "outputs": [
        {
          "output_type": "execute_result",
          "data": {
            "text/plain": [
              "pandas.core.series.Series"
            ]
          },
          "metadata": {},
          "execution_count": 41
        }
      ]
    },
    {
      "cell_type": "code",
      "source": [
        "# 배열 인덱스 지원합니다. \n",
        "col = ['이름', '몸무게', '측정일']\n",
        "rawData[ col ]"
      ],
      "metadata": {
        "colab": {
          "base_uri": "https://localhost:8080/",
          "height": 331
        },
        "id": "8FkABC7qEE7P",
        "outputId": "7ea31ae8-1cc4-4e68-a4bd-1d833de33c51"
      },
      "execution_count": null,
      "outputs": [
        {
          "output_type": "execute_result",
          "data": {
            "text/html": [
              "<div>\n",
              "<style scoped>\n",
              "    .dataframe tbody tr th:only-of-type {\n",
              "        vertical-align: middle;\n",
              "    }\n",
              "\n",
              "    .dataframe tbody tr th {\n",
              "        vertical-align: top;\n",
              "    }\n",
              "\n",
              "    .dataframe thead th {\n",
              "        text-align: right;\n",
              "    }\n",
              "</style>\n",
              "<table border=\"1\" class=\"dataframe\">\n",
              "  <thead>\n",
              "    <tr style=\"text-align: right;\">\n",
              "      <th></th>\n",
              "      <th>이름</th>\n",
              "      <th>몸무게</th>\n",
              "      <th>측정일</th>\n",
              "    </tr>\n",
              "  </thead>\n",
              "  <tbody>\n",
              "    <tr>\n",
              "      <th>0</th>\n",
              "      <td>홍길동</td>\n",
              "      <td>76.4</td>\n",
              "      <td>2020-03-01</td>\n",
              "    </tr>\n",
              "    <tr>\n",
              "      <th>1</th>\n",
              "      <td>홍길동</td>\n",
              "      <td>75.7</td>\n",
              "      <td>2020-03-02</td>\n",
              "    </tr>\n",
              "    <tr>\n",
              "      <th>2</th>\n",
              "      <td>홍길동</td>\n",
              "      <td>76.0</td>\n",
              "      <td>2020-03-03</td>\n",
              "    </tr>\n",
              "    <tr>\n",
              "      <th>3</th>\n",
              "      <td>홍길동</td>\n",
              "      <td>NaN</td>\n",
              "      <td>2020-03-04</td>\n",
              "    </tr>\n",
              "    <tr>\n",
              "      <th>4</th>\n",
              "      <td>홍길동</td>\n",
              "      <td>76.2</td>\n",
              "      <td>2020-03-05</td>\n",
              "    </tr>\n",
              "    <tr>\n",
              "      <th>5</th>\n",
              "      <td>홍길동</td>\n",
              "      <td>75.7</td>\n",
              "      <td>2020-03-06</td>\n",
              "    </tr>\n",
              "    <tr>\n",
              "      <th>6</th>\n",
              "      <td>홍길동</td>\n",
              "      <td>NaN</td>\n",
              "      <td>2020-03-07</td>\n",
              "    </tr>\n",
              "    <tr>\n",
              "      <th>7</th>\n",
              "      <td>홍길동</td>\n",
              "      <td>NaN</td>\n",
              "      <td>2020-03-08</td>\n",
              "    </tr>\n",
              "    <tr>\n",
              "      <th>8</th>\n",
              "      <td>홍길동</td>\n",
              "      <td>75.0</td>\n",
              "      <td>2020-03-09</td>\n",
              "    </tr>\n",
              "  </tbody>\n",
              "</table>\n",
              "</div>"
            ],
            "text/plain": [
              "    이름   몸무게         측정일\n",
              "0  홍길동  76.4  2020-03-01\n",
              "1  홍길동  75.7  2020-03-02\n",
              "2  홍길동  76.0  2020-03-03\n",
              "3  홍길동   NaN  2020-03-04\n",
              "4  홍길동  76.2  2020-03-05\n",
              "5  홍길동  75.7  2020-03-06\n",
              "6  홍길동   NaN  2020-03-07\n",
              "7  홍길동   NaN  2020-03-08\n",
              "8  홍길동  75.0  2020-03-09"
            ]
          },
          "metadata": {},
          "execution_count": 42
        }
      ]
    },
    {
      "cell_type": "markdown",
      "source": [
        "### 행(row) 인덱싱\n",
        "- loc\n",
        "- iloc"
      ],
      "metadata": {
        "id": "WcGet-P6EoCz"
      }
    },
    {
      "cell_type": "code",
      "source": [
        "# 첫 번째 행의 내용은 아래와 같습니다. \n",
        "rawData.head(1)"
      ],
      "metadata": {
        "colab": {
          "base_uri": "https://localhost:8080/",
          "height": 80
        },
        "id": "MeSUK0WNEpkf",
        "outputId": "90c400a2-7d4c-41c6-afbe-c1848a763d88"
      },
      "execution_count": null,
      "outputs": [
        {
          "output_type": "execute_result",
          "data": {
            "text/html": [
              "<div>\n",
              "<style scoped>\n",
              "    .dataframe tbody tr th:only-of-type {\n",
              "        vertical-align: middle;\n",
              "    }\n",
              "\n",
              "    .dataframe tbody tr th {\n",
              "        vertical-align: top;\n",
              "    }\n",
              "\n",
              "    .dataframe thead th {\n",
              "        text-align: right;\n",
              "    }\n",
              "</style>\n",
              "<table border=\"1\" class=\"dataframe\">\n",
              "  <thead>\n",
              "    <tr style=\"text-align: right;\">\n",
              "      <th></th>\n",
              "      <th>회차</th>\n",
              "      <th>이름</th>\n",
              "      <th>측정일</th>\n",
              "      <th>몸무게</th>\n",
              "      <th>단위</th>\n",
              "      <th>담당</th>\n",
              "      <th>지점</th>\n",
              "    </tr>\n",
              "  </thead>\n",
              "  <tbody>\n",
              "    <tr>\n",
              "      <th>0</th>\n",
              "      <td>1</td>\n",
              "      <td>홍길동</td>\n",
              "      <td>2020-03-01</td>\n",
              "      <td>76.4</td>\n",
              "      <td>kg</td>\n",
              "      <td>박현경</td>\n",
              "      <td>관악구</td>\n",
              "    </tr>\n",
              "  </tbody>\n",
              "</table>\n",
              "</div>"
            ],
            "text/plain": [
              "   회차   이름         측정일   몸무게  단위   담당   지점\n",
              "0   1  홍길동  2020-03-01  76.4  kg  박현경  관악구"
            ]
          },
          "metadata": {},
          "execution_count": 43
        }
      ]
    },
    {
      "cell_type": "code",
      "source": [
        "# 행 인덱스가 가능하고 해당 행을 시리즈 형태로 반환\n",
        "rawData.loc[0]"
      ],
      "metadata": {
        "colab": {
          "base_uri": "https://localhost:8080/"
        },
        "id": "UYOIIxslE1-E",
        "outputId": "5121c80c-c5ea-45a1-e529-84d6d74178a2"
      },
      "execution_count": null,
      "outputs": [
        {
          "output_type": "execute_result",
          "data": {
            "text/plain": [
              "회차              1\n",
              "이름            홍길동\n",
              "측정일    2020-03-01\n",
              "몸무게          76.4\n",
              "단위             kg\n",
              "담당            박현경\n",
              "지점            관악구\n",
              "Name: 0, dtype: object"
            ]
          },
          "metadata": {},
          "execution_count": 44
        }
      ]
    },
    {
      "cell_type": "code",
      "source": [
        "# 선택된 행도 시리즈가 됩니다. \n",
        "type(rawData.loc[0])"
      ],
      "metadata": {
        "colab": {
          "base_uri": "https://localhost:8080/"
        },
        "id": "LK9JkhAfE_eE",
        "outputId": "fa7dd9f7-c83f-4445-88cf-32a5b28b03e3"
      },
      "execution_count": null,
      "outputs": [
        {
          "output_type": "execute_result",
          "data": {
            "text/plain": [
              "pandas.core.series.Series"
            ]
          },
          "metadata": {},
          "execution_count": 45
        }
      ]
    },
    {
      "cell_type": "code",
      "source": [
        "# loc과 iloc은 아직까지는 별 차이가 없습니다. \n",
        "rawData.iloc[0]"
      ],
      "metadata": {
        "colab": {
          "base_uri": "https://localhost:8080/"
        },
        "id": "UAKWy4opFAjr",
        "outputId": "d7090646-1952-4b61-9d5d-03de41a4fdef"
      },
      "execution_count": null,
      "outputs": [
        {
          "output_type": "execute_result",
          "data": {
            "text/plain": [
              "회차              1\n",
              "이름            홍길동\n",
              "측정일    2020-03-01\n",
              "몸무게          76.4\n",
              "단위             kg\n",
              "담당            박현경\n",
              "지점            관악구\n",
              "Name: 0, dtype: object"
            ]
          },
          "metadata": {},
          "execution_count": 46
        }
      ]
    },
    {
      "cell_type": "code",
      "source": [
        "# 슬라이스도 가능합니다. \n",
        "# 판다스의 슬라이스는 마지막 인덱스에 대해서 포함하고 있습니다\n",
        "rawData.loc[0:3]"
      ],
      "metadata": {
        "colab": {
          "base_uri": "https://localhost:8080/",
          "height": 175
        },
        "id": "CvR-LJj8Xijx",
        "outputId": "ea6148f2-d2f4-4962-faef-ed1f26200964"
      },
      "execution_count": null,
      "outputs": [
        {
          "output_type": "execute_result",
          "data": {
            "text/html": [
              "<div>\n",
              "<style scoped>\n",
              "    .dataframe tbody tr th:only-of-type {\n",
              "        vertical-align: middle;\n",
              "    }\n",
              "\n",
              "    .dataframe tbody tr th {\n",
              "        vertical-align: top;\n",
              "    }\n",
              "\n",
              "    .dataframe thead th {\n",
              "        text-align: right;\n",
              "    }\n",
              "</style>\n",
              "<table border=\"1\" class=\"dataframe\">\n",
              "  <thead>\n",
              "    <tr style=\"text-align: right;\">\n",
              "      <th></th>\n",
              "      <th>회차</th>\n",
              "      <th>이름</th>\n",
              "      <th>측정일</th>\n",
              "      <th>몸무게</th>\n",
              "      <th>단위</th>\n",
              "      <th>담당</th>\n",
              "      <th>지점</th>\n",
              "    </tr>\n",
              "  </thead>\n",
              "  <tbody>\n",
              "    <tr>\n",
              "      <th>0</th>\n",
              "      <td>1</td>\n",
              "      <td>홍길동</td>\n",
              "      <td>2020-03-01</td>\n",
              "      <td>76.4</td>\n",
              "      <td>kg</td>\n",
              "      <td>박현경</td>\n",
              "      <td>관악구</td>\n",
              "    </tr>\n",
              "    <tr>\n",
              "      <th>1</th>\n",
              "      <td>2</td>\n",
              "      <td>홍길동</td>\n",
              "      <td>2020-03-02</td>\n",
              "      <td>75.7</td>\n",
              "      <td>kg</td>\n",
              "      <td>김현경</td>\n",
              "      <td>관악구</td>\n",
              "    </tr>\n",
              "    <tr>\n",
              "      <th>2</th>\n",
              "      <td>3</td>\n",
              "      <td>홍길동</td>\n",
              "      <td>2020-03-03</td>\n",
              "      <td>76.0</td>\n",
              "      <td>kg</td>\n",
              "      <td>최현경</td>\n",
              "      <td>여의도</td>\n",
              "    </tr>\n",
              "    <tr>\n",
              "      <th>3</th>\n",
              "      <td>4</td>\n",
              "      <td>홍길동</td>\n",
              "      <td>2020-03-04</td>\n",
              "      <td>NaN</td>\n",
              "      <td>kg</td>\n",
              "      <td>최현경</td>\n",
              "      <td>여의도</td>\n",
              "    </tr>\n",
              "  </tbody>\n",
              "</table>\n",
              "</div>"
            ],
            "text/plain": [
              "   회차   이름         측정일   몸무게  단위   담당   지점\n",
              "0   1  홍길동  2020-03-01  76.4  kg  박현경  관악구\n",
              "1   2  홍길동  2020-03-02  75.7  kg  김현경  관악구\n",
              "2   3  홍길동  2020-03-03  76.0  kg  최현경  여의도\n",
              "3   4  홍길동  2020-03-04   NaN  kg  최현경  여의도"
            ]
          },
          "metadata": {},
          "execution_count": 47
        }
      ]
    },
    {
      "cell_type": "code",
      "source": [
        "# 행에 대해서 배열 인덱싱\n",
        "rawData.loc[[1, 3, 5]]"
      ],
      "metadata": {
        "colab": {
          "base_uri": "https://localhost:8080/",
          "height": 143
        },
        "id": "rvhUpbrfYA67",
        "outputId": "5529be3b-d3ce-4cfa-daa2-29fadbf1b8ac"
      },
      "execution_count": null,
      "outputs": [
        {
          "output_type": "execute_result",
          "data": {
            "text/html": [
              "<div>\n",
              "<style scoped>\n",
              "    .dataframe tbody tr th:only-of-type {\n",
              "        vertical-align: middle;\n",
              "    }\n",
              "\n",
              "    .dataframe tbody tr th {\n",
              "        vertical-align: top;\n",
              "    }\n",
              "\n",
              "    .dataframe thead th {\n",
              "        text-align: right;\n",
              "    }\n",
              "</style>\n",
              "<table border=\"1\" class=\"dataframe\">\n",
              "  <thead>\n",
              "    <tr style=\"text-align: right;\">\n",
              "      <th></th>\n",
              "      <th>회차</th>\n",
              "      <th>이름</th>\n",
              "      <th>측정일</th>\n",
              "      <th>몸무게</th>\n",
              "      <th>단위</th>\n",
              "      <th>담당</th>\n",
              "      <th>지점</th>\n",
              "    </tr>\n",
              "  </thead>\n",
              "  <tbody>\n",
              "    <tr>\n",
              "      <th>1</th>\n",
              "      <td>2</td>\n",
              "      <td>홍길동</td>\n",
              "      <td>2020-03-02</td>\n",
              "      <td>75.7</td>\n",
              "      <td>kg</td>\n",
              "      <td>김현경</td>\n",
              "      <td>관악구</td>\n",
              "    </tr>\n",
              "    <tr>\n",
              "      <th>3</th>\n",
              "      <td>4</td>\n",
              "      <td>홍길동</td>\n",
              "      <td>2020-03-04</td>\n",
              "      <td>NaN</td>\n",
              "      <td>kg</td>\n",
              "      <td>최현경</td>\n",
              "      <td>여의도</td>\n",
              "    </tr>\n",
              "    <tr>\n",
              "      <th>5</th>\n",
              "      <td>6</td>\n",
              "      <td>홍길동</td>\n",
              "      <td>2020-03-06</td>\n",
              "      <td>75.7</td>\n",
              "      <td>kg</td>\n",
              "      <td>최현경</td>\n",
              "      <td>서초구</td>\n",
              "    </tr>\n",
              "  </tbody>\n",
              "</table>\n",
              "</div>"
            ],
            "text/plain": [
              "   회차   이름         측정일   몸무게  단위   담당   지점\n",
              "1   2  홍길동  2020-03-02  75.7  kg  김현경  관악구\n",
              "3   4  홍길동  2020-03-04   NaN  kg  최현경  여의도\n",
              "5   6  홍길동  2020-03-06  75.7  kg  최현경  서초구"
            ]
          },
          "metadata": {},
          "execution_count": 48
        }
      ]
    },
    {
      "cell_type": "code",
      "source": [
        "rawData.reindex([1, 3, 5])"
      ],
      "metadata": {
        "colab": {
          "base_uri": "https://localhost:8080/",
          "height": 143
        },
        "id": "C1xWgI_UYIE3",
        "outputId": "40eb2b14-139d-4ca8-de8b-cd2b938bb1fa"
      },
      "execution_count": null,
      "outputs": [
        {
          "output_type": "execute_result",
          "data": {
            "text/html": [
              "<div>\n",
              "<style scoped>\n",
              "    .dataframe tbody tr th:only-of-type {\n",
              "        vertical-align: middle;\n",
              "    }\n",
              "\n",
              "    .dataframe tbody tr th {\n",
              "        vertical-align: top;\n",
              "    }\n",
              "\n",
              "    .dataframe thead th {\n",
              "        text-align: right;\n",
              "    }\n",
              "</style>\n",
              "<table border=\"1\" class=\"dataframe\">\n",
              "  <thead>\n",
              "    <tr style=\"text-align: right;\">\n",
              "      <th></th>\n",
              "      <th>회차</th>\n",
              "      <th>이름</th>\n",
              "      <th>측정일</th>\n",
              "      <th>몸무게</th>\n",
              "      <th>단위</th>\n",
              "      <th>담당</th>\n",
              "      <th>지점</th>\n",
              "    </tr>\n",
              "  </thead>\n",
              "  <tbody>\n",
              "    <tr>\n",
              "      <th>1</th>\n",
              "      <td>2</td>\n",
              "      <td>홍길동</td>\n",
              "      <td>2020-03-02</td>\n",
              "      <td>75.7</td>\n",
              "      <td>kg</td>\n",
              "      <td>김현경</td>\n",
              "      <td>관악구</td>\n",
              "    </tr>\n",
              "    <tr>\n",
              "      <th>3</th>\n",
              "      <td>4</td>\n",
              "      <td>홍길동</td>\n",
              "      <td>2020-03-04</td>\n",
              "      <td>NaN</td>\n",
              "      <td>kg</td>\n",
              "      <td>최현경</td>\n",
              "      <td>여의도</td>\n",
              "    </tr>\n",
              "    <tr>\n",
              "      <th>5</th>\n",
              "      <td>6</td>\n",
              "      <td>홍길동</td>\n",
              "      <td>2020-03-06</td>\n",
              "      <td>75.7</td>\n",
              "      <td>kg</td>\n",
              "      <td>최현경</td>\n",
              "      <td>서초구</td>\n",
              "    </tr>\n",
              "  </tbody>\n",
              "</table>\n",
              "</div>"
            ],
            "text/plain": [
              "   회차   이름         측정일   몸무게  단위   담당   지점\n",
              "1   2  홍길동  2020-03-02  75.7  kg  김현경  관악구\n",
              "3   4  홍길동  2020-03-04   NaN  kg  최현경  여의도\n",
              "5   6  홍길동  2020-03-06  75.7  kg  최현경  서초구"
            ]
          },
          "metadata": {},
          "execution_count": 49
        }
      ]
    },
    {
      "cell_type": "markdown",
      "source": [
        "### 행, 열 인덱싱"
      ],
      "metadata": {
        "id": "3-p1FNlbYhh-"
      }
    },
    {
      "cell_type": "code",
      "source": [
        "rawData.loc[0, '몸무게']"
      ],
      "metadata": {
        "colab": {
          "base_uri": "https://localhost:8080/"
        },
        "id": "uYR49cziYjpD",
        "outputId": "13dd58c2-6725-4ae4-c556-e94c5ea92e37"
      },
      "execution_count": null,
      "outputs": [
        {
          "output_type": "execute_result",
          "data": {
            "text/plain": [
              "76.4"
            ]
          },
          "metadata": {},
          "execution_count": 50
        }
      ]
    },
    {
      "cell_type": "code",
      "source": [
        "# 물론 배열 인덱스와 함께 사용할 수 있습니다. \n",
        "rawData.loc[0, ['이름', '몸무게']]"
      ],
      "metadata": {
        "colab": {
          "base_uri": "https://localhost:8080/"
        },
        "id": "D6CqQscpYn4x",
        "outputId": "867ffd55-1ea1-4559-ecc5-2a5b8f6eb5dc"
      },
      "execution_count": null,
      "outputs": [
        {
          "output_type": "execute_result",
          "data": {
            "text/plain": [
              "이름      홍길동\n",
              "몸무게    76.4\n",
              "Name: 0, dtype: object"
            ]
          },
          "metadata": {},
          "execution_count": 51
        }
      ]
    },
    {
      "cell_type": "code",
      "source": [
        "rawData.loc[[1, 3, 5], ['이름', '몸무게']]"
      ],
      "metadata": {
        "colab": {
          "base_uri": "https://localhost:8080/",
          "height": 143
        },
        "id": "45p8aqFqYuru",
        "outputId": "c7c2b55f-b78c-4f75-b845-3732f4eb60bf"
      },
      "execution_count": null,
      "outputs": [
        {
          "output_type": "execute_result",
          "data": {
            "text/html": [
              "<div>\n",
              "<style scoped>\n",
              "    .dataframe tbody tr th:only-of-type {\n",
              "        vertical-align: middle;\n",
              "    }\n",
              "\n",
              "    .dataframe tbody tr th {\n",
              "        vertical-align: top;\n",
              "    }\n",
              "\n",
              "    .dataframe thead th {\n",
              "        text-align: right;\n",
              "    }\n",
              "</style>\n",
              "<table border=\"1\" class=\"dataframe\">\n",
              "  <thead>\n",
              "    <tr style=\"text-align: right;\">\n",
              "      <th></th>\n",
              "      <th>이름</th>\n",
              "      <th>몸무게</th>\n",
              "    </tr>\n",
              "  </thead>\n",
              "  <tbody>\n",
              "    <tr>\n",
              "      <th>1</th>\n",
              "      <td>홍길동</td>\n",
              "      <td>75.7</td>\n",
              "    </tr>\n",
              "    <tr>\n",
              "      <th>3</th>\n",
              "      <td>홍길동</td>\n",
              "      <td>NaN</td>\n",
              "    </tr>\n",
              "    <tr>\n",
              "      <th>5</th>\n",
              "      <td>홍길동</td>\n",
              "      <td>75.7</td>\n",
              "    </tr>\n",
              "  </tbody>\n",
              "</table>\n",
              "</div>"
            ],
            "text/plain": [
              "    이름   몸무게\n",
              "1  홍길동  75.7\n",
              "3  홍길동   NaN\n",
              "5  홍길동  75.7"
            ]
          },
          "metadata": {},
          "execution_count": 52
        }
      ]
    },
    {
      "cell_type": "code",
      "source": [
        "# 슬라이스와 함께 사용\n",
        "rawData.loc[0:3, ['이름', '몸무게']]"
      ],
      "metadata": {
        "colab": {
          "base_uri": "https://localhost:8080/",
          "height": 175
        },
        "id": "KoLF3ZYRY1bP",
        "outputId": "1de41679-25de-4d71-dc05-0f8308df9124"
      },
      "execution_count": null,
      "outputs": [
        {
          "output_type": "execute_result",
          "data": {
            "text/html": [
              "<div>\n",
              "<style scoped>\n",
              "    .dataframe tbody tr th:only-of-type {\n",
              "        vertical-align: middle;\n",
              "    }\n",
              "\n",
              "    .dataframe tbody tr th {\n",
              "        vertical-align: top;\n",
              "    }\n",
              "\n",
              "    .dataframe thead th {\n",
              "        text-align: right;\n",
              "    }\n",
              "</style>\n",
              "<table border=\"1\" class=\"dataframe\">\n",
              "  <thead>\n",
              "    <tr style=\"text-align: right;\">\n",
              "      <th></th>\n",
              "      <th>이름</th>\n",
              "      <th>몸무게</th>\n",
              "    </tr>\n",
              "  </thead>\n",
              "  <tbody>\n",
              "    <tr>\n",
              "      <th>0</th>\n",
              "      <td>홍길동</td>\n",
              "      <td>76.4</td>\n",
              "    </tr>\n",
              "    <tr>\n",
              "      <th>1</th>\n",
              "      <td>홍길동</td>\n",
              "      <td>75.7</td>\n",
              "    </tr>\n",
              "    <tr>\n",
              "      <th>2</th>\n",
              "      <td>홍길동</td>\n",
              "      <td>76.0</td>\n",
              "    </tr>\n",
              "    <tr>\n",
              "      <th>3</th>\n",
              "      <td>홍길동</td>\n",
              "      <td>NaN</td>\n",
              "    </tr>\n",
              "  </tbody>\n",
              "</table>\n",
              "</div>"
            ],
            "text/plain": [
              "    이름   몸무게\n",
              "0  홍길동  76.4\n",
              "1  홍길동  75.7\n",
              "2  홍길동  76.0\n",
              "3  홍길동   NaN"
            ]
          },
          "metadata": {},
          "execution_count": 53
        }
      ]
    },
    {
      "cell_type": "code",
      "source": [
        "rawData.loc[0:3, '이름':'몸무게']"
      ],
      "metadata": {
        "colab": {
          "base_uri": "https://localhost:8080/",
          "height": 175
        },
        "id": "76Tsq-iYY7dS",
        "outputId": "0d54751e-cb67-457e-cbee-ec09a6c2f0dd"
      },
      "execution_count": null,
      "outputs": [
        {
          "output_type": "execute_result",
          "data": {
            "text/html": [
              "<div>\n",
              "<style scoped>\n",
              "    .dataframe tbody tr th:only-of-type {\n",
              "        vertical-align: middle;\n",
              "    }\n",
              "\n",
              "    .dataframe tbody tr th {\n",
              "        vertical-align: top;\n",
              "    }\n",
              "\n",
              "    .dataframe thead th {\n",
              "        text-align: right;\n",
              "    }\n",
              "</style>\n",
              "<table border=\"1\" class=\"dataframe\">\n",
              "  <thead>\n",
              "    <tr style=\"text-align: right;\">\n",
              "      <th></th>\n",
              "      <th>이름</th>\n",
              "      <th>측정일</th>\n",
              "      <th>몸무게</th>\n",
              "    </tr>\n",
              "  </thead>\n",
              "  <tbody>\n",
              "    <tr>\n",
              "      <th>0</th>\n",
              "      <td>홍길동</td>\n",
              "      <td>2020-03-01</td>\n",
              "      <td>76.4</td>\n",
              "    </tr>\n",
              "    <tr>\n",
              "      <th>1</th>\n",
              "      <td>홍길동</td>\n",
              "      <td>2020-03-02</td>\n",
              "      <td>75.7</td>\n",
              "    </tr>\n",
              "    <tr>\n",
              "      <th>2</th>\n",
              "      <td>홍길동</td>\n",
              "      <td>2020-03-03</td>\n",
              "      <td>76.0</td>\n",
              "    </tr>\n",
              "    <tr>\n",
              "      <th>3</th>\n",
              "      <td>홍길동</td>\n",
              "      <td>2020-03-04</td>\n",
              "      <td>NaN</td>\n",
              "    </tr>\n",
              "  </tbody>\n",
              "</table>\n",
              "</div>"
            ],
            "text/plain": [
              "    이름         측정일   몸무게\n",
              "0  홍길동  2020-03-01  76.4\n",
              "1  홍길동  2020-03-02  75.7\n",
              "2  홍길동  2020-03-03  76.0\n",
              "3  홍길동  2020-03-04   NaN"
            ]
          },
          "metadata": {},
          "execution_count": 55
        }
      ]
    },
    {
      "cell_type": "markdown",
      "source": [
        "### loc Vs. iloc\n",
        "- iloc를 사용하면 컬럼 인덱스에 정수를 사용할 수 있습니다. "
      ],
      "metadata": {
        "id": "4PMC4M4vZzoO"
      }
    },
    {
      "cell_type": "code",
      "source": [
        "rawData.iloc[0:3, 1:4]"
      ],
      "metadata": {
        "colab": {
          "base_uri": "https://localhost:8080/",
          "height": 143
        },
        "id": "4P5J8yLBZ1PE",
        "outputId": "71915326-d974-4f05-ca40-f3a63c3e642a"
      },
      "execution_count": null,
      "outputs": [
        {
          "output_type": "execute_result",
          "data": {
            "text/html": [
              "<div>\n",
              "<style scoped>\n",
              "    .dataframe tbody tr th:only-of-type {\n",
              "        vertical-align: middle;\n",
              "    }\n",
              "\n",
              "    .dataframe tbody tr th {\n",
              "        vertical-align: top;\n",
              "    }\n",
              "\n",
              "    .dataframe thead th {\n",
              "        text-align: right;\n",
              "    }\n",
              "</style>\n",
              "<table border=\"1\" class=\"dataframe\">\n",
              "  <thead>\n",
              "    <tr style=\"text-align: right;\">\n",
              "      <th></th>\n",
              "      <th>이름</th>\n",
              "      <th>측정일</th>\n",
              "      <th>몸무게</th>\n",
              "    </tr>\n",
              "  </thead>\n",
              "  <tbody>\n",
              "    <tr>\n",
              "      <th>0</th>\n",
              "      <td>홍길동</td>\n",
              "      <td>2020-03-01</td>\n",
              "      <td>76.4</td>\n",
              "    </tr>\n",
              "    <tr>\n",
              "      <th>1</th>\n",
              "      <td>홍길동</td>\n",
              "      <td>2020-03-02</td>\n",
              "      <td>75.7</td>\n",
              "    </tr>\n",
              "    <tr>\n",
              "      <th>2</th>\n",
              "      <td>홍길동</td>\n",
              "      <td>2020-03-03</td>\n",
              "      <td>76.0</td>\n",
              "    </tr>\n",
              "  </tbody>\n",
              "</table>\n",
              "</div>"
            ],
            "text/plain": [
              "    이름         측정일   몸무게\n",
              "0  홍길동  2020-03-01  76.4\n",
              "1  홍길동  2020-03-02  75.7\n",
              "2  홍길동  2020-03-03  76.0"
            ]
          },
          "metadata": {},
          "execution_count": 58
        }
      ]
    },
    {
      "cell_type": "markdown",
      "source": [
        "## 조건 검색\n",
        "- 불리언 인덱스의 활용"
      ],
      "metadata": {
        "id": "yv2n-dm4aZLX"
      }
    },
    {
      "cell_type": "code",
      "source": [
        "# 불리언 시리즈가 반환 됩니다.\n",
        "# 반환된 불리언 시리즈(배열)를 인덱스로 활용\n",
        "rawData['지점'] == '여의도'"
      ],
      "metadata": {
        "colab": {
          "base_uri": "https://localhost:8080/"
        },
        "id": "NxI6he7Iae2_",
        "outputId": "a2f9cead-9a96-43ba-bdd9-1458e3b4093e"
      },
      "execution_count": null,
      "outputs": [
        {
          "output_type": "execute_result",
          "data": {
            "text/plain": [
              "0    False\n",
              "1    False\n",
              "2     True\n",
              "3     True\n",
              "4    False\n",
              "5    False\n",
              "6    False\n",
              "7    False\n",
              "8    False\n",
              "Name: 지점, dtype: bool"
            ]
          },
          "metadata": {},
          "execution_count": 60
        }
      ]
    },
    {
      "cell_type": "code",
      "source": [
        "rawData[ rawData['지점'] == '여의도' ]"
      ],
      "metadata": {
        "colab": {
          "base_uri": "https://localhost:8080/",
          "height": 112
        },
        "id": "zTdiIsRlaz6j",
        "outputId": "e5a70f8d-1d8a-42ff-97d9-8c442639241b"
      },
      "execution_count": null,
      "outputs": [
        {
          "output_type": "execute_result",
          "data": {
            "text/html": [
              "<div>\n",
              "<style scoped>\n",
              "    .dataframe tbody tr th:only-of-type {\n",
              "        vertical-align: middle;\n",
              "    }\n",
              "\n",
              "    .dataframe tbody tr th {\n",
              "        vertical-align: top;\n",
              "    }\n",
              "\n",
              "    .dataframe thead th {\n",
              "        text-align: right;\n",
              "    }\n",
              "</style>\n",
              "<table border=\"1\" class=\"dataframe\">\n",
              "  <thead>\n",
              "    <tr style=\"text-align: right;\">\n",
              "      <th></th>\n",
              "      <th>회차</th>\n",
              "      <th>이름</th>\n",
              "      <th>측정일</th>\n",
              "      <th>몸무게</th>\n",
              "      <th>단위</th>\n",
              "      <th>담당</th>\n",
              "      <th>지점</th>\n",
              "    </tr>\n",
              "  </thead>\n",
              "  <tbody>\n",
              "    <tr>\n",
              "      <th>2</th>\n",
              "      <td>3</td>\n",
              "      <td>홍길동</td>\n",
              "      <td>2020-03-03</td>\n",
              "      <td>76.0</td>\n",
              "      <td>kg</td>\n",
              "      <td>최현경</td>\n",
              "      <td>여의도</td>\n",
              "    </tr>\n",
              "    <tr>\n",
              "      <th>3</th>\n",
              "      <td>4</td>\n",
              "      <td>홍길동</td>\n",
              "      <td>2020-03-04</td>\n",
              "      <td>NaN</td>\n",
              "      <td>kg</td>\n",
              "      <td>최현경</td>\n",
              "      <td>여의도</td>\n",
              "    </tr>\n",
              "  </tbody>\n",
              "</table>\n",
              "</div>"
            ],
            "text/plain": [
              "   회차   이름         측정일   몸무게  단위   담당   지점\n",
              "2   3  홍길동  2020-03-03  76.0  kg  최현경  여의도\n",
              "3   4  홍길동  2020-03-04   NaN  kg  최현경  여의도"
            ]
          },
          "metadata": {},
          "execution_count": 61
        }
      ]
    },
    {
      "cell_type": "code",
      "source": [
        "# 몸무게가 76 이상인 자료만 검색\n",
        "rawData[ rawData['몸무게'] >= 76 ]"
      ],
      "metadata": {
        "colab": {
          "base_uri": "https://localhost:8080/",
          "height": 143
        },
        "id": "SSUrrdrCbRKw",
        "outputId": "452d69be-5a6b-4231-e56c-0e43277e2e0a"
      },
      "execution_count": null,
      "outputs": [
        {
          "output_type": "execute_result",
          "data": {
            "text/html": [
              "<div>\n",
              "<style scoped>\n",
              "    .dataframe tbody tr th:only-of-type {\n",
              "        vertical-align: middle;\n",
              "    }\n",
              "\n",
              "    .dataframe tbody tr th {\n",
              "        vertical-align: top;\n",
              "    }\n",
              "\n",
              "    .dataframe thead th {\n",
              "        text-align: right;\n",
              "    }\n",
              "</style>\n",
              "<table border=\"1\" class=\"dataframe\">\n",
              "  <thead>\n",
              "    <tr style=\"text-align: right;\">\n",
              "      <th></th>\n",
              "      <th>회차</th>\n",
              "      <th>이름</th>\n",
              "      <th>측정일</th>\n",
              "      <th>몸무게</th>\n",
              "      <th>단위</th>\n",
              "      <th>담당</th>\n",
              "      <th>지점</th>\n",
              "    </tr>\n",
              "  </thead>\n",
              "  <tbody>\n",
              "    <tr>\n",
              "      <th>0</th>\n",
              "      <td>1</td>\n",
              "      <td>홍길동</td>\n",
              "      <td>2020-03-01</td>\n",
              "      <td>76.4</td>\n",
              "      <td>kg</td>\n",
              "      <td>박현경</td>\n",
              "      <td>관악구</td>\n",
              "    </tr>\n",
              "    <tr>\n",
              "      <th>2</th>\n",
              "      <td>3</td>\n",
              "      <td>홍길동</td>\n",
              "      <td>2020-03-03</td>\n",
              "      <td>76.0</td>\n",
              "      <td>kg</td>\n",
              "      <td>최현경</td>\n",
              "      <td>여의도</td>\n",
              "    </tr>\n",
              "    <tr>\n",
              "      <th>4</th>\n",
              "      <td>5</td>\n",
              "      <td>홍길동</td>\n",
              "      <td>2020-03-05</td>\n",
              "      <td>76.2</td>\n",
              "      <td>kg</td>\n",
              "      <td>김현경</td>\n",
              "      <td>강남구</td>\n",
              "    </tr>\n",
              "  </tbody>\n",
              "</table>\n",
              "</div>"
            ],
            "text/plain": [
              "   회차   이름         측정일   몸무게  단위   담당   지점\n",
              "0   1  홍길동  2020-03-01  76.4  kg  박현경  관악구\n",
              "2   3  홍길동  2020-03-03  76.0  kg  최현경  여의도\n",
              "4   5  홍길동  2020-03-05  76.2  kg  김현경  강남구"
            ]
          },
          "metadata": {},
          "execution_count": 62
        }
      ]
    },
    {
      "cell_type": "markdown",
      "source": [
        "### 다중조건\n",
        "- and, or, not\n",
        "  - 판다스는 &(앰퍼샌드), |(파이프라인), ~(틸드) 문자를 사용해서 표현 합니다.\n",
        "  - 우선순위가 매우 헷갈려요\n",
        "  - 괄호를 이용해서 정확하게 표현 해주시는게 좋습니다"
      ],
      "metadata": {
        "id": "P9echGSlbpyH"
      }
    },
    {
      "cell_type": "code",
      "source": [
        "# 서초구 지점의 최현경 담당자의 자료만 검색\n",
        "rawData[ (rawData['지점'] == '서초구') & (rawData['담당'] == '최현경') ]"
      ],
      "metadata": {
        "colab": {
          "base_uri": "https://localhost:8080/",
          "height": 112
        },
        "id": "k9ClziYbcEVD",
        "outputId": "04070d14-fbd1-4d18-be17-e46adc8321ff"
      },
      "execution_count": null,
      "outputs": [
        {
          "output_type": "execute_result",
          "data": {
            "text/html": [
              "<div>\n",
              "<style scoped>\n",
              "    .dataframe tbody tr th:only-of-type {\n",
              "        vertical-align: middle;\n",
              "    }\n",
              "\n",
              "    .dataframe tbody tr th {\n",
              "        vertical-align: top;\n",
              "    }\n",
              "\n",
              "    .dataframe thead th {\n",
              "        text-align: right;\n",
              "    }\n",
              "</style>\n",
              "<table border=\"1\" class=\"dataframe\">\n",
              "  <thead>\n",
              "    <tr style=\"text-align: right;\">\n",
              "      <th></th>\n",
              "      <th>회차</th>\n",
              "      <th>이름</th>\n",
              "      <th>측정일</th>\n",
              "      <th>몸무게</th>\n",
              "      <th>단위</th>\n",
              "      <th>담당</th>\n",
              "      <th>지점</th>\n",
              "    </tr>\n",
              "  </thead>\n",
              "  <tbody>\n",
              "    <tr>\n",
              "      <th>5</th>\n",
              "      <td>6</td>\n",
              "      <td>홍길동</td>\n",
              "      <td>2020-03-06</td>\n",
              "      <td>75.7</td>\n",
              "      <td>kg</td>\n",
              "      <td>최현경</td>\n",
              "      <td>서초구</td>\n",
              "    </tr>\n",
              "    <tr>\n",
              "      <th>6</th>\n",
              "      <td>7</td>\n",
              "      <td>홍길동</td>\n",
              "      <td>2020-03-07</td>\n",
              "      <td>NaN</td>\n",
              "      <td>kg</td>\n",
              "      <td>최현경</td>\n",
              "      <td>서초구</td>\n",
              "    </tr>\n",
              "  </tbody>\n",
              "</table>\n",
              "</div>"
            ],
            "text/plain": [
              "   회차   이름         측정일   몸무게  단위   담당   지점\n",
              "5   6  홍길동  2020-03-06  75.7  kg  최현경  서초구\n",
              "6   7  홍길동  2020-03-07   NaN  kg  최현경  서초구"
            ]
          },
          "metadata": {},
          "execution_count": 65
        }
      ]
    },
    {
      "cell_type": "code",
      "source": [
        "# 서초구 지점의 김현경과 최현경 담당자의 자료만 검색\n",
        "rawData[ (rawData['지점'] == '서초구') & ((rawData['담당'] == '최현경') | (rawData['담당'] == '김현경')) ]"
      ],
      "metadata": {
        "colab": {
          "base_uri": "https://localhost:8080/",
          "height": 175
        },
        "id": "jR-NOWWic1pg",
        "outputId": "1a0bfe7c-271b-45ab-af55-fbec0c64a1ce"
      },
      "execution_count": null,
      "outputs": [
        {
          "output_type": "execute_result",
          "data": {
            "text/html": [
              "<div>\n",
              "<style scoped>\n",
              "    .dataframe tbody tr th:only-of-type {\n",
              "        vertical-align: middle;\n",
              "    }\n",
              "\n",
              "    .dataframe tbody tr th {\n",
              "        vertical-align: top;\n",
              "    }\n",
              "\n",
              "    .dataframe thead th {\n",
              "        text-align: right;\n",
              "    }\n",
              "</style>\n",
              "<table border=\"1\" class=\"dataframe\">\n",
              "  <thead>\n",
              "    <tr style=\"text-align: right;\">\n",
              "      <th></th>\n",
              "      <th>회차</th>\n",
              "      <th>이름</th>\n",
              "      <th>측정일</th>\n",
              "      <th>몸무게</th>\n",
              "      <th>단위</th>\n",
              "      <th>담당</th>\n",
              "      <th>지점</th>\n",
              "    </tr>\n",
              "  </thead>\n",
              "  <tbody>\n",
              "    <tr>\n",
              "      <th>5</th>\n",
              "      <td>6</td>\n",
              "      <td>홍길동</td>\n",
              "      <td>2020-03-06</td>\n",
              "      <td>75.7</td>\n",
              "      <td>kg</td>\n",
              "      <td>최현경</td>\n",
              "      <td>서초구</td>\n",
              "    </tr>\n",
              "    <tr>\n",
              "      <th>6</th>\n",
              "      <td>7</td>\n",
              "      <td>홍길동</td>\n",
              "      <td>2020-03-07</td>\n",
              "      <td>NaN</td>\n",
              "      <td>kg</td>\n",
              "      <td>최현경</td>\n",
              "      <td>서초구</td>\n",
              "    </tr>\n",
              "    <tr>\n",
              "      <th>7</th>\n",
              "      <td>8</td>\n",
              "      <td>홍길동</td>\n",
              "      <td>2020-03-08</td>\n",
              "      <td>NaN</td>\n",
              "      <td>kg</td>\n",
              "      <td>김현경</td>\n",
              "      <td>서초구</td>\n",
              "    </tr>\n",
              "    <tr>\n",
              "      <th>8</th>\n",
              "      <td>9</td>\n",
              "      <td>홍길동</td>\n",
              "      <td>2020-03-09</td>\n",
              "      <td>75.0</td>\n",
              "      <td>kg</td>\n",
              "      <td>김현경</td>\n",
              "      <td>서초구</td>\n",
              "    </tr>\n",
              "  </tbody>\n",
              "</table>\n",
              "</div>"
            ],
            "text/plain": [
              "   회차   이름         측정일   몸무게  단위   담당   지점\n",
              "5   6  홍길동  2020-03-06  75.7  kg  최현경  서초구\n",
              "6   7  홍길동  2020-03-07   NaN  kg  최현경  서초구\n",
              "7   8  홍길동  2020-03-08   NaN  kg  김현경  서초구\n",
              "8   9  홍길동  2020-03-09  75.0  kg  김현경  서초구"
            ]
          },
          "metadata": {},
          "execution_count": 67
        }
      ]
    },
    {
      "cell_type": "markdown",
      "source": [
        "### 문자열 처리"
      ],
      "metadata": {
        "id": "9Bs8dDaefwEM"
      }
    },
    {
      "cell_type": "code",
      "source": [
        "# isin은 리스트를 파라미터로 갖습니다. \n",
        "# 리스트 내의 값들 중에서 하나라도 존재하면 True, 그렇지 않으면 False\n",
        "rawData[ (rawData['지점'] == '서초구') & (rawData['담당'].isin(['김현경', '최현경'])) ]"
      ],
      "metadata": {
        "colab": {
          "base_uri": "https://localhost:8080/",
          "height": 175
        },
        "id": "P2P_Wu0me-3g",
        "outputId": "a00761a2-6c6c-4948-b0bc-4adc226a5b23"
      },
      "execution_count": null,
      "outputs": [
        {
          "output_type": "execute_result",
          "data": {
            "text/html": [
              "<div>\n",
              "<style scoped>\n",
              "    .dataframe tbody tr th:only-of-type {\n",
              "        vertical-align: middle;\n",
              "    }\n",
              "\n",
              "    .dataframe tbody tr th {\n",
              "        vertical-align: top;\n",
              "    }\n",
              "\n",
              "    .dataframe thead th {\n",
              "        text-align: right;\n",
              "    }\n",
              "</style>\n",
              "<table border=\"1\" class=\"dataframe\">\n",
              "  <thead>\n",
              "    <tr style=\"text-align: right;\">\n",
              "      <th></th>\n",
              "      <th>회차</th>\n",
              "      <th>이름</th>\n",
              "      <th>측정일</th>\n",
              "      <th>몸무게</th>\n",
              "      <th>단위</th>\n",
              "      <th>담당</th>\n",
              "      <th>지점</th>\n",
              "    </tr>\n",
              "  </thead>\n",
              "  <tbody>\n",
              "    <tr>\n",
              "      <th>5</th>\n",
              "      <td>6</td>\n",
              "      <td>홍길동</td>\n",
              "      <td>2020-03-06</td>\n",
              "      <td>75.7</td>\n",
              "      <td>kg</td>\n",
              "      <td>최현경</td>\n",
              "      <td>서초구</td>\n",
              "    </tr>\n",
              "    <tr>\n",
              "      <th>6</th>\n",
              "      <td>7</td>\n",
              "      <td>홍길동</td>\n",
              "      <td>2020-03-07</td>\n",
              "      <td>NaN</td>\n",
              "      <td>kg</td>\n",
              "      <td>최현경</td>\n",
              "      <td>서초구</td>\n",
              "    </tr>\n",
              "    <tr>\n",
              "      <th>7</th>\n",
              "      <td>8</td>\n",
              "      <td>홍길동</td>\n",
              "      <td>2020-03-08</td>\n",
              "      <td>NaN</td>\n",
              "      <td>kg</td>\n",
              "      <td>김현경</td>\n",
              "      <td>서초구</td>\n",
              "    </tr>\n",
              "    <tr>\n",
              "      <th>8</th>\n",
              "      <td>9</td>\n",
              "      <td>홍길동</td>\n",
              "      <td>2020-03-09</td>\n",
              "      <td>75.0</td>\n",
              "      <td>kg</td>\n",
              "      <td>김현경</td>\n",
              "      <td>서초구</td>\n",
              "    </tr>\n",
              "  </tbody>\n",
              "</table>\n",
              "</div>"
            ],
            "text/plain": [
              "   회차   이름         측정일   몸무게  단위   담당   지점\n",
              "5   6  홍길동  2020-03-06  75.7  kg  최현경  서초구\n",
              "6   7  홍길동  2020-03-07   NaN  kg  최현경  서초구\n",
              "7   8  홍길동  2020-03-08   NaN  kg  김현경  서초구\n",
              "8   9  홍길동  2020-03-09  75.0  kg  김현경  서초구"
            ]
          },
          "metadata": {},
          "execution_count": 68
        }
      ]
    },
    {
      "cell_type": "code",
      "source": [
        "# 담당자들 중에 성이 '김'씨인 자료만 검색\n",
        "# contains는 문자열 내에서 특정 문자열이 존재하면 True, 그렇지 않으면, False\n",
        "# rawData[ ~(rawData['담당'].str.contains('김')) ]\n",
        "rawData[ (rawData['담당'].str.contains('김')) ]"
      ],
      "metadata": {
        "colab": {
          "base_uri": "https://localhost:8080/",
          "height": 175
        },
        "id": "jhOu8k41fj1Y",
        "outputId": "a239069e-279b-4641-d41a-d1057e3a8e99"
      },
      "execution_count": null,
      "outputs": [
        {
          "output_type": "execute_result",
          "data": {
            "text/html": [
              "<div>\n",
              "<style scoped>\n",
              "    .dataframe tbody tr th:only-of-type {\n",
              "        vertical-align: middle;\n",
              "    }\n",
              "\n",
              "    .dataframe tbody tr th {\n",
              "        vertical-align: top;\n",
              "    }\n",
              "\n",
              "    .dataframe thead th {\n",
              "        text-align: right;\n",
              "    }\n",
              "</style>\n",
              "<table border=\"1\" class=\"dataframe\">\n",
              "  <thead>\n",
              "    <tr style=\"text-align: right;\">\n",
              "      <th></th>\n",
              "      <th>회차</th>\n",
              "      <th>이름</th>\n",
              "      <th>측정일</th>\n",
              "      <th>몸무게</th>\n",
              "      <th>단위</th>\n",
              "      <th>담당</th>\n",
              "      <th>지점</th>\n",
              "    </tr>\n",
              "  </thead>\n",
              "  <tbody>\n",
              "    <tr>\n",
              "      <th>1</th>\n",
              "      <td>2</td>\n",
              "      <td>홍길동</td>\n",
              "      <td>2020-03-02</td>\n",
              "      <td>75.7</td>\n",
              "      <td>kg</td>\n",
              "      <td>김현경</td>\n",
              "      <td>관악구</td>\n",
              "    </tr>\n",
              "    <tr>\n",
              "      <th>4</th>\n",
              "      <td>5</td>\n",
              "      <td>홍길동</td>\n",
              "      <td>2020-03-05</td>\n",
              "      <td>76.2</td>\n",
              "      <td>kg</td>\n",
              "      <td>김현경</td>\n",
              "      <td>강남구</td>\n",
              "    </tr>\n",
              "    <tr>\n",
              "      <th>7</th>\n",
              "      <td>8</td>\n",
              "      <td>홍길동</td>\n",
              "      <td>2020-03-08</td>\n",
              "      <td>NaN</td>\n",
              "      <td>kg</td>\n",
              "      <td>김현경</td>\n",
              "      <td>서초구</td>\n",
              "    </tr>\n",
              "    <tr>\n",
              "      <th>8</th>\n",
              "      <td>9</td>\n",
              "      <td>홍길동</td>\n",
              "      <td>2020-03-09</td>\n",
              "      <td>75.0</td>\n",
              "      <td>kg</td>\n",
              "      <td>김현경</td>\n",
              "      <td>서초구</td>\n",
              "    </tr>\n",
              "  </tbody>\n",
              "</table>\n",
              "</div>"
            ],
            "text/plain": [
              "   회차   이름         측정일   몸무게  단위   담당   지점\n",
              "1   2  홍길동  2020-03-02  75.7  kg  김현경  관악구\n",
              "4   5  홍길동  2020-03-05  76.2  kg  김현경  강남구\n",
              "7   8  홍길동  2020-03-08   NaN  kg  김현경  서초구\n",
              "8   9  홍길동  2020-03-09  75.0  kg  김현경  서초구"
            ]
          },
          "metadata": {},
          "execution_count": 79
        }
      ]
    },
    {
      "cell_type": "code",
      "source": [
        "# startswith는 문자열 내에서 특정 문자열로 시작하는 경우 True, 그렇지 않으면, False\n",
        "rawData[ rawData['담당'].str.startswith('김') ]"
      ],
      "metadata": {
        "colab": {
          "base_uri": "https://localhost:8080/",
          "height": 175
        },
        "id": "3yTTcCMPgCwC",
        "outputId": "ce388ca0-1d3e-4554-b9c0-fb190677727c"
      },
      "execution_count": null,
      "outputs": [
        {
          "output_type": "execute_result",
          "data": {
            "text/html": [
              "<div>\n",
              "<style scoped>\n",
              "    .dataframe tbody tr th:only-of-type {\n",
              "        vertical-align: middle;\n",
              "    }\n",
              "\n",
              "    .dataframe tbody tr th {\n",
              "        vertical-align: top;\n",
              "    }\n",
              "\n",
              "    .dataframe thead th {\n",
              "        text-align: right;\n",
              "    }\n",
              "</style>\n",
              "<table border=\"1\" class=\"dataframe\">\n",
              "  <thead>\n",
              "    <tr style=\"text-align: right;\">\n",
              "      <th></th>\n",
              "      <th>회차</th>\n",
              "      <th>이름</th>\n",
              "      <th>측정일</th>\n",
              "      <th>몸무게</th>\n",
              "      <th>단위</th>\n",
              "      <th>담당</th>\n",
              "      <th>지점</th>\n",
              "    </tr>\n",
              "  </thead>\n",
              "  <tbody>\n",
              "    <tr>\n",
              "      <th>1</th>\n",
              "      <td>2</td>\n",
              "      <td>홍길동</td>\n",
              "      <td>2020-03-02</td>\n",
              "      <td>75.7</td>\n",
              "      <td>kg</td>\n",
              "      <td>김현경</td>\n",
              "      <td>관악구</td>\n",
              "    </tr>\n",
              "    <tr>\n",
              "      <th>4</th>\n",
              "      <td>5</td>\n",
              "      <td>홍길동</td>\n",
              "      <td>2020-03-05</td>\n",
              "      <td>76.2</td>\n",
              "      <td>kg</td>\n",
              "      <td>김현경</td>\n",
              "      <td>강남구</td>\n",
              "    </tr>\n",
              "    <tr>\n",
              "      <th>7</th>\n",
              "      <td>8</td>\n",
              "      <td>홍길동</td>\n",
              "      <td>2020-03-08</td>\n",
              "      <td>NaN</td>\n",
              "      <td>kg</td>\n",
              "      <td>김현경</td>\n",
              "      <td>서초구</td>\n",
              "    </tr>\n",
              "    <tr>\n",
              "      <th>8</th>\n",
              "      <td>9</td>\n",
              "      <td>홍길동</td>\n",
              "      <td>2020-03-09</td>\n",
              "      <td>75.0</td>\n",
              "      <td>kg</td>\n",
              "      <td>김현경</td>\n",
              "      <td>서초구</td>\n",
              "    </tr>\n",
              "  </tbody>\n",
              "</table>\n",
              "</div>"
            ],
            "text/plain": [
              "   회차   이름         측정일   몸무게  단위   담당   지점\n",
              "1   2  홍길동  2020-03-02  75.7  kg  김현경  관악구\n",
              "4   5  홍길동  2020-03-05  76.2  kg  김현경  강남구\n",
              "7   8  홍길동  2020-03-08   NaN  kg  김현경  서초구\n",
              "8   9  홍길동  2020-03-09  75.0  kg  김현경  서초구"
            ]
          },
          "metadata": {},
          "execution_count": 71
        }
      ]
    },
    {
      "cell_type": "markdown",
      "source": [
        "### 결측치\n",
        "- 결측치가 있으면 분석을 제대로 수행할 수 없기 때문에 어떻게든 처리를 해줘야만 합니다. \n",
        "  - 결측치를 채우든가, 지우든가 둘 중에 하나를 해줘야 합니다. \n",
        "  - 결측치를 채우는 여러가지 방법\n",
        "    - 평균, 중앙값 등으로 대체하는 경우\n",
        "    - 책에서나 할 수 있는 얘기들이고, 실제로도 유용한가?"
      ],
      "metadata": {
        "id": "t3vvWqMKkPGr"
      }
    },
    {
      "cell_type": "code",
      "source": [
        "# 결측치를 확인하는 방법\n",
        "# 결측치의 개수\n",
        "rawData['몸무게'].isnull()"
      ],
      "metadata": {
        "colab": {
          "base_uri": "https://localhost:8080/"
        },
        "id": "t0wwRP5zkq6u",
        "outputId": "4aea70a3-7472-42c4-b2c6-aa3689b7a734"
      },
      "execution_count": null,
      "outputs": [
        {
          "output_type": "execute_result",
          "data": {
            "text/plain": [
              "0    False\n",
              "1    False\n",
              "2    False\n",
              "3     True\n",
              "4    False\n",
              "5    False\n",
              "6     True\n",
              "7     True\n",
              "8    False\n",
              "Name: 몸무게, dtype: bool"
            ]
          },
          "metadata": {},
          "execution_count": 80
        }
      ]
    },
    {
      "cell_type": "code",
      "source": [
        "rawData['몸무게'].isna()"
      ],
      "metadata": {
        "colab": {
          "base_uri": "https://localhost:8080/"
        },
        "id": "Q4SRBPvZk2WF",
        "outputId": "51eb59cc-d4d6-4abc-8e3a-3323bd89f6c5"
      },
      "execution_count": null,
      "outputs": [
        {
          "output_type": "execute_result",
          "data": {
            "text/plain": [
              "0    False\n",
              "1    False\n",
              "2    False\n",
              "3     True\n",
              "4    False\n",
              "5    False\n",
              "6     True\n",
              "7     True\n",
              "8    False\n",
              "Name: 몸무게, dtype: bool"
            ]
          },
          "metadata": {},
          "execution_count": 81
        }
      ]
    },
    {
      "cell_type": "code",
      "source": [
        "# True는 1과 같기 때문에, True를 모두 더하면 결측치의 개수가 됩니다. \n",
        "rawData['몸무게'].isna().sum()"
      ],
      "metadata": {
        "colab": {
          "base_uri": "https://localhost:8080/"
        },
        "id": "Ks0j8oCHk8Ao",
        "outputId": "36d3a512-7dd1-484e-818d-49c92213efcd"
      },
      "execution_count": null,
      "outputs": [
        {
          "output_type": "execute_result",
          "data": {
            "text/plain": [
              "3"
            ]
          },
          "metadata": {},
          "execution_count": 83
        }
      ]
    },
    {
      "cell_type": "code",
      "source": [
        "# 결측치만 확인하고 싶은 경우\n",
        "rawData[ rawData['몸무게'].isna() ]"
      ],
      "metadata": {
        "colab": {
          "base_uri": "https://localhost:8080/",
          "height": 143
        },
        "id": "uRWwnbDilI8g",
        "outputId": "2b252f6e-e361-4af1-f0ce-8ceae581f1bb"
      },
      "execution_count": null,
      "outputs": [
        {
          "output_type": "execute_result",
          "data": {
            "text/html": [
              "<div>\n",
              "<style scoped>\n",
              "    .dataframe tbody tr th:only-of-type {\n",
              "        vertical-align: middle;\n",
              "    }\n",
              "\n",
              "    .dataframe tbody tr th {\n",
              "        vertical-align: top;\n",
              "    }\n",
              "\n",
              "    .dataframe thead th {\n",
              "        text-align: right;\n",
              "    }\n",
              "</style>\n",
              "<table border=\"1\" class=\"dataframe\">\n",
              "  <thead>\n",
              "    <tr style=\"text-align: right;\">\n",
              "      <th></th>\n",
              "      <th>회차</th>\n",
              "      <th>이름</th>\n",
              "      <th>측정일</th>\n",
              "      <th>몸무게</th>\n",
              "      <th>단위</th>\n",
              "      <th>담당</th>\n",
              "      <th>지점</th>\n",
              "    </tr>\n",
              "  </thead>\n",
              "  <tbody>\n",
              "    <tr>\n",
              "      <th>3</th>\n",
              "      <td>4</td>\n",
              "      <td>홍길동</td>\n",
              "      <td>2020-03-04</td>\n",
              "      <td>NaN</td>\n",
              "      <td>kg</td>\n",
              "      <td>최현경</td>\n",
              "      <td>여의도</td>\n",
              "    </tr>\n",
              "    <tr>\n",
              "      <th>6</th>\n",
              "      <td>7</td>\n",
              "      <td>홍길동</td>\n",
              "      <td>2020-03-07</td>\n",
              "      <td>NaN</td>\n",
              "      <td>kg</td>\n",
              "      <td>최현경</td>\n",
              "      <td>서초구</td>\n",
              "    </tr>\n",
              "    <tr>\n",
              "      <th>7</th>\n",
              "      <td>8</td>\n",
              "      <td>홍길동</td>\n",
              "      <td>2020-03-08</td>\n",
              "      <td>NaN</td>\n",
              "      <td>kg</td>\n",
              "      <td>김현경</td>\n",
              "      <td>서초구</td>\n",
              "    </tr>\n",
              "  </tbody>\n",
              "</table>\n",
              "</div>"
            ],
            "text/plain": [
              "   회차   이름         측정일  몸무게  단위   담당   지점\n",
              "3   4  홍길동  2020-03-04  NaN  kg  최현경  여의도\n",
              "6   7  홍길동  2020-03-07  NaN  kg  최현경  서초구\n",
              "7   8  홍길동  2020-03-08  NaN  kg  김현경  서초구"
            ]
          },
          "metadata": {},
          "execution_count": 84
        }
      ]
    },
    {
      "cell_type": "code",
      "source": [
        "# 결측치를 제외하고 확인하고 싶은 경우 \n",
        "rawData[ ~rawData['몸무게'].isna() ]"
      ],
      "metadata": {
        "colab": {
          "base_uri": "https://localhost:8080/",
          "height": 237
        },
        "id": "Z--oJkNulTIY",
        "outputId": "0a212cfc-928e-4c84-e8fa-1d4b2103d9f0"
      },
      "execution_count": null,
      "outputs": [
        {
          "output_type": "execute_result",
          "data": {
            "text/html": [
              "<div>\n",
              "<style scoped>\n",
              "    .dataframe tbody tr th:only-of-type {\n",
              "        vertical-align: middle;\n",
              "    }\n",
              "\n",
              "    .dataframe tbody tr th {\n",
              "        vertical-align: top;\n",
              "    }\n",
              "\n",
              "    .dataframe thead th {\n",
              "        text-align: right;\n",
              "    }\n",
              "</style>\n",
              "<table border=\"1\" class=\"dataframe\">\n",
              "  <thead>\n",
              "    <tr style=\"text-align: right;\">\n",
              "      <th></th>\n",
              "      <th>회차</th>\n",
              "      <th>이름</th>\n",
              "      <th>측정일</th>\n",
              "      <th>몸무게</th>\n",
              "      <th>단위</th>\n",
              "      <th>담당</th>\n",
              "      <th>지점</th>\n",
              "    </tr>\n",
              "  </thead>\n",
              "  <tbody>\n",
              "    <tr>\n",
              "      <th>0</th>\n",
              "      <td>1</td>\n",
              "      <td>홍길동</td>\n",
              "      <td>2020-03-01</td>\n",
              "      <td>76.4</td>\n",
              "      <td>kg</td>\n",
              "      <td>박현경</td>\n",
              "      <td>관악구</td>\n",
              "    </tr>\n",
              "    <tr>\n",
              "      <th>1</th>\n",
              "      <td>2</td>\n",
              "      <td>홍길동</td>\n",
              "      <td>2020-03-02</td>\n",
              "      <td>75.7</td>\n",
              "      <td>kg</td>\n",
              "      <td>김현경</td>\n",
              "      <td>관악구</td>\n",
              "    </tr>\n",
              "    <tr>\n",
              "      <th>2</th>\n",
              "      <td>3</td>\n",
              "      <td>홍길동</td>\n",
              "      <td>2020-03-03</td>\n",
              "      <td>76.0</td>\n",
              "      <td>kg</td>\n",
              "      <td>최현경</td>\n",
              "      <td>여의도</td>\n",
              "    </tr>\n",
              "    <tr>\n",
              "      <th>4</th>\n",
              "      <td>5</td>\n",
              "      <td>홍길동</td>\n",
              "      <td>2020-03-05</td>\n",
              "      <td>76.2</td>\n",
              "      <td>kg</td>\n",
              "      <td>김현경</td>\n",
              "      <td>강남구</td>\n",
              "    </tr>\n",
              "    <tr>\n",
              "      <th>5</th>\n",
              "      <td>6</td>\n",
              "      <td>홍길동</td>\n",
              "      <td>2020-03-06</td>\n",
              "      <td>75.7</td>\n",
              "      <td>kg</td>\n",
              "      <td>최현경</td>\n",
              "      <td>서초구</td>\n",
              "    </tr>\n",
              "    <tr>\n",
              "      <th>8</th>\n",
              "      <td>9</td>\n",
              "      <td>홍길동</td>\n",
              "      <td>2020-03-09</td>\n",
              "      <td>75.0</td>\n",
              "      <td>kg</td>\n",
              "      <td>김현경</td>\n",
              "      <td>서초구</td>\n",
              "    </tr>\n",
              "  </tbody>\n",
              "</table>\n",
              "</div>"
            ],
            "text/plain": [
              "   회차   이름         측정일   몸무게  단위   담당   지점\n",
              "0   1  홍길동  2020-03-01  76.4  kg  박현경  관악구\n",
              "1   2  홍길동  2020-03-02  75.7  kg  김현경  관악구\n",
              "2   3  홍길동  2020-03-03  76.0  kg  최현경  여의도\n",
              "4   5  홍길동  2020-03-05  76.2  kg  김현경  강남구\n",
              "5   6  홍길동  2020-03-06  75.7  kg  최현경  서초구\n",
              "8   9  홍길동  2020-03-09  75.0  kg  김현경  서초구"
            ]
          },
          "metadata": {},
          "execution_count": 85
        }
      ]
    },
    {
      "cell_type": "code",
      "source": [
        "rawData[ rawData['몸무게'].notna() ]"
      ],
      "metadata": {
        "colab": {
          "base_uri": "https://localhost:8080/",
          "height": 237
        },
        "id": "LHFnNJkIlZ4i",
        "outputId": "58df07ff-cb8c-487e-b249-6afa5137f927"
      },
      "execution_count": null,
      "outputs": [
        {
          "output_type": "execute_result",
          "data": {
            "text/html": [
              "<div>\n",
              "<style scoped>\n",
              "    .dataframe tbody tr th:only-of-type {\n",
              "        vertical-align: middle;\n",
              "    }\n",
              "\n",
              "    .dataframe tbody tr th {\n",
              "        vertical-align: top;\n",
              "    }\n",
              "\n",
              "    .dataframe thead th {\n",
              "        text-align: right;\n",
              "    }\n",
              "</style>\n",
              "<table border=\"1\" class=\"dataframe\">\n",
              "  <thead>\n",
              "    <tr style=\"text-align: right;\">\n",
              "      <th></th>\n",
              "      <th>회차</th>\n",
              "      <th>이름</th>\n",
              "      <th>측정일</th>\n",
              "      <th>몸무게</th>\n",
              "      <th>단위</th>\n",
              "      <th>담당</th>\n",
              "      <th>지점</th>\n",
              "    </tr>\n",
              "  </thead>\n",
              "  <tbody>\n",
              "    <tr>\n",
              "      <th>0</th>\n",
              "      <td>1</td>\n",
              "      <td>홍길동</td>\n",
              "      <td>2020-03-01</td>\n",
              "      <td>76.4</td>\n",
              "      <td>kg</td>\n",
              "      <td>박현경</td>\n",
              "      <td>관악구</td>\n",
              "    </tr>\n",
              "    <tr>\n",
              "      <th>1</th>\n",
              "      <td>2</td>\n",
              "      <td>홍길동</td>\n",
              "      <td>2020-03-02</td>\n",
              "      <td>75.7</td>\n",
              "      <td>kg</td>\n",
              "      <td>김현경</td>\n",
              "      <td>관악구</td>\n",
              "    </tr>\n",
              "    <tr>\n",
              "      <th>2</th>\n",
              "      <td>3</td>\n",
              "      <td>홍길동</td>\n",
              "      <td>2020-03-03</td>\n",
              "      <td>76.0</td>\n",
              "      <td>kg</td>\n",
              "      <td>최현경</td>\n",
              "      <td>여의도</td>\n",
              "    </tr>\n",
              "    <tr>\n",
              "      <th>4</th>\n",
              "      <td>5</td>\n",
              "      <td>홍길동</td>\n",
              "      <td>2020-03-05</td>\n",
              "      <td>76.2</td>\n",
              "      <td>kg</td>\n",
              "      <td>김현경</td>\n",
              "      <td>강남구</td>\n",
              "    </tr>\n",
              "    <tr>\n",
              "      <th>5</th>\n",
              "      <td>6</td>\n",
              "      <td>홍길동</td>\n",
              "      <td>2020-03-06</td>\n",
              "      <td>75.7</td>\n",
              "      <td>kg</td>\n",
              "      <td>최현경</td>\n",
              "      <td>서초구</td>\n",
              "    </tr>\n",
              "    <tr>\n",
              "      <th>8</th>\n",
              "      <td>9</td>\n",
              "      <td>홍길동</td>\n",
              "      <td>2020-03-09</td>\n",
              "      <td>75.0</td>\n",
              "      <td>kg</td>\n",
              "      <td>김현경</td>\n",
              "      <td>서초구</td>\n",
              "    </tr>\n",
              "  </tbody>\n",
              "</table>\n",
              "</div>"
            ],
            "text/plain": [
              "   회차   이름         측정일   몸무게  단위   담당   지점\n",
              "0   1  홍길동  2020-03-01  76.4  kg  박현경  관악구\n",
              "1   2  홍길동  2020-03-02  75.7  kg  김현경  관악구\n",
              "2   3  홍길동  2020-03-03  76.0  kg  최현경  여의도\n",
              "4   5  홍길동  2020-03-05  76.2  kg  김현경  강남구\n",
              "5   6  홍길동  2020-03-06  75.7  kg  최현경  서초구\n",
              "8   9  홍길동  2020-03-09  75.0  kg  김현경  서초구"
            ]
          },
          "metadata": {},
          "execution_count": 86
        }
      ]
    },
    {
      "cell_type": "code",
      "source": [
        "# 조건에 맞는 자료들 중에서 내가 원하는 컬럼만 확인\n",
        "rawData.loc[ rawData['몸무게'].isna(), '이름']"
      ],
      "metadata": {
        "colab": {
          "base_uri": "https://localhost:8080/"
        },
        "id": "1TevEoceloNo",
        "outputId": "8b2002ef-a6aa-4beb-e029-01088c811f73"
      },
      "execution_count": null,
      "outputs": [
        {
          "output_type": "execute_result",
          "data": {
            "text/plain": [
              "3    홍길동\n",
              "6    홍길동\n",
              "7    홍길동\n",
              "Name: 이름, dtype: object"
            ]
          },
          "metadata": {},
          "execution_count": 90
        }
      ]
    },
    {
      "cell_type": "code",
      "source": [
        "rawData.loc[ rawData['몸무게'].isna(),  ['지점', '담당', '측정일']]"
      ],
      "metadata": {
        "colab": {
          "base_uri": "https://localhost:8080/",
          "height": 143
        },
        "id": "i_99wQSkltzb",
        "outputId": "3c13f351-6a9e-45aa-a234-64c6307ef9e2"
      },
      "execution_count": null,
      "outputs": [
        {
          "output_type": "execute_result",
          "data": {
            "text/html": [
              "<div>\n",
              "<style scoped>\n",
              "    .dataframe tbody tr th:only-of-type {\n",
              "        vertical-align: middle;\n",
              "    }\n",
              "\n",
              "    .dataframe tbody tr th {\n",
              "        vertical-align: top;\n",
              "    }\n",
              "\n",
              "    .dataframe thead th {\n",
              "        text-align: right;\n",
              "    }\n",
              "</style>\n",
              "<table border=\"1\" class=\"dataframe\">\n",
              "  <thead>\n",
              "    <tr style=\"text-align: right;\">\n",
              "      <th></th>\n",
              "      <th>지점</th>\n",
              "      <th>담당</th>\n",
              "      <th>측정일</th>\n",
              "    </tr>\n",
              "  </thead>\n",
              "  <tbody>\n",
              "    <tr>\n",
              "      <th>3</th>\n",
              "      <td>여의도</td>\n",
              "      <td>최현경</td>\n",
              "      <td>2020-03-04</td>\n",
              "    </tr>\n",
              "    <tr>\n",
              "      <th>6</th>\n",
              "      <td>서초구</td>\n",
              "      <td>최현경</td>\n",
              "      <td>2020-03-07</td>\n",
              "    </tr>\n",
              "    <tr>\n",
              "      <th>7</th>\n",
              "      <td>서초구</td>\n",
              "      <td>김현경</td>\n",
              "      <td>2020-03-08</td>\n",
              "    </tr>\n",
              "  </tbody>\n",
              "</table>\n",
              "</div>"
            ],
            "text/plain": [
              "    지점   담당         측정일\n",
              "3  여의도  최현경  2020-03-04\n",
              "6  서초구  최현경  2020-03-07\n",
              "7  서초구  김현경  2020-03-08"
            ]
          },
          "metadata": {},
          "execution_count": 93
        }
      ]
    },
    {
      "cell_type": "markdown",
      "source": [
        "### 이상치(outlier)\n",
        "- 특별히 크거나, 작은 값\n",
        "  - 얼마나 크거나, 작아야 이상치라고 할 수 있는가?\n",
        "- 이상치를 찾는 경우가 아니라면, 이상치는 제거하고 분석을 진행 합니다."
      ],
      "metadata": {
        "id": "0qsLxLeMnTAu"
      }
    },
    {
      "cell_type": "code",
      "source": [
        "rawData['몸무게'].describe()"
      ],
      "metadata": {
        "colab": {
          "base_uri": "https://localhost:8080/"
        },
        "id": "AULfT0CSnp7p",
        "outputId": "3c0249c8-086e-48ab-ac2b-ca931fd150d2"
      },
      "execution_count": null,
      "outputs": [
        {
          "output_type": "execute_result",
          "data": {
            "text/plain": [
              "count     6.000000\n",
              "mean     75.833333\n",
              "std       0.492612\n",
              "min      75.000000\n",
              "25%      75.700000\n",
              "50%      75.850000\n",
              "75%      76.150000\n",
              "max      76.400000\n",
              "Name: 몸무게, dtype: float64"
            ]
          },
          "metadata": {},
          "execution_count": 94
        }
      ]
    },
    {
      "cell_type": "code",
      "source": [
        "# 특정 값을 넘어가는 자료를 이상치로 판단\n",
        "rawData[ rawData['몸무게'] > 76.15 ]"
      ],
      "metadata": {
        "colab": {
          "base_uri": "https://localhost:8080/",
          "height": 112
        },
        "id": "6yPjzZeIn9W4",
        "outputId": "5942ef2a-79a6-41f7-fab6-168f9f6a1429"
      },
      "execution_count": null,
      "outputs": [
        {
          "output_type": "execute_result",
          "data": {
            "text/html": [
              "<div>\n",
              "<style scoped>\n",
              "    .dataframe tbody tr th:only-of-type {\n",
              "        vertical-align: middle;\n",
              "    }\n",
              "\n",
              "    .dataframe tbody tr th {\n",
              "        vertical-align: top;\n",
              "    }\n",
              "\n",
              "    .dataframe thead th {\n",
              "        text-align: right;\n",
              "    }\n",
              "</style>\n",
              "<table border=\"1\" class=\"dataframe\">\n",
              "  <thead>\n",
              "    <tr style=\"text-align: right;\">\n",
              "      <th></th>\n",
              "      <th>회차</th>\n",
              "      <th>이름</th>\n",
              "      <th>측정일</th>\n",
              "      <th>몸무게</th>\n",
              "      <th>단위</th>\n",
              "      <th>담당</th>\n",
              "      <th>지점</th>\n",
              "    </tr>\n",
              "  </thead>\n",
              "  <tbody>\n",
              "    <tr>\n",
              "      <th>0</th>\n",
              "      <td>1</td>\n",
              "      <td>홍길동</td>\n",
              "      <td>2020-03-01</td>\n",
              "      <td>76.4</td>\n",
              "      <td>kg</td>\n",
              "      <td>박현경</td>\n",
              "      <td>관악구</td>\n",
              "    </tr>\n",
              "    <tr>\n",
              "      <th>4</th>\n",
              "      <td>5</td>\n",
              "      <td>홍길동</td>\n",
              "      <td>2020-03-05</td>\n",
              "      <td>76.2</td>\n",
              "      <td>kg</td>\n",
              "      <td>김현경</td>\n",
              "      <td>강남구</td>\n",
              "    </tr>\n",
              "  </tbody>\n",
              "</table>\n",
              "</div>"
            ],
            "text/plain": [
              "   회차   이름         측정일   몸무게  단위   담당   지점\n",
              "0   1  홍길동  2020-03-01  76.4  kg  박현경  관악구\n",
              "4   5  홍길동  2020-03-05  76.2  kg  김현경  강남구"
            ]
          },
          "metadata": {},
          "execution_count": 95
        }
      ]
    },
    {
      "cell_type": "code",
      "source": [
        "# 4분위수를 이용한 방법\n",
        "display( rawData['몸무게'].quantile(0.25) )\n",
        "display( rawData['몸무게'].quantile(0.50) )\n",
        "display( rawData['몸무게'].quantile(0.75) )\n",
        "display( rawData['몸무게'].quantile(0.99) )"
      ],
      "metadata": {
        "colab": {
          "base_uri": "https://localhost:8080/",
          "height": 86
        },
        "id": "LsJyLcmOoH5F",
        "outputId": "597397c6-5660-4c9f-e2b6-1ad8d23b8b0d"
      },
      "execution_count": null,
      "outputs": [
        {
          "output_type": "display_data",
          "data": {
            "text/plain": [
              "75.7"
            ]
          },
          "metadata": {}
        },
        {
          "output_type": "display_data",
          "data": {
            "text/plain": [
              "75.85"
            ]
          },
          "metadata": {}
        },
        {
          "output_type": "display_data",
          "data": {
            "text/plain": [
              "76.15"
            ]
          },
          "metadata": {}
        },
        {
          "output_type": "display_data",
          "data": {
            "text/plain": [
              "76.39"
            ]
          },
          "metadata": {}
        }
      ]
    },
    {
      "cell_type": "code",
      "source": [
        "# 이상치를 상위 99%를 넘어가는 값\n",
        "# 하위 0.1%보다 낮은 값\n",
        "# 이상치를 제거하는 방법\n",
        "low = rawData['몸무게'].quantile(0.01)\n",
        "high = rawData['몸무게'].quantile(0.99)\n",
        "rawData[ (rawData['몸무게'] < high) & (rawData['몸무게'] > low) ]"
      ],
      "metadata": {
        "colab": {
          "base_uri": "https://localhost:8080/",
          "height": 175
        },
        "id": "cn5QefQCo06i",
        "outputId": "609350a2-f99e-431d-e380-03b7ff611515"
      },
      "execution_count": null,
      "outputs": [
        {
          "output_type": "execute_result",
          "data": {
            "text/html": [
              "<div>\n",
              "<style scoped>\n",
              "    .dataframe tbody tr th:only-of-type {\n",
              "        vertical-align: middle;\n",
              "    }\n",
              "\n",
              "    .dataframe tbody tr th {\n",
              "        vertical-align: top;\n",
              "    }\n",
              "\n",
              "    .dataframe thead th {\n",
              "        text-align: right;\n",
              "    }\n",
              "</style>\n",
              "<table border=\"1\" class=\"dataframe\">\n",
              "  <thead>\n",
              "    <tr style=\"text-align: right;\">\n",
              "      <th></th>\n",
              "      <th>회차</th>\n",
              "      <th>이름</th>\n",
              "      <th>측정일</th>\n",
              "      <th>몸무게</th>\n",
              "      <th>단위</th>\n",
              "      <th>담당</th>\n",
              "      <th>지점</th>\n",
              "    </tr>\n",
              "  </thead>\n",
              "  <tbody>\n",
              "    <tr>\n",
              "      <th>1</th>\n",
              "      <td>2</td>\n",
              "      <td>홍길동</td>\n",
              "      <td>2020-03-02</td>\n",
              "      <td>75.7</td>\n",
              "      <td>kg</td>\n",
              "      <td>김현경</td>\n",
              "      <td>관악구</td>\n",
              "    </tr>\n",
              "    <tr>\n",
              "      <th>2</th>\n",
              "      <td>3</td>\n",
              "      <td>홍길동</td>\n",
              "      <td>2020-03-03</td>\n",
              "      <td>76.0</td>\n",
              "      <td>kg</td>\n",
              "      <td>최현경</td>\n",
              "      <td>여의도</td>\n",
              "    </tr>\n",
              "    <tr>\n",
              "      <th>4</th>\n",
              "      <td>5</td>\n",
              "      <td>홍길동</td>\n",
              "      <td>2020-03-05</td>\n",
              "      <td>76.2</td>\n",
              "      <td>kg</td>\n",
              "      <td>김현경</td>\n",
              "      <td>강남구</td>\n",
              "    </tr>\n",
              "    <tr>\n",
              "      <th>5</th>\n",
              "      <td>6</td>\n",
              "      <td>홍길동</td>\n",
              "      <td>2020-03-06</td>\n",
              "      <td>75.7</td>\n",
              "      <td>kg</td>\n",
              "      <td>최현경</td>\n",
              "      <td>서초구</td>\n",
              "    </tr>\n",
              "  </tbody>\n",
              "</table>\n",
              "</div>"
            ],
            "text/plain": [
              "   회차   이름         측정일   몸무게  단위   담당   지점\n",
              "1   2  홍길동  2020-03-02  75.7  kg  김현경  관악구\n",
              "2   3  홍길동  2020-03-03  76.0  kg  최현경  여의도\n",
              "4   5  홍길동  2020-03-05  76.2  kg  김현경  강남구\n",
              "5   6  홍길동  2020-03-06  75.7  kg  최현경  서초구"
            ]
          },
          "metadata": {},
          "execution_count": 102
        }
      ]
    },
    {
      "cell_type": "markdown",
      "source": [
        "### 중복 데이터 검사\n",
        "- duplicated를 이용해서 중복된 자료를 검사"
      ],
      "metadata": {
        "id": "cLxZIIKxpyr7"
      }
    },
    {
      "cell_type": "code",
      "source": [
        "rawData.duplicated(subset=['지점'])"
      ],
      "metadata": {
        "colab": {
          "base_uri": "https://localhost:8080/"
        },
        "id": "Rj2smZi5p3cI",
        "outputId": "2e947556-85fc-4bd2-d0ff-c18f9263d656"
      },
      "execution_count": null,
      "outputs": [
        {
          "output_type": "execute_result",
          "data": {
            "text/plain": [
              "0    False\n",
              "1     True\n",
              "2    False\n",
              "3     True\n",
              "4    False\n",
              "5    False\n",
              "6     True\n",
              "7     True\n",
              "8     True\n",
              "dtype: bool"
            ]
          },
          "metadata": {},
          "execution_count": 104
        }
      ]
    },
    {
      "cell_type": "code",
      "source": [
        "rawData[ rawData.duplicated(subset=['지점'], keep=False) ]"
      ],
      "metadata": {
        "colab": {
          "base_uri": "https://localhost:8080/",
          "height": 300
        },
        "id": "eoodsQEUqAkX",
        "outputId": "416b5b38-47b0-4d21-99d5-99323283aa1b"
      },
      "execution_count": null,
      "outputs": [
        {
          "output_type": "execute_result",
          "data": {
            "text/html": [
              "<div>\n",
              "<style scoped>\n",
              "    .dataframe tbody tr th:only-of-type {\n",
              "        vertical-align: middle;\n",
              "    }\n",
              "\n",
              "    .dataframe tbody tr th {\n",
              "        vertical-align: top;\n",
              "    }\n",
              "\n",
              "    .dataframe thead th {\n",
              "        text-align: right;\n",
              "    }\n",
              "</style>\n",
              "<table border=\"1\" class=\"dataframe\">\n",
              "  <thead>\n",
              "    <tr style=\"text-align: right;\">\n",
              "      <th></th>\n",
              "      <th>회차</th>\n",
              "      <th>이름</th>\n",
              "      <th>측정일</th>\n",
              "      <th>몸무게</th>\n",
              "      <th>단위</th>\n",
              "      <th>담당</th>\n",
              "      <th>지점</th>\n",
              "    </tr>\n",
              "  </thead>\n",
              "  <tbody>\n",
              "    <tr>\n",
              "      <th>0</th>\n",
              "      <td>1</td>\n",
              "      <td>홍길동</td>\n",
              "      <td>2020-03-01</td>\n",
              "      <td>76.4</td>\n",
              "      <td>kg</td>\n",
              "      <td>박현경</td>\n",
              "      <td>관악구</td>\n",
              "    </tr>\n",
              "    <tr>\n",
              "      <th>1</th>\n",
              "      <td>2</td>\n",
              "      <td>홍길동</td>\n",
              "      <td>2020-03-02</td>\n",
              "      <td>75.7</td>\n",
              "      <td>kg</td>\n",
              "      <td>김현경</td>\n",
              "      <td>관악구</td>\n",
              "    </tr>\n",
              "    <tr>\n",
              "      <th>2</th>\n",
              "      <td>3</td>\n",
              "      <td>홍길동</td>\n",
              "      <td>2020-03-03</td>\n",
              "      <td>76.0</td>\n",
              "      <td>kg</td>\n",
              "      <td>최현경</td>\n",
              "      <td>여의도</td>\n",
              "    </tr>\n",
              "    <tr>\n",
              "      <th>3</th>\n",
              "      <td>4</td>\n",
              "      <td>홍길동</td>\n",
              "      <td>2020-03-04</td>\n",
              "      <td>NaN</td>\n",
              "      <td>kg</td>\n",
              "      <td>최현경</td>\n",
              "      <td>여의도</td>\n",
              "    </tr>\n",
              "    <tr>\n",
              "      <th>5</th>\n",
              "      <td>6</td>\n",
              "      <td>홍길동</td>\n",
              "      <td>2020-03-06</td>\n",
              "      <td>75.7</td>\n",
              "      <td>kg</td>\n",
              "      <td>최현경</td>\n",
              "      <td>서초구</td>\n",
              "    </tr>\n",
              "    <tr>\n",
              "      <th>6</th>\n",
              "      <td>7</td>\n",
              "      <td>홍길동</td>\n",
              "      <td>2020-03-07</td>\n",
              "      <td>NaN</td>\n",
              "      <td>kg</td>\n",
              "      <td>최현경</td>\n",
              "      <td>서초구</td>\n",
              "    </tr>\n",
              "    <tr>\n",
              "      <th>7</th>\n",
              "      <td>8</td>\n",
              "      <td>홍길동</td>\n",
              "      <td>2020-03-08</td>\n",
              "      <td>NaN</td>\n",
              "      <td>kg</td>\n",
              "      <td>김현경</td>\n",
              "      <td>서초구</td>\n",
              "    </tr>\n",
              "    <tr>\n",
              "      <th>8</th>\n",
              "      <td>9</td>\n",
              "      <td>홍길동</td>\n",
              "      <td>2020-03-09</td>\n",
              "      <td>75.0</td>\n",
              "      <td>kg</td>\n",
              "      <td>김현경</td>\n",
              "      <td>서초구</td>\n",
              "    </tr>\n",
              "  </tbody>\n",
              "</table>\n",
              "</div>"
            ],
            "text/plain": [
              "   회차   이름         측정일   몸무게  단위   담당   지점\n",
              "0   1  홍길동  2020-03-01  76.4  kg  박현경  관악구\n",
              "1   2  홍길동  2020-03-02  75.7  kg  김현경  관악구\n",
              "2   3  홍길동  2020-03-03  76.0  kg  최현경  여의도\n",
              "3   4  홍길동  2020-03-04   NaN  kg  최현경  여의도\n",
              "5   6  홍길동  2020-03-06  75.7  kg  최현경  서초구\n",
              "6   7  홍길동  2020-03-07   NaN  kg  최현경  서초구\n",
              "7   8  홍길동  2020-03-08   NaN  kg  김현경  서초구\n",
              "8   9  홍길동  2020-03-09  75.0  kg  김현경  서초구"
            ]
          },
          "metadata": {},
          "execution_count": 106
        }
      ]
    },
    {
      "cell_type": "markdown",
      "source": [
        "## 통계분석\n",
        "- 판다스에서 제공하는 통계관련된 기능들\n",
        "  - pivot(엑셀에서 사용하는 피봇 기능과 동일한 기능)\n",
        "  - crosstab\n",
        "  - 그룹화"
      ],
      "metadata": {
        "id": "IHTE42frq3E4"
      }
    },
    {
      "cell_type": "code",
      "source": [
        "# 지점별 몸무게 평균\n",
        "pd.pivot_table( rawData, index='지점', values='몸무게')"
      ],
      "metadata": {
        "colab": {
          "base_uri": "https://localhost:8080/",
          "height": 206
        },
        "id": "rfsoS_jprH1U",
        "outputId": "66445c30-e3b7-4559-b865-d244bf7ee2b4"
      },
      "execution_count": null,
      "outputs": [
        {
          "output_type": "execute_result",
          "data": {
            "text/html": [
              "<div>\n",
              "<style scoped>\n",
              "    .dataframe tbody tr th:only-of-type {\n",
              "        vertical-align: middle;\n",
              "    }\n",
              "\n",
              "    .dataframe tbody tr th {\n",
              "        vertical-align: top;\n",
              "    }\n",
              "\n",
              "    .dataframe thead th {\n",
              "        text-align: right;\n",
              "    }\n",
              "</style>\n",
              "<table border=\"1\" class=\"dataframe\">\n",
              "  <thead>\n",
              "    <tr style=\"text-align: right;\">\n",
              "      <th></th>\n",
              "      <th>몸무게</th>\n",
              "    </tr>\n",
              "    <tr>\n",
              "      <th>지점</th>\n",
              "      <th></th>\n",
              "    </tr>\n",
              "  </thead>\n",
              "  <tbody>\n",
              "    <tr>\n",
              "      <th>강남구</th>\n",
              "      <td>76.20</td>\n",
              "    </tr>\n",
              "    <tr>\n",
              "      <th>관악구</th>\n",
              "      <td>76.05</td>\n",
              "    </tr>\n",
              "    <tr>\n",
              "      <th>서초구</th>\n",
              "      <td>75.35</td>\n",
              "    </tr>\n",
              "    <tr>\n",
              "      <th>여의도</th>\n",
              "      <td>76.00</td>\n",
              "    </tr>\n",
              "  </tbody>\n",
              "</table>\n",
              "</div>"
            ],
            "text/plain": [
              "       몸무게\n",
              "지점        \n",
              "강남구  76.20\n",
              "관악구  76.05\n",
              "서초구  75.35\n",
              "여의도  76.00"
            ]
          },
          "metadata": {},
          "execution_count": 110
        }
      ]
    },
    {
      "cell_type": "code",
      "source": [
        "# 지점별 몸무게 총합\n",
        "pd.pivot_table( rawData, index='지점', values='몸무게', aggfunc=np.sum)"
      ],
      "metadata": {
        "colab": {
          "base_uri": "https://localhost:8080/",
          "height": 206
        },
        "id": "o70fKPnkrgQA",
        "outputId": "9802bab7-8852-489a-bbf3-e0caa201309a"
      },
      "execution_count": null,
      "outputs": [
        {
          "output_type": "execute_result",
          "data": {
            "text/html": [
              "<div>\n",
              "<style scoped>\n",
              "    .dataframe tbody tr th:only-of-type {\n",
              "        vertical-align: middle;\n",
              "    }\n",
              "\n",
              "    .dataframe tbody tr th {\n",
              "        vertical-align: top;\n",
              "    }\n",
              "\n",
              "    .dataframe thead th {\n",
              "        text-align: right;\n",
              "    }\n",
              "</style>\n",
              "<table border=\"1\" class=\"dataframe\">\n",
              "  <thead>\n",
              "    <tr style=\"text-align: right;\">\n",
              "      <th></th>\n",
              "      <th>몸무게</th>\n",
              "    </tr>\n",
              "    <tr>\n",
              "      <th>지점</th>\n",
              "      <th></th>\n",
              "    </tr>\n",
              "  </thead>\n",
              "  <tbody>\n",
              "    <tr>\n",
              "      <th>강남구</th>\n",
              "      <td>76.2</td>\n",
              "    </tr>\n",
              "    <tr>\n",
              "      <th>관악구</th>\n",
              "      <td>152.1</td>\n",
              "    </tr>\n",
              "    <tr>\n",
              "      <th>서초구</th>\n",
              "      <td>150.7</td>\n",
              "    </tr>\n",
              "    <tr>\n",
              "      <th>여의도</th>\n",
              "      <td>76.0</td>\n",
              "    </tr>\n",
              "  </tbody>\n",
              "</table>\n",
              "</div>"
            ],
            "text/plain": [
              "       몸무게\n",
              "지점        \n",
              "강남구   76.2\n",
              "관악구  152.1\n",
              "서초구  150.7\n",
              "여의도   76.0"
            ]
          },
          "metadata": {},
          "execution_count": 111
        }
      ]
    },
    {
      "cell_type": "code",
      "source": [
        "# 지점별 담당자별 몸무게의 평균\n",
        "pd.pivot_table( rawData, index=['지점', '담당'], values='몸무게')"
      ],
      "metadata": {
        "colab": {
          "base_uri": "https://localhost:8080/",
          "height": 269
        },
        "id": "tAbSxRSXrp8D",
        "outputId": "358dfaa6-906d-4445-d4ed-0d297ad21e2d"
      },
      "execution_count": null,
      "outputs": [
        {
          "output_type": "execute_result",
          "data": {
            "text/html": [
              "<div>\n",
              "<style scoped>\n",
              "    .dataframe tbody tr th:only-of-type {\n",
              "        vertical-align: middle;\n",
              "    }\n",
              "\n",
              "    .dataframe tbody tr th {\n",
              "        vertical-align: top;\n",
              "    }\n",
              "\n",
              "    .dataframe thead th {\n",
              "        text-align: right;\n",
              "    }\n",
              "</style>\n",
              "<table border=\"1\" class=\"dataframe\">\n",
              "  <thead>\n",
              "    <tr style=\"text-align: right;\">\n",
              "      <th></th>\n",
              "      <th></th>\n",
              "      <th>몸무게</th>\n",
              "    </tr>\n",
              "    <tr>\n",
              "      <th>지점</th>\n",
              "      <th>담당</th>\n",
              "      <th></th>\n",
              "    </tr>\n",
              "  </thead>\n",
              "  <tbody>\n",
              "    <tr>\n",
              "      <th>강남구</th>\n",
              "      <th>김현경</th>\n",
              "      <td>76.2</td>\n",
              "    </tr>\n",
              "    <tr>\n",
              "      <th rowspan=\"2\" valign=\"top\">관악구</th>\n",
              "      <th>김현경</th>\n",
              "      <td>75.7</td>\n",
              "    </tr>\n",
              "    <tr>\n",
              "      <th>박현경</th>\n",
              "      <td>76.4</td>\n",
              "    </tr>\n",
              "    <tr>\n",
              "      <th rowspan=\"2\" valign=\"top\">서초구</th>\n",
              "      <th>김현경</th>\n",
              "      <td>75.0</td>\n",
              "    </tr>\n",
              "    <tr>\n",
              "      <th>최현경</th>\n",
              "      <td>75.7</td>\n",
              "    </tr>\n",
              "    <tr>\n",
              "      <th>여의도</th>\n",
              "      <th>최현경</th>\n",
              "      <td>76.0</td>\n",
              "    </tr>\n",
              "  </tbody>\n",
              "</table>\n",
              "</div>"
            ],
            "text/plain": [
              "          몸무게\n",
              "지점  담당       \n",
              "강남구 김현경  76.2\n",
              "관악구 김현경  75.7\n",
              "    박현경  76.4\n",
              "서초구 김현경  75.0\n",
              "    최현경  75.7\n",
              "여의도 최현경  76.0"
            ]
          },
          "metadata": {},
          "execution_count": 112
        }
      ]
    },
    {
      "cell_type": "code",
      "source": [
        "pd.crosstab( index=rawData['지점'], columns=rawData['담당'], values=rawData['몸무게'], aggfunc=np.mean)"
      ],
      "metadata": {
        "colab": {
          "base_uri": "https://localhost:8080/",
          "height": 206
        },
        "id": "G3kNsU3jr2pm",
        "outputId": "583f36e4-44ca-4d34-8966-f063866df76d"
      },
      "execution_count": null,
      "outputs": [
        {
          "output_type": "execute_result",
          "data": {
            "text/html": [
              "<div>\n",
              "<style scoped>\n",
              "    .dataframe tbody tr th:only-of-type {\n",
              "        vertical-align: middle;\n",
              "    }\n",
              "\n",
              "    .dataframe tbody tr th {\n",
              "        vertical-align: top;\n",
              "    }\n",
              "\n",
              "    .dataframe thead th {\n",
              "        text-align: right;\n",
              "    }\n",
              "</style>\n",
              "<table border=\"1\" class=\"dataframe\">\n",
              "  <thead>\n",
              "    <tr style=\"text-align: right;\">\n",
              "      <th>담당</th>\n",
              "      <th>김현경</th>\n",
              "      <th>박현경</th>\n",
              "      <th>최현경</th>\n",
              "    </tr>\n",
              "    <tr>\n",
              "      <th>지점</th>\n",
              "      <th></th>\n",
              "      <th></th>\n",
              "      <th></th>\n",
              "    </tr>\n",
              "  </thead>\n",
              "  <tbody>\n",
              "    <tr>\n",
              "      <th>강남구</th>\n",
              "      <td>76.2</td>\n",
              "      <td>NaN</td>\n",
              "      <td>NaN</td>\n",
              "    </tr>\n",
              "    <tr>\n",
              "      <th>관악구</th>\n",
              "      <td>75.7</td>\n",
              "      <td>76.4</td>\n",
              "      <td>NaN</td>\n",
              "    </tr>\n",
              "    <tr>\n",
              "      <th>서초구</th>\n",
              "      <td>75.0</td>\n",
              "      <td>NaN</td>\n",
              "      <td>75.7</td>\n",
              "    </tr>\n",
              "    <tr>\n",
              "      <th>여의도</th>\n",
              "      <td>NaN</td>\n",
              "      <td>NaN</td>\n",
              "      <td>76.0</td>\n",
              "    </tr>\n",
              "  </tbody>\n",
              "</table>\n",
              "</div>"
            ],
            "text/plain": [
              "담당    김현경   박현경   최현경\n",
              "지점                   \n",
              "강남구  76.2   NaN   NaN\n",
              "관악구  75.7  76.4   NaN\n",
              "서초구  75.0   NaN  75.7\n",
              "여의도   NaN   NaN  76.0"
            ]
          },
          "metadata": {},
          "execution_count": 114
        }
      ]
    },
    {
      "cell_type": "code",
      "source": [
        "# 그룹화를 통한 통계적 수치\n",
        "# 그룹 객체를 반환\n",
        "rawData.groupby(['지점'])"
      ],
      "metadata": {
        "colab": {
          "base_uri": "https://localhost:8080/"
        },
        "id": "WIdHseN_snlJ",
        "outputId": "ee27007f-2c4b-497b-8b5d-bd774be85ccd"
      },
      "execution_count": null,
      "outputs": [
        {
          "output_type": "execute_result",
          "data": {
            "text/plain": [
              "<pandas.core.groupby.generic.DataFrameGroupBy object at 0x7f92d7c1bc50>"
            ]
          },
          "metadata": {},
          "execution_count": 115
        }
      ]
    },
    {
      "cell_type": "code",
      "source": [
        "# 그룹화를 통한 지점별 몸무게 평균\n",
        "rawData.groupby(['지점'])['몸무게'].mean()"
      ],
      "metadata": {
        "colab": {
          "base_uri": "https://localhost:8080/"
        },
        "id": "GjqboAZhs229",
        "outputId": "cb55c21b-5ce8-4983-b8ff-65ef0e73c249"
      },
      "execution_count": null,
      "outputs": [
        {
          "output_type": "execute_result",
          "data": {
            "text/plain": [
              "지점\n",
              "강남구    76.20\n",
              "관악구    76.05\n",
              "서초구    75.35\n",
              "여의도    76.00\n",
              "Name: 몸무게, dtype: float64"
            ]
          },
          "metadata": {},
          "execution_count": 116
        }
      ]
    },
    {
      "cell_type": "code",
      "source": [
        "# 지점별 담당별 몸무게 평균\n",
        "rawData.groupby(['지점', '담당'])[['몸무게']].mean()"
      ],
      "metadata": {
        "colab": {
          "base_uri": "https://localhost:8080/",
          "height": 269
        },
        "id": "jGgFNl4YtG-s",
        "outputId": "a0c3c163-05f6-4a09-de08-4ef98ef1a367"
      },
      "execution_count": null,
      "outputs": [
        {
          "output_type": "execute_result",
          "data": {
            "text/html": [
              "<div>\n",
              "<style scoped>\n",
              "    .dataframe tbody tr th:only-of-type {\n",
              "        vertical-align: middle;\n",
              "    }\n",
              "\n",
              "    .dataframe tbody tr th {\n",
              "        vertical-align: top;\n",
              "    }\n",
              "\n",
              "    .dataframe thead th {\n",
              "        text-align: right;\n",
              "    }\n",
              "</style>\n",
              "<table border=\"1\" class=\"dataframe\">\n",
              "  <thead>\n",
              "    <tr style=\"text-align: right;\">\n",
              "      <th></th>\n",
              "      <th></th>\n",
              "      <th>몸무게</th>\n",
              "    </tr>\n",
              "    <tr>\n",
              "      <th>지점</th>\n",
              "      <th>담당</th>\n",
              "      <th></th>\n",
              "    </tr>\n",
              "  </thead>\n",
              "  <tbody>\n",
              "    <tr>\n",
              "      <th>강남구</th>\n",
              "      <th>김현경</th>\n",
              "      <td>76.2</td>\n",
              "    </tr>\n",
              "    <tr>\n",
              "      <th rowspan=\"2\" valign=\"top\">관악구</th>\n",
              "      <th>김현경</th>\n",
              "      <td>75.7</td>\n",
              "    </tr>\n",
              "    <tr>\n",
              "      <th>박현경</th>\n",
              "      <td>76.4</td>\n",
              "    </tr>\n",
              "    <tr>\n",
              "      <th rowspan=\"2\" valign=\"top\">서초구</th>\n",
              "      <th>김현경</th>\n",
              "      <td>75.0</td>\n",
              "    </tr>\n",
              "    <tr>\n",
              "      <th>최현경</th>\n",
              "      <td>75.7</td>\n",
              "    </tr>\n",
              "    <tr>\n",
              "      <th>여의도</th>\n",
              "      <th>최현경</th>\n",
              "      <td>76.0</td>\n",
              "    </tr>\n",
              "  </tbody>\n",
              "</table>\n",
              "</div>"
            ],
            "text/plain": [
              "          몸무게\n",
              "지점  담당       \n",
              "강남구 김현경  76.2\n",
              "관악구 김현경  75.7\n",
              "    박현경  76.4\n",
              "서초구 김현경  75.0\n",
              "    최현경  75.7\n",
              "여의도 최현경  76.0"
            ]
          },
          "metadata": {},
          "execution_count": 118
        }
      ]
    },
    {
      "cell_type": "code",
      "source": [
        "# 컬럼별로 집계를 다르게 하고 싶다면\n",
        "rawData.groupby('지점').agg({\n",
        "  '몸무게': 'mean', '담당': 'count'\n",
        "})"
      ],
      "metadata": {
        "colab": {
          "base_uri": "https://localhost:8080/",
          "height": 206
        },
        "id": "7tOsoiqhta1p",
        "outputId": "a5d01d8a-ad05-457e-8ab2-6d15daa946b6"
      },
      "execution_count": null,
      "outputs": [
        {
          "output_type": "execute_result",
          "data": {
            "text/html": [
              "<div>\n",
              "<style scoped>\n",
              "    .dataframe tbody tr th:only-of-type {\n",
              "        vertical-align: middle;\n",
              "    }\n",
              "\n",
              "    .dataframe tbody tr th {\n",
              "        vertical-align: top;\n",
              "    }\n",
              "\n",
              "    .dataframe thead th {\n",
              "        text-align: right;\n",
              "    }\n",
              "</style>\n",
              "<table border=\"1\" class=\"dataframe\">\n",
              "  <thead>\n",
              "    <tr style=\"text-align: right;\">\n",
              "      <th></th>\n",
              "      <th>몸무게</th>\n",
              "      <th>담당</th>\n",
              "    </tr>\n",
              "    <tr>\n",
              "      <th>지점</th>\n",
              "      <th></th>\n",
              "      <th></th>\n",
              "    </tr>\n",
              "  </thead>\n",
              "  <tbody>\n",
              "    <tr>\n",
              "      <th>강남구</th>\n",
              "      <td>76.20</td>\n",
              "      <td>1</td>\n",
              "    </tr>\n",
              "    <tr>\n",
              "      <th>관악구</th>\n",
              "      <td>76.05</td>\n",
              "      <td>2</td>\n",
              "    </tr>\n",
              "    <tr>\n",
              "      <th>서초구</th>\n",
              "      <td>75.35</td>\n",
              "      <td>4</td>\n",
              "    </tr>\n",
              "    <tr>\n",
              "      <th>여의도</th>\n",
              "      <td>76.00</td>\n",
              "      <td>2</td>\n",
              "    </tr>\n",
              "  </tbody>\n",
              "</table>\n",
              "</div>"
            ],
            "text/plain": [
              "       몸무게  담당\n",
              "지점            \n",
              "강남구  76.20   1\n",
              "관악구  76.05   2\n",
              "서초구  75.35   4\n",
              "여의도  76.00   2"
            ]
          },
          "metadata": {},
          "execution_count": 123
        }
      ]
    },
    {
      "cell_type": "markdown",
      "source": [
        "# 데이터 프레임 조작하기\n",
        "- 추가, 수정, 삭제"
      ],
      "metadata": {
        "id": "xcsFZt8MyN3y"
      }
    },
    {
      "cell_type": "markdown",
      "source": [
        "## 컬럼의 추가와 수정\n",
        "- 컬럼을 추가하거나, 수정하는데는 큰 기능이 필요하지 않습니다. "
      ],
      "metadata": {
        "id": "izFBsgEGyS0R"
      }
    },
    {
      "cell_type": "code",
      "source": [
        "# 데이터프레임에 컬럼이 존재하지 않으면 새로 생성\n",
        "rawData['지역'] = '서울'\n",
        "rawData"
      ],
      "metadata": {
        "colab": {
          "base_uri": "https://localhost:8080/",
          "height": 331
        },
        "id": "VATL3169yZce",
        "outputId": "6d16caea-edfc-4076-e5ab-e0692308d916"
      },
      "execution_count": null,
      "outputs": [
        {
          "output_type": "execute_result",
          "data": {
            "text/html": [
              "<div>\n",
              "<style scoped>\n",
              "    .dataframe tbody tr th:only-of-type {\n",
              "        vertical-align: middle;\n",
              "    }\n",
              "\n",
              "    .dataframe tbody tr th {\n",
              "        vertical-align: top;\n",
              "    }\n",
              "\n",
              "    .dataframe thead th {\n",
              "        text-align: right;\n",
              "    }\n",
              "</style>\n",
              "<table border=\"1\" class=\"dataframe\">\n",
              "  <thead>\n",
              "    <tr style=\"text-align: right;\">\n",
              "      <th></th>\n",
              "      <th>회차</th>\n",
              "      <th>이름</th>\n",
              "      <th>측정일</th>\n",
              "      <th>몸무게</th>\n",
              "      <th>단위</th>\n",
              "      <th>담당</th>\n",
              "      <th>지점</th>\n",
              "      <th>지역</th>\n",
              "    </tr>\n",
              "  </thead>\n",
              "  <tbody>\n",
              "    <tr>\n",
              "      <th>0</th>\n",
              "      <td>1</td>\n",
              "      <td>홍길동</td>\n",
              "      <td>2020-03-01</td>\n",
              "      <td>76.4</td>\n",
              "      <td>kg</td>\n",
              "      <td>박현경</td>\n",
              "      <td>관악구</td>\n",
              "      <td>서울</td>\n",
              "    </tr>\n",
              "    <tr>\n",
              "      <th>1</th>\n",
              "      <td>2</td>\n",
              "      <td>홍길동</td>\n",
              "      <td>2020-03-02</td>\n",
              "      <td>75.7</td>\n",
              "      <td>kg</td>\n",
              "      <td>김현경</td>\n",
              "      <td>관악구</td>\n",
              "      <td>서울</td>\n",
              "    </tr>\n",
              "    <tr>\n",
              "      <th>2</th>\n",
              "      <td>3</td>\n",
              "      <td>홍길동</td>\n",
              "      <td>2020-03-03</td>\n",
              "      <td>76.0</td>\n",
              "      <td>kg</td>\n",
              "      <td>최현경</td>\n",
              "      <td>여의도</td>\n",
              "      <td>서울</td>\n",
              "    </tr>\n",
              "    <tr>\n",
              "      <th>3</th>\n",
              "      <td>4</td>\n",
              "      <td>홍길동</td>\n",
              "      <td>2020-03-04</td>\n",
              "      <td>NaN</td>\n",
              "      <td>kg</td>\n",
              "      <td>최현경</td>\n",
              "      <td>여의도</td>\n",
              "      <td>서울</td>\n",
              "    </tr>\n",
              "    <tr>\n",
              "      <th>4</th>\n",
              "      <td>5</td>\n",
              "      <td>홍길동</td>\n",
              "      <td>2020-03-05</td>\n",
              "      <td>76.2</td>\n",
              "      <td>kg</td>\n",
              "      <td>김현경</td>\n",
              "      <td>강남구</td>\n",
              "      <td>서울</td>\n",
              "    </tr>\n",
              "    <tr>\n",
              "      <th>5</th>\n",
              "      <td>6</td>\n",
              "      <td>홍길동</td>\n",
              "      <td>2020-03-06</td>\n",
              "      <td>75.7</td>\n",
              "      <td>kg</td>\n",
              "      <td>최현경</td>\n",
              "      <td>서초구</td>\n",
              "      <td>서울</td>\n",
              "    </tr>\n",
              "    <tr>\n",
              "      <th>6</th>\n",
              "      <td>7</td>\n",
              "      <td>홍길동</td>\n",
              "      <td>2020-03-07</td>\n",
              "      <td>NaN</td>\n",
              "      <td>kg</td>\n",
              "      <td>최현경</td>\n",
              "      <td>서초구</td>\n",
              "      <td>서울</td>\n",
              "    </tr>\n",
              "    <tr>\n",
              "      <th>7</th>\n",
              "      <td>8</td>\n",
              "      <td>홍길동</td>\n",
              "      <td>2020-03-08</td>\n",
              "      <td>NaN</td>\n",
              "      <td>kg</td>\n",
              "      <td>김현경</td>\n",
              "      <td>서초구</td>\n",
              "      <td>서울</td>\n",
              "    </tr>\n",
              "    <tr>\n",
              "      <th>8</th>\n",
              "      <td>9</td>\n",
              "      <td>홍길동</td>\n",
              "      <td>2020-03-09</td>\n",
              "      <td>75.0</td>\n",
              "      <td>kg</td>\n",
              "      <td>김현경</td>\n",
              "      <td>서초구</td>\n",
              "      <td>서울</td>\n",
              "    </tr>\n",
              "  </tbody>\n",
              "</table>\n",
              "</div>"
            ],
            "text/plain": [
              "   회차   이름         측정일   몸무게  단위   담당   지점  지역\n",
              "0   1  홍길동  2020-03-01  76.4  kg  박현경  관악구  서울\n",
              "1   2  홍길동  2020-03-02  75.7  kg  김현경  관악구  서울\n",
              "2   3  홍길동  2020-03-03  76.0  kg  최현경  여의도  서울\n",
              "3   4  홍길동  2020-03-04   NaN  kg  최현경  여의도  서울\n",
              "4   5  홍길동  2020-03-05  76.2  kg  김현경  강남구  서울\n",
              "5   6  홍길동  2020-03-06  75.7  kg  최현경  서초구  서울\n",
              "6   7  홍길동  2020-03-07   NaN  kg  최현경  서초구  서울\n",
              "7   8  홍길동  2020-03-08   NaN  kg  김현경  서초구  서울\n",
              "8   9  홍길동  2020-03-09  75.0  kg  김현경  서초구  서울"
            ]
          },
          "metadata": {},
          "execution_count": 126
        }
      ]
    },
    {
      "cell_type": "code",
      "source": [
        "# 해당 컬럼이 존재하면 수정이 됩니다.\n",
        "rawData['지역'] = 'Seoul'\n",
        "rawData"
      ],
      "metadata": {
        "colab": {
          "base_uri": "https://localhost:8080/",
          "height": 331
        },
        "id": "2sm62_ngyoH7",
        "outputId": "24b6db21-ae1d-4a2b-b4a2-d07a25dffdd2"
      },
      "execution_count": null,
      "outputs": [
        {
          "output_type": "execute_result",
          "data": {
            "text/html": [
              "<div>\n",
              "<style scoped>\n",
              "    .dataframe tbody tr th:only-of-type {\n",
              "        vertical-align: middle;\n",
              "    }\n",
              "\n",
              "    .dataframe tbody tr th {\n",
              "        vertical-align: top;\n",
              "    }\n",
              "\n",
              "    .dataframe thead th {\n",
              "        text-align: right;\n",
              "    }\n",
              "</style>\n",
              "<table border=\"1\" class=\"dataframe\">\n",
              "  <thead>\n",
              "    <tr style=\"text-align: right;\">\n",
              "      <th></th>\n",
              "      <th>회차</th>\n",
              "      <th>이름</th>\n",
              "      <th>측정일</th>\n",
              "      <th>몸무게</th>\n",
              "      <th>단위</th>\n",
              "      <th>담당</th>\n",
              "      <th>지점</th>\n",
              "      <th>지역</th>\n",
              "    </tr>\n",
              "  </thead>\n",
              "  <tbody>\n",
              "    <tr>\n",
              "      <th>0</th>\n",
              "      <td>1</td>\n",
              "      <td>홍길동</td>\n",
              "      <td>2020-03-01</td>\n",
              "      <td>76.4</td>\n",
              "      <td>kg</td>\n",
              "      <td>박현경</td>\n",
              "      <td>관악구</td>\n",
              "      <td>Seoul</td>\n",
              "    </tr>\n",
              "    <tr>\n",
              "      <th>1</th>\n",
              "      <td>2</td>\n",
              "      <td>홍길동</td>\n",
              "      <td>2020-03-02</td>\n",
              "      <td>75.7</td>\n",
              "      <td>kg</td>\n",
              "      <td>김현경</td>\n",
              "      <td>관악구</td>\n",
              "      <td>Seoul</td>\n",
              "    </tr>\n",
              "    <tr>\n",
              "      <th>2</th>\n",
              "      <td>3</td>\n",
              "      <td>홍길동</td>\n",
              "      <td>2020-03-03</td>\n",
              "      <td>76.0</td>\n",
              "      <td>kg</td>\n",
              "      <td>최현경</td>\n",
              "      <td>여의도</td>\n",
              "      <td>Seoul</td>\n",
              "    </tr>\n",
              "    <tr>\n",
              "      <th>3</th>\n",
              "      <td>4</td>\n",
              "      <td>홍길동</td>\n",
              "      <td>2020-03-04</td>\n",
              "      <td>NaN</td>\n",
              "      <td>kg</td>\n",
              "      <td>최현경</td>\n",
              "      <td>여의도</td>\n",
              "      <td>Seoul</td>\n",
              "    </tr>\n",
              "    <tr>\n",
              "      <th>4</th>\n",
              "      <td>5</td>\n",
              "      <td>홍길동</td>\n",
              "      <td>2020-03-05</td>\n",
              "      <td>76.2</td>\n",
              "      <td>kg</td>\n",
              "      <td>김현경</td>\n",
              "      <td>강남구</td>\n",
              "      <td>Seoul</td>\n",
              "    </tr>\n",
              "    <tr>\n",
              "      <th>5</th>\n",
              "      <td>6</td>\n",
              "      <td>홍길동</td>\n",
              "      <td>2020-03-06</td>\n",
              "      <td>75.7</td>\n",
              "      <td>kg</td>\n",
              "      <td>최현경</td>\n",
              "      <td>서초구</td>\n",
              "      <td>Seoul</td>\n",
              "    </tr>\n",
              "    <tr>\n",
              "      <th>6</th>\n",
              "      <td>7</td>\n",
              "      <td>홍길동</td>\n",
              "      <td>2020-03-07</td>\n",
              "      <td>NaN</td>\n",
              "      <td>kg</td>\n",
              "      <td>최현경</td>\n",
              "      <td>서초구</td>\n",
              "      <td>Seoul</td>\n",
              "    </tr>\n",
              "    <tr>\n",
              "      <th>7</th>\n",
              "      <td>8</td>\n",
              "      <td>홍길동</td>\n",
              "      <td>2020-03-08</td>\n",
              "      <td>NaN</td>\n",
              "      <td>kg</td>\n",
              "      <td>김현경</td>\n",
              "      <td>서초구</td>\n",
              "      <td>Seoul</td>\n",
              "    </tr>\n",
              "    <tr>\n",
              "      <th>8</th>\n",
              "      <td>9</td>\n",
              "      <td>홍길동</td>\n",
              "      <td>2020-03-09</td>\n",
              "      <td>75.0</td>\n",
              "      <td>kg</td>\n",
              "      <td>김현경</td>\n",
              "      <td>서초구</td>\n",
              "      <td>Seoul</td>\n",
              "    </tr>\n",
              "  </tbody>\n",
              "</table>\n",
              "</div>"
            ],
            "text/plain": [
              "   회차   이름         측정일   몸무게  단위   담당   지점     지역\n",
              "0   1  홍길동  2020-03-01  76.4  kg  박현경  관악구  Seoul\n",
              "1   2  홍길동  2020-03-02  75.7  kg  김현경  관악구  Seoul\n",
              "2   3  홍길동  2020-03-03  76.0  kg  최현경  여의도  Seoul\n",
              "3   4  홍길동  2020-03-04   NaN  kg  최현경  여의도  Seoul\n",
              "4   5  홍길동  2020-03-05  76.2  kg  김현경  강남구  Seoul\n",
              "5   6  홍길동  2020-03-06  75.7  kg  최현경  서초구  Seoul\n",
              "6   7  홍길동  2020-03-07   NaN  kg  최현경  서초구  Seoul\n",
              "7   8  홍길동  2020-03-08   NaN  kg  김현경  서초구  Seoul\n",
              "8   9  홍길동  2020-03-09  75.0  kg  김현경  서초구  Seoul"
            ]
          },
          "metadata": {},
          "execution_count": 127
        }
      ]
    },
    {
      "cell_type": "code",
      "source": [
        "# 조건에 맞게 컬럼을 만들어 봅시다. \n",
        "# 몸무게가 특정값 이상이면 '비만', 그렇지 않으면 '정상'을 갖는 '상태' 컬럼을 추가\n",
        "# 조건 검색과 함께 사용\n",
        "rawData.loc[ rawData['몸무게'] >= 76, '상태'] = '비만'\n",
        "rawData"
      ],
      "metadata": {
        "colab": {
          "base_uri": "https://localhost:8080/",
          "height": 331
        },
        "id": "Yp3SujLSzamz",
        "outputId": "3b9ec43c-26b1-4782-c226-ad14aa5b6c94"
      },
      "execution_count": null,
      "outputs": [
        {
          "output_type": "execute_result",
          "data": {
            "text/html": [
              "<div>\n",
              "<style scoped>\n",
              "    .dataframe tbody tr th:only-of-type {\n",
              "        vertical-align: middle;\n",
              "    }\n",
              "\n",
              "    .dataframe tbody tr th {\n",
              "        vertical-align: top;\n",
              "    }\n",
              "\n",
              "    .dataframe thead th {\n",
              "        text-align: right;\n",
              "    }\n",
              "</style>\n",
              "<table border=\"1\" class=\"dataframe\">\n",
              "  <thead>\n",
              "    <tr style=\"text-align: right;\">\n",
              "      <th></th>\n",
              "      <th>회차</th>\n",
              "      <th>이름</th>\n",
              "      <th>측정일</th>\n",
              "      <th>몸무게</th>\n",
              "      <th>단위</th>\n",
              "      <th>담당</th>\n",
              "      <th>지점</th>\n",
              "      <th>지역</th>\n",
              "      <th>상태</th>\n",
              "    </tr>\n",
              "  </thead>\n",
              "  <tbody>\n",
              "    <tr>\n",
              "      <th>0</th>\n",
              "      <td>1</td>\n",
              "      <td>홍길동</td>\n",
              "      <td>2020-03-01</td>\n",
              "      <td>76.4</td>\n",
              "      <td>kg</td>\n",
              "      <td>박현경</td>\n",
              "      <td>관악구</td>\n",
              "      <td>Seoul</td>\n",
              "      <td>비만</td>\n",
              "    </tr>\n",
              "    <tr>\n",
              "      <th>1</th>\n",
              "      <td>2</td>\n",
              "      <td>홍길동</td>\n",
              "      <td>2020-03-02</td>\n",
              "      <td>75.7</td>\n",
              "      <td>kg</td>\n",
              "      <td>김현경</td>\n",
              "      <td>관악구</td>\n",
              "      <td>Seoul</td>\n",
              "      <td>NaN</td>\n",
              "    </tr>\n",
              "    <tr>\n",
              "      <th>2</th>\n",
              "      <td>3</td>\n",
              "      <td>홍길동</td>\n",
              "      <td>2020-03-03</td>\n",
              "      <td>76.0</td>\n",
              "      <td>kg</td>\n",
              "      <td>최현경</td>\n",
              "      <td>여의도</td>\n",
              "      <td>Seoul</td>\n",
              "      <td>비만</td>\n",
              "    </tr>\n",
              "    <tr>\n",
              "      <th>3</th>\n",
              "      <td>4</td>\n",
              "      <td>홍길동</td>\n",
              "      <td>2020-03-04</td>\n",
              "      <td>NaN</td>\n",
              "      <td>kg</td>\n",
              "      <td>최현경</td>\n",
              "      <td>여의도</td>\n",
              "      <td>Seoul</td>\n",
              "      <td>NaN</td>\n",
              "    </tr>\n",
              "    <tr>\n",
              "      <th>4</th>\n",
              "      <td>5</td>\n",
              "      <td>홍길동</td>\n",
              "      <td>2020-03-05</td>\n",
              "      <td>76.2</td>\n",
              "      <td>kg</td>\n",
              "      <td>김현경</td>\n",
              "      <td>강남구</td>\n",
              "      <td>Seoul</td>\n",
              "      <td>비만</td>\n",
              "    </tr>\n",
              "    <tr>\n",
              "      <th>5</th>\n",
              "      <td>6</td>\n",
              "      <td>홍길동</td>\n",
              "      <td>2020-03-06</td>\n",
              "      <td>75.7</td>\n",
              "      <td>kg</td>\n",
              "      <td>최현경</td>\n",
              "      <td>서초구</td>\n",
              "      <td>Seoul</td>\n",
              "      <td>NaN</td>\n",
              "    </tr>\n",
              "    <tr>\n",
              "      <th>6</th>\n",
              "      <td>7</td>\n",
              "      <td>홍길동</td>\n",
              "      <td>2020-03-07</td>\n",
              "      <td>NaN</td>\n",
              "      <td>kg</td>\n",
              "      <td>최현경</td>\n",
              "      <td>서초구</td>\n",
              "      <td>Seoul</td>\n",
              "      <td>NaN</td>\n",
              "    </tr>\n",
              "    <tr>\n",
              "      <th>7</th>\n",
              "      <td>8</td>\n",
              "      <td>홍길동</td>\n",
              "      <td>2020-03-08</td>\n",
              "      <td>NaN</td>\n",
              "      <td>kg</td>\n",
              "      <td>김현경</td>\n",
              "      <td>서초구</td>\n",
              "      <td>Seoul</td>\n",
              "      <td>NaN</td>\n",
              "    </tr>\n",
              "    <tr>\n",
              "      <th>8</th>\n",
              "      <td>9</td>\n",
              "      <td>홍길동</td>\n",
              "      <td>2020-03-09</td>\n",
              "      <td>75.0</td>\n",
              "      <td>kg</td>\n",
              "      <td>김현경</td>\n",
              "      <td>서초구</td>\n",
              "      <td>Seoul</td>\n",
              "      <td>NaN</td>\n",
              "    </tr>\n",
              "  </tbody>\n",
              "</table>\n",
              "</div>"
            ],
            "text/plain": [
              "   회차   이름         측정일   몸무게  단위   담당   지점     지역   상태\n",
              "0   1  홍길동  2020-03-01  76.4  kg  박현경  관악구  Seoul   비만\n",
              "1   2  홍길동  2020-03-02  75.7  kg  김현경  관악구  Seoul  NaN\n",
              "2   3  홍길동  2020-03-03  76.0  kg  최현경  여의도  Seoul   비만\n",
              "3   4  홍길동  2020-03-04   NaN  kg  최현경  여의도  Seoul  NaN\n",
              "4   5  홍길동  2020-03-05  76.2  kg  김현경  강남구  Seoul   비만\n",
              "5   6  홍길동  2020-03-06  75.7  kg  최현경  서초구  Seoul  NaN\n",
              "6   7  홍길동  2020-03-07   NaN  kg  최현경  서초구  Seoul  NaN\n",
              "7   8  홍길동  2020-03-08   NaN  kg  김현경  서초구  Seoul  NaN\n",
              "8   9  홍길동  2020-03-09  75.0  kg  김현경  서초구  Seoul  NaN"
            ]
          },
          "metadata": {},
          "execution_count": 128
        }
      ]
    },
    {
      "cell_type": "code",
      "source": [
        "rawData.loc[ rawData['몸무게'] < 76, '상태'] = '정상'\n",
        "rawData"
      ],
      "metadata": {
        "colab": {
          "base_uri": "https://localhost:8080/",
          "height": 331
        },
        "id": "gyUpolrE08te",
        "outputId": "29c234de-9679-4a0f-aec2-4757f65841cc"
      },
      "execution_count": null,
      "outputs": [
        {
          "output_type": "execute_result",
          "data": {
            "text/html": [
              "<div>\n",
              "<style scoped>\n",
              "    .dataframe tbody tr th:only-of-type {\n",
              "        vertical-align: middle;\n",
              "    }\n",
              "\n",
              "    .dataframe tbody tr th {\n",
              "        vertical-align: top;\n",
              "    }\n",
              "\n",
              "    .dataframe thead th {\n",
              "        text-align: right;\n",
              "    }\n",
              "</style>\n",
              "<table border=\"1\" class=\"dataframe\">\n",
              "  <thead>\n",
              "    <tr style=\"text-align: right;\">\n",
              "      <th></th>\n",
              "      <th>회차</th>\n",
              "      <th>이름</th>\n",
              "      <th>측정일</th>\n",
              "      <th>몸무게</th>\n",
              "      <th>단위</th>\n",
              "      <th>담당</th>\n",
              "      <th>지점</th>\n",
              "      <th>지역</th>\n",
              "      <th>상태</th>\n",
              "    </tr>\n",
              "  </thead>\n",
              "  <tbody>\n",
              "    <tr>\n",
              "      <th>0</th>\n",
              "      <td>1</td>\n",
              "      <td>홍길동</td>\n",
              "      <td>2020-03-01</td>\n",
              "      <td>76.4</td>\n",
              "      <td>kg</td>\n",
              "      <td>박현경</td>\n",
              "      <td>관악구</td>\n",
              "      <td>Seoul</td>\n",
              "      <td>비만</td>\n",
              "    </tr>\n",
              "    <tr>\n",
              "      <th>1</th>\n",
              "      <td>2</td>\n",
              "      <td>홍길동</td>\n",
              "      <td>2020-03-02</td>\n",
              "      <td>75.7</td>\n",
              "      <td>kg</td>\n",
              "      <td>김현경</td>\n",
              "      <td>관악구</td>\n",
              "      <td>Seoul</td>\n",
              "      <td>정상</td>\n",
              "    </tr>\n",
              "    <tr>\n",
              "      <th>2</th>\n",
              "      <td>3</td>\n",
              "      <td>홍길동</td>\n",
              "      <td>2020-03-03</td>\n",
              "      <td>76.0</td>\n",
              "      <td>kg</td>\n",
              "      <td>최현경</td>\n",
              "      <td>여의도</td>\n",
              "      <td>Seoul</td>\n",
              "      <td>비만</td>\n",
              "    </tr>\n",
              "    <tr>\n",
              "      <th>3</th>\n",
              "      <td>4</td>\n",
              "      <td>홍길동</td>\n",
              "      <td>2020-03-04</td>\n",
              "      <td>NaN</td>\n",
              "      <td>kg</td>\n",
              "      <td>최현경</td>\n",
              "      <td>여의도</td>\n",
              "      <td>Seoul</td>\n",
              "      <td>NaN</td>\n",
              "    </tr>\n",
              "    <tr>\n",
              "      <th>4</th>\n",
              "      <td>5</td>\n",
              "      <td>홍길동</td>\n",
              "      <td>2020-03-05</td>\n",
              "      <td>76.2</td>\n",
              "      <td>kg</td>\n",
              "      <td>김현경</td>\n",
              "      <td>강남구</td>\n",
              "      <td>Seoul</td>\n",
              "      <td>비만</td>\n",
              "    </tr>\n",
              "    <tr>\n",
              "      <th>5</th>\n",
              "      <td>6</td>\n",
              "      <td>홍길동</td>\n",
              "      <td>2020-03-06</td>\n",
              "      <td>75.7</td>\n",
              "      <td>kg</td>\n",
              "      <td>최현경</td>\n",
              "      <td>서초구</td>\n",
              "      <td>Seoul</td>\n",
              "      <td>정상</td>\n",
              "    </tr>\n",
              "    <tr>\n",
              "      <th>6</th>\n",
              "      <td>7</td>\n",
              "      <td>홍길동</td>\n",
              "      <td>2020-03-07</td>\n",
              "      <td>NaN</td>\n",
              "      <td>kg</td>\n",
              "      <td>최현경</td>\n",
              "      <td>서초구</td>\n",
              "      <td>Seoul</td>\n",
              "      <td>NaN</td>\n",
              "    </tr>\n",
              "    <tr>\n",
              "      <th>7</th>\n",
              "      <td>8</td>\n",
              "      <td>홍길동</td>\n",
              "      <td>2020-03-08</td>\n",
              "      <td>NaN</td>\n",
              "      <td>kg</td>\n",
              "      <td>김현경</td>\n",
              "      <td>서초구</td>\n",
              "      <td>Seoul</td>\n",
              "      <td>NaN</td>\n",
              "    </tr>\n",
              "    <tr>\n",
              "      <th>8</th>\n",
              "      <td>9</td>\n",
              "      <td>홍길동</td>\n",
              "      <td>2020-03-09</td>\n",
              "      <td>75.0</td>\n",
              "      <td>kg</td>\n",
              "      <td>김현경</td>\n",
              "      <td>서초구</td>\n",
              "      <td>Seoul</td>\n",
              "      <td>정상</td>\n",
              "    </tr>\n",
              "  </tbody>\n",
              "</table>\n",
              "</div>"
            ],
            "text/plain": [
              "   회차   이름         측정일   몸무게  단위   담당   지점     지역   상태\n",
              "0   1  홍길동  2020-03-01  76.4  kg  박현경  관악구  Seoul   비만\n",
              "1   2  홍길동  2020-03-02  75.7  kg  김현경  관악구  Seoul   정상\n",
              "2   3  홍길동  2020-03-03  76.0  kg  최현경  여의도  Seoul   비만\n",
              "3   4  홍길동  2020-03-04   NaN  kg  최현경  여의도  Seoul  NaN\n",
              "4   5  홍길동  2020-03-05  76.2  kg  김현경  강남구  Seoul   비만\n",
              "5   6  홍길동  2020-03-06  75.7  kg  최현경  서초구  Seoul   정상\n",
              "6   7  홍길동  2020-03-07   NaN  kg  최현경  서초구  Seoul  NaN\n",
              "7   8  홍길동  2020-03-08   NaN  kg  김현경  서초구  Seoul  NaN\n",
              "8   9  홍길동  2020-03-09  75.0  kg  김현경  서초구  Seoul   정상"
            ]
          },
          "metadata": {},
          "execution_count": 129
        }
      ]
    },
    {
      "cell_type": "markdown",
      "source": [
        "## 컬럼 삭제\n",
        "- 삭제는 신중하게 진행해야 합니다. \n",
        "  - 귀찮아도 원본 데이터는 삭제하지 않는 것이 좋습니다. "
      ],
      "metadata": {
        "id": "yhmytpR31LmJ"
      }
    },
    {
      "cell_type": "code",
      "source": [
        "# drop을 이용해 특정 컬럼을 삭제할 수 있습니다. \n",
        "# drop을 사용하는 경우 특정 컬럼이 삭제된 새로운 데이터프레임을 반환\n",
        "rawData.drop(columns=['지역'])"
      ],
      "metadata": {
        "colab": {
          "base_uri": "https://localhost:8080/",
          "height": 331
        },
        "id": "AvgrYV-T1REZ",
        "outputId": "9cf8e463-3c70-4b5d-f10c-0d207a01cc45"
      },
      "execution_count": null,
      "outputs": [
        {
          "output_type": "execute_result",
          "data": {
            "text/html": [
              "<div>\n",
              "<style scoped>\n",
              "    .dataframe tbody tr th:only-of-type {\n",
              "        vertical-align: middle;\n",
              "    }\n",
              "\n",
              "    .dataframe tbody tr th {\n",
              "        vertical-align: top;\n",
              "    }\n",
              "\n",
              "    .dataframe thead th {\n",
              "        text-align: right;\n",
              "    }\n",
              "</style>\n",
              "<table border=\"1\" class=\"dataframe\">\n",
              "  <thead>\n",
              "    <tr style=\"text-align: right;\">\n",
              "      <th></th>\n",
              "      <th>회차</th>\n",
              "      <th>이름</th>\n",
              "      <th>측정일</th>\n",
              "      <th>몸무게</th>\n",
              "      <th>단위</th>\n",
              "      <th>담당</th>\n",
              "      <th>지점</th>\n",
              "      <th>상태</th>\n",
              "    </tr>\n",
              "  </thead>\n",
              "  <tbody>\n",
              "    <tr>\n",
              "      <th>0</th>\n",
              "      <td>1</td>\n",
              "      <td>홍길동</td>\n",
              "      <td>2020-03-01</td>\n",
              "      <td>76.4</td>\n",
              "      <td>kg</td>\n",
              "      <td>박현경</td>\n",
              "      <td>관악구</td>\n",
              "      <td>비만</td>\n",
              "    </tr>\n",
              "    <tr>\n",
              "      <th>1</th>\n",
              "      <td>2</td>\n",
              "      <td>홍길동</td>\n",
              "      <td>2020-03-02</td>\n",
              "      <td>75.7</td>\n",
              "      <td>kg</td>\n",
              "      <td>김현경</td>\n",
              "      <td>관악구</td>\n",
              "      <td>정상</td>\n",
              "    </tr>\n",
              "    <tr>\n",
              "      <th>2</th>\n",
              "      <td>3</td>\n",
              "      <td>홍길동</td>\n",
              "      <td>2020-03-03</td>\n",
              "      <td>76.0</td>\n",
              "      <td>kg</td>\n",
              "      <td>최현경</td>\n",
              "      <td>여의도</td>\n",
              "      <td>비만</td>\n",
              "    </tr>\n",
              "    <tr>\n",
              "      <th>3</th>\n",
              "      <td>4</td>\n",
              "      <td>홍길동</td>\n",
              "      <td>2020-03-04</td>\n",
              "      <td>NaN</td>\n",
              "      <td>kg</td>\n",
              "      <td>최현경</td>\n",
              "      <td>여의도</td>\n",
              "      <td>NaN</td>\n",
              "    </tr>\n",
              "    <tr>\n",
              "      <th>4</th>\n",
              "      <td>5</td>\n",
              "      <td>홍길동</td>\n",
              "      <td>2020-03-05</td>\n",
              "      <td>76.2</td>\n",
              "      <td>kg</td>\n",
              "      <td>김현경</td>\n",
              "      <td>강남구</td>\n",
              "      <td>비만</td>\n",
              "    </tr>\n",
              "    <tr>\n",
              "      <th>5</th>\n",
              "      <td>6</td>\n",
              "      <td>홍길동</td>\n",
              "      <td>2020-03-06</td>\n",
              "      <td>75.7</td>\n",
              "      <td>kg</td>\n",
              "      <td>최현경</td>\n",
              "      <td>서초구</td>\n",
              "      <td>정상</td>\n",
              "    </tr>\n",
              "    <tr>\n",
              "      <th>6</th>\n",
              "      <td>7</td>\n",
              "      <td>홍길동</td>\n",
              "      <td>2020-03-07</td>\n",
              "      <td>NaN</td>\n",
              "      <td>kg</td>\n",
              "      <td>최현경</td>\n",
              "      <td>서초구</td>\n",
              "      <td>NaN</td>\n",
              "    </tr>\n",
              "    <tr>\n",
              "      <th>7</th>\n",
              "      <td>8</td>\n",
              "      <td>홍길동</td>\n",
              "      <td>2020-03-08</td>\n",
              "      <td>NaN</td>\n",
              "      <td>kg</td>\n",
              "      <td>김현경</td>\n",
              "      <td>서초구</td>\n",
              "      <td>NaN</td>\n",
              "    </tr>\n",
              "    <tr>\n",
              "      <th>8</th>\n",
              "      <td>9</td>\n",
              "      <td>홍길동</td>\n",
              "      <td>2020-03-09</td>\n",
              "      <td>75.0</td>\n",
              "      <td>kg</td>\n",
              "      <td>김현경</td>\n",
              "      <td>서초구</td>\n",
              "      <td>정상</td>\n",
              "    </tr>\n",
              "  </tbody>\n",
              "</table>\n",
              "</div>"
            ],
            "text/plain": [
              "   회차   이름         측정일   몸무게  단위   담당   지점   상태\n",
              "0   1  홍길동  2020-03-01  76.4  kg  박현경  관악구   비만\n",
              "1   2  홍길동  2020-03-02  75.7  kg  김현경  관악구   정상\n",
              "2   3  홍길동  2020-03-03  76.0  kg  최현경  여의도   비만\n",
              "3   4  홍길동  2020-03-04   NaN  kg  최현경  여의도  NaN\n",
              "4   5  홍길동  2020-03-05  76.2  kg  김현경  강남구   비만\n",
              "5   6  홍길동  2020-03-06  75.7  kg  최현경  서초구   정상\n",
              "6   7  홍길동  2020-03-07   NaN  kg  최현경  서초구  NaN\n",
              "7   8  홍길동  2020-03-08   NaN  kg  김현경  서초구  NaN\n",
              "8   9  홍길동  2020-03-09  75.0  kg  김현경  서초구   정상"
            ]
          },
          "metadata": {},
          "execution_count": 131
        }
      ]
    },
    {
      "cell_type": "code",
      "source": [
        "# 원본은 바뀌지 않습니다\n",
        "rawData"
      ],
      "metadata": {
        "colab": {
          "base_uri": "https://localhost:8080/",
          "height": 331
        },
        "id": "YGBlbR-N12ck",
        "outputId": "11b0f4cc-9201-4ad0-a313-f8dd293ad1d3"
      },
      "execution_count": null,
      "outputs": [
        {
          "output_type": "execute_result",
          "data": {
            "text/html": [
              "<div>\n",
              "<style scoped>\n",
              "    .dataframe tbody tr th:only-of-type {\n",
              "        vertical-align: middle;\n",
              "    }\n",
              "\n",
              "    .dataframe tbody tr th {\n",
              "        vertical-align: top;\n",
              "    }\n",
              "\n",
              "    .dataframe thead th {\n",
              "        text-align: right;\n",
              "    }\n",
              "</style>\n",
              "<table border=\"1\" class=\"dataframe\">\n",
              "  <thead>\n",
              "    <tr style=\"text-align: right;\">\n",
              "      <th></th>\n",
              "      <th>회차</th>\n",
              "      <th>이름</th>\n",
              "      <th>측정일</th>\n",
              "      <th>몸무게</th>\n",
              "      <th>단위</th>\n",
              "      <th>담당</th>\n",
              "      <th>지점</th>\n",
              "      <th>지역</th>\n",
              "      <th>상태</th>\n",
              "    </tr>\n",
              "  </thead>\n",
              "  <tbody>\n",
              "    <tr>\n",
              "      <th>0</th>\n",
              "      <td>1</td>\n",
              "      <td>홍길동</td>\n",
              "      <td>2020-03-01</td>\n",
              "      <td>76.4</td>\n",
              "      <td>kg</td>\n",
              "      <td>박현경</td>\n",
              "      <td>관악구</td>\n",
              "      <td>Seoul</td>\n",
              "      <td>비만</td>\n",
              "    </tr>\n",
              "    <tr>\n",
              "      <th>1</th>\n",
              "      <td>2</td>\n",
              "      <td>홍길동</td>\n",
              "      <td>2020-03-02</td>\n",
              "      <td>75.7</td>\n",
              "      <td>kg</td>\n",
              "      <td>김현경</td>\n",
              "      <td>관악구</td>\n",
              "      <td>Seoul</td>\n",
              "      <td>정상</td>\n",
              "    </tr>\n",
              "    <tr>\n",
              "      <th>2</th>\n",
              "      <td>3</td>\n",
              "      <td>홍길동</td>\n",
              "      <td>2020-03-03</td>\n",
              "      <td>76.0</td>\n",
              "      <td>kg</td>\n",
              "      <td>최현경</td>\n",
              "      <td>여의도</td>\n",
              "      <td>Seoul</td>\n",
              "      <td>비만</td>\n",
              "    </tr>\n",
              "    <tr>\n",
              "      <th>3</th>\n",
              "      <td>4</td>\n",
              "      <td>홍길동</td>\n",
              "      <td>2020-03-04</td>\n",
              "      <td>NaN</td>\n",
              "      <td>kg</td>\n",
              "      <td>최현경</td>\n",
              "      <td>여의도</td>\n",
              "      <td>Seoul</td>\n",
              "      <td>NaN</td>\n",
              "    </tr>\n",
              "    <tr>\n",
              "      <th>4</th>\n",
              "      <td>5</td>\n",
              "      <td>홍길동</td>\n",
              "      <td>2020-03-05</td>\n",
              "      <td>76.2</td>\n",
              "      <td>kg</td>\n",
              "      <td>김현경</td>\n",
              "      <td>강남구</td>\n",
              "      <td>Seoul</td>\n",
              "      <td>비만</td>\n",
              "    </tr>\n",
              "    <tr>\n",
              "      <th>5</th>\n",
              "      <td>6</td>\n",
              "      <td>홍길동</td>\n",
              "      <td>2020-03-06</td>\n",
              "      <td>75.7</td>\n",
              "      <td>kg</td>\n",
              "      <td>최현경</td>\n",
              "      <td>서초구</td>\n",
              "      <td>Seoul</td>\n",
              "      <td>정상</td>\n",
              "    </tr>\n",
              "    <tr>\n",
              "      <th>6</th>\n",
              "      <td>7</td>\n",
              "      <td>홍길동</td>\n",
              "      <td>2020-03-07</td>\n",
              "      <td>NaN</td>\n",
              "      <td>kg</td>\n",
              "      <td>최현경</td>\n",
              "      <td>서초구</td>\n",
              "      <td>Seoul</td>\n",
              "      <td>NaN</td>\n",
              "    </tr>\n",
              "    <tr>\n",
              "      <th>7</th>\n",
              "      <td>8</td>\n",
              "      <td>홍길동</td>\n",
              "      <td>2020-03-08</td>\n",
              "      <td>NaN</td>\n",
              "      <td>kg</td>\n",
              "      <td>김현경</td>\n",
              "      <td>서초구</td>\n",
              "      <td>Seoul</td>\n",
              "      <td>NaN</td>\n",
              "    </tr>\n",
              "    <tr>\n",
              "      <th>8</th>\n",
              "      <td>9</td>\n",
              "      <td>홍길동</td>\n",
              "      <td>2020-03-09</td>\n",
              "      <td>75.0</td>\n",
              "      <td>kg</td>\n",
              "      <td>김현경</td>\n",
              "      <td>서초구</td>\n",
              "      <td>Seoul</td>\n",
              "      <td>정상</td>\n",
              "    </tr>\n",
              "  </tbody>\n",
              "</table>\n",
              "</div>"
            ],
            "text/plain": [
              "   회차   이름         측정일   몸무게  단위   담당   지점     지역   상태\n",
              "0   1  홍길동  2020-03-01  76.4  kg  박현경  관악구  Seoul   비만\n",
              "1   2  홍길동  2020-03-02  75.7  kg  김현경  관악구  Seoul   정상\n",
              "2   3  홍길동  2020-03-03  76.0  kg  최현경  여의도  Seoul   비만\n",
              "3   4  홍길동  2020-03-04   NaN  kg  최현경  여의도  Seoul  NaN\n",
              "4   5  홍길동  2020-03-05  76.2  kg  김현경  강남구  Seoul   비만\n",
              "5   6  홍길동  2020-03-06  75.7  kg  최현경  서초구  Seoul   정상\n",
              "6   7  홍길동  2020-03-07   NaN  kg  최현경  서초구  Seoul  NaN\n",
              "7   8  홍길동  2020-03-08   NaN  kg  김현경  서초구  Seoul  NaN\n",
              "8   9  홍길동  2020-03-09  75.0  kg  김현경  서초구  Seoul   정상"
            ]
          },
          "metadata": {},
          "execution_count": 132
        }
      ]
    },
    {
      "cell_type": "code",
      "source": [
        "# 원본에서 바로 삭제할 수 있습니다.\n",
        "# 따로, 반환되지 않습니다\n",
        "rawData.drop(columns=['지역'], inplace=True)"
      ],
      "metadata": {
        "id": "QUcsckcG2HBO"
      },
      "execution_count": null,
      "outputs": []
    },
    {
      "cell_type": "code",
      "source": [
        "# inplace 파라미터를 True로 하면, 해당 데이터프레임에서 바로 삭제\n",
        "rawData"
      ],
      "metadata": {
        "colab": {
          "base_uri": "https://localhost:8080/",
          "height": 331
        },
        "id": "h8EpZXxs2P7T",
        "outputId": "2359a344-8ada-4549-945f-c3164a1c903f"
      },
      "execution_count": null,
      "outputs": [
        {
          "output_type": "execute_result",
          "data": {
            "text/html": [
              "<div>\n",
              "<style scoped>\n",
              "    .dataframe tbody tr th:only-of-type {\n",
              "        vertical-align: middle;\n",
              "    }\n",
              "\n",
              "    .dataframe tbody tr th {\n",
              "        vertical-align: top;\n",
              "    }\n",
              "\n",
              "    .dataframe thead th {\n",
              "        text-align: right;\n",
              "    }\n",
              "</style>\n",
              "<table border=\"1\" class=\"dataframe\">\n",
              "  <thead>\n",
              "    <tr style=\"text-align: right;\">\n",
              "      <th></th>\n",
              "      <th>회차</th>\n",
              "      <th>이름</th>\n",
              "      <th>측정일</th>\n",
              "      <th>몸무게</th>\n",
              "      <th>단위</th>\n",
              "      <th>담당</th>\n",
              "      <th>지점</th>\n",
              "      <th>상태</th>\n",
              "    </tr>\n",
              "  </thead>\n",
              "  <tbody>\n",
              "    <tr>\n",
              "      <th>0</th>\n",
              "      <td>1</td>\n",
              "      <td>홍길동</td>\n",
              "      <td>2020-03-01</td>\n",
              "      <td>76.4</td>\n",
              "      <td>kg</td>\n",
              "      <td>박현경</td>\n",
              "      <td>관악구</td>\n",
              "      <td>비만</td>\n",
              "    </tr>\n",
              "    <tr>\n",
              "      <th>1</th>\n",
              "      <td>2</td>\n",
              "      <td>홍길동</td>\n",
              "      <td>2020-03-02</td>\n",
              "      <td>75.7</td>\n",
              "      <td>kg</td>\n",
              "      <td>김현경</td>\n",
              "      <td>관악구</td>\n",
              "      <td>정상</td>\n",
              "    </tr>\n",
              "    <tr>\n",
              "      <th>2</th>\n",
              "      <td>3</td>\n",
              "      <td>홍길동</td>\n",
              "      <td>2020-03-03</td>\n",
              "      <td>76.0</td>\n",
              "      <td>kg</td>\n",
              "      <td>최현경</td>\n",
              "      <td>여의도</td>\n",
              "      <td>비만</td>\n",
              "    </tr>\n",
              "    <tr>\n",
              "      <th>3</th>\n",
              "      <td>4</td>\n",
              "      <td>홍길동</td>\n",
              "      <td>2020-03-04</td>\n",
              "      <td>NaN</td>\n",
              "      <td>kg</td>\n",
              "      <td>최현경</td>\n",
              "      <td>여의도</td>\n",
              "      <td>NaN</td>\n",
              "    </tr>\n",
              "    <tr>\n",
              "      <th>4</th>\n",
              "      <td>5</td>\n",
              "      <td>홍길동</td>\n",
              "      <td>2020-03-05</td>\n",
              "      <td>76.2</td>\n",
              "      <td>kg</td>\n",
              "      <td>김현경</td>\n",
              "      <td>강남구</td>\n",
              "      <td>비만</td>\n",
              "    </tr>\n",
              "    <tr>\n",
              "      <th>5</th>\n",
              "      <td>6</td>\n",
              "      <td>홍길동</td>\n",
              "      <td>2020-03-06</td>\n",
              "      <td>75.7</td>\n",
              "      <td>kg</td>\n",
              "      <td>최현경</td>\n",
              "      <td>서초구</td>\n",
              "      <td>정상</td>\n",
              "    </tr>\n",
              "    <tr>\n",
              "      <th>6</th>\n",
              "      <td>7</td>\n",
              "      <td>홍길동</td>\n",
              "      <td>2020-03-07</td>\n",
              "      <td>NaN</td>\n",
              "      <td>kg</td>\n",
              "      <td>최현경</td>\n",
              "      <td>서초구</td>\n",
              "      <td>NaN</td>\n",
              "    </tr>\n",
              "    <tr>\n",
              "      <th>7</th>\n",
              "      <td>8</td>\n",
              "      <td>홍길동</td>\n",
              "      <td>2020-03-08</td>\n",
              "      <td>NaN</td>\n",
              "      <td>kg</td>\n",
              "      <td>김현경</td>\n",
              "      <td>서초구</td>\n",
              "      <td>NaN</td>\n",
              "    </tr>\n",
              "    <tr>\n",
              "      <th>8</th>\n",
              "      <td>9</td>\n",
              "      <td>홍길동</td>\n",
              "      <td>2020-03-09</td>\n",
              "      <td>75.0</td>\n",
              "      <td>kg</td>\n",
              "      <td>김현경</td>\n",
              "      <td>서초구</td>\n",
              "      <td>정상</td>\n",
              "    </tr>\n",
              "  </tbody>\n",
              "</table>\n",
              "</div>"
            ],
            "text/plain": [
              "   회차   이름         측정일   몸무게  단위   담당   지점   상태\n",
              "0   1  홍길동  2020-03-01  76.4  kg  박현경  관악구   비만\n",
              "1   2  홍길동  2020-03-02  75.7  kg  김현경  관악구   정상\n",
              "2   3  홍길동  2020-03-03  76.0  kg  최현경  여의도   비만\n",
              "3   4  홍길동  2020-03-04   NaN  kg  최현경  여의도  NaN\n",
              "4   5  홍길동  2020-03-05  76.2  kg  김현경  강남구   비만\n",
              "5   6  홍길동  2020-03-06  75.7  kg  최현경  서초구   정상\n",
              "6   7  홍길동  2020-03-07   NaN  kg  최현경  서초구  NaN\n",
              "7   8  홍길동  2020-03-08   NaN  kg  김현경  서초구  NaN\n",
              "8   9  홍길동  2020-03-09  75.0  kg  김현경  서초구   정상"
            ]
          },
          "metadata": {},
          "execution_count": 134
        }
      ]
    },
    {
      "cell_type": "markdown",
      "source": [
        "## 행 추가와 수정, 삭제"
      ],
      "metadata": {
        "id": "BSgjm2jy2pww"
      }
    },
    {
      "cell_type": "code",
      "source": [
        "# 행이 존재하지 않으면 추가\n",
        "rawData.loc[9] = [10, '홍길동', '2020-03-10', 77, 'kg', '박현경', '관악구', '비만']\n",
        "rawData"
      ],
      "metadata": {
        "colab": {
          "base_uri": "https://localhost:8080/",
          "height": 363
        },
        "id": "EYzmkG-12sGb",
        "outputId": "37e76fb3-fadb-47c7-f4ab-b3f59a31d32c"
      },
      "execution_count": null,
      "outputs": [
        {
          "output_type": "execute_result",
          "data": {
            "text/html": [
              "<div>\n",
              "<style scoped>\n",
              "    .dataframe tbody tr th:only-of-type {\n",
              "        vertical-align: middle;\n",
              "    }\n",
              "\n",
              "    .dataframe tbody tr th {\n",
              "        vertical-align: top;\n",
              "    }\n",
              "\n",
              "    .dataframe thead th {\n",
              "        text-align: right;\n",
              "    }\n",
              "</style>\n",
              "<table border=\"1\" class=\"dataframe\">\n",
              "  <thead>\n",
              "    <tr style=\"text-align: right;\">\n",
              "      <th></th>\n",
              "      <th>회차</th>\n",
              "      <th>이름</th>\n",
              "      <th>측정일</th>\n",
              "      <th>몸무게</th>\n",
              "      <th>단위</th>\n",
              "      <th>담당</th>\n",
              "      <th>지점</th>\n",
              "      <th>상태</th>\n",
              "    </tr>\n",
              "  </thead>\n",
              "  <tbody>\n",
              "    <tr>\n",
              "      <th>0</th>\n",
              "      <td>1</td>\n",
              "      <td>홍길동</td>\n",
              "      <td>2020-03-01</td>\n",
              "      <td>76.4</td>\n",
              "      <td>kg</td>\n",
              "      <td>박현경</td>\n",
              "      <td>관악구</td>\n",
              "      <td>비만</td>\n",
              "    </tr>\n",
              "    <tr>\n",
              "      <th>1</th>\n",
              "      <td>2</td>\n",
              "      <td>홍길동</td>\n",
              "      <td>2020-03-02</td>\n",
              "      <td>75.7</td>\n",
              "      <td>kg</td>\n",
              "      <td>김현경</td>\n",
              "      <td>관악구</td>\n",
              "      <td>정상</td>\n",
              "    </tr>\n",
              "    <tr>\n",
              "      <th>2</th>\n",
              "      <td>3</td>\n",
              "      <td>홍길동</td>\n",
              "      <td>2020-03-03</td>\n",
              "      <td>76.0</td>\n",
              "      <td>kg</td>\n",
              "      <td>최현경</td>\n",
              "      <td>여의도</td>\n",
              "      <td>비만</td>\n",
              "    </tr>\n",
              "    <tr>\n",
              "      <th>3</th>\n",
              "      <td>4</td>\n",
              "      <td>홍길동</td>\n",
              "      <td>2020-03-04</td>\n",
              "      <td>NaN</td>\n",
              "      <td>kg</td>\n",
              "      <td>최현경</td>\n",
              "      <td>여의도</td>\n",
              "      <td>NaN</td>\n",
              "    </tr>\n",
              "    <tr>\n",
              "      <th>4</th>\n",
              "      <td>5</td>\n",
              "      <td>홍길동</td>\n",
              "      <td>2020-03-05</td>\n",
              "      <td>76.2</td>\n",
              "      <td>kg</td>\n",
              "      <td>김현경</td>\n",
              "      <td>강남구</td>\n",
              "      <td>비만</td>\n",
              "    </tr>\n",
              "    <tr>\n",
              "      <th>5</th>\n",
              "      <td>6</td>\n",
              "      <td>홍길동</td>\n",
              "      <td>2020-03-06</td>\n",
              "      <td>75.7</td>\n",
              "      <td>kg</td>\n",
              "      <td>최현경</td>\n",
              "      <td>서초구</td>\n",
              "      <td>정상</td>\n",
              "    </tr>\n",
              "    <tr>\n",
              "      <th>6</th>\n",
              "      <td>7</td>\n",
              "      <td>홍길동</td>\n",
              "      <td>2020-03-07</td>\n",
              "      <td>NaN</td>\n",
              "      <td>kg</td>\n",
              "      <td>최현경</td>\n",
              "      <td>서초구</td>\n",
              "      <td>NaN</td>\n",
              "    </tr>\n",
              "    <tr>\n",
              "      <th>7</th>\n",
              "      <td>8</td>\n",
              "      <td>홍길동</td>\n",
              "      <td>2020-03-08</td>\n",
              "      <td>NaN</td>\n",
              "      <td>kg</td>\n",
              "      <td>김현경</td>\n",
              "      <td>서초구</td>\n",
              "      <td>NaN</td>\n",
              "    </tr>\n",
              "    <tr>\n",
              "      <th>8</th>\n",
              "      <td>9</td>\n",
              "      <td>홍길동</td>\n",
              "      <td>2020-03-09</td>\n",
              "      <td>75.0</td>\n",
              "      <td>kg</td>\n",
              "      <td>김현경</td>\n",
              "      <td>서초구</td>\n",
              "      <td>정상</td>\n",
              "    </tr>\n",
              "    <tr>\n",
              "      <th>9</th>\n",
              "      <td>10</td>\n",
              "      <td>홍길동</td>\n",
              "      <td>2020-03-10</td>\n",
              "      <td>77.0</td>\n",
              "      <td>kg</td>\n",
              "      <td>박현경</td>\n",
              "      <td>관악구</td>\n",
              "      <td>비만</td>\n",
              "    </tr>\n",
              "  </tbody>\n",
              "</table>\n",
              "</div>"
            ],
            "text/plain": [
              "   회차   이름         측정일   몸무게  단위   담당   지점   상태\n",
              "0   1  홍길동  2020-03-01  76.4  kg  박현경  관악구   비만\n",
              "1   2  홍길동  2020-03-02  75.7  kg  김현경  관악구   정상\n",
              "2   3  홍길동  2020-03-03  76.0  kg  최현경  여의도   비만\n",
              "3   4  홍길동  2020-03-04   NaN  kg  최현경  여의도  NaN\n",
              "4   5  홍길동  2020-03-05  76.2  kg  김현경  강남구   비만\n",
              "5   6  홍길동  2020-03-06  75.7  kg  최현경  서초구   정상\n",
              "6   7  홍길동  2020-03-07   NaN  kg  최현경  서초구  NaN\n",
              "7   8  홍길동  2020-03-08   NaN  kg  김현경  서초구  NaN\n",
              "8   9  홍길동  2020-03-09  75.0  kg  김현경  서초구   정상\n",
              "9  10  홍길동  2020-03-10  77.0  kg  박현경  관악구   비만"
            ]
          },
          "metadata": {},
          "execution_count": 136
        }
      ]
    },
    {
      "cell_type": "code",
      "source": [
        "# 삭제는 컬럼과 마찬가지로 drop을 동일하게 사용\n",
        "# 파라미터를 columns이아닌 index 파라미터를 사용\n",
        "rawData.drop(index=[0, 1, 2])"
      ],
      "metadata": {
        "colab": {
          "base_uri": "https://localhost:8080/",
          "height": 269
        },
        "id": "vOPCGiy73U_r",
        "outputId": "b64c605b-d9cc-4d48-c90c-77904620a418"
      },
      "execution_count": null,
      "outputs": [
        {
          "output_type": "execute_result",
          "data": {
            "text/html": [
              "<div>\n",
              "<style scoped>\n",
              "    .dataframe tbody tr th:only-of-type {\n",
              "        vertical-align: middle;\n",
              "    }\n",
              "\n",
              "    .dataframe tbody tr th {\n",
              "        vertical-align: top;\n",
              "    }\n",
              "\n",
              "    .dataframe thead th {\n",
              "        text-align: right;\n",
              "    }\n",
              "</style>\n",
              "<table border=\"1\" class=\"dataframe\">\n",
              "  <thead>\n",
              "    <tr style=\"text-align: right;\">\n",
              "      <th></th>\n",
              "      <th>회차</th>\n",
              "      <th>이름</th>\n",
              "      <th>측정일</th>\n",
              "      <th>몸무게</th>\n",
              "      <th>단위</th>\n",
              "      <th>담당</th>\n",
              "      <th>지점</th>\n",
              "      <th>상태</th>\n",
              "    </tr>\n",
              "  </thead>\n",
              "  <tbody>\n",
              "    <tr>\n",
              "      <th>3</th>\n",
              "      <td>4</td>\n",
              "      <td>홍길동</td>\n",
              "      <td>2020-03-04</td>\n",
              "      <td>NaN</td>\n",
              "      <td>kg</td>\n",
              "      <td>최현경</td>\n",
              "      <td>여의도</td>\n",
              "      <td>NaN</td>\n",
              "    </tr>\n",
              "    <tr>\n",
              "      <th>4</th>\n",
              "      <td>5</td>\n",
              "      <td>홍길동</td>\n",
              "      <td>2020-03-05</td>\n",
              "      <td>76.2</td>\n",
              "      <td>kg</td>\n",
              "      <td>김현경</td>\n",
              "      <td>강남구</td>\n",
              "      <td>비만</td>\n",
              "    </tr>\n",
              "    <tr>\n",
              "      <th>5</th>\n",
              "      <td>6</td>\n",
              "      <td>홍길동</td>\n",
              "      <td>2020-03-06</td>\n",
              "      <td>75.7</td>\n",
              "      <td>kg</td>\n",
              "      <td>최현경</td>\n",
              "      <td>서초구</td>\n",
              "      <td>정상</td>\n",
              "    </tr>\n",
              "    <tr>\n",
              "      <th>6</th>\n",
              "      <td>7</td>\n",
              "      <td>홍길동</td>\n",
              "      <td>2020-03-07</td>\n",
              "      <td>NaN</td>\n",
              "      <td>kg</td>\n",
              "      <td>최현경</td>\n",
              "      <td>서초구</td>\n",
              "      <td>NaN</td>\n",
              "    </tr>\n",
              "    <tr>\n",
              "      <th>7</th>\n",
              "      <td>8</td>\n",
              "      <td>홍길동</td>\n",
              "      <td>2020-03-08</td>\n",
              "      <td>NaN</td>\n",
              "      <td>kg</td>\n",
              "      <td>김현경</td>\n",
              "      <td>서초구</td>\n",
              "      <td>NaN</td>\n",
              "    </tr>\n",
              "    <tr>\n",
              "      <th>8</th>\n",
              "      <td>9</td>\n",
              "      <td>홍길동</td>\n",
              "      <td>2020-03-09</td>\n",
              "      <td>75.0</td>\n",
              "      <td>kg</td>\n",
              "      <td>김현경</td>\n",
              "      <td>서초구</td>\n",
              "      <td>정상</td>\n",
              "    </tr>\n",
              "    <tr>\n",
              "      <th>9</th>\n",
              "      <td>10</td>\n",
              "      <td>홍길동</td>\n",
              "      <td>2020-03-10</td>\n",
              "      <td>77.0</td>\n",
              "      <td>kg</td>\n",
              "      <td>박현경</td>\n",
              "      <td>관악구</td>\n",
              "      <td>비만</td>\n",
              "    </tr>\n",
              "  </tbody>\n",
              "</table>\n",
              "</div>"
            ],
            "text/plain": [
              "   회차   이름         측정일   몸무게  단위   담당   지점   상태\n",
              "3   4  홍길동  2020-03-04   NaN  kg  최현경  여의도  NaN\n",
              "4   5  홍길동  2020-03-05  76.2  kg  김현경  강남구   비만\n",
              "5   6  홍길동  2020-03-06  75.7  kg  최현경  서초구   정상\n",
              "6   7  홍길동  2020-03-07   NaN  kg  최현경  서초구  NaN\n",
              "7   8  홍길동  2020-03-08   NaN  kg  김현경  서초구  NaN\n",
              "8   9  홍길동  2020-03-09  75.0  kg  김현경  서초구   정상\n",
              "9  10  홍길동  2020-03-10  77.0  kg  박현경  관악구   비만"
            ]
          },
          "metadata": {},
          "execution_count": 138
        }
      ]
    },
    {
      "cell_type": "markdown",
      "source": [
        "## apply\n",
        "- 자료를 여러분이 원하는 대로 다루기는 쉽지 않아요\n",
        "  - 실제로 데이터 다뤄보면 내 생각처럼 쉽게 다뤄지지 않습니다. \n",
        "  - 상당히 어려워요\n",
        "- 판다스에서 사용 가능한 반복문 정도로 이해\n",
        "- 모든 행, 열에 대해서 동일한 함수를 반복적으로 적용"
      ],
      "metadata": {
        "id": "tHsIjwiX4thg"
      }
    },
    {
      "cell_type": "code",
      "source": [
        "# apply의 기본적인 사용방법은 이렇습니다. \n",
        "def func(x):\n",
        "  print('함수가 호출되었습니다.')\n",
        "  print('x: {}'.format(x) )\n",
        "  \n",
        "  # apply를 통해서 호출되는 함수는 return을 꼭 작성\n",
        "  return \n",
        "\n",
        "# 기본적으로는 데이터 프레임의 각 컬럼들이 시리즈 형태로 전달\n",
        "rawData.apply( func )"
      ],
      "metadata": {
        "colab": {
          "base_uri": "https://localhost:8080/"
        },
        "id": "FZFyqqpr5HRi",
        "outputId": "e0910ff7-8097-4171-d6fe-49bb434b179c"
      },
      "execution_count": null,
      "outputs": [
        {
          "output_type": "stream",
          "name": "stdout",
          "text": [
            "함수가 호출되었습니다.\n",
            "x: 0     1\n",
            "1     2\n",
            "2     3\n",
            "3     4\n",
            "4     5\n",
            "5     6\n",
            "6     7\n",
            "7     8\n",
            "8     9\n",
            "9    10\n",
            "Name: 회차, dtype: int64\n",
            "함수가 호출되었습니다.\n",
            "x: 0    홍길동\n",
            "1    홍길동\n",
            "2    홍길동\n",
            "3    홍길동\n",
            "4    홍길동\n",
            "5    홍길동\n",
            "6    홍길동\n",
            "7    홍길동\n",
            "8    홍길동\n",
            "9    홍길동\n",
            "Name: 이름, dtype: object\n",
            "함수가 호출되었습니다.\n",
            "x: 0    2020-03-01\n",
            "1    2020-03-02\n",
            "2    2020-03-03\n",
            "3    2020-03-04\n",
            "4    2020-03-05\n",
            "5    2020-03-06\n",
            "6    2020-03-07\n",
            "7    2020-03-08\n",
            "8    2020-03-09\n",
            "9    2020-03-10\n",
            "Name: 측정일, dtype: object\n",
            "함수가 호출되었습니다.\n",
            "x: 0    76.4\n",
            "1    75.7\n",
            "2    76.0\n",
            "3     NaN\n",
            "4    76.2\n",
            "5    75.7\n",
            "6     NaN\n",
            "7     NaN\n",
            "8    75.0\n",
            "9    77.0\n",
            "Name: 몸무게, dtype: float64\n",
            "함수가 호출되었습니다.\n",
            "x: 0    kg\n",
            "1    kg\n",
            "2    kg\n",
            "3    kg\n",
            "4    kg\n",
            "5    kg\n",
            "6    kg\n",
            "7    kg\n",
            "8    kg\n",
            "9    kg\n",
            "Name: 단위, dtype: object\n",
            "함수가 호출되었습니다.\n",
            "x: 0    박현경\n",
            "1    김현경\n",
            "2    최현경\n",
            "3    최현경\n",
            "4    김현경\n",
            "5    최현경\n",
            "6    최현경\n",
            "7    김현경\n",
            "8    김현경\n",
            "9    박현경\n",
            "Name: 담당, dtype: object\n",
            "함수가 호출되었습니다.\n",
            "x: 0    관악구\n",
            "1    관악구\n",
            "2    여의도\n",
            "3    여의도\n",
            "4    강남구\n",
            "5    서초구\n",
            "6    서초구\n",
            "7    서초구\n",
            "8    서초구\n",
            "9    관악구\n",
            "Name: 지점, dtype: object\n",
            "함수가 호출되었습니다.\n",
            "x: 0     비만\n",
            "1     정상\n",
            "2     비만\n",
            "3    NaN\n",
            "4     비만\n",
            "5     정상\n",
            "6    NaN\n",
            "7    NaN\n",
            "8     정상\n",
            "9     비만\n",
            "Name: 상태, dtype: object\n"
          ]
        },
        {
          "output_type": "execute_result",
          "data": {
            "text/plain": [
              "회차     None\n",
              "이름     None\n",
              "측정일    None\n",
              "몸무게    None\n",
              "단위     None\n",
              "담당     None\n",
              "지점     None\n",
              "상태     None\n",
              "dtype: object"
            ]
          },
          "metadata": {},
          "execution_count": 140
        }
      ]
    },
    {
      "cell_type": "code",
      "source": [
        "# 컬럼이 아닌, 행을 전달하고 싶다면\n",
        "def func(x):\n",
        "  print('함수가 호출되었습니다.')\n",
        "  print('x: {}'.format(x) )\n",
        "\n",
        "rawData.apply( func, axis=1 )"
      ],
      "metadata": {
        "colab": {
          "base_uri": "https://localhost:8080/"
        },
        "id": "_8csI6dM6CsE",
        "outputId": "e69a25d6-4cf9-43da-8b81-aedf2af396f7"
      },
      "execution_count": null,
      "outputs": [
        {
          "output_type": "stream",
          "name": "stdout",
          "text": [
            "함수가 호출되었습니다.\n",
            "x: 회차              1\n",
            "이름            홍길동\n",
            "측정일    2020-03-01\n",
            "몸무게          76.4\n",
            "단위             kg\n",
            "담당            박현경\n",
            "지점            관악구\n",
            "상태             비만\n",
            "Name: 0, dtype: object\n",
            "함수가 호출되었습니다.\n",
            "x: 회차              2\n",
            "이름            홍길동\n",
            "측정일    2020-03-02\n",
            "몸무게          75.7\n",
            "단위             kg\n",
            "담당            김현경\n",
            "지점            관악구\n",
            "상태             정상\n",
            "Name: 1, dtype: object\n",
            "함수가 호출되었습니다.\n",
            "x: 회차              3\n",
            "이름            홍길동\n",
            "측정일    2020-03-03\n",
            "몸무게            76\n",
            "단위             kg\n",
            "담당            최현경\n",
            "지점            여의도\n",
            "상태             비만\n",
            "Name: 2, dtype: object\n",
            "함수가 호출되었습니다.\n",
            "x: 회차              4\n",
            "이름            홍길동\n",
            "측정일    2020-03-04\n",
            "몸무게           NaN\n",
            "단위             kg\n",
            "담당            최현경\n",
            "지점            여의도\n",
            "상태            NaN\n",
            "Name: 3, dtype: object\n",
            "함수가 호출되었습니다.\n",
            "x: 회차              5\n",
            "이름            홍길동\n",
            "측정일    2020-03-05\n",
            "몸무게          76.2\n",
            "단위             kg\n",
            "담당            김현경\n",
            "지점            강남구\n",
            "상태             비만\n",
            "Name: 4, dtype: object\n",
            "함수가 호출되었습니다.\n",
            "x: 회차              6\n",
            "이름            홍길동\n",
            "측정일    2020-03-06\n",
            "몸무게          75.7\n",
            "단위             kg\n",
            "담당            최현경\n",
            "지점            서초구\n",
            "상태             정상\n",
            "Name: 5, dtype: object\n",
            "함수가 호출되었습니다.\n",
            "x: 회차              7\n",
            "이름            홍길동\n",
            "측정일    2020-03-07\n",
            "몸무게           NaN\n",
            "단위             kg\n",
            "담당            최현경\n",
            "지점            서초구\n",
            "상태            NaN\n",
            "Name: 6, dtype: object\n",
            "함수가 호출되었습니다.\n",
            "x: 회차              8\n",
            "이름            홍길동\n",
            "측정일    2020-03-08\n",
            "몸무게           NaN\n",
            "단위             kg\n",
            "담당            김현경\n",
            "지점            서초구\n",
            "상태            NaN\n",
            "Name: 7, dtype: object\n",
            "함수가 호출되었습니다.\n",
            "x: 회차              9\n",
            "이름            홍길동\n",
            "측정일    2020-03-09\n",
            "몸무게            75\n",
            "단위             kg\n",
            "담당            김현경\n",
            "지점            서초구\n",
            "상태             정상\n",
            "Name: 8, dtype: object\n",
            "함수가 호출되었습니다.\n",
            "x: 회차             10\n",
            "이름            홍길동\n",
            "측정일    2020-03-10\n",
            "몸무게            77\n",
            "단위             kg\n",
            "담당            박현경\n",
            "지점            관악구\n",
            "상태             비만\n",
            "Name: 9, dtype: object\n"
          ]
        },
        {
          "output_type": "execute_result",
          "data": {
            "text/plain": [
              "0    None\n",
              "1    None\n",
              "2    None\n",
              "3    None\n",
              "4    None\n",
              "5    None\n",
              "6    None\n",
              "7    None\n",
              "8    None\n",
              "9    None\n",
              "dtype: object"
            ]
          },
          "metadata": {},
          "execution_count": 141
        }
      ]
    },
    {
      "cell_type": "code",
      "source": [
        "# 지점별로 지역을 새로 만들어 볼게요\n",
        "def func(x):\n",
        "  if x['지점'] == '관악구': return '강서'\n",
        "  elif x['지점'] == '여의도': return '강서'\n",
        "  elif x['지점'] == '강남구': return '강동'\n",
        "  elif x['지점'] == '서초구': return '강동'\n",
        "\n",
        "# apply가 리턴하는 값들도 하나의 시리즈가 됩니다.\n",
        "rawData.apply( func, axis=1 )"
      ],
      "metadata": {
        "colab": {
          "base_uri": "https://localhost:8080/"
        },
        "id": "zlj5cVH96dQ7",
        "outputId": "a24e672a-423c-4056-a6de-aaab02ff1ed5"
      },
      "execution_count": null,
      "outputs": [
        {
          "output_type": "execute_result",
          "data": {
            "text/plain": [
              "0    강서\n",
              "1    강서\n",
              "2    강서\n",
              "3    강서\n",
              "4    강동\n",
              "5    강동\n",
              "6    강동\n",
              "7    강동\n",
              "8    강동\n",
              "9    강서\n",
              "dtype: object"
            ]
          },
          "metadata": {},
          "execution_count": 143
        }
      ]
    },
    {
      "cell_type": "code",
      "source": [
        "# 새로운 컬럼을 추가\n",
        "rawData['지역'] = rawData.apply( func, axis=1 )\n",
        "rawData"
      ],
      "metadata": {
        "colab": {
          "base_uri": "https://localhost:8080/",
          "height": 363
        },
        "id": "GQt7Sldc7KGK",
        "outputId": "ccf77036-2957-49a1-b859-6213f22e80d8"
      },
      "execution_count": null,
      "outputs": [
        {
          "output_type": "execute_result",
          "data": {
            "text/html": [
              "<div>\n",
              "<style scoped>\n",
              "    .dataframe tbody tr th:only-of-type {\n",
              "        vertical-align: middle;\n",
              "    }\n",
              "\n",
              "    .dataframe tbody tr th {\n",
              "        vertical-align: top;\n",
              "    }\n",
              "\n",
              "    .dataframe thead th {\n",
              "        text-align: right;\n",
              "    }\n",
              "</style>\n",
              "<table border=\"1\" class=\"dataframe\">\n",
              "  <thead>\n",
              "    <tr style=\"text-align: right;\">\n",
              "      <th></th>\n",
              "      <th>회차</th>\n",
              "      <th>이름</th>\n",
              "      <th>측정일</th>\n",
              "      <th>몸무게</th>\n",
              "      <th>단위</th>\n",
              "      <th>담당</th>\n",
              "      <th>지점</th>\n",
              "      <th>상태</th>\n",
              "      <th>지역</th>\n",
              "    </tr>\n",
              "  </thead>\n",
              "  <tbody>\n",
              "    <tr>\n",
              "      <th>0</th>\n",
              "      <td>1</td>\n",
              "      <td>홍길동</td>\n",
              "      <td>2020-03-01</td>\n",
              "      <td>76.4</td>\n",
              "      <td>kg</td>\n",
              "      <td>박현경</td>\n",
              "      <td>관악구</td>\n",
              "      <td>비만</td>\n",
              "      <td>강서</td>\n",
              "    </tr>\n",
              "    <tr>\n",
              "      <th>1</th>\n",
              "      <td>2</td>\n",
              "      <td>홍길동</td>\n",
              "      <td>2020-03-02</td>\n",
              "      <td>75.7</td>\n",
              "      <td>kg</td>\n",
              "      <td>김현경</td>\n",
              "      <td>관악구</td>\n",
              "      <td>정상</td>\n",
              "      <td>강서</td>\n",
              "    </tr>\n",
              "    <tr>\n",
              "      <th>2</th>\n",
              "      <td>3</td>\n",
              "      <td>홍길동</td>\n",
              "      <td>2020-03-03</td>\n",
              "      <td>76.0</td>\n",
              "      <td>kg</td>\n",
              "      <td>최현경</td>\n",
              "      <td>여의도</td>\n",
              "      <td>비만</td>\n",
              "      <td>강서</td>\n",
              "    </tr>\n",
              "    <tr>\n",
              "      <th>3</th>\n",
              "      <td>4</td>\n",
              "      <td>홍길동</td>\n",
              "      <td>2020-03-04</td>\n",
              "      <td>NaN</td>\n",
              "      <td>kg</td>\n",
              "      <td>최현경</td>\n",
              "      <td>여의도</td>\n",
              "      <td>NaN</td>\n",
              "      <td>강서</td>\n",
              "    </tr>\n",
              "    <tr>\n",
              "      <th>4</th>\n",
              "      <td>5</td>\n",
              "      <td>홍길동</td>\n",
              "      <td>2020-03-05</td>\n",
              "      <td>76.2</td>\n",
              "      <td>kg</td>\n",
              "      <td>김현경</td>\n",
              "      <td>강남구</td>\n",
              "      <td>비만</td>\n",
              "      <td>강동</td>\n",
              "    </tr>\n",
              "    <tr>\n",
              "      <th>5</th>\n",
              "      <td>6</td>\n",
              "      <td>홍길동</td>\n",
              "      <td>2020-03-06</td>\n",
              "      <td>75.7</td>\n",
              "      <td>kg</td>\n",
              "      <td>최현경</td>\n",
              "      <td>서초구</td>\n",
              "      <td>정상</td>\n",
              "      <td>강동</td>\n",
              "    </tr>\n",
              "    <tr>\n",
              "      <th>6</th>\n",
              "      <td>7</td>\n",
              "      <td>홍길동</td>\n",
              "      <td>2020-03-07</td>\n",
              "      <td>NaN</td>\n",
              "      <td>kg</td>\n",
              "      <td>최현경</td>\n",
              "      <td>서초구</td>\n",
              "      <td>NaN</td>\n",
              "      <td>강동</td>\n",
              "    </tr>\n",
              "    <tr>\n",
              "      <th>7</th>\n",
              "      <td>8</td>\n",
              "      <td>홍길동</td>\n",
              "      <td>2020-03-08</td>\n",
              "      <td>NaN</td>\n",
              "      <td>kg</td>\n",
              "      <td>김현경</td>\n",
              "      <td>서초구</td>\n",
              "      <td>NaN</td>\n",
              "      <td>강동</td>\n",
              "    </tr>\n",
              "    <tr>\n",
              "      <th>8</th>\n",
              "      <td>9</td>\n",
              "      <td>홍길동</td>\n",
              "      <td>2020-03-09</td>\n",
              "      <td>75.0</td>\n",
              "      <td>kg</td>\n",
              "      <td>김현경</td>\n",
              "      <td>서초구</td>\n",
              "      <td>정상</td>\n",
              "      <td>강동</td>\n",
              "    </tr>\n",
              "    <tr>\n",
              "      <th>9</th>\n",
              "      <td>10</td>\n",
              "      <td>홍길동</td>\n",
              "      <td>2020-03-10</td>\n",
              "      <td>77.0</td>\n",
              "      <td>kg</td>\n",
              "      <td>박현경</td>\n",
              "      <td>관악구</td>\n",
              "      <td>비만</td>\n",
              "      <td>강서</td>\n",
              "    </tr>\n",
              "  </tbody>\n",
              "</table>\n",
              "</div>"
            ],
            "text/plain": [
              "   회차   이름         측정일   몸무게  단위   담당   지점   상태  지역\n",
              "0   1  홍길동  2020-03-01  76.4  kg  박현경  관악구   비만  강서\n",
              "1   2  홍길동  2020-03-02  75.7  kg  김현경  관악구   정상  강서\n",
              "2   3  홍길동  2020-03-03  76.0  kg  최현경  여의도   비만  강서\n",
              "3   4  홍길동  2020-03-04   NaN  kg  최현경  여의도  NaN  강서\n",
              "4   5  홍길동  2020-03-05  76.2  kg  김현경  강남구   비만  강동\n",
              "5   6  홍길동  2020-03-06  75.7  kg  최현경  서초구   정상  강동\n",
              "6   7  홍길동  2020-03-07   NaN  kg  최현경  서초구  NaN  강동\n",
              "7   8  홍길동  2020-03-08   NaN  kg  김현경  서초구  NaN  강동\n",
              "8   9  홍길동  2020-03-09  75.0  kg  김현경  서초구   정상  강동\n",
              "9  10  홍길동  2020-03-10  77.0  kg  박현경  관악구   비만  강서"
            ]
          },
          "metadata": {},
          "execution_count": 144
        }
      ]
    },
    {
      "cell_type": "markdown",
      "source": [
        "# 데이터 프레임 합치기\n",
        "- 서로 다른 두 자료(데이터 프레임)를 하나의 데이터 프레임으로 합치는 방법\n",
        "- 여러 소스(출처)부터 가져온 데이터를 분석을 하기 위해서는 반드시 하나의 데이터 프레임 이어야만 합니다. \n",
        "\n",
        "- 데이터를 합치는 방법 \n",
        "\n",
        "![](https://img1.daumcdn.net/thumb/R1280x0/?scode=mtistory2&fname=https%3A%2F%2Fblog.kakaocdn.net%2Fdn%2Foecbm%2FbtqRolfgnC4%2FROZxkKlASUIqWLx1SLd7xK%2Fimg.png)"
      ],
      "metadata": {
        "id": "4row0RCR_pqS"
      }
    },
    {
      "cell_type": "code",
      "source": [
        "user_device = pd.read_csv('/content/drive/MyDrive/멀티캠퍼스/data/user_device.csv')\n",
        "user_usage = pd.read_csv('/content/drive/MyDrive/멀티캠퍼스/data/user_usage.csv')"
      ],
      "metadata": {
        "id": "5V7gAXgj_tnT"
      },
      "execution_count": null,
      "outputs": []
    },
    {
      "cell_type": "code",
      "source": [
        "user_usage.head(2)"
      ],
      "metadata": {
        "colab": {
          "base_uri": "https://localhost:8080/",
          "height": 112
        },
        "id": "fXnBU7fZBy-Y",
        "outputId": "a19715c4-3aa5-4416-d72c-4364fa7bbdef"
      },
      "execution_count": null,
      "outputs": [
        {
          "output_type": "execute_result",
          "data": {
            "text/html": [
              "<div>\n",
              "<style scoped>\n",
              "    .dataframe tbody tr th:only-of-type {\n",
              "        vertical-align: middle;\n",
              "    }\n",
              "\n",
              "    .dataframe tbody tr th {\n",
              "        vertical-align: top;\n",
              "    }\n",
              "\n",
              "    .dataframe thead th {\n",
              "        text-align: right;\n",
              "    }\n",
              "</style>\n",
              "<table border=\"1\" class=\"dataframe\">\n",
              "  <thead>\n",
              "    <tr style=\"text-align: right;\">\n",
              "      <th></th>\n",
              "      <th>outgoing_mins_per_month</th>\n",
              "      <th>outgoing_sms_per_month</th>\n",
              "      <th>monthly_mb</th>\n",
              "      <th>use_id</th>\n",
              "    </tr>\n",
              "  </thead>\n",
              "  <tbody>\n",
              "    <tr>\n",
              "      <th>0</th>\n",
              "      <td>21.97</td>\n",
              "      <td>4.82</td>\n",
              "      <td>1557.33</td>\n",
              "      <td>22787</td>\n",
              "    </tr>\n",
              "    <tr>\n",
              "      <th>1</th>\n",
              "      <td>1710.08</td>\n",
              "      <td>136.88</td>\n",
              "      <td>7267.55</td>\n",
              "      <td>22788</td>\n",
              "    </tr>\n",
              "  </tbody>\n",
              "</table>\n",
              "</div>"
            ],
            "text/plain": [
              "   outgoing_mins_per_month  outgoing_sms_per_month  monthly_mb  use_id\n",
              "0                    21.97                    4.82     1557.33   22787\n",
              "1                  1710.08                  136.88     7267.55   22788"
            ]
          },
          "metadata": {},
          "execution_count": 148
        }
      ]
    },
    {
      "cell_type": "code",
      "source": [
        "user_device.head(2)"
      ],
      "metadata": {
        "colab": {
          "base_uri": "https://localhost:8080/",
          "height": 112
        },
        "id": "1NTiTXAKCIY_",
        "outputId": "78f99b4e-7330-4e91-8f86-a64f25183618"
      },
      "execution_count": null,
      "outputs": [
        {
          "output_type": "execute_result",
          "data": {
            "text/html": [
              "<div>\n",
              "<style scoped>\n",
              "    .dataframe tbody tr th:only-of-type {\n",
              "        vertical-align: middle;\n",
              "    }\n",
              "\n",
              "    .dataframe tbody tr th {\n",
              "        vertical-align: top;\n",
              "    }\n",
              "\n",
              "    .dataframe thead th {\n",
              "        text-align: right;\n",
              "    }\n",
              "</style>\n",
              "<table border=\"1\" class=\"dataframe\">\n",
              "  <thead>\n",
              "    <tr style=\"text-align: right;\">\n",
              "      <th></th>\n",
              "      <th>use_id</th>\n",
              "      <th>user_id</th>\n",
              "      <th>platform</th>\n",
              "      <th>platform_version</th>\n",
              "      <th>device</th>\n",
              "      <th>use_type_id</th>\n",
              "    </tr>\n",
              "  </thead>\n",
              "  <tbody>\n",
              "    <tr>\n",
              "      <th>0</th>\n",
              "      <td>22782</td>\n",
              "      <td>26980</td>\n",
              "      <td>ios</td>\n",
              "      <td>10.2</td>\n",
              "      <td>iPhone7,2</td>\n",
              "      <td>2</td>\n",
              "    </tr>\n",
              "    <tr>\n",
              "      <th>1</th>\n",
              "      <td>22783</td>\n",
              "      <td>29628</td>\n",
              "      <td>android</td>\n",
              "      <td>6.0</td>\n",
              "      <td>Nexus 5</td>\n",
              "      <td>3</td>\n",
              "    </tr>\n",
              "  </tbody>\n",
              "</table>\n",
              "</div>"
            ],
            "text/plain": [
              "   use_id  user_id platform  platform_version     device  use_type_id\n",
              "0   22782    26980      ios              10.2  iPhone7,2            2\n",
              "1   22783    29628  android               6.0    Nexus 5            3"
            ]
          },
          "metadata": {},
          "execution_count": 149
        }
      ]
    },
    {
      "cell_type": "markdown",
      "source": [
        "## inner join\n",
        "- merge 함수를 통해서 `join`을 해볼 수 있습니다. \n",
        "  - merge의 기본 동작은 `inner join` 입니다. \n",
        "\n",
        "- inner join은 기본적으로 자료의 크기가 훨씬 줄어들게 됩니다. \n",
        "  - user_usage: 240개\n",
        "  - user_device: 272개\n",
        "    - 두 자료를 하나로 합쳤을 경우 240개를 넘어가지는 않습니다. \n",
        "    - 양쪽자료 모두에 존재하지 않는 자료가 있다면? "
      ],
      "metadata": {
        "id": "ojy-BUQRC66d"
      }
    },
    {
      "cell_type": "code",
      "source": [
        "display( len(user_usage) )\n",
        "display( len(user_device) )"
      ],
      "metadata": {
        "colab": {
          "base_uri": "https://localhost:8080/",
          "height": 52
        },
        "id": "uoEp3axDDGdt",
        "outputId": "2a276c73-8572-4631-d83e-c0a5362c8b8a"
      },
      "execution_count": null,
      "outputs": [
        {
          "output_type": "display_data",
          "data": {
            "text/plain": [
              "240"
            ]
          },
          "metadata": {}
        },
        {
          "output_type": "display_data",
          "data": {
            "text/plain": [
              "272"
            ]
          },
          "metadata": {}
        }
      ]
    },
    {
      "cell_type": "code",
      "source": [
        "pd.merge(left=user_usage, right=user_device, on='use_id')"
      ],
      "metadata": {
        "colab": {
          "base_uri": "https://localhost:8080/",
          "height": 458
        },
        "id": "wP3Ke9gSDmLU",
        "outputId": "89f8d534-e772-485b-9e4d-95b97d577a56"
      },
      "execution_count": null,
      "outputs": [
        {
          "output_type": "execute_result",
          "data": {
            "text/html": [
              "<div>\n",
              "<style scoped>\n",
              "    .dataframe tbody tr th:only-of-type {\n",
              "        vertical-align: middle;\n",
              "    }\n",
              "\n",
              "    .dataframe tbody tr th {\n",
              "        vertical-align: top;\n",
              "    }\n",
              "\n",
              "    .dataframe thead th {\n",
              "        text-align: right;\n",
              "    }\n",
              "</style>\n",
              "<table border=\"1\" class=\"dataframe\">\n",
              "  <thead>\n",
              "    <tr style=\"text-align: right;\">\n",
              "      <th></th>\n",
              "      <th>outgoing_mins_per_month</th>\n",
              "      <th>outgoing_sms_per_month</th>\n",
              "      <th>monthly_mb</th>\n",
              "      <th>use_id</th>\n",
              "      <th>user_id</th>\n",
              "      <th>platform</th>\n",
              "      <th>platform_version</th>\n",
              "      <th>device</th>\n",
              "      <th>use_type_id</th>\n",
              "    </tr>\n",
              "  </thead>\n",
              "  <tbody>\n",
              "    <tr>\n",
              "      <th>0</th>\n",
              "      <td>21.97</td>\n",
              "      <td>4.82</td>\n",
              "      <td>1557.33</td>\n",
              "      <td>22787</td>\n",
              "      <td>12921</td>\n",
              "      <td>android</td>\n",
              "      <td>4.3</td>\n",
              "      <td>GT-I9505</td>\n",
              "      <td>1</td>\n",
              "    </tr>\n",
              "    <tr>\n",
              "      <th>1</th>\n",
              "      <td>1710.08</td>\n",
              "      <td>136.88</td>\n",
              "      <td>7267.55</td>\n",
              "      <td>22788</td>\n",
              "      <td>28714</td>\n",
              "      <td>android</td>\n",
              "      <td>6.0</td>\n",
              "      <td>SM-G930F</td>\n",
              "      <td>1</td>\n",
              "    </tr>\n",
              "    <tr>\n",
              "      <th>2</th>\n",
              "      <td>1710.08</td>\n",
              "      <td>136.88</td>\n",
              "      <td>7267.55</td>\n",
              "      <td>22789</td>\n",
              "      <td>28714</td>\n",
              "      <td>android</td>\n",
              "      <td>6.0</td>\n",
              "      <td>SM-G930F</td>\n",
              "      <td>1</td>\n",
              "    </tr>\n",
              "    <tr>\n",
              "      <th>3</th>\n",
              "      <td>94.46</td>\n",
              "      <td>35.17</td>\n",
              "      <td>519.12</td>\n",
              "      <td>22790</td>\n",
              "      <td>29592</td>\n",
              "      <td>android</td>\n",
              "      <td>5.1</td>\n",
              "      <td>D2303</td>\n",
              "      <td>1</td>\n",
              "    </tr>\n",
              "    <tr>\n",
              "      <th>4</th>\n",
              "      <td>71.59</td>\n",
              "      <td>79.26</td>\n",
              "      <td>1557.33</td>\n",
              "      <td>22792</td>\n",
              "      <td>28217</td>\n",
              "      <td>android</td>\n",
              "      <td>5.1</td>\n",
              "      <td>SM-G361F</td>\n",
              "      <td>1</td>\n",
              "    </tr>\n",
              "    <tr>\n",
              "      <th>...</th>\n",
              "      <td>...</td>\n",
              "      <td>...</td>\n",
              "      <td>...</td>\n",
              "      <td>...</td>\n",
              "      <td>...</td>\n",
              "      <td>...</td>\n",
              "      <td>...</td>\n",
              "      <td>...</td>\n",
              "      <td>...</td>\n",
              "    </tr>\n",
              "    <tr>\n",
              "      <th>154</th>\n",
              "      <td>198.59</td>\n",
              "      <td>90.49</td>\n",
              "      <td>5191.12</td>\n",
              "      <td>23043</td>\n",
              "      <td>28953</td>\n",
              "      <td>android</td>\n",
              "      <td>6.0</td>\n",
              "      <td>SM-G900F</td>\n",
              "      <td>1</td>\n",
              "    </tr>\n",
              "    <tr>\n",
              "      <th>155</th>\n",
              "      <td>198.59</td>\n",
              "      <td>90.49</td>\n",
              "      <td>3114.67</td>\n",
              "      <td>23044</td>\n",
              "      <td>28953</td>\n",
              "      <td>android</td>\n",
              "      <td>6.0</td>\n",
              "      <td>SM-G900F</td>\n",
              "      <td>1</td>\n",
              "    </tr>\n",
              "    <tr>\n",
              "      <th>156</th>\n",
              "      <td>106.65</td>\n",
              "      <td>82.13</td>\n",
              "      <td>5191.12</td>\n",
              "      <td>23046</td>\n",
              "      <td>29454</td>\n",
              "      <td>android</td>\n",
              "      <td>6.0</td>\n",
              "      <td>Moto G (4)</td>\n",
              "      <td>1</td>\n",
              "    </tr>\n",
              "    <tr>\n",
              "      <th>157</th>\n",
              "      <td>344.53</td>\n",
              "      <td>20.53</td>\n",
              "      <td>519.12</td>\n",
              "      <td>23049</td>\n",
              "      <td>29725</td>\n",
              "      <td>android</td>\n",
              "      <td>6.0</td>\n",
              "      <td>SM-G900F</td>\n",
              "      <td>1</td>\n",
              "    </tr>\n",
              "    <tr>\n",
              "      <th>158</th>\n",
              "      <td>42.75</td>\n",
              "      <td>46.83</td>\n",
              "      <td>5191.12</td>\n",
              "      <td>23053</td>\n",
              "      <td>20257</td>\n",
              "      <td>android</td>\n",
              "      <td>5.1</td>\n",
              "      <td>Vodafone Smart ultra 6</td>\n",
              "      <td>1</td>\n",
              "    </tr>\n",
              "  </tbody>\n",
              "</table>\n",
              "<p>159 rows × 9 columns</p>\n",
              "</div>"
            ],
            "text/plain": [
              "     outgoing_mins_per_month  ...  use_type_id\n",
              "0                      21.97  ...            1\n",
              "1                    1710.08  ...            1\n",
              "2                    1710.08  ...            1\n",
              "3                      94.46  ...            1\n",
              "4                      71.59  ...            1\n",
              "..                       ...  ...          ...\n",
              "154                   198.59  ...            1\n",
              "155                   198.59  ...            1\n",
              "156                   106.65  ...            1\n",
              "157                   344.53  ...            1\n",
              "158                    42.75  ...            1\n",
              "\n",
              "[159 rows x 9 columns]"
            ]
          },
          "metadata": {},
          "execution_count": 151
        }
      ]
    },
    {
      "cell_type": "markdown",
      "source": [
        "## left join\n",
        "- left 자료를 기준으로 합쳐줍니다. \n",
        "- 결측치가 발생할 수 있습니다. \n",
        "  - right에 없는 자료는 결측치로 채워지게 됩니다. "
      ],
      "metadata": {
        "id": "a0_b6jJcEWm7"
      }
    },
    {
      "cell_type": "code",
      "source": [
        "pd.merge(left=user_usage, right=user_device, on='use_id', how='left')"
      ],
      "metadata": {
        "colab": {
          "base_uri": "https://localhost:8080/",
          "height": 424
        },
        "id": "KiLqfvW7EsYi",
        "outputId": "1e7ec5fd-fd90-4b70-c9d0-6ea2251e4c32"
      },
      "execution_count": null,
      "outputs": [
        {
          "output_type": "execute_result",
          "data": {
            "text/html": [
              "<div>\n",
              "<style scoped>\n",
              "    .dataframe tbody tr th:only-of-type {\n",
              "        vertical-align: middle;\n",
              "    }\n",
              "\n",
              "    .dataframe tbody tr th {\n",
              "        vertical-align: top;\n",
              "    }\n",
              "\n",
              "    .dataframe thead th {\n",
              "        text-align: right;\n",
              "    }\n",
              "</style>\n",
              "<table border=\"1\" class=\"dataframe\">\n",
              "  <thead>\n",
              "    <tr style=\"text-align: right;\">\n",
              "      <th></th>\n",
              "      <th>outgoing_mins_per_month</th>\n",
              "      <th>outgoing_sms_per_month</th>\n",
              "      <th>monthly_mb</th>\n",
              "      <th>use_id</th>\n",
              "      <th>user_id</th>\n",
              "      <th>platform</th>\n",
              "      <th>platform_version</th>\n",
              "      <th>device</th>\n",
              "      <th>use_type_id</th>\n",
              "    </tr>\n",
              "  </thead>\n",
              "  <tbody>\n",
              "    <tr>\n",
              "      <th>0</th>\n",
              "      <td>21.97</td>\n",
              "      <td>4.82</td>\n",
              "      <td>1557.33</td>\n",
              "      <td>22787</td>\n",
              "      <td>12921.0</td>\n",
              "      <td>android</td>\n",
              "      <td>4.3</td>\n",
              "      <td>GT-I9505</td>\n",
              "      <td>1.0</td>\n",
              "    </tr>\n",
              "    <tr>\n",
              "      <th>1</th>\n",
              "      <td>1710.08</td>\n",
              "      <td>136.88</td>\n",
              "      <td>7267.55</td>\n",
              "      <td>22788</td>\n",
              "      <td>28714.0</td>\n",
              "      <td>android</td>\n",
              "      <td>6.0</td>\n",
              "      <td>SM-G930F</td>\n",
              "      <td>1.0</td>\n",
              "    </tr>\n",
              "    <tr>\n",
              "      <th>2</th>\n",
              "      <td>1710.08</td>\n",
              "      <td>136.88</td>\n",
              "      <td>7267.55</td>\n",
              "      <td>22789</td>\n",
              "      <td>28714.0</td>\n",
              "      <td>android</td>\n",
              "      <td>6.0</td>\n",
              "      <td>SM-G930F</td>\n",
              "      <td>1.0</td>\n",
              "    </tr>\n",
              "    <tr>\n",
              "      <th>3</th>\n",
              "      <td>94.46</td>\n",
              "      <td>35.17</td>\n",
              "      <td>519.12</td>\n",
              "      <td>22790</td>\n",
              "      <td>29592.0</td>\n",
              "      <td>android</td>\n",
              "      <td>5.1</td>\n",
              "      <td>D2303</td>\n",
              "      <td>1.0</td>\n",
              "    </tr>\n",
              "    <tr>\n",
              "      <th>4</th>\n",
              "      <td>71.59</td>\n",
              "      <td>79.26</td>\n",
              "      <td>1557.33</td>\n",
              "      <td>22792</td>\n",
              "      <td>28217.0</td>\n",
              "      <td>android</td>\n",
              "      <td>5.1</td>\n",
              "      <td>SM-G361F</td>\n",
              "      <td>1.0</td>\n",
              "    </tr>\n",
              "    <tr>\n",
              "      <th>...</th>\n",
              "      <td>...</td>\n",
              "      <td>...</td>\n",
              "      <td>...</td>\n",
              "      <td>...</td>\n",
              "      <td>...</td>\n",
              "      <td>...</td>\n",
              "      <td>...</td>\n",
              "      <td>...</td>\n",
              "      <td>...</td>\n",
              "    </tr>\n",
              "    <tr>\n",
              "      <th>235</th>\n",
              "      <td>260.66</td>\n",
              "      <td>68.44</td>\n",
              "      <td>896.96</td>\n",
              "      <td>25008</td>\n",
              "      <td>NaN</td>\n",
              "      <td>NaN</td>\n",
              "      <td>NaN</td>\n",
              "      <td>NaN</td>\n",
              "      <td>NaN</td>\n",
              "    </tr>\n",
              "    <tr>\n",
              "      <th>236</th>\n",
              "      <td>97.12</td>\n",
              "      <td>36.50</td>\n",
              "      <td>2815.00</td>\n",
              "      <td>25040</td>\n",
              "      <td>NaN</td>\n",
              "      <td>NaN</td>\n",
              "      <td>NaN</td>\n",
              "      <td>NaN</td>\n",
              "      <td>NaN</td>\n",
              "    </tr>\n",
              "    <tr>\n",
              "      <th>237</th>\n",
              "      <td>355.93</td>\n",
              "      <td>12.37</td>\n",
              "      <td>6828.09</td>\n",
              "      <td>25046</td>\n",
              "      <td>NaN</td>\n",
              "      <td>NaN</td>\n",
              "      <td>NaN</td>\n",
              "      <td>NaN</td>\n",
              "      <td>NaN</td>\n",
              "    </tr>\n",
              "    <tr>\n",
              "      <th>238</th>\n",
              "      <td>632.06</td>\n",
              "      <td>120.46</td>\n",
              "      <td>1453.16</td>\n",
              "      <td>25058</td>\n",
              "      <td>NaN</td>\n",
              "      <td>NaN</td>\n",
              "      <td>NaN</td>\n",
              "      <td>NaN</td>\n",
              "      <td>NaN</td>\n",
              "    </tr>\n",
              "    <tr>\n",
              "      <th>239</th>\n",
              "      <td>488.70</td>\n",
              "      <td>906.92</td>\n",
              "      <td>3089.85</td>\n",
              "      <td>25220</td>\n",
              "      <td>NaN</td>\n",
              "      <td>NaN</td>\n",
              "      <td>NaN</td>\n",
              "      <td>NaN</td>\n",
              "      <td>NaN</td>\n",
              "    </tr>\n",
              "  </tbody>\n",
              "</table>\n",
              "<p>240 rows × 9 columns</p>\n",
              "</div>"
            ],
            "text/plain": [
              "     outgoing_mins_per_month  outgoing_sms_per_month  ...    device  use_type_id\n",
              "0                      21.97                    4.82  ...  GT-I9505          1.0\n",
              "1                    1710.08                  136.88  ...  SM-G930F          1.0\n",
              "2                    1710.08                  136.88  ...  SM-G930F          1.0\n",
              "3                      94.46                   35.17  ...     D2303          1.0\n",
              "4                      71.59                   79.26  ...  SM-G361F          1.0\n",
              "..                       ...                     ...  ...       ...          ...\n",
              "235                   260.66                   68.44  ...       NaN          NaN\n",
              "236                    97.12                   36.50  ...       NaN          NaN\n",
              "237                   355.93                   12.37  ...       NaN          NaN\n",
              "238                   632.06                  120.46  ...       NaN          NaN\n",
              "239                   488.70                  906.92  ...       NaN          NaN\n",
              "\n",
              "[240 rows x 9 columns]"
            ]
          },
          "metadata": {},
          "execution_count": 152
        }
      ]
    },
    {
      "cell_type": "markdown",
      "source": [
        "## full outer join"
      ],
      "metadata": {
        "id": "0TwU4D8dEzPE"
      }
    },
    {
      "cell_type": "code",
      "source": [
        "pd.merge(left=user_usage, right=user_device, on='use_id', how='outer')"
      ],
      "metadata": {
        "colab": {
          "base_uri": "https://localhost:8080/",
          "height": 441
        },
        "id": "qdOZmg5eFnGi",
        "outputId": "bc6eca4d-8a6e-4e06-8b23-a226c073d8db"
      },
      "execution_count": null,
      "outputs": [
        {
          "output_type": "execute_result",
          "data": {
            "text/html": [
              "<div>\n",
              "<style scoped>\n",
              "    .dataframe tbody tr th:only-of-type {\n",
              "        vertical-align: middle;\n",
              "    }\n",
              "\n",
              "    .dataframe tbody tr th {\n",
              "        vertical-align: top;\n",
              "    }\n",
              "\n",
              "    .dataframe thead th {\n",
              "        text-align: right;\n",
              "    }\n",
              "</style>\n",
              "<table border=\"1\" class=\"dataframe\">\n",
              "  <thead>\n",
              "    <tr style=\"text-align: right;\">\n",
              "      <th></th>\n",
              "      <th>outgoing_mins_per_month</th>\n",
              "      <th>outgoing_sms_per_month</th>\n",
              "      <th>monthly_mb</th>\n",
              "      <th>use_id</th>\n",
              "      <th>user_id</th>\n",
              "      <th>platform</th>\n",
              "      <th>platform_version</th>\n",
              "      <th>device</th>\n",
              "      <th>use_type_id</th>\n",
              "    </tr>\n",
              "  </thead>\n",
              "  <tbody>\n",
              "    <tr>\n",
              "      <th>0</th>\n",
              "      <td>21.97</td>\n",
              "      <td>4.82</td>\n",
              "      <td>1557.33</td>\n",
              "      <td>22787</td>\n",
              "      <td>12921.0</td>\n",
              "      <td>android</td>\n",
              "      <td>4.3</td>\n",
              "      <td>GT-I9505</td>\n",
              "      <td>1.0</td>\n",
              "    </tr>\n",
              "    <tr>\n",
              "      <th>1</th>\n",
              "      <td>1710.08</td>\n",
              "      <td>136.88</td>\n",
              "      <td>7267.55</td>\n",
              "      <td>22788</td>\n",
              "      <td>28714.0</td>\n",
              "      <td>android</td>\n",
              "      <td>6.0</td>\n",
              "      <td>SM-G930F</td>\n",
              "      <td>1.0</td>\n",
              "    </tr>\n",
              "    <tr>\n",
              "      <th>2</th>\n",
              "      <td>1710.08</td>\n",
              "      <td>136.88</td>\n",
              "      <td>7267.55</td>\n",
              "      <td>22789</td>\n",
              "      <td>28714.0</td>\n",
              "      <td>android</td>\n",
              "      <td>6.0</td>\n",
              "      <td>SM-G930F</td>\n",
              "      <td>1.0</td>\n",
              "    </tr>\n",
              "    <tr>\n",
              "      <th>3</th>\n",
              "      <td>94.46</td>\n",
              "      <td>35.17</td>\n",
              "      <td>519.12</td>\n",
              "      <td>22790</td>\n",
              "      <td>29592.0</td>\n",
              "      <td>android</td>\n",
              "      <td>5.1</td>\n",
              "      <td>D2303</td>\n",
              "      <td>1.0</td>\n",
              "    </tr>\n",
              "    <tr>\n",
              "      <th>4</th>\n",
              "      <td>71.59</td>\n",
              "      <td>79.26</td>\n",
              "      <td>1557.33</td>\n",
              "      <td>22792</td>\n",
              "      <td>28217.0</td>\n",
              "      <td>android</td>\n",
              "      <td>5.1</td>\n",
              "      <td>SM-G361F</td>\n",
              "      <td>1.0</td>\n",
              "    </tr>\n",
              "    <tr>\n",
              "      <th>...</th>\n",
              "      <td>...</td>\n",
              "      <td>...</td>\n",
              "      <td>...</td>\n",
              "      <td>...</td>\n",
              "      <td>...</td>\n",
              "      <td>...</td>\n",
              "      <td>...</td>\n",
              "      <td>...</td>\n",
              "      <td>...</td>\n",
              "    </tr>\n",
              "    <tr>\n",
              "      <th>348</th>\n",
              "      <td>NaN</td>\n",
              "      <td>NaN</td>\n",
              "      <td>NaN</td>\n",
              "      <td>23047</td>\n",
              "      <td>29720.0</td>\n",
              "      <td>ios</td>\n",
              "      <td>10.2</td>\n",
              "      <td>iPhone7,1</td>\n",
              "      <td>2.0</td>\n",
              "    </tr>\n",
              "    <tr>\n",
              "      <th>349</th>\n",
              "      <td>NaN</td>\n",
              "      <td>NaN</td>\n",
              "      <td>NaN</td>\n",
              "      <td>23048</td>\n",
              "      <td>29724.0</td>\n",
              "      <td>android</td>\n",
              "      <td>6.0</td>\n",
              "      <td>ONEPLUS A3003</td>\n",
              "      <td>3.0</td>\n",
              "    </tr>\n",
              "    <tr>\n",
              "      <th>350</th>\n",
              "      <td>NaN</td>\n",
              "      <td>NaN</td>\n",
              "      <td>NaN</td>\n",
              "      <td>23050</td>\n",
              "      <td>29726.0</td>\n",
              "      <td>ios</td>\n",
              "      <td>10.2</td>\n",
              "      <td>iPhone7,2</td>\n",
              "      <td>3.0</td>\n",
              "    </tr>\n",
              "    <tr>\n",
              "      <th>351</th>\n",
              "      <td>NaN</td>\n",
              "      <td>NaN</td>\n",
              "      <td>NaN</td>\n",
              "      <td>23051</td>\n",
              "      <td>29726.0</td>\n",
              "      <td>ios</td>\n",
              "      <td>10.2</td>\n",
              "      <td>iPhone7,2</td>\n",
              "      <td>3.0</td>\n",
              "    </tr>\n",
              "    <tr>\n",
              "      <th>352</th>\n",
              "      <td>NaN</td>\n",
              "      <td>NaN</td>\n",
              "      <td>NaN</td>\n",
              "      <td>23052</td>\n",
              "      <td>29727.0</td>\n",
              "      <td>ios</td>\n",
              "      <td>10.1</td>\n",
              "      <td>iPhone8,4</td>\n",
              "      <td>3.0</td>\n",
              "    </tr>\n",
              "  </tbody>\n",
              "</table>\n",
              "<p>353 rows × 9 columns</p>\n",
              "</div>"
            ],
            "text/plain": [
              "     outgoing_mins_per_month  ...  use_type_id\n",
              "0                      21.97  ...          1.0\n",
              "1                    1710.08  ...          1.0\n",
              "2                    1710.08  ...          1.0\n",
              "3                      94.46  ...          1.0\n",
              "4                      71.59  ...          1.0\n",
              "..                       ...  ...          ...\n",
              "348                      NaN  ...          2.0\n",
              "349                      NaN  ...          3.0\n",
              "350                      NaN  ...          3.0\n",
              "351                      NaN  ...          3.0\n",
              "352                      NaN  ...          3.0\n",
              "\n",
              "[353 rows x 9 columns]"
            ]
          },
          "metadata": {},
          "execution_count": 153
        }
      ]
    },
    {
      "cell_type": "markdown",
      "source": [
        "# 결론\n",
        "- 데이터 전처리 작업의 핵심은 합치고, 나누고, 붙이고, 자르는 작업\n",
        "  - 무한히 반복\n",
        "  - `인공지능`이라는 개념이 나오면서 더더욱 오해가 심해져 가고 있는데\n",
        "    - 뭔가 업무가 스마트할 것 같고, 있어 보이는 이런 작업\n",
        "    - 실제 작업은 그렇게 스마트 하지 않아요\n",
        "\n",
        "  - 실제 업무의 80%는 다 이런 작업이에요"
      ],
      "metadata": {
        "id": "EkAc_SjeF2rv"
      }
    }
  ]
}