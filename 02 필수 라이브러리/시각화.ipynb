{
  "nbformat": 4,
  "nbformat_minor": 0,
  "metadata": {
    "colab": {
      "name": "시각화.ipynb",
      "provenance": [],
      "toc_visible": true,
      "collapsed_sections": []
    },
    "kernelspec": {
      "name": "python3",
      "display_name": "Python 3"
    },
    "language_info": {
      "name": "python"
    }
  },
  "cells": [
    {
      "cell_type": "code",
      "execution_count": null,
      "metadata": {
        "id": "dD-KkNmpIyLG"
      },
      "outputs": [],
      "source": [
        "import numpy as np\n",
        "import pandas as pd\n",
        "\n",
        "# 파이썬의 대표적인 시각화 라이브러리\n",
        "import matplotlib.pyplot as plt\n",
        "import seaborn as sns"
      ]
    },
    {
      "cell_type": "code",
      "source": [
        "rawData = pd.read_csv('/content/drive/MyDrive/멀티캠퍼스/data/health_2016.csv')\n",
        "rawData"
      ],
      "metadata": {
        "colab": {
          "base_uri": "https://localhost:8080/",
          "height": 582
        },
        "id": "PBZ2bX7xJnVl",
        "outputId": "855cb5d2-4a3b-4575-b543-826cad67ab34"
      },
      "execution_count": null,
      "outputs": [
        {
          "output_type": "execute_result",
          "data": {
            "text/html": [
              "<div>\n",
              "<style scoped>\n",
              "    .dataframe tbody tr th:only-of-type {\n",
              "        vertical-align: middle;\n",
              "    }\n",
              "\n",
              "    .dataframe tbody tr th {\n",
              "        vertical-align: top;\n",
              "    }\n",
              "\n",
              "    .dataframe thead th {\n",
              "        text-align: right;\n",
              "    }\n",
              "</style>\n",
              "<table border=\"1\" class=\"dataframe\">\n",
              "  <thead>\n",
              "    <tr style=\"text-align: right;\">\n",
              "      <th></th>\n",
              "      <th>기준년도</th>\n",
              "      <th>가입자일련번호</th>\n",
              "      <th>성별코드</th>\n",
              "      <th>연령대코드(5세단위)</th>\n",
              "      <th>시도코드</th>\n",
              "      <th>신장(5Cm단위)</th>\n",
              "      <th>체중(5Kg단위)</th>\n",
              "      <th>허리둘레</th>\n",
              "      <th>시력(좌)</th>\n",
              "      <th>시력(우)</th>\n",
              "      <th>청력(좌)</th>\n",
              "      <th>청력(우)</th>\n",
              "      <th>수축기혈압</th>\n",
              "      <th>이완기혈압</th>\n",
              "      <th>식전혈당(공복혈당)</th>\n",
              "      <th>총콜레스테롤</th>\n",
              "      <th>트리글리세라이드</th>\n",
              "      <th>HDL콜레스테롤</th>\n",
              "      <th>LDL콜레스테롤</th>\n",
              "      <th>혈색소</th>\n",
              "      <th>요단백</th>\n",
              "      <th>혈청크레아티닌</th>\n",
              "      <th>(혈청지오티)AST</th>\n",
              "      <th>(혈청지오티)ALT</th>\n",
              "      <th>감마지티피</th>\n",
              "      <th>흡연상태</th>\n",
              "      <th>음주여부</th>\n",
              "      <th>구강검진 수검여부</th>\n",
              "      <th>치아우식증유무</th>\n",
              "      <th>결손치유무</th>\n",
              "      <th>치아마모증유무</th>\n",
              "      <th>제3대구치(사랑니)이상</th>\n",
              "      <th>치석</th>\n",
              "      <th>데이터공개일자</th>\n",
              "    </tr>\n",
              "  </thead>\n",
              "  <tbody>\n",
              "    <tr>\n",
              "      <th>0</th>\n",
              "      <td>2016</td>\n",
              "      <td>465969</td>\n",
              "      <td>1</td>\n",
              "      <td>8</td>\n",
              "      <td>41</td>\n",
              "      <td>170.0</td>\n",
              "      <td>70.0</td>\n",
              "      <td>74.0</td>\n",
              "      <td>0.7</td>\n",
              "      <td>0.7</td>\n",
              "      <td>1.0</td>\n",
              "      <td>1.0</td>\n",
              "      <td>118.0</td>\n",
              "      <td>70.0</td>\n",
              "      <td>85.0</td>\n",
              "      <td>194.0</td>\n",
              "      <td>97.0</td>\n",
              "      <td>54.0</td>\n",
              "      <td>120.0</td>\n",
              "      <td>14.6</td>\n",
              "      <td>2.0</td>\n",
              "      <td>1.1</td>\n",
              "      <td>31.0</td>\n",
              "      <td>36.0</td>\n",
              "      <td>96.0</td>\n",
              "      <td>3.0</td>\n",
              "      <td>NaN</td>\n",
              "      <td>1</td>\n",
              "      <td>NaN</td>\n",
              "      <td>NaN</td>\n",
              "      <td>NaN</td>\n",
              "      <td>NaN</td>\n",
              "      <td>2.0</td>\n",
              "      <td>20171219</td>\n",
              "    </tr>\n",
              "    <tr>\n",
              "      <th>1</th>\n",
              "      <td>2016</td>\n",
              "      <td>565871</td>\n",
              "      <td>1</td>\n",
              "      <td>10</td>\n",
              "      <td>41</td>\n",
              "      <td>160.0</td>\n",
              "      <td>60.0</td>\n",
              "      <td>81.0</td>\n",
              "      <td>1.2</td>\n",
              "      <td>1.0</td>\n",
              "      <td>1.0</td>\n",
              "      <td>1.0</td>\n",
              "      <td>134.0</td>\n",
              "      <td>84.0</td>\n",
              "      <td>105.0</td>\n",
              "      <td>143.0</td>\n",
              "      <td>84.0</td>\n",
              "      <td>33.0</td>\n",
              "      <td>93.0</td>\n",
              "      <td>16.2</td>\n",
              "      <td>1.0</td>\n",
              "      <td>1.0</td>\n",
              "      <td>20.0</td>\n",
              "      <td>23.0</td>\n",
              "      <td>14.0</td>\n",
              "      <td>1.0</td>\n",
              "      <td>NaN</td>\n",
              "      <td>0</td>\n",
              "      <td>NaN</td>\n",
              "      <td>NaN</td>\n",
              "      <td>NaN</td>\n",
              "      <td>NaN</td>\n",
              "      <td>NaN</td>\n",
              "      <td>20171219</td>\n",
              "    </tr>\n",
              "    <tr>\n",
              "      <th>2</th>\n",
              "      <td>2016</td>\n",
              "      <td>115718</td>\n",
              "      <td>2</td>\n",
              "      <td>11</td>\n",
              "      <td>11</td>\n",
              "      <td>160.0</td>\n",
              "      <td>55.0</td>\n",
              "      <td>71.0</td>\n",
              "      <td>1.0</td>\n",
              "      <td>1.0</td>\n",
              "      <td>1.0</td>\n",
              "      <td>1.0</td>\n",
              "      <td>129.0</td>\n",
              "      <td>85.0</td>\n",
              "      <td>86.0</td>\n",
              "      <td>203.0</td>\n",
              "      <td>52.0</td>\n",
              "      <td>51.0</td>\n",
              "      <td>141.0</td>\n",
              "      <td>14.0</td>\n",
              "      <td>1.0</td>\n",
              "      <td>0.8</td>\n",
              "      <td>17.0</td>\n",
              "      <td>14.0</td>\n",
              "      <td>20.0</td>\n",
              "      <td>1.0</td>\n",
              "      <td>NaN</td>\n",
              "      <td>1</td>\n",
              "      <td>NaN</td>\n",
              "      <td>NaN</td>\n",
              "      <td>NaN</td>\n",
              "      <td>NaN</td>\n",
              "      <td>0.0</td>\n",
              "      <td>20171219</td>\n",
              "    </tr>\n",
              "    <tr>\n",
              "      <th>3</th>\n",
              "      <td>2016</td>\n",
              "      <td>767524</td>\n",
              "      <td>1</td>\n",
              "      <td>6</td>\n",
              "      <td>28</td>\n",
              "      <td>180.0</td>\n",
              "      <td>70.0</td>\n",
              "      <td>79.0</td>\n",
              "      <td>1.0</td>\n",
              "      <td>0.9</td>\n",
              "      <td>1.0</td>\n",
              "      <td>1.0</td>\n",
              "      <td>137.0</td>\n",
              "      <td>78.0</td>\n",
              "      <td>92.0</td>\n",
              "      <td>154.0</td>\n",
              "      <td>53.0</td>\n",
              "      <td>55.0</td>\n",
              "      <td>94.0</td>\n",
              "      <td>14.6</td>\n",
              "      <td>1.0</td>\n",
              "      <td>1.0</td>\n",
              "      <td>21.0</td>\n",
              "      <td>23.0</td>\n",
              "      <td>16.0</td>\n",
              "      <td>1.0</td>\n",
              "      <td>NaN</td>\n",
              "      <td>0</td>\n",
              "      <td>NaN</td>\n",
              "      <td>NaN</td>\n",
              "      <td>NaN</td>\n",
              "      <td>NaN</td>\n",
              "      <td>NaN</td>\n",
              "      <td>20171219</td>\n",
              "    </tr>\n",
              "    <tr>\n",
              "      <th>4</th>\n",
              "      <td>2016</td>\n",
              "      <td>482178</td>\n",
              "      <td>2</td>\n",
              "      <td>9</td>\n",
              "      <td>11</td>\n",
              "      <td>160.0</td>\n",
              "      <td>60.0</td>\n",
              "      <td>85.0</td>\n",
              "      <td>0.8</td>\n",
              "      <td>1.2</td>\n",
              "      <td>1.0</td>\n",
              "      <td>1.0</td>\n",
              "      <td>92.0</td>\n",
              "      <td>60.0</td>\n",
              "      <td>90.0</td>\n",
              "      <td>239.0</td>\n",
              "      <td>148.0</td>\n",
              "      <td>46.0</td>\n",
              "      <td>163.0</td>\n",
              "      <td>10.3</td>\n",
              "      <td>1.0</td>\n",
              "      <td>0.9</td>\n",
              "      <td>17.0</td>\n",
              "      <td>12.0</td>\n",
              "      <td>13.0</td>\n",
              "      <td>1.0</td>\n",
              "      <td>NaN</td>\n",
              "      <td>1</td>\n",
              "      <td>NaN</td>\n",
              "      <td>NaN</td>\n",
              "      <td>NaN</td>\n",
              "      <td>NaN</td>\n",
              "      <td>0.0</td>\n",
              "      <td>20171219</td>\n",
              "    </tr>\n",
              "    <tr>\n",
              "      <th>...</th>\n",
              "      <td>...</td>\n",
              "      <td>...</td>\n",
              "      <td>...</td>\n",
              "      <td>...</td>\n",
              "      <td>...</td>\n",
              "      <td>...</td>\n",
              "      <td>...</td>\n",
              "      <td>...</td>\n",
              "      <td>...</td>\n",
              "      <td>...</td>\n",
              "      <td>...</td>\n",
              "      <td>...</td>\n",
              "      <td>...</td>\n",
              "      <td>...</td>\n",
              "      <td>...</td>\n",
              "      <td>...</td>\n",
              "      <td>...</td>\n",
              "      <td>...</td>\n",
              "      <td>...</td>\n",
              "      <td>...</td>\n",
              "      <td>...</td>\n",
              "      <td>...</td>\n",
              "      <td>...</td>\n",
              "      <td>...</td>\n",
              "      <td>...</td>\n",
              "      <td>...</td>\n",
              "      <td>...</td>\n",
              "      <td>...</td>\n",
              "      <td>...</td>\n",
              "      <td>...</td>\n",
              "      <td>...</td>\n",
              "      <td>...</td>\n",
              "      <td>...</td>\n",
              "      <td>...</td>\n",
              "    </tr>\n",
              "    <tr>\n",
              "      <th>995</th>\n",
              "      <td>2016</td>\n",
              "      <td>206725</td>\n",
              "      <td>2</td>\n",
              "      <td>12</td>\n",
              "      <td>41</td>\n",
              "      <td>150.0</td>\n",
              "      <td>60.0</td>\n",
              "      <td>86.0</td>\n",
              "      <td>0.8</td>\n",
              "      <td>0.8</td>\n",
              "      <td>1.0</td>\n",
              "      <td>1.0</td>\n",
              "      <td>117.0</td>\n",
              "      <td>80.0</td>\n",
              "      <td>121.0</td>\n",
              "      <td>226.0</td>\n",
              "      <td>103.0</td>\n",
              "      <td>73.0</td>\n",
              "      <td>132.0</td>\n",
              "      <td>13.6</td>\n",
              "      <td>1.0</td>\n",
              "      <td>0.9</td>\n",
              "      <td>24.0</td>\n",
              "      <td>36.0</td>\n",
              "      <td>34.0</td>\n",
              "      <td>1.0</td>\n",
              "      <td>NaN</td>\n",
              "      <td>0</td>\n",
              "      <td>NaN</td>\n",
              "      <td>NaN</td>\n",
              "      <td>NaN</td>\n",
              "      <td>NaN</td>\n",
              "      <td>NaN</td>\n",
              "      <td>20171219</td>\n",
              "    </tr>\n",
              "    <tr>\n",
              "      <th>996</th>\n",
              "      <td>2016</td>\n",
              "      <td>339681</td>\n",
              "      <td>2</td>\n",
              "      <td>12</td>\n",
              "      <td>48</td>\n",
              "      <td>155.0</td>\n",
              "      <td>55.0</td>\n",
              "      <td>66.0</td>\n",
              "      <td>0.8</td>\n",
              "      <td>0.7</td>\n",
              "      <td>1.0</td>\n",
              "      <td>1.0</td>\n",
              "      <td>122.0</td>\n",
              "      <td>85.0</td>\n",
              "      <td>103.0</td>\n",
              "      <td>181.0</td>\n",
              "      <td>70.0</td>\n",
              "      <td>81.0</td>\n",
              "      <td>86.0</td>\n",
              "      <td>11.0</td>\n",
              "      <td>1.0</td>\n",
              "      <td>0.7</td>\n",
              "      <td>24.0</td>\n",
              "      <td>20.0</td>\n",
              "      <td>21.0</td>\n",
              "      <td>1.0</td>\n",
              "      <td>NaN</td>\n",
              "      <td>0</td>\n",
              "      <td>NaN</td>\n",
              "      <td>NaN</td>\n",
              "      <td>NaN</td>\n",
              "      <td>NaN</td>\n",
              "      <td>NaN</td>\n",
              "      <td>20171219</td>\n",
              "    </tr>\n",
              "    <tr>\n",
              "      <th>997</th>\n",
              "      <td>2016</td>\n",
              "      <td>653494</td>\n",
              "      <td>2</td>\n",
              "      <td>11</td>\n",
              "      <td>11</td>\n",
              "      <td>155.0</td>\n",
              "      <td>45.0</td>\n",
              "      <td>66.0</td>\n",
              "      <td>1.2</td>\n",
              "      <td>1.0</td>\n",
              "      <td>1.0</td>\n",
              "      <td>1.0</td>\n",
              "      <td>104.0</td>\n",
              "      <td>71.0</td>\n",
              "      <td>80.0</td>\n",
              "      <td>222.0</td>\n",
              "      <td>46.0</td>\n",
              "      <td>61.0</td>\n",
              "      <td>152.0</td>\n",
              "      <td>13.2</td>\n",
              "      <td>1.0</td>\n",
              "      <td>0.8</td>\n",
              "      <td>18.0</td>\n",
              "      <td>14.0</td>\n",
              "      <td>16.0</td>\n",
              "      <td>1.0</td>\n",
              "      <td>NaN</td>\n",
              "      <td>1</td>\n",
              "      <td>NaN</td>\n",
              "      <td>NaN</td>\n",
              "      <td>NaN</td>\n",
              "      <td>NaN</td>\n",
              "      <td>0.0</td>\n",
              "      <td>20171219</td>\n",
              "    </tr>\n",
              "    <tr>\n",
              "      <th>998</th>\n",
              "      <td>2016</td>\n",
              "      <td>190984</td>\n",
              "      <td>2</td>\n",
              "      <td>14</td>\n",
              "      <td>41</td>\n",
              "      <td>145.0</td>\n",
              "      <td>50.0</td>\n",
              "      <td>80.0</td>\n",
              "      <td>0.5</td>\n",
              "      <td>0.5</td>\n",
              "      <td>1.0</td>\n",
              "      <td>1.0</td>\n",
              "      <td>133.0</td>\n",
              "      <td>68.0</td>\n",
              "      <td>91.0</td>\n",
              "      <td>164.0</td>\n",
              "      <td>101.0</td>\n",
              "      <td>52.0</td>\n",
              "      <td>91.0</td>\n",
              "      <td>13.9</td>\n",
              "      <td>1.0</td>\n",
              "      <td>0.8</td>\n",
              "      <td>37.0</td>\n",
              "      <td>25.0</td>\n",
              "      <td>17.0</td>\n",
              "      <td>1.0</td>\n",
              "      <td>NaN</td>\n",
              "      <td>0</td>\n",
              "      <td>NaN</td>\n",
              "      <td>NaN</td>\n",
              "      <td>NaN</td>\n",
              "      <td>NaN</td>\n",
              "      <td>NaN</td>\n",
              "      <td>20171219</td>\n",
              "    </tr>\n",
              "    <tr>\n",
              "      <th>999</th>\n",
              "      <td>2016</td>\n",
              "      <td>548105</td>\n",
              "      <td>1</td>\n",
              "      <td>6</td>\n",
              "      <td>41</td>\n",
              "      <td>170.0</td>\n",
              "      <td>80.0</td>\n",
              "      <td>85.0</td>\n",
              "      <td>1.2</td>\n",
              "      <td>1.5</td>\n",
              "      <td>1.0</td>\n",
              "      <td>1.0</td>\n",
              "      <td>121.0</td>\n",
              "      <td>72.0</td>\n",
              "      <td>94.0</td>\n",
              "      <td>202.0</td>\n",
              "      <td>82.0</td>\n",
              "      <td>42.0</td>\n",
              "      <td>144.0</td>\n",
              "      <td>15.6</td>\n",
              "      <td>1.0</td>\n",
              "      <td>1.0</td>\n",
              "      <td>18.0</td>\n",
              "      <td>19.0</td>\n",
              "      <td>33.0</td>\n",
              "      <td>3.0</td>\n",
              "      <td>NaN</td>\n",
              "      <td>1</td>\n",
              "      <td>NaN</td>\n",
              "      <td>NaN</td>\n",
              "      <td>NaN</td>\n",
              "      <td>NaN</td>\n",
              "      <td>0.0</td>\n",
              "      <td>20171219</td>\n",
              "    </tr>\n",
              "  </tbody>\n",
              "</table>\n",
              "<p>1000 rows × 34 columns</p>\n",
              "</div>"
            ],
            "text/plain": [
              "     기준년도  가입자일련번호  성별코드  연령대코드(5세단위)  ...  치아마모증유무  제3대구치(사랑니)이상   치석   데이터공개일자\n",
              "0    2016   465969     1            8  ...      NaN           NaN  2.0  20171219\n",
              "1    2016   565871     1           10  ...      NaN           NaN  NaN  20171219\n",
              "2    2016   115718     2           11  ...      NaN           NaN  0.0  20171219\n",
              "3    2016   767524     1            6  ...      NaN           NaN  NaN  20171219\n",
              "4    2016   482178     2            9  ...      NaN           NaN  0.0  20171219\n",
              "..    ...      ...   ...          ...  ...      ...           ...  ...       ...\n",
              "995  2016   206725     2           12  ...      NaN           NaN  NaN  20171219\n",
              "996  2016   339681     2           12  ...      NaN           NaN  NaN  20171219\n",
              "997  2016   653494     2           11  ...      NaN           NaN  0.0  20171219\n",
              "998  2016   190984     2           14  ...      NaN           NaN  NaN  20171219\n",
              "999  2016   548105     1            6  ...      NaN           NaN  0.0  20171219\n",
              "\n",
              "[1000 rows x 34 columns]"
            ]
          },
          "metadata": {},
          "execution_count": 2
        }
      ]
    },
    {
      "cell_type": "markdown",
      "source": [
        "# 시각화\n",
        "- 자료 분석의 기본은 통계와 그래프 입니다. \n",
        "  - 통계는 수치를 통해서 자료를 이해\n",
        "  - 시각화는 자료에 대한 직관적인 이해\n",
        "\n",
        "- 시각화 하는 방법은 정해져 있습니다.\n",
        "  - 자료(변수)의 형태에 따라서, 그릴 수 있는 그래프는 이미 결정\n",
        "  - 자료(변수)의 갯수에 따라서, 그릴 수 있는 그래프는 이미 결정\n",
        "    - 1변수, 다변수(2변수 이상인 경우)\n",
        "    - 전통적인 통계적인 분석에서 3변수 이상은 잘 다루지 않습니다. \n",
        "    - 현재 빅 데이터는 아주아주 많은 변수를 다룬다고 보면 됩니다."
      ],
      "metadata": {
        "id": "EmqVaq2hNYcm"
      }
    },
    {
      "cell_type": "markdown",
      "source": [
        "## 파이썬에서의 데이터 시각화\n",
        "\n",
        "- [matplotlib](https://matplotlib.org/)\n",
        "  - 가장 기본적인 시각화 라이브러리\n",
        "  - 파이썬에서 제공하는 대부분의 다른 시각화 라이브러리들도 `matplotlib`을 기반으로 구현\n",
        "\n",
        "- [seaborn](https://seaborn.pydata.org/)\n",
        "  - matplitlib을 기반으로 만들어진 라이브러리\n",
        "  - 사용하기 쉽고, 예쁘게 만들어졌어요\n",
        "  - 주로, 자료의 시각화를 하는 경우에 많이 사용\n",
        "\n",
        "- [plotly](https://plotly.com/python/)\n",
        "  - 장점은 예쁘고, 사용하기 편해요, 특히 3차원 그래프도 편하게 그릴수 있습니다. \n",
        "  - 인터렉티브한 사용이 가능(회전, 확대, 클릭, ... )\n",
        "  - 단점은 많이 무거워요(느리다)"
      ],
      "metadata": {
        "id": "3GaGFLJ2OBCU"
      }
    },
    {
      "cell_type": "markdown",
      "source": [
        "## 한글화\n",
        "- 기본적으로 matplotlib은 한글을 지원하지 않습니다. \n",
        "  - matplotlib이 사용하는 폰트가 한글을 지원하지 않는 폰트를 사용\n",
        "  - 결국, 폰트를 바꿔줘야 합니다. \n",
        "  - 콜랩에서는 폰트를 바꾸는 작업이 까다롭습니다. \n",
        "    - 가상환경(클라우드)이라서, 작업을 하면, 작업 내용이 저장되지 않습니다\n",
        "    - 폰트를 설치해도, 다음에 다시 실행하면, 폰트를 다시 설치해야 됩니다. "
      ],
      "metadata": {
        "id": "KBumvxQ4PqD_"
      }
    },
    {
      "cell_type": "code",
      "source": [
        "# 일단 그래프 그려볼게요\n",
        "x = np.linspace(1, 10, 1000)\n",
        "y = x * x ** 2\n",
        "plt.plot(x, y)\n",
        "plt.title('한글이 나오지 않습니다')"
      ],
      "metadata": {
        "colab": {
          "base_uri": "https://localhost:8080/",
          "height": 996
        },
        "id": "w3zWN_dGQS-k",
        "outputId": "2256e8d1-a3da-4769-9583-e67a56238fcd"
      },
      "execution_count": null,
      "outputs": [
        {
          "output_type": "execute_result",
          "data": {
            "text/plain": [
              "Text(0.5, 1.0, '한글이 나오지 않습니다')"
            ]
          },
          "metadata": {},
          "execution_count": 3
        },
        {
          "output_type": "stream",
          "name": "stderr",
          "text": [
            "/usr/local/lib/python3.7/dist-packages/matplotlib/backends/backend_agg.py:214: RuntimeWarning: Glyph 54620 missing from current font.\n",
            "  font.set_text(s, 0.0, flags=flags)\n",
            "/usr/local/lib/python3.7/dist-packages/matplotlib/backends/backend_agg.py:214: RuntimeWarning: Glyph 44544 missing from current font.\n",
            "  font.set_text(s, 0.0, flags=flags)\n",
            "/usr/local/lib/python3.7/dist-packages/matplotlib/backends/backend_agg.py:214: RuntimeWarning: Glyph 51060 missing from current font.\n",
            "  font.set_text(s, 0.0, flags=flags)\n",
            "/usr/local/lib/python3.7/dist-packages/matplotlib/backends/backend_agg.py:214: RuntimeWarning: Glyph 45208 missing from current font.\n",
            "  font.set_text(s, 0.0, flags=flags)\n",
            "/usr/local/lib/python3.7/dist-packages/matplotlib/backends/backend_agg.py:214: RuntimeWarning: Glyph 50724 missing from current font.\n",
            "  font.set_text(s, 0.0, flags=flags)\n",
            "/usr/local/lib/python3.7/dist-packages/matplotlib/backends/backend_agg.py:214: RuntimeWarning: Glyph 51648 missing from current font.\n",
            "  font.set_text(s, 0.0, flags=flags)\n",
            "/usr/local/lib/python3.7/dist-packages/matplotlib/backends/backend_agg.py:214: RuntimeWarning: Glyph 50506 missing from current font.\n",
            "  font.set_text(s, 0.0, flags=flags)\n",
            "/usr/local/lib/python3.7/dist-packages/matplotlib/backends/backend_agg.py:214: RuntimeWarning: Glyph 49845 missing from current font.\n",
            "  font.set_text(s, 0.0, flags=flags)\n",
            "/usr/local/lib/python3.7/dist-packages/matplotlib/backends/backend_agg.py:214: RuntimeWarning: Glyph 45768 missing from current font.\n",
            "  font.set_text(s, 0.0, flags=flags)\n",
            "/usr/local/lib/python3.7/dist-packages/matplotlib/backends/backend_agg.py:214: RuntimeWarning: Glyph 45796 missing from current font.\n",
            "  font.set_text(s, 0.0, flags=flags)\n",
            "/usr/local/lib/python3.7/dist-packages/matplotlib/backends/backend_agg.py:183: RuntimeWarning: Glyph 54620 missing from current font.\n",
            "  font.set_text(s, 0, flags=flags)\n",
            "/usr/local/lib/python3.7/dist-packages/matplotlib/backends/backend_agg.py:183: RuntimeWarning: Glyph 44544 missing from current font.\n",
            "  font.set_text(s, 0, flags=flags)\n",
            "/usr/local/lib/python3.7/dist-packages/matplotlib/backends/backend_agg.py:183: RuntimeWarning: Glyph 51060 missing from current font.\n",
            "  font.set_text(s, 0, flags=flags)\n",
            "/usr/local/lib/python3.7/dist-packages/matplotlib/backends/backend_agg.py:183: RuntimeWarning: Glyph 45208 missing from current font.\n",
            "  font.set_text(s, 0, flags=flags)\n",
            "/usr/local/lib/python3.7/dist-packages/matplotlib/backends/backend_agg.py:183: RuntimeWarning: Glyph 50724 missing from current font.\n",
            "  font.set_text(s, 0, flags=flags)\n",
            "/usr/local/lib/python3.7/dist-packages/matplotlib/backends/backend_agg.py:183: RuntimeWarning: Glyph 51648 missing from current font.\n",
            "  font.set_text(s, 0, flags=flags)\n",
            "/usr/local/lib/python3.7/dist-packages/matplotlib/backends/backend_agg.py:183: RuntimeWarning: Glyph 50506 missing from current font.\n",
            "  font.set_text(s, 0, flags=flags)\n",
            "/usr/local/lib/python3.7/dist-packages/matplotlib/backends/backend_agg.py:183: RuntimeWarning: Glyph 49845 missing from current font.\n",
            "  font.set_text(s, 0, flags=flags)\n",
            "/usr/local/lib/python3.7/dist-packages/matplotlib/backends/backend_agg.py:183: RuntimeWarning: Glyph 45768 missing from current font.\n",
            "  font.set_text(s, 0, flags=flags)\n",
            "/usr/local/lib/python3.7/dist-packages/matplotlib/backends/backend_agg.py:183: RuntimeWarning: Glyph 45796 missing from current font.\n",
            "  font.set_text(s, 0, flags=flags)\n"
          ]
        },
        {
          "output_type": "display_data",
          "data": {
            "image/png": "[encoded data removed]",
            "text/plain": [
              "<Figure size 432x288 with 1 Axes>"
            ]
          },
          "metadata": {
            "needs_background": "light"
          }
        }
      ]
    },
    {
      "cell_type": "markdown",
      "source": [
        "### 1.라이브러리 임포트"
      ],
      "metadata": {
        "id": "3BKeUWRYRhRO"
      }
    },
    {
      "cell_type": "code",
      "source": [
        "# 폰트 설정을 위한 라이브러리 임포트\n",
        "from matplotlib import font_manager, rcParams"
      ],
      "metadata": {
        "id": "gWtYTyaZRAZv"
      },
      "execution_count": null,
      "outputs": []
    },
    {
      "cell_type": "markdown",
      "source": [
        "### 2.한글 폰트 설치"
      ],
      "metadata": {
        "id": "WBukslf_Rj0-"
      }
    },
    {
      "cell_type": "code",
      "source": [
        "# 한글 표현이 가능한 폰트를 설치\n",
        "!apt-get install fonts-nanum*"
      ],
      "metadata": {
        "colab": {
          "base_uri": "https://localhost:8080/"
        },
        "id": "ZbWx9RxXRbNb",
        "outputId": "bb61f5b5-806b-4b83-fba1-4cce9b80d058"
      },
      "execution_count": null,
      "outputs": [
        {
          "output_type": "stream",
          "name": "stdout",
          "text": [
            "Reading package lists... Done\n",
            "Building dependency tree       \n",
            "Reading state information... Done\n",
            "Note, selecting 'fonts-nanum-eco' for glob 'fonts-nanum*'\n",
            "Note, selecting 'fonts-nanum' for glob 'fonts-nanum*'\n",
            "Note, selecting 'fonts-nanum-gothic-light' for glob 'fonts-nanum*'\n",
            "Note, selecting 'fonts-nanum-coding' for glob 'fonts-nanum*'\n",
            "Note, selecting 'fonts-nanum-extra' for glob 'fonts-nanum*'\n",
            "fonts-nanum is already the newest version (20170925-1).\n",
            "fonts-nanum-coding is already the newest version (2.5-1).\n",
            "fonts-nanum-eco is already the newest version (1.000-6).\n",
            "fonts-nanum-extra is already the newest version (20170925-1).\n",
            "0 upgraded, 0 newly installed, 0 to remove and 37 not upgraded.\n"
          ]
        }
      ]
    },
    {
      "cell_type": "markdown",
      "source": [
        "### 3.설치된 폰트를 확인"
      ],
      "metadata": {
        "id": "i13JQfkaRut9"
      }
    },
    {
      "cell_type": "code",
      "source": [
        "font_manager.findSystemFonts(fontext='ttf')"
      ],
      "metadata": {
        "colab": {
          "base_uri": "https://localhost:8080/"
        },
        "id": "PbpfS9yTRcFB",
        "outputId": "1ea0ad9b-212f-4b9b-d80f-b79bf6dfa0c3"
      },
      "execution_count": null,
      "outputs": [
        {
          "output_type": "execute_result",
          "data": {
            "text/plain": [
              "['/usr/share/fonts/truetype/liberation/LiberationSansNarrow-Regular.ttf',\n",
              " '/usr/share/fonts/truetype/nanum/NanumGothicCoding-Bold.ttf',\n",
              " '/usr/share/fonts/truetype/nanum/NanumBarunGothicLight.ttf',\n",
              " '/usr/share/fonts/truetype/liberation/LiberationSans-Bold.ttf',\n",
              " '/usr/share/fonts/truetype/nanum/NanumSquareL.ttf',\n",
              " '/usr/share/fonts/truetype/liberation/LiberationSerif-Italic.ttf',\n",
              " '/usr/share/fonts/truetype/nanum/NanumMyeongjoBold.ttf',\n",
              " '/usr/share/fonts/truetype/nanum/NanumGothicEcoExtraBold.ttf',\n",
              " '/usr/share/fonts/truetype/nanum/NanumGothicExtraBold.ttf',\n",
              " '/usr/share/fonts/truetype/nanum/NanumSquareRoundR.ttf',\n",
              " '/usr/share/fonts/truetype/nanum/NanumBrush.ttf',\n",
              " '/usr/share/fonts/truetype/humor-sans/Humor-Sans.ttf',\n",
              " '/usr/share/fonts/truetype/liberation/LiberationSans-Italic.ttf',\n",
              " '/usr/share/fonts/truetype/nanum/NanumMyeongjoEcoBold.ttf',\n",
              " '/usr/share/fonts/truetype/liberation/LiberationSerif-Bold.ttf',\n",
              " '/usr/share/fonts/truetype/liberation/LiberationSansNarrow-BoldItalic.ttf',\n",
              " '/usr/share/fonts/truetype/nanum/NanumGothicCoding.ttf',\n",
              " '/usr/share/fonts/truetype/nanum/NanumSquareEB.ttf',\n",
              " '/usr/share/fonts/truetype/nanum/NanumGothic.ttf',\n",
              " '/usr/share/fonts/truetype/liberation/LiberationMono-Italic.ttf',\n",
              " '/usr/share/fonts/truetype/nanum/NanumBarunGothicUltraLight.ttf',\n",
              " '/usr/share/fonts/truetype/nanum/NanumMyeongjo.ttf',\n",
              " '/usr/share/fonts/truetype/nanum/NanumPen.ttf',\n",
              " '/usr/share/fonts/truetype/nanum/NanumGothicBold.ttf',\n",
              " '/usr/share/fonts/truetype/nanum/NanumSquareR.ttf',\n",
              " '/usr/share/fonts/truetype/nanum/NanumGothicEcoBold.ttf',\n",
              " '/usr/share/fonts/truetype/nanum/NanumSquareRoundL.ttf',\n",
              " '/usr/share/fonts/truetype/liberation/LiberationMono-Regular.ttf',\n",
              " '/usr/share/fonts/truetype/liberation/LiberationSansNarrow-Bold.ttf',\n",
              " '/usr/share/fonts/truetype/liberation/LiberationSerif-Regular.ttf',\n",
              " '/usr/share/fonts/truetype/nanum/NanumGothicEco.ttf',\n",
              " '/usr/share/fonts/truetype/nanum/NanumSquareRoundEB.ttf',\n",
              " '/usr/share/fonts/truetype/liberation/LiberationMono-Bold.ttf',\n",
              " '/usr/share/fonts/truetype/liberation/LiberationMono-BoldItalic.ttf',\n",
              " '/usr/share/fonts/truetype/nanum/NanumSquareB.ttf',\n",
              " '/usr/share/fonts/truetype/nanum/NanumBarunGothicBold.ttf',\n",
              " '/usr/share/fonts/truetype/nanum/NanumBarunpenB.ttf',\n",
              " '/usr/share/fonts/truetype/liberation/LiberationSansNarrow-Italic.ttf',\n",
              " '/usr/share/fonts/truetype/nanum/NanumSquareRoundB.ttf',\n",
              " '/usr/share/fonts/truetype/liberation/LiberationSerif-BoldItalic.ttf',\n",
              " '/usr/share/fonts/truetype/liberation/LiberationSans-BoldItalic.ttf',\n",
              " '/usr/share/fonts/truetype/nanum/NanumBarunGothic.ttf',\n",
              " '/usr/share/fonts/truetype/nanum/NanumGothicLight.ttf',\n",
              " '/usr/share/fonts/truetype/nanum/NanumMyeongjoEcoExtraBold.ttf',\n",
              " '/usr/share/fonts/truetype/nanum/NanumBarunpenR.ttf',\n",
              " '/usr/share/fonts/truetype/nanum/NanumMyeongjoExtraBold.ttf',\n",
              " '/usr/share/fonts/truetype/liberation/LiberationSans-Regular.ttf',\n",
              " '/usr/share/fonts/truetype/nanum/NanumMyeongjoEco.ttf']"
            ]
          },
          "metadata": {},
          "execution_count": 6
        }
      ]
    },
    {
      "cell_type": "markdown",
      "source": [
        "### 4.설치된 폰트의 이름 확인"
      ],
      "metadata": {
        "id": "vCuvUjFFSE0V"
      }
    },
    {
      "cell_type": "code",
      "source": [
        "font_manager.FontProperties( fname='/usr/share/fonts/truetype/nanum/NanumGothicCoding.ttf').get_name()"
      ],
      "metadata": {
        "colab": {
          "base_uri": "https://localhost:8080/",
          "height": 35
        },
        "id": "9vwTN2glSG4G",
        "outputId": "d7059b60-8f2d-4ff9-d7e1-9912b4926d66"
      },
      "execution_count": null,
      "outputs": [
        {
          "output_type": "execute_result",
          "data": {
            "application/vnd.google.colaboratory.intrinsic+json": {
              "type": "string"
            },
            "text/plain": [
              "'NanumGothicCoding'"
            ]
          },
          "metadata": {},
          "execution_count": 7
        }
      ]
    },
    {
      "cell_type": "markdown",
      "source": [
        "### 5.폰트설정"
      ],
      "metadata": {
        "id": "b9coJ1KeSQNG"
      }
    },
    {
      "cell_type": "code",
      "source": [
        "# 폰트를 변경\n",
        "rcParams['font.family'] = 'NanumGothicCoding'\n",
        "\n",
        "# - 부호도 깨져서 나오기 때문에, 같이 설정\n",
        "rcParams['axes.unicode_minus'] = False"
      ],
      "metadata": {
        "id": "TrJnzovJSRkc"
      },
      "execution_count": null,
      "outputs": []
    },
    {
      "cell_type": "code",
      "source": [
        "# 설정을 변경했으면, rebuild를 통해서 변경된 설정을 적용\n",
        "font_manager._rebuild()"
      ],
      "metadata": {
        "id": "8gLisDCUSevv"
      },
      "execution_count": null,
      "outputs": []
    },
    {
      "cell_type": "code",
      "source": [
        "x = np.linspace(1, 10, 1000)\n",
        "y = x * x ** 2\n",
        "plt.plot(x, y)\n",
        "plt.title('한글이 나오지 않습니다')"
      ],
      "metadata": {
        "colab": {
          "base_uri": "https://localhost:8080/",
          "height": 297
        },
        "id": "NU95DogqSnV5",
        "outputId": "525fe87a-7ed2-41be-b541-82cdee717efa"
      },
      "execution_count": null,
      "outputs": [
        {
          "output_type": "execute_result",
          "data": {
            "text/plain": [
              "Text(0.5, 1.0, '한글이 나오지 않습니다')"
            ]
          },
          "metadata": {},
          "execution_count": 10
        },
        {
          "output_type": "display_data",
          "data": {
            "image/png": "[encoded data removed]",
            "text/plain": [
              "<Figure size 432x288 with 1 Axes>"
            ]
          },
          "metadata": {
            "needs_background": "light"
          }
        }
      ]
    },
    {
      "cell_type": "markdown",
      "source": [
        "### 전체 코드\n",
        "- 다른 노트북에서 한글 설정을 하시려면 아래의 전체코드를 사용하시면 됩니다. \n",
        "  - 주피터에서는 소스파일을 `노트북` 이라고 표현 합니다. \n",
        "- 아래의 명령을 두 번 실행해야 합니다.\n",
        "  - 아래 셀의 명령어들을 한 번 실행한 이후에\n",
        "  - `런타임` => `다시 시작 및 모두 실행`을 클릭하여 런타임 재시작 이후에 모든 셀의 명령을 다시 실행해 주세요"
      ],
      "metadata": {
        "id": "Wuq5E7t5Sqq8"
      }
    },
    {
      "cell_type": "code",
      "source": [
        "from matplotlib import font_manager, rcParams\n",
        "!apt-get install fonts-nanum*\n",
        "rcParams['font.family'] = 'NanumGothicCoding'\n",
        "rcParams['axes.unicode_minus'] = False\n",
        "font_manager._rebuild()"
      ],
      "metadata": {
        "id": "ElggXeF3TBLK"
      },
      "execution_count": null,
      "outputs": []
    },
    {
      "cell_type": "markdown",
      "source": [
        "# 그래프를 그리는 기준\n",
        "- 통계분석 에서도 동일한 기준으로 분석을 합니다.\n",
        "\n",
        "1. 자료의 형태(변수의 종류)\n",
        "  - 범주형과 연속형 자료로 구분해볼 수 있습니다. \n",
        "  - 질적변수 Vs. 양적변수\n",
        "    - 질적변수(Qualitative Variable): 변수의 값이 비 수치적, 특정 카테고리에 포함되는 경우\n",
        "      - 명목형: 특정 범주에 포함되지만, 순위를 갖지 않는 경우(성별, 혈액형, ... )\n",
        "      - 순위형: 특정 범주에 포함되지만, 순위를 갖는 경우(성적, 등급, ... )\n",
        "    - 양적변수(Quantitative Variable): 변수의 값이 수칙적이고, 연속적인 경우(키, 나이, ... )\n",
        "      - 이산형: 셀 수 있는 경우(정수인 경우) \n",
        "      - 연속형: 셀 수 없는 경우(실수인 경우)\n",
        "\n",
        "2. 자료의 차원\n",
        "  - 변수의 개수는 차원이 됩니다.\n",
        "  - 차원이 높으면, 시각화를 해볼 수 없습니다. \n",
        "    - 최대 2차원의 화면에서 3차원 까지만 나타낼 수 있습니다. \n",
        "  - 1차원\n",
        "    - 일변수(일변량): 변수 하나에 대한 시각화\n",
        "    - 변수의 분포 등을 확인\n",
        "  - 2차원\n",
        "    - 이변수(이변량): 변수와 변수의 관계를 확인하고 싶은 경우\n",
        "      - 연속형 변수와 연속형 변수\n",
        "      - 연속형 변수와 이산형 변수\n",
        "      - 이산형 변수와 이산형 변수"
      ],
      "metadata": {
        "id": "OJ50j5XZtcLy"
      }
    },
    {
      "cell_type": "markdown",
      "source": [
        "## 1차원 시각화\n",
        "- 변수 1개인 경우\n",
        "  - 범주형인 경우: countplot(빈도 확인)\n",
        "  - 연속형인 경우: histplot, displot"
      ],
      "metadata": {
        "id": "rC358lNhw08j"
      }
    },
    {
      "cell_type": "code",
      "source": [
        "rawData.describe(include='all').T"
      ],
      "metadata": {
        "colab": {
          "base_uri": "https://localhost:8080/",
          "height": 1000
        },
        "id": "03QMoaPyxuFO",
        "outputId": "59e35160-8b22-4bb1-a977-3a1f8e311f29"
      },
      "execution_count": null,
      "outputs": [
        {
          "output_type": "execute_result",
          "data": {
            "text/html": [
              "<div>\n",
              "<style scoped>\n",
              "    .dataframe tbody tr th:only-of-type {\n",
              "        vertical-align: middle;\n",
              "    }\n",
              "\n",
              "    .dataframe tbody tr th {\n",
              "        vertical-align: top;\n",
              "    }\n",
              "\n",
              "    .dataframe thead th {\n",
              "        text-align: right;\n",
              "    }\n",
              "</style>\n",
              "<table border=\"1\" class=\"dataframe\">\n",
              "  <thead>\n",
              "    <tr style=\"text-align: right;\">\n",
              "      <th></th>\n",
              "      <th>count</th>\n",
              "      <th>mean</th>\n",
              "      <th>std</th>\n",
              "      <th>min</th>\n",
              "      <th>25%</th>\n",
              "      <th>50%</th>\n",
              "      <th>75%</th>\n",
              "      <th>max</th>\n",
              "    </tr>\n",
              "  </thead>\n",
              "  <tbody>\n",
              "    <tr>\n",
              "      <th>기준년도</th>\n",
              "      <td>1000.0</td>\n",
              "      <td>2.016000e+03</td>\n",
              "      <td>0.000000</td>\n",
              "      <td>2016.0</td>\n",
              "      <td>2016.00</td>\n",
              "      <td>2016.0</td>\n",
              "      <td>2016.00</td>\n",
              "      <td>2016.0</td>\n",
              "    </tr>\n",
              "    <tr>\n",
              "      <th>가입자일련번호</th>\n",
              "      <td>1000.0</td>\n",
              "      <td>5.097498e+05</td>\n",
              "      <td>289935.019365</td>\n",
              "      <td>87.0</td>\n",
              "      <td>249239.75</td>\n",
              "      <td>536235.5</td>\n",
              "      <td>765463.00</td>\n",
              "      <td>999514.0</td>\n",
              "    </tr>\n",
              "    <tr>\n",
              "      <th>성별코드</th>\n",
              "      <td>1000.0</td>\n",
              "      <td>1.487000e+00</td>\n",
              "      <td>0.500081</td>\n",
              "      <td>1.0</td>\n",
              "      <td>1.00</td>\n",
              "      <td>1.0</td>\n",
              "      <td>2.00</td>\n",
              "      <td>2.0</td>\n",
              "    </tr>\n",
              "    <tr>\n",
              "      <th>연령대코드(5세단위)</th>\n",
              "      <td>1000.0</td>\n",
              "      <td>1.055700e+01</td>\n",
              "      <td>2.816502</td>\n",
              "      <td>5.0</td>\n",
              "      <td>9.00</td>\n",
              "      <td>11.0</td>\n",
              "      <td>12.00</td>\n",
              "      <td>18.0</td>\n",
              "    </tr>\n",
              "    <tr>\n",
              "      <th>시도코드</th>\n",
              "      <td>1000.0</td>\n",
              "      <td>3.315100e+01</td>\n",
              "      <td>12.813445</td>\n",
              "      <td>11.0</td>\n",
              "      <td>27.00</td>\n",
              "      <td>41.0</td>\n",
              "      <td>43.00</td>\n",
              "      <td>49.0</td>\n",
              "    </tr>\n",
              "    <tr>\n",
              "      <th>신장(5Cm단위)</th>\n",
              "      <td>1000.0</td>\n",
              "      <td>1.617000e+02</td>\n",
              "      <td>9.380725</td>\n",
              "      <td>140.0</td>\n",
              "      <td>155.00</td>\n",
              "      <td>160.0</td>\n",
              "      <td>170.00</td>\n",
              "      <td>185.0</td>\n",
              "    </tr>\n",
              "    <tr>\n",
              "      <th>체중(5Kg단위)</th>\n",
              "      <td>1000.0</td>\n",
              "      <td>6.278500e+01</td>\n",
              "      <td>12.668041</td>\n",
              "      <td>35.0</td>\n",
              "      <td>55.00</td>\n",
              "      <td>60.0</td>\n",
              "      <td>70.00</td>\n",
              "      <td>130.0</td>\n",
              "    </tr>\n",
              "    <tr>\n",
              "      <th>허리둘레</th>\n",
              "      <td>1000.0</td>\n",
              "      <td>8.103200e+01</td>\n",
              "      <td>9.602666</td>\n",
              "      <td>51.0</td>\n",
              "      <td>74.00</td>\n",
              "      <td>81.0</td>\n",
              "      <td>88.00</td>\n",
              "      <td>126.0</td>\n",
              "    </tr>\n",
              "    <tr>\n",
              "      <th>시력(좌)</th>\n",
              "      <td>999.0</td>\n",
              "      <td>9.800801e-01</td>\n",
              "      <td>0.663411</td>\n",
              "      <td>0.1</td>\n",
              "      <td>0.70</td>\n",
              "      <td>1.0</td>\n",
              "      <td>1.20</td>\n",
              "      <td>9.9</td>\n",
              "    </tr>\n",
              "    <tr>\n",
              "      <th>시력(우)</th>\n",
              "      <td>999.0</td>\n",
              "      <td>9.400400e-01</td>\n",
              "      <td>0.443206</td>\n",
              "      <td>0.1</td>\n",
              "      <td>0.70</td>\n",
              "      <td>0.9</td>\n",
              "      <td>1.20</td>\n",
              "      <td>9.9</td>\n",
              "    </tr>\n",
              "    <tr>\n",
              "      <th>청력(좌)</th>\n",
              "      <td>999.0</td>\n",
              "      <td>1.049049e+00</td>\n",
              "      <td>0.216079</td>\n",
              "      <td>1.0</td>\n",
              "      <td>1.00</td>\n",
              "      <td>1.0</td>\n",
              "      <td>1.00</td>\n",
              "      <td>2.0</td>\n",
              "    </tr>\n",
              "    <tr>\n",
              "      <th>청력(우)</th>\n",
              "      <td>999.0</td>\n",
              "      <td>1.032032e+00</td>\n",
              "      <td>0.176173</td>\n",
              "      <td>1.0</td>\n",
              "      <td>1.00</td>\n",
              "      <td>1.0</td>\n",
              "      <td>1.00</td>\n",
              "      <td>2.0</td>\n",
              "    </tr>\n",
              "    <tr>\n",
              "      <th>수축기혈압</th>\n",
              "      <td>1000.0</td>\n",
              "      <td>1.223810e+02</td>\n",
              "      <td>13.899894</td>\n",
              "      <td>88.0</td>\n",
              "      <td>113.00</td>\n",
              "      <td>120.0</td>\n",
              "      <td>130.00</td>\n",
              "      <td>180.0</td>\n",
              "    </tr>\n",
              "    <tr>\n",
              "      <th>이완기혈압</th>\n",
              "      <td>1000.0</td>\n",
              "      <td>7.604800e+01</td>\n",
              "      <td>9.798863</td>\n",
              "      <td>51.0</td>\n",
              "      <td>70.00</td>\n",
              "      <td>76.0</td>\n",
              "      <td>81.00</td>\n",
              "      <td>110.0</td>\n",
              "    </tr>\n",
              "    <tr>\n",
              "      <th>식전혈당(공복혈당)</th>\n",
              "      <td>1000.0</td>\n",
              "      <td>1.002490e+02</td>\n",
              "      <td>26.097089</td>\n",
              "      <td>56.0</td>\n",
              "      <td>88.00</td>\n",
              "      <td>96.0</td>\n",
              "      <td>105.00</td>\n",
              "      <td>466.0</td>\n",
              "    </tr>\n",
              "    <tr>\n",
              "      <th>총콜레스테롤</th>\n",
              "      <td>1000.0</td>\n",
              "      <td>1.957470e+02</td>\n",
              "      <td>37.317122</td>\n",
              "      <td>97.0</td>\n",
              "      <td>171.00</td>\n",
              "      <td>194.0</td>\n",
              "      <td>218.25</td>\n",
              "      <td>424.0</td>\n",
              "    </tr>\n",
              "    <tr>\n",
              "      <th>트리글리세라이드</th>\n",
              "      <td>1000.0</td>\n",
              "      <td>1.276060e+02</td>\n",
              "      <td>101.262159</td>\n",
              "      <td>26.0</td>\n",
              "      <td>72.00</td>\n",
              "      <td>105.0</td>\n",
              "      <td>151.00</td>\n",
              "      <td>1879.0</td>\n",
              "    </tr>\n",
              "    <tr>\n",
              "      <th>HDL콜레스테롤</th>\n",
              "      <td>1000.0</td>\n",
              "      <td>5.608600e+01</td>\n",
              "      <td>13.995731</td>\n",
              "      <td>22.0</td>\n",
              "      <td>46.00</td>\n",
              "      <td>55.0</td>\n",
              "      <td>65.00</td>\n",
              "      <td>112.0</td>\n",
              "    </tr>\n",
              "    <tr>\n",
              "      <th>LDL콜레스테롤</th>\n",
              "      <td>999.0</td>\n",
              "      <td>1.147127e+02</td>\n",
              "      <td>33.743173</td>\n",
              "      <td>1.0</td>\n",
              "      <td>91.00</td>\n",
              "      <td>113.0</td>\n",
              "      <td>137.00</td>\n",
              "      <td>234.0</td>\n",
              "    </tr>\n",
              "    <tr>\n",
              "      <th>혈색소</th>\n",
              "      <td>1000.0</td>\n",
              "      <td>1.412210e+01</td>\n",
              "      <td>1.675365</td>\n",
              "      <td>5.5</td>\n",
              "      <td>13.00</td>\n",
              "      <td>14.0</td>\n",
              "      <td>15.40</td>\n",
              "      <td>18.8</td>\n",
              "    </tr>\n",
              "    <tr>\n",
              "      <th>요단백</th>\n",
              "      <td>992.0</td>\n",
              "      <td>1.074597e+00</td>\n",
              "      <td>0.351557</td>\n",
              "      <td>1.0</td>\n",
              "      <td>1.00</td>\n",
              "      <td>1.0</td>\n",
              "      <td>1.00</td>\n",
              "      <td>4.0</td>\n",
              "    </tr>\n",
              "    <tr>\n",
              "      <th>혈청크레아티닌</th>\n",
              "      <td>1000.0</td>\n",
              "      <td>8.707000e-01</td>\n",
              "      <td>0.597435</td>\n",
              "      <td>0.1</td>\n",
              "      <td>0.70</td>\n",
              "      <td>0.8</td>\n",
              "      <td>1.00</td>\n",
              "      <td>15.9</td>\n",
              "    </tr>\n",
              "    <tr>\n",
              "      <th>(혈청지오티)AST</th>\n",
              "      <td>1000.0</td>\n",
              "      <td>2.512600e+01</td>\n",
              "      <td>12.701159</td>\n",
              "      <td>5.0</td>\n",
              "      <td>18.00</td>\n",
              "      <td>22.0</td>\n",
              "      <td>28.00</td>\n",
              "      <td>187.0</td>\n",
              "    </tr>\n",
              "    <tr>\n",
              "      <th>(혈청지오티)ALT</th>\n",
              "      <td>1000.0</td>\n",
              "      <td>2.559200e+01</td>\n",
              "      <td>21.694981</td>\n",
              "      <td>5.0</td>\n",
              "      <td>14.00</td>\n",
              "      <td>20.0</td>\n",
              "      <td>29.00</td>\n",
              "      <td>350.0</td>\n",
              "    </tr>\n",
              "    <tr>\n",
              "      <th>감마지티피</th>\n",
              "      <td>1000.0</td>\n",
              "      <td>3.693300e+01</td>\n",
              "      <td>55.283404</td>\n",
              "      <td>6.0</td>\n",
              "      <td>15.00</td>\n",
              "      <td>22.0</td>\n",
              "      <td>38.25</td>\n",
              "      <td>797.0</td>\n",
              "    </tr>\n",
              "    <tr>\n",
              "      <th>흡연상태</th>\n",
              "      <td>1000.0</td>\n",
              "      <td>1.603000e+00</td>\n",
              "      <td>0.813666</td>\n",
              "      <td>1.0</td>\n",
              "      <td>1.00</td>\n",
              "      <td>1.0</td>\n",
              "      <td>2.00</td>\n",
              "      <td>3.0</td>\n",
              "    </tr>\n",
              "    <tr>\n",
              "      <th>음주여부</th>\n",
              "      <td>0.0</td>\n",
              "      <td>NaN</td>\n",
              "      <td>NaN</td>\n",
              "      <td>NaN</td>\n",
              "      <td>NaN</td>\n",
              "      <td>NaN</td>\n",
              "      <td>NaN</td>\n",
              "      <td>NaN</td>\n",
              "    </tr>\n",
              "    <tr>\n",
              "      <th>구강검진 수검여부</th>\n",
              "      <td>1000.0</td>\n",
              "      <td>3.890000e-01</td>\n",
              "      <td>0.487767</td>\n",
              "      <td>0.0</td>\n",
              "      <td>0.00</td>\n",
              "      <td>0.0</td>\n",
              "      <td>1.00</td>\n",
              "      <td>1.0</td>\n",
              "    </tr>\n",
              "    <tr>\n",
              "      <th>치아우식증유무</th>\n",
              "      <td>0.0</td>\n",
              "      <td>NaN</td>\n",
              "      <td>NaN</td>\n",
              "      <td>NaN</td>\n",
              "      <td>NaN</td>\n",
              "      <td>NaN</td>\n",
              "      <td>NaN</td>\n",
              "      <td>NaN</td>\n",
              "    </tr>\n",
              "    <tr>\n",
              "      <th>결손치유무</th>\n",
              "      <td>0.0</td>\n",
              "      <td>NaN</td>\n",
              "      <td>NaN</td>\n",
              "      <td>NaN</td>\n",
              "      <td>NaN</td>\n",
              "      <td>NaN</td>\n",
              "      <td>NaN</td>\n",
              "      <td>NaN</td>\n",
              "    </tr>\n",
              "    <tr>\n",
              "      <th>치아마모증유무</th>\n",
              "      <td>0.0</td>\n",
              "      <td>NaN</td>\n",
              "      <td>NaN</td>\n",
              "      <td>NaN</td>\n",
              "      <td>NaN</td>\n",
              "      <td>NaN</td>\n",
              "      <td>NaN</td>\n",
              "      <td>NaN</td>\n",
              "    </tr>\n",
              "    <tr>\n",
              "      <th>제3대구치(사랑니)이상</th>\n",
              "      <td>0.0</td>\n",
              "      <td>NaN</td>\n",
              "      <td>NaN</td>\n",
              "      <td>NaN</td>\n",
              "      <td>NaN</td>\n",
              "      <td>NaN</td>\n",
              "      <td>NaN</td>\n",
              "      <td>NaN</td>\n",
              "    </tr>\n",
              "    <tr>\n",
              "      <th>치석</th>\n",
              "      <td>389.0</td>\n",
              "      <td>5.964010e-01</td>\n",
              "      <td>0.582465</td>\n",
              "      <td>0.0</td>\n",
              "      <td>0.00</td>\n",
              "      <td>1.0</td>\n",
              "      <td>1.00</td>\n",
              "      <td>2.0</td>\n",
              "    </tr>\n",
              "    <tr>\n",
              "      <th>데이터공개일자</th>\n",
              "      <td>1000.0</td>\n",
              "      <td>2.017122e+07</td>\n",
              "      <td>0.000000</td>\n",
              "      <td>20171219.0</td>\n",
              "      <td>20171219.00</td>\n",
              "      <td>20171219.0</td>\n",
              "      <td>20171219.00</td>\n",
              "      <td>20171219.0</td>\n",
              "    </tr>\n",
              "  </tbody>\n",
              "</table>\n",
              "</div>"
            ],
            "text/plain": [
              "               count          mean  ...          75%         max\n",
              "기준년도          1000.0  2.016000e+03  ...      2016.00      2016.0\n",
              "가입자일련번호       1000.0  5.097498e+05  ...    765463.00    999514.0\n",
              "성별코드          1000.0  1.487000e+00  ...         2.00         2.0\n",
              "연령대코드(5세단위)   1000.0  1.055700e+01  ...        12.00        18.0\n",
              "시도코드          1000.0  3.315100e+01  ...        43.00        49.0\n",
              "신장(5Cm단위)     1000.0  1.617000e+02  ...       170.00       185.0\n",
              "체중(5Kg단위)     1000.0  6.278500e+01  ...        70.00       130.0\n",
              "허리둘레          1000.0  8.103200e+01  ...        88.00       126.0\n",
              "시력(좌)          999.0  9.800801e-01  ...         1.20         9.9\n",
              "시력(우)          999.0  9.400400e-01  ...         1.20         9.9\n",
              "청력(좌)          999.0  1.049049e+00  ...         1.00         2.0\n",
              "청력(우)          999.0  1.032032e+00  ...         1.00         2.0\n",
              "수축기혈압         1000.0  1.223810e+02  ...       130.00       180.0\n",
              "이완기혈압         1000.0  7.604800e+01  ...        81.00       110.0\n",
              "식전혈당(공복혈당)    1000.0  1.002490e+02  ...       105.00       466.0\n",
              "총콜레스테롤        1000.0  1.957470e+02  ...       218.25       424.0\n",
              "트리글리세라이드      1000.0  1.276060e+02  ...       151.00      1879.0\n",
              "HDL콜레스테롤      1000.0  5.608600e+01  ...        65.00       112.0\n",
              "LDL콜레스테롤       999.0  1.147127e+02  ...       137.00       234.0\n",
              "혈색소           1000.0  1.412210e+01  ...        15.40        18.8\n",
              "요단백            992.0  1.074597e+00  ...         1.00         4.0\n",
              "혈청크레아티닌       1000.0  8.707000e-01  ...         1.00        15.9\n",
              "(혈청지오티)AST    1000.0  2.512600e+01  ...        28.00       187.0\n",
              "(혈청지오티)ALT    1000.0  2.559200e+01  ...        29.00       350.0\n",
              "감마지티피         1000.0  3.693300e+01  ...        38.25       797.0\n",
              "흡연상태          1000.0  1.603000e+00  ...         2.00         3.0\n",
              "음주여부             0.0           NaN  ...          NaN         NaN\n",
              "구강검진 수검여부     1000.0  3.890000e-01  ...         1.00         1.0\n",
              "치아우식증유무          0.0           NaN  ...          NaN         NaN\n",
              "결손치유무            0.0           NaN  ...          NaN         NaN\n",
              "치아마모증유무          0.0           NaN  ...          NaN         NaN\n",
              "제3대구치(사랑니)이상     0.0           NaN  ...          NaN         NaN\n",
              "치석             389.0  5.964010e-01  ...         1.00         2.0\n",
              "데이터공개일자       1000.0  2.017122e+07  ...  20171219.00  20171219.0\n",
              "\n",
              "[34 rows x 8 columns]"
            ]
          },
          "metadata": {},
          "execution_count": 14
        }
      ]
    },
    {
      "cell_type": "markdown",
      "source": [
        "### 범주형\n",
        "- 샘플 자료에서는 비수치적인 자료는 없습니다. \n",
        "  - 수치적인 자료들(이산형) 중에서 범주형에 해당하는 변수를 확인\n",
        "  - `흡연상태`, `구강검진 수검여부`, `치석`, `성별코드`"
      ],
      "metadata": {
        "id": "2YTge2pszM_Q"
      }
    },
    {
      "cell_type": "code",
      "source": [
        "rawData['흡연상태'].unique()"
      ],
      "metadata": {
        "colab": {
          "base_uri": "https://localhost:8080/"
        },
        "id": "WXifR2S3zgSL",
        "outputId": "fd785be7-4c42-4f02-ff30-7d4f018c764b"
      },
      "execution_count": null,
      "outputs": [
        {
          "output_type": "execute_result",
          "data": {
            "text/plain": [
              "array([3., 1., 2.])"
            ]
          },
          "metadata": {},
          "execution_count": 15
        }
      ]
    },
    {
      "cell_type": "code",
      "source": [
        "rawData['구강검진 수검여부'].unique()"
      ],
      "metadata": {
        "colab": {
          "base_uri": "https://localhost:8080/"
        },
        "id": "LixliQdD0Iji",
        "outputId": "11de4304-f5ed-4062-9d17-3c6a6aeba488"
      },
      "execution_count": null,
      "outputs": [
        {
          "output_type": "execute_result",
          "data": {
            "text/plain": [
              "array([1, 0])"
            ]
          },
          "metadata": {},
          "execution_count": 18
        }
      ]
    },
    {
      "cell_type": "code",
      "source": [
        "rawData['성별코드'].unique()"
      ],
      "metadata": {
        "colab": {
          "base_uri": "https://localhost:8080/"
        },
        "id": "qHGQJVOg0RC4",
        "outputId": "25092df1-2d59-414d-857a-e376f6d014aa"
      },
      "execution_count": null,
      "outputs": [
        {
          "output_type": "execute_result",
          "data": {
            "text/plain": [
              "array([1, 2])"
            ]
          },
          "metadata": {},
          "execution_count": 20
        }
      ]
    },
    {
      "cell_type": "code",
      "source": [
        "sns.countplot(data=rawData, x='흡연상태')"
      ],
      "metadata": {
        "colab": {
          "base_uri": "https://localhost:8080/",
          "height": 295
        },
        "id": "8uE6i7Bm0lcQ",
        "outputId": "1f795da1-fa70-4b23-f275-6aefdda5e4f5"
      },
      "execution_count": null,
      "outputs": [
        {
          "output_type": "execute_result",
          "data": {
            "text/plain": [
              "<matplotlib.axes._subplots.AxesSubplot at 0x7f0b7c24e4d0>"
            ]
          },
          "metadata": {},
          "execution_count": 21
        },
        {
          "output_type": "display_data",
          "data": {
            "image/png": "[encoded data removed]",
            "text/plain": [
              "<Figure size 432x288 with 1 Axes>"
            ]
          },
          "metadata": {
            "needs_background": "light"
          }
        }
      ]
    },
    {
      "cell_type": "code",
      "source": [
        "sns.countplot(data=rawData, x='성별코드')"
      ],
      "metadata": {
        "colab": {
          "base_uri": "https://localhost:8080/",
          "height": 295
        },
        "id": "jU5-e9xz4cNA",
        "outputId": "33c18bf2-b617-42f1-deb3-34815691185a"
      },
      "execution_count": null,
      "outputs": [
        {
          "output_type": "execute_result",
          "data": {
            "text/plain": [
              "<matplotlib.axes._subplots.AxesSubplot at 0x7f0b7c17f910>"
            ]
          },
          "metadata": {},
          "execution_count": 23
        },
        {
          "output_type": "display_data",
          "data": {
            "image/png": "[encoded data removed]",
            "text/plain": [
              "<Figure size 432x288 with 1 Axes>"
            ]
          },
          "metadata": {
            "needs_background": "light"
          }
        }
      ]
    },
    {
      "cell_type": "code",
      "source": [
        "sns.countplot(data=rawData, x='구강검진 수검여부')"
      ],
      "metadata": {
        "colab": {
          "base_uri": "https://localhost:8080/",
          "height": 295
        },
        "id": "uGWZlNoG4kMA",
        "outputId": "b455a967-fbd6-4935-8d40-18340044de55"
      },
      "execution_count": null,
      "outputs": [
        {
          "output_type": "execute_result",
          "data": {
            "text/plain": [
              "<matplotlib.axes._subplots.AxesSubplot at 0x7f0b7c158650>"
            ]
          },
          "metadata": {},
          "execution_count": 24
        },
        {
          "output_type": "display_data",
          "data": {
            "image/png": "[encoded data removed]",
            "text/plain": [
              "<Figure size 432x288 with 1 Axes>"
            ]
          },
          "metadata": {
            "needs_background": "light"
          }
        }
      ]
    },
    {
      "cell_type": "markdown",
      "source": [
        "### 이산형\n",
        "- 셀수 있는 형태의 정수형 자료"
      ],
      "metadata": {
        "id": "-vSc_GNq5CnX"
      }
    },
    {
      "cell_type": "code",
      "source": [
        "rawData['연령대코드(5세단위)'].unique()"
      ],
      "metadata": {
        "colab": {
          "base_uri": "https://localhost:8080/"
        },
        "id": "pbpY87aL42bx",
        "outputId": "e5e51eab-29d5-443f-c86e-08739a049ac8"
      },
      "execution_count": null,
      "outputs": [
        {
          "output_type": "execute_result",
          "data": {
            "text/plain": [
              "array([ 8, 10, 11,  6,  9, 14,  7, 15, 13,  5, 12, 16, 17, 18])"
            ]
          },
          "metadata": {},
          "execution_count": 26
        }
      ]
    },
    {
      "cell_type": "code",
      "source": [
        "rawData['시도코드'].unique()"
      ],
      "metadata": {
        "colab": {
          "base_uri": "https://localhost:8080/"
        },
        "id": "VgLjtI7O49kV",
        "outputId": "b71507c4-833a-4368-b8ca-de56f7f964bc"
      },
      "execution_count": null,
      "outputs": [
        {
          "output_type": "execute_result",
          "data": {
            "text/plain": [
              "array([41, 11, 28, 42, 26, 29, 45, 43, 47, 48, 30, 27, 31, 44, 46, 36, 49])"
            ]
          },
          "metadata": {},
          "execution_count": 27
        }
      ]
    },
    {
      "cell_type": "code",
      "source": [
        "sns.countplot(data=rawData, x='연령대코드(5세단위)')"
      ],
      "metadata": {
        "colab": {
          "base_uri": "https://localhost:8080/",
          "height": 296
        },
        "id": "XbX0XLW_5JAX",
        "outputId": "b3f93ad8-0206-4fd0-e3c0-5d4d75bbd8ff"
      },
      "execution_count": null,
      "outputs": [
        {
          "output_type": "execute_result",
          "data": {
            "text/plain": [
              "<matplotlib.axes._subplots.AxesSubplot at 0x7f0b7c12b3d0>"
            ]
          },
          "metadata": {},
          "execution_count": 28
        },
        {
          "output_type": "display_data",
          "data": {
            "image/png": "[encoded data removed]",
            "text/plain": [
              "<Figure size 432x288 with 1 Axes>"
            ]
          },
          "metadata": {
            "needs_background": "light"
          }
        }
      ]
    },
    {
      "cell_type": "code",
      "source": [
        "sns.countplot(data=rawData, x='시도코드')"
      ],
      "metadata": {
        "colab": {
          "base_uri": "https://localhost:8080/",
          "height": 295
        },
        "id": "f3Iwj4zU5Yp8",
        "outputId": "b4a2bbe8-7367-4a22-94ac-e83cf7e9c8e0"
      },
      "execution_count": null,
      "outputs": [
        {
          "output_type": "execute_result",
          "data": {
            "text/plain": [
              "<matplotlib.axes._subplots.AxesSubplot at 0x7f0b7c0561d0>"
            ]
          },
          "metadata": {},
          "execution_count": 29
        },
        {
          "output_type": "display_data",
          "data": {
            "image/png": "[encoded data removed]",
            "text/plain": [
              "<Figure size 432x288 with 1 Axes>"
            ]
          },
          "metadata": {
            "needs_background": "light"
          }
        }
      ]
    },
    {
      "cell_type": "markdown",
      "source": [
        "### 연속형"
      ],
      "metadata": {
        "id": "qUIw8yF85-UR"
      }
    },
    {
      "cell_type": "code",
      "source": [
        "rawData.columns"
      ],
      "metadata": {
        "colab": {
          "base_uri": "https://localhost:8080/"
        },
        "id": "w3nlLUjO5_WG",
        "outputId": "2d248683-331a-4508-90a4-b9f3924ce7c7"
      },
      "execution_count": null,
      "outputs": [
        {
          "output_type": "execute_result",
          "data": {
            "text/plain": [
              "Index(['기준년도', '가입자일련번호', '성별코드', '연령대코드(5세단위)', '시도코드', '신장(5Cm단위)',\n",
              "       '체중(5Kg단위)', '허리둘레', '시력(좌)', '시력(우)', '청력(좌)', '청력(우)', '수축기혈압',\n",
              "       '이완기혈압', '식전혈당(공복혈당)', '총콜레스테롤', '트리글리세라이드', 'HDL콜레스테롤', 'LDL콜레스테롤',\n",
              "       '혈색소', '요단백', '혈청크레아티닌', '(혈청지오티)AST', '(혈청지오티)ALT', '감마지티피', '흡연상태',\n",
              "       '음주여부', '구강검진 수검여부', '치아우식증유무', '결손치유무', '치아마모증유무', '제3대구치(사랑니)이상',\n",
              "       '치석', '데이터공개일자'],\n",
              "      dtype='object')"
            ]
          },
          "metadata": {},
          "execution_count": 30
        }
      ]
    },
    {
      "cell_type": "code",
      "source": [
        "rawData['트리글리세라이드'].unique()"
      ],
      "metadata": {
        "colab": {
          "base_uri": "https://localhost:8080/"
        },
        "id": "kiL0h8Sy6M9g",
        "outputId": "30ea581d-c0dc-4c87-869c-2a214e144dc9"
      },
      "execution_count": null,
      "outputs": [
        {
          "output_type": "execute_result",
          "data": {
            "text/plain": [
              "array([  97.,   84.,   52.,   53.,  148.,  127.,   54.,  120.,  134.,\n",
              "        247.,   79.,   76.,  154.,   71.,  138.,   62.,   46.,   61.,\n",
              "        318.,   65.,  197.,   48.,  215.,   88.,  193.,  104.,  106.,\n",
              "        139.,  145.,   87.,   49.,   82.,  155.,  109.,   64.,  163.,\n",
              "        306.,  213.,   75.,  203.,   50.,  113.,  728.,  115.,  173.,\n",
              "         63.,  100.,  201.,   37.,  107.,   81.,   99.,  211.,  326.,\n",
              "        112.,  165.,  560.,   89.,  169.,  465.,   78.,  130.,  296.,\n",
              "        220.,  136.,  199.,   44.,   40.,  157.,  116.,  117.,   55.,\n",
              "        118.,  301.,  178.,   72.,   90.,  102.,  126.,   59.,  352.,\n",
              "        147.,  137.,  270.,   77.,   56.,   69.,  110.,  122.,  266.,\n",
              "        245.,   35.,  234.,   43.,   58.,  177.,  687.,  195.,  233.,\n",
              "        182.,  265.,   80.,  111.,  101.,  105.,   51.,   85.,  129.,\n",
              "        119.,   95.,   68.,   60.,  235.,  149.,  206.,  125.,   45.,\n",
              "        186.,   92.,  421.,  295.,   91.,  198.,  809.,   34.,   66.,\n",
              "        222.,  420.,   93.,  423.,  191.,   94.,  123.,  108.,   86.,\n",
              "        185.,   70.,  128.,   83.,  202.,  221.,  200.,  135.,  158.,\n",
              "        159.,  184.,  142.,  160.,   74.,  387.,  219.,  133.,   73.,\n",
              "        365.,  114.,  212.,  153.,   67.,  167.,  205.,   57.,  103.,\n",
              "         41.,   32.,  209.,  229.,  146.,  457.,  140.,   38.,   96.,\n",
              "        156.,  181.,  287.,  333.,  190.,  152.,  225.,  223.,  207.,\n",
              "        150.,  243.,  121.,  151.,  170.,  162.,  316.,  257.,   33.,\n",
              "        241.,  204.,  447.,   29.,  141.,   47.,  244.,   98.,   42.,\n",
              "        284.,  180.,  783.,  312.,  317.,  194.,  264.,  217.,  328.,\n",
              "        168.,  313.,  161.,  183.,  402.,  334.,  144.,  226.,  285.,\n",
              "        224.,  256.,  268.,  208.,  171.,  238.,  329.,  293.,  179.,\n",
              "         26.,  216.,  131.,  273.,  164.,  236.,  327.,  132.,  188.,\n",
              "        172.,  124.,  271.,  192.,  272.,  472.,  250.,  525.,  389.,\n",
              "        218.,  231.,  546.,  267.,   28.,  407.,  259.,   36.,  299.,\n",
              "         30.,  261.,  262., 1879.,  321.,  371.,  349.,  308.])"
            ]
          },
          "metadata": {},
          "execution_count": 39
        }
      ]
    },
    {
      "cell_type": "code",
      "source": [
        "rawData['총콜레스테롤'].unique()"
      ],
      "metadata": {
        "colab": {
          "base_uri": "https://localhost:8080/"
        },
        "id": "OcUGLcDV6dJ0",
        "outputId": "2e948ab2-6f8d-4b7d-8126-c7e412d54cf4"
      },
      "execution_count": null,
      "outputs": [
        {
          "output_type": "execute_result",
          "data": {
            "text/plain": [
              "array([194., 143., 203., 154., 239., 209., 193., 229., 166., 212., 206.,\n",
              "       170., 207., 276., 173., 176., 218., 153., 140., 254., 125., 223.,\n",
              "       200., 172., 294., 234., 146., 225., 168., 186., 163., 227., 120.,\n",
              "       175., 202., 211., 187., 162., 208., 185., 111., 189., 221., 270.,\n",
              "       161., 199., 195., 182., 240., 264., 157., 201., 214., 244., 222.,\n",
              "       192., 259., 238., 245., 178., 147., 190., 136., 171., 181., 133.,\n",
              "       188., 160., 265., 110., 177., 204., 165., 231., 249., 138., 228.,\n",
              "       256., 242., 151., 180., 250., 152., 141., 145., 253., 215., 213.,\n",
              "       306., 196., 205., 164., 169., 210., 261., 248., 241., 183., 219.,\n",
              "       262., 216., 260., 255., 174., 304., 109., 217., 232., 279., 124.,\n",
              "       184., 191., 150., 220., 103., 247., 246., 277., 197., 149., 275.,\n",
              "       159., 324., 101., 179., 252., 267., 310., 243., 278., 235., 230.,\n",
              "       132., 271., 167., 148., 251., 158., 226., 142., 236., 198., 130.,\n",
              "       119., 135., 156., 233., 127., 144., 126., 237., 139., 137., 128.,\n",
              "       274., 272., 287., 134., 337., 118., 257., 122., 333., 273., 305.,\n",
              "       301., 323., 224., 117.,  97., 424., 284., 114.])"
            ]
          },
          "metadata": {},
          "execution_count": 34
        }
      ]
    },
    {
      "cell_type": "code",
      "source": [
        "sns.histplot(data=rawData, x='총콜레스테롤')"
      ],
      "metadata": {
        "colab": {
          "base_uri": "https://localhost:8080/",
          "height": 295
        },
        "id": "UGQlyJYf6wlo",
        "outputId": "76b13847-563c-497e-a03f-ec186ebe865b"
      },
      "execution_count": null,
      "outputs": [
        {
          "output_type": "execute_result",
          "data": {
            "text/plain": [
              "<matplotlib.axes._subplots.AxesSubplot at 0x7f0b7bfe0c90>"
            ]
          },
          "metadata": {},
          "execution_count": 38
        },
        {
          "output_type": "display_data",
          "data": {
            "image/png": "[encoded data removed]",
            "text/plain": [
              "<Figure size 432x288 with 1 Axes>"
            ]
          },
          "metadata": {
            "needs_background": "light"
          }
        }
      ]
    },
    {
      "cell_type": "markdown",
      "source": [
        "트리글리세라이드 수치가 아주아주 높은 자료가 포함되어 있기 때문에 전체 그림을 확인하기가 어려운 상태 "
      ],
      "metadata": {
        "id": "UmMTwDYb8F_-"
      }
    },
    {
      "cell_type": "code",
      "source": [
        "sns.histplot(data=rawData, x='트리글리세라이드', bins=50)"
      ],
      "metadata": {
        "colab": {
          "base_uri": "https://localhost:8080/",
          "height": 295
        },
        "id": "C6hKW4bW7EDY",
        "outputId": "d524f76a-69a5-43fc-8703-355f5ee990b1"
      },
      "execution_count": null,
      "outputs": [
        {
          "output_type": "execute_result",
          "data": {
            "text/plain": [
              "<matplotlib.axes._subplots.AxesSubplot at 0x7f0b7b76e190>"
            ]
          },
          "metadata": {},
          "execution_count": 48
        },
        {
          "output_type": "display_data",
          "data": {
            "image/png": "[encoded data removed]",
            "text/plain": [
              "<Figure size 432x288 with 1 Axes>"
            ]
          },
          "metadata": {
            "needs_background": "light"
          }
        }
      ]
    },
    {
      "cell_type": "markdown",
      "source": [
        "아웃라이어를 제거하고 확인해보면 확인하기가 편해집니다. "
      ],
      "metadata": {
        "id": "g0nc-Sgs8O7S"
      }
    },
    {
      "cell_type": "code",
      "source": [
        "rawData[ rawData['트리글리세라이드'] > 1800 ]"
      ],
      "metadata": {
        "colab": {
          "base_uri": "https://localhost:8080/",
          "height": 239
        },
        "id": "nuSgnY3m7jOb",
        "outputId": "3df2d2df-7dcd-4f6d-a0ef-043e7b3fb268"
      },
      "execution_count": null,
      "outputs": [
        {
          "output_type": "execute_result",
          "data": {
            "text/html": [
              "<div>\n",
              "<style scoped>\n",
              "    .dataframe tbody tr th:only-of-type {\n",
              "        vertical-align: middle;\n",
              "    }\n",
              "\n",
              "    .dataframe tbody tr th {\n",
              "        vertical-align: top;\n",
              "    }\n",
              "\n",
              "    .dataframe thead th {\n",
              "        text-align: right;\n",
              "    }\n",
              "</style>\n",
              "<table border=\"1\" class=\"dataframe\">\n",
              "  <thead>\n",
              "    <tr style=\"text-align: right;\">\n",
              "      <th></th>\n",
              "      <th>기준년도</th>\n",
              "      <th>가입자일련번호</th>\n",
              "      <th>성별코드</th>\n",
              "      <th>연령대코드(5세단위)</th>\n",
              "      <th>시도코드</th>\n",
              "      <th>신장(5Cm단위)</th>\n",
              "      <th>체중(5Kg단위)</th>\n",
              "      <th>허리둘레</th>\n",
              "      <th>시력(좌)</th>\n",
              "      <th>시력(우)</th>\n",
              "      <th>청력(좌)</th>\n",
              "      <th>청력(우)</th>\n",
              "      <th>수축기혈압</th>\n",
              "      <th>이완기혈압</th>\n",
              "      <th>식전혈당(공복혈당)</th>\n",
              "      <th>총콜레스테롤</th>\n",
              "      <th>트리글리세라이드</th>\n",
              "      <th>HDL콜레스테롤</th>\n",
              "      <th>LDL콜레스테롤</th>\n",
              "      <th>혈색소</th>\n",
              "      <th>요단백</th>\n",
              "      <th>혈청크레아티닌</th>\n",
              "      <th>(혈청지오티)AST</th>\n",
              "      <th>(혈청지오티)ALT</th>\n",
              "      <th>감마지티피</th>\n",
              "      <th>흡연상태</th>\n",
              "      <th>음주여부</th>\n",
              "      <th>구강검진 수검여부</th>\n",
              "      <th>치아우식증유무</th>\n",
              "      <th>결손치유무</th>\n",
              "      <th>치아마모증유무</th>\n",
              "      <th>제3대구치(사랑니)이상</th>\n",
              "      <th>치석</th>\n",
              "      <th>데이터공개일자</th>\n",
              "    </tr>\n",
              "  </thead>\n",
              "  <tbody>\n",
              "    <tr>\n",
              "      <th>942</th>\n",
              "      <td>2016</td>\n",
              "      <td>819247</td>\n",
              "      <td>1</td>\n",
              "      <td>12</td>\n",
              "      <td>11</td>\n",
              "      <td>170.0</td>\n",
              "      <td>70.0</td>\n",
              "      <td>89.0</td>\n",
              "      <td>0.8</td>\n",
              "      <td>0.8</td>\n",
              "      <td>1.0</td>\n",
              "      <td>1.0</td>\n",
              "      <td>122.0</td>\n",
              "      <td>93.0</td>\n",
              "      <td>118.0</td>\n",
              "      <td>424.0</td>\n",
              "      <td>1879.0</td>\n",
              "      <td>35.0</td>\n",
              "      <td>65.0</td>\n",
              "      <td>16.4</td>\n",
              "      <td>1.0</td>\n",
              "      <td>0.9</td>\n",
              "      <td>53.0</td>\n",
              "      <td>93.0</td>\n",
              "      <td>99.0</td>\n",
              "      <td>1.0</td>\n",
              "      <td>NaN</td>\n",
              "      <td>1</td>\n",
              "      <td>NaN</td>\n",
              "      <td>NaN</td>\n",
              "      <td>NaN</td>\n",
              "      <td>NaN</td>\n",
              "      <td>0.0</td>\n",
              "      <td>20171219</td>\n",
              "    </tr>\n",
              "  </tbody>\n",
              "</table>\n",
              "</div>"
            ],
            "text/plain": [
              "     기준년도  가입자일련번호  성별코드  연령대코드(5세단위)  ...  치아마모증유무  제3대구치(사랑니)이상   치석   데이터공개일자\n",
              "942  2016   819247     1           12  ...      NaN           NaN  0.0  20171219\n",
              "\n",
              "[1 rows x 34 columns]"
            ]
          },
          "metadata": {},
          "execution_count": 44
        }
      ]
    },
    {
      "cell_type": "code",
      "source": [
        "rawData_without_outlier = rawData.drop(index=942)"
      ],
      "metadata": {
        "id": "PYvLY4a6738n"
      },
      "execution_count": null,
      "outputs": []
    },
    {
      "cell_type": "code",
      "source": [
        "sns.histplot(data=rawData_without_outlier, x='트리글리세라이드')"
      ],
      "metadata": {
        "colab": {
          "base_uri": "https://localhost:8080/",
          "height": 295
        },
        "id": "ti8qVRKD79I5",
        "outputId": "d8a9b016-d8d5-4f25-bb67-2547d3aae01f"
      },
      "execution_count": null,
      "outputs": [
        {
          "output_type": "execute_result",
          "data": {
            "text/plain": [
              "<matplotlib.axes._subplots.AxesSubplot at 0x7f0b7b2aca50>"
            ]
          },
          "metadata": {},
          "execution_count": 84
        },
        {
          "output_type": "display_data",
          "data": {
            "image/png": "[encoded data removed]",
            "text/plain": [
              "<Figure size 432x288 with 1 Axes>"
            ]
          },
          "metadata": {
            "needs_background": "light"
          }
        }
      ]
    },
    {
      "cell_type": "code",
      "source": [
        "plt.hist(rawData['트리글리세라이드'], bins=50)\n",
        "plt.xlim(21, 500)\n",
        "plt.show()"
      ],
      "metadata": {
        "colab": {
          "base_uri": "https://localhost:8080/",
          "height": 264
        },
        "id": "Fwdpuqhc8mPn",
        "outputId": "717acf74-682f-4ab5-cd68-0c1dfad715f0"
      },
      "execution_count": null,
      "outputs": [
        {
          "output_type": "display_data",
          "data": {
            "image/png": "[encoded data removed]",
            "text/plain": [
              "<Figure size 432x288 with 1 Axes>"
            ]
          },
          "metadata": {
            "needs_background": "light"
          }
        }
      ]
    },
    {
      "cell_type": "code",
      "source": [
        "sns.displot(data=rawData, x='총콜레스테롤', kde=True)"
      ],
      "metadata": {
        "colab": {
          "base_uri": "https://localhost:8080/",
          "height": 386
        },
        "id": "79F-8Srd9z54",
        "outputId": "85c908ed-cef2-4c3e-8fce-5a2310a254c1"
      },
      "execution_count": null,
      "outputs": [
        {
          "output_type": "execute_result",
          "data": {
            "text/plain": [
              "<seaborn.axisgrid.FacetGrid at 0x7f0b7b32fb50>"
            ]
          },
          "metadata": {},
          "execution_count": 63
        },
        {
          "output_type": "display_data",
          "data": {
            "image/png": "[encoded data removed]",
            "text/plain": [
              "<Figure size 360x360 with 1 Axes>"
            ]
          },
          "metadata": {
            "needs_background": "light"
          }
        }
      ]
    },
    {
      "cell_type": "markdown",
      "source": [
        "## 2차원 시각화\n",
        "- 두 자료간의 관계를 확인하고 싶은 경우\n",
        "  - 타겟변수와 입력변수들간의 관계(인과성)\n",
        "  - 입력변수와 입력변수들간의 관계(상관성)\n",
        "    - 입력변수들은 서로 독립적임을 가정\n",
        "\n",
        "- 두 변수 모두 연속형\n",
        "  - scatterplot, lineplot, jointplot, rugplot, ... \n",
        "- 연속형 변수와 범주형 변수\n",
        "  - barplot, boxplot\n",
        "- 두 변수 모두 범주형 \n",
        "  - countplot"
      ],
      "metadata": {
        "id": "jWsjE5ff-d1R"
      }
    },
    {
      "cell_type": "markdown",
      "source": [
        "### 두 변수 모두 연속형"
      ],
      "metadata": {
        "id": "1iJKRoeV-_Op"
      }
    },
    {
      "cell_type": "code",
      "source": [
        "# 산포도(산점도)\n",
        "# 아웃라이어가 제거된 두 변수의 산포도를 확인해 봅니다. \n",
        "sns.scatterplot(data=rawData_without_outlier, x='총콜레스테롤', y='트리글리세라이드')"
      ],
      "metadata": {
        "colab": {
          "base_uri": "https://localhost:8080/",
          "height": 295
        },
        "id": "gUpKfuw0_TLz",
        "outputId": "fead6903-6db4-4c0c-8b9e-940f3296974f"
      },
      "execution_count": null,
      "outputs": [
        {
          "output_type": "execute_result",
          "data": {
            "text/plain": [
              "<matplotlib.axes._subplots.AxesSubplot at 0x7f0b720e2110>"
            ]
          },
          "metadata": {},
          "execution_count": 85
        },
        {
          "output_type": "display_data",
          "data": {
            "image/png": "[encoded data removed]",
            "text/plain": [
              "<Figure size 432x288 with 1 Axes>"
            ]
          },
          "metadata": {
            "needs_background": "light"
          }
        }
      ]
    },
    {
      "cell_type": "markdown",
      "source": [
        "전체콜레스테롤 수치와 트리글리세라이드 수치 사이에는 크게 관계가 없어 보입니다. "
      ],
      "metadata": {
        "id": "8yTThlCAFlkN"
      }
    },
    {
      "cell_type": "code",
      "source": [
        "tmp[['총콜레스테롤', '트리글리세라이드']].corr()"
      ],
      "metadata": {
        "colab": {
          "base_uri": "https://localhost:8080/",
          "height": 112
        },
        "id": "cmSrO1XN_5zo",
        "outputId": "882437d1-d7bf-4ce7-9cf1-40437715162d"
      },
      "execution_count": null,
      "outputs": [
        {
          "output_type": "execute_result",
          "data": {
            "text/html": [
              "<div>\n",
              "<style scoped>\n",
              "    .dataframe tbody tr th:only-of-type {\n",
              "        vertical-align: middle;\n",
              "    }\n",
              "\n",
              "    .dataframe tbody tr th {\n",
              "        vertical-align: top;\n",
              "    }\n",
              "\n",
              "    .dataframe thead th {\n",
              "        text-align: right;\n",
              "    }\n",
              "</style>\n",
              "<table border=\"1\" class=\"dataframe\">\n",
              "  <thead>\n",
              "    <tr style=\"text-align: right;\">\n",
              "      <th></th>\n",
              "      <th>총콜레스테롤</th>\n",
              "      <th>트리글리세라이드</th>\n",
              "    </tr>\n",
              "  </thead>\n",
              "  <tbody>\n",
              "    <tr>\n",
              "      <th>총콜레스테롤</th>\n",
              "      <td>1.000000</td>\n",
              "      <td>0.236431</td>\n",
              "    </tr>\n",
              "    <tr>\n",
              "      <th>트리글리세라이드</th>\n",
              "      <td>0.236431</td>\n",
              "      <td>1.000000</td>\n",
              "    </tr>\n",
              "  </tbody>\n",
              "</table>\n",
              "</div>"
            ],
            "text/plain": [
              "            총콜레스테롤  트리글리세라이드\n",
              "총콜레스테롤    1.000000  0.236431\n",
              "트리글리세라이드  0.236431  1.000000"
            ]
          },
          "metadata": {},
          "execution_count": 67
        }
      ]
    },
    {
      "cell_type": "markdown",
      "source": [
        "회귀선을 봐도 두 변수 사이에 강한 선형성이 있다고 보여지지는 않습니다"
      ],
      "metadata": {
        "id": "mCLD9ryKFsaZ"
      }
    },
    {
      "cell_type": "code",
      "source": [
        "sns.regplot(data=rawData_without_outlier, x='총콜레스테롤', y='트리글리세라이드', line_kws={'color':'red'})"
      ],
      "metadata": {
        "colab": {
          "base_uri": "https://localhost:8080/",
          "height": 295
        },
        "id": "mBnvTR-RAa7h",
        "outputId": "f0a210d6-4f52-4707-a6bb-a8693d097615"
      },
      "execution_count": null,
      "outputs": [
        {
          "output_type": "execute_result",
          "data": {
            "text/plain": [
              "<matplotlib.axes._subplots.AxesSubplot at 0x7f0b71f709d0>"
            ]
          },
          "metadata": {},
          "execution_count": 86
        },
        {
          "output_type": "display_data",
          "data": {
            "image/png": "[encoded data removed]",
            "text/plain": [
              "<Figure size 432x288 with 1 Axes>"
            ]
          },
          "metadata": {
            "needs_background": "light"
          }
        }
      ]
    },
    {
      "cell_type": "markdown",
      "source": [
        "LDL 콜레스테롤 수치와 비교 해봅시다. "
      ],
      "metadata": {
        "id": "equxBf84F1xa"
      }
    },
    {
      "cell_type": "code",
      "source": [
        "# 이번엔 joinplot을 활용해봅시다. \n",
        "sns.jointplot(data=rawData_without_outlier, x='LDL콜레스테롤', y='트리글리세라이드')"
      ],
      "metadata": {
        "colab": {
          "base_uri": "https://localhost:8080/",
          "height": 458
        },
        "id": "A4QnaBr0F38s",
        "outputId": "ce727c00-81f1-476d-a814-4f8ef2695448"
      },
      "execution_count": null,
      "outputs": [
        {
          "output_type": "execute_result",
          "data": {
            "text/plain": [
              "<seaborn.axisgrid.JointGrid at 0x7f0b71e55910>"
            ]
          },
          "metadata": {},
          "execution_count": 87
        },
        {
          "output_type": "display_data",
          "data": {
            "image/png": "[encoded data removed]",
            "text/plain": [
              "<Figure size 432x432 with 3 Axes>"
            ]
          },
          "metadata": {
            "needs_background": "light"
          }
        }
      ]
    },
    {
      "cell_type": "markdown",
      "source": [
        "LDL 콜레스테롤과 총콜레스테롤의 관계"
      ],
      "metadata": {
        "id": "S-h3_P1aGYuz"
      }
    },
    {
      "cell_type": "code",
      "source": [
        "sns.jointplot(data=rawData_without_outlier, x='LDL콜레스테롤', y='총콜레스테롤')"
      ],
      "metadata": {
        "colab": {
          "base_uri": "https://localhost:8080/",
          "height": 458
        },
        "id": "j_pAIl-EGctn",
        "outputId": "150b1294-fab7-4820-a8eb-dc6ad79ab1cf"
      },
      "execution_count": null,
      "outputs": [
        {
          "output_type": "execute_result",
          "data": {
            "text/plain": [
              "<seaborn.axisgrid.JointGrid at 0x7f0b71ebccd0>"
            ]
          },
          "metadata": {},
          "execution_count": 88
        },
        {
          "output_type": "display_data",
          "data": {
            "image/png": "[encoded data removed]",
            "text/plain": [
              "<Figure size 432x432 with 3 Axes>"
            ]
          },
          "metadata": {
            "needs_background": "light"
          }
        }
      ]
    },
    {
      "cell_type": "code",
      "source": [
        "sns.jointplot(data=rawData_without_outlier, x='LDL콜레스테롤', y='HDL콜레스테롤')"
      ],
      "metadata": {
        "colab": {
          "base_uri": "https://localhost:8080/",
          "height": 458
        },
        "id": "cEBultBaGlU5",
        "outputId": "5128c60e-95b0-4eda-bd34-4044ee2beb79"
      },
      "execution_count": null,
      "outputs": [
        {
          "output_type": "execute_result",
          "data": {
            "text/plain": [
              "<seaborn.axisgrid.JointGrid at 0x7f0b71ba2f90>"
            ]
          },
          "metadata": {},
          "execution_count": 89
        },
        {
          "output_type": "display_data",
          "data": {
            "image/png": "[encoded data removed]",
            "text/plain": [
              "<Figure size 432x432 with 3 Axes>"
            ]
          },
          "metadata": {
            "needs_background": "light"
          }
        }
      ]
    },
    {
      "cell_type": "code",
      "source": [
        "tmp[['LDL콜레스테롤', '총콜레스테롤']].corr()"
      ],
      "metadata": {
        "colab": {
          "base_uri": "https://localhost:8080/",
          "height": 112
        },
        "id": "NIGGU0jKGpe5",
        "outputId": "c2073c03-e841-4460-c0ce-1537312572f2"
      },
      "execution_count": null,
      "outputs": [
        {
          "output_type": "execute_result",
          "data": {
            "text/html": [
              "<div>\n",
              "<style scoped>\n",
              "    .dataframe tbody tr th:only-of-type {\n",
              "        vertical-align: middle;\n",
              "    }\n",
              "\n",
              "    .dataframe tbody tr th {\n",
              "        vertical-align: top;\n",
              "    }\n",
              "\n",
              "    .dataframe thead th {\n",
              "        text-align: right;\n",
              "    }\n",
              "</style>\n",
              "<table border=\"1\" class=\"dataframe\">\n",
              "  <thead>\n",
              "    <tr style=\"text-align: right;\">\n",
              "      <th></th>\n",
              "      <th>LDL콜레스테롤</th>\n",
              "      <th>총콜레스테롤</th>\n",
              "    </tr>\n",
              "  </thead>\n",
              "  <tbody>\n",
              "    <tr>\n",
              "      <th>LDL콜레스테롤</th>\n",
              "      <td>1.000000</td>\n",
              "      <td>0.895564</td>\n",
              "    </tr>\n",
              "    <tr>\n",
              "      <th>총콜레스테롤</th>\n",
              "      <td>0.895564</td>\n",
              "      <td>1.000000</td>\n",
              "    </tr>\n",
              "  </tbody>\n",
              "</table>\n",
              "</div>"
            ],
            "text/plain": [
              "          LDL콜레스테롤    총콜레스테롤\n",
              "LDL콜레스테롤  1.000000  0.895564\n",
              "총콜레스테롤    0.895564  1.000000"
            ]
          },
          "metadata": {},
          "execution_count": 78
        }
      ]
    },
    {
      "cell_type": "code",
      "source": [
        "sns.regplot(data=rawData_without_outlier, x='LDL콜레스테롤', y='총콜레스테롤', line_kws={'color':'red'})"
      ],
      "metadata": {
        "colab": {
          "base_uri": "https://localhost:8080/",
          "height": 295
        },
        "id": "erJfrvdLGzvp",
        "outputId": "43dcd9bb-99bc-4980-e308-0102f1c166ae"
      },
      "execution_count": null,
      "outputs": [
        {
          "output_type": "execute_result",
          "data": {
            "text/plain": [
              "<matplotlib.axes._subplots.AxesSubplot at 0x7f0b71990390>"
            ]
          },
          "metadata": {},
          "execution_count": 90
        },
        {
          "output_type": "display_data",
          "data": {
            "image/png": "[encoded data removed]",
            "text/plain": [
              "<Figure size 432x288 with 1 Axes>"
            ]
          },
          "metadata": {
            "needs_background": "light"
          }
        }
      ]
    },
    {
      "cell_type": "markdown",
      "source": [
        "rugplot은 자료의 위치정도를 확인할 수 있습니다. 밀도 정도는 확인 가능합니다.    \n",
        "자료가 아주 많은 경우에는 `히스토그램`을 확인할 수 없는 경우가 있는데, 그런 경우에는 `rugplot`을 이용하면 빠르게 확인해볼 수 있습니다. "
      ],
      "metadata": {
        "id": "kwkpqITMHdGy"
      }
    },
    {
      "cell_type": "code",
      "source": [
        "sns.rugplot(data=rawData, x='총콜레스테롤', height=1)"
      ],
      "metadata": {
        "colab": {
          "base_uri": "https://localhost:8080/",
          "height": 295
        },
        "id": "RFfCqAf6Hqdz",
        "outputId": "d77021bf-c7ad-47d0-c9ce-9534e6e7b28b"
      },
      "execution_count": null,
      "outputs": [
        {
          "output_type": "execute_result",
          "data": {
            "text/plain": [
              "<matplotlib.axes._subplots.AxesSubplot at 0x7f0b721929d0>"
            ]
          },
          "metadata": {},
          "execution_count": 82
        },
        {
          "output_type": "display_data",
          "data": {
            "image/png": "[encoded data removed]",
            "text/plain": [
              "<Figure size 432x288 with 1 Axes>"
            ]
          },
          "metadata": {
            "needs_background": "light"
          }
        }
      ]
    },
    {
      "cell_type": "markdown",
      "source": [
        "`IDL콜레스테롤` 수치를 구해봅니다.\n",
        "- 파생변수라고 합니다.\n",
        "  - 주어진 자료에서 타겟변수를 가장 잘 설명할 수 있는 새로운 변수를 만들어 내는 것 => `데이터 마이닝` 이라고 합니다. \n",
        "  - 분석에서 제일 중요한 부분 입니다 \n",
        "  - IDL = 총콜레스테롤 - (HDL + LDL)"
      ],
      "metadata": {
        "id": "b4bqSmO_IAlb"
      }
    },
    {
      "cell_type": "code",
      "source": [
        "rawData_without_outlier['총콜레스테롤'] - (rawData_without_outlier['HDL콜레스테롤'] + rawData_without_outlier['LDL콜레스테롤'])"
      ],
      "metadata": {
        "colab": {
          "base_uri": "https://localhost:8080/"
        },
        "id": "DFCdHZCqIYgd",
        "outputId": "d599ab67-0732-4cb2-818a-fcdd3aa81337"
      },
      "execution_count": null,
      "outputs": [
        {
          "output_type": "execute_result",
          "data": {
            "text/plain": [
              "0      20.0\n",
              "1      17.0\n",
              "2      11.0\n",
              "3       5.0\n",
              "4      30.0\n",
              "       ... \n",
              "995    21.0\n",
              "996    14.0\n",
              "997     9.0\n",
              "998    21.0\n",
              "999    16.0\n",
              "Length: 999, dtype: float64"
            ]
          },
          "metadata": {},
          "execution_count": 92
        }
      ]
    },
    {
      "cell_type": "code",
      "source": [
        "rawData_without_outlier['IDL콜레스테롤'] = rawData_without_outlier['총콜레스테롤'] - (rawData_without_outlier['HDL콜레스테롤'] + rawData_without_outlier['LDL콜레스테롤'])\n",
        "rawData_without_outlier.head(2)"
      ],
      "metadata": {
        "colab": {
          "base_uri": "https://localhost:8080/",
          "height": 271
        },
        "id": "P6OegwTCJtKv",
        "outputId": "771ec3a9-32a5-475f-b07e-d1ec4ea93351"
      },
      "execution_count": null,
      "outputs": [
        {
          "output_type": "execute_result",
          "data": {
            "text/html": [
              "<div>\n",
              "<style scoped>\n",
              "    .dataframe tbody tr th:only-of-type {\n",
              "        vertical-align: middle;\n",
              "    }\n",
              "\n",
              "    .dataframe tbody tr th {\n",
              "        vertical-align: top;\n",
              "    }\n",
              "\n",
              "    .dataframe thead th {\n",
              "        text-align: right;\n",
              "    }\n",
              "</style>\n",
              "<table border=\"1\" class=\"dataframe\">\n",
              "  <thead>\n",
              "    <tr style=\"text-align: right;\">\n",
              "      <th></th>\n",
              "      <th>기준년도</th>\n",
              "      <th>가입자일련번호</th>\n",
              "      <th>성별코드</th>\n",
              "      <th>연령대코드(5세단위)</th>\n",
              "      <th>시도코드</th>\n",
              "      <th>신장(5Cm단위)</th>\n",
              "      <th>체중(5Kg단위)</th>\n",
              "      <th>허리둘레</th>\n",
              "      <th>시력(좌)</th>\n",
              "      <th>시력(우)</th>\n",
              "      <th>청력(좌)</th>\n",
              "      <th>청력(우)</th>\n",
              "      <th>수축기혈압</th>\n",
              "      <th>이완기혈압</th>\n",
              "      <th>식전혈당(공복혈당)</th>\n",
              "      <th>총콜레스테롤</th>\n",
              "      <th>트리글리세라이드</th>\n",
              "      <th>HDL콜레스테롤</th>\n",
              "      <th>LDL콜레스테롤</th>\n",
              "      <th>혈색소</th>\n",
              "      <th>요단백</th>\n",
              "      <th>혈청크레아티닌</th>\n",
              "      <th>(혈청지오티)AST</th>\n",
              "      <th>(혈청지오티)ALT</th>\n",
              "      <th>감마지티피</th>\n",
              "      <th>흡연상태</th>\n",
              "      <th>음주여부</th>\n",
              "      <th>구강검진 수검여부</th>\n",
              "      <th>치아우식증유무</th>\n",
              "      <th>결손치유무</th>\n",
              "      <th>치아마모증유무</th>\n",
              "      <th>제3대구치(사랑니)이상</th>\n",
              "      <th>치석</th>\n",
              "      <th>데이터공개일자</th>\n",
              "      <th>IDL콜레스테롤</th>\n",
              "    </tr>\n",
              "  </thead>\n",
              "  <tbody>\n",
              "    <tr>\n",
              "      <th>0</th>\n",
              "      <td>2016</td>\n",
              "      <td>465969</td>\n",
              "      <td>1</td>\n",
              "      <td>8</td>\n",
              "      <td>41</td>\n",
              "      <td>170.0</td>\n",
              "      <td>70.0</td>\n",
              "      <td>74.0</td>\n",
              "      <td>0.7</td>\n",
              "      <td>0.7</td>\n",
              "      <td>1.0</td>\n",
              "      <td>1.0</td>\n",
              "      <td>118.0</td>\n",
              "      <td>70.0</td>\n",
              "      <td>85.0</td>\n",
              "      <td>194.0</td>\n",
              "      <td>97.0</td>\n",
              "      <td>54.0</td>\n",
              "      <td>120.0</td>\n",
              "      <td>14.6</td>\n",
              "      <td>2.0</td>\n",
              "      <td>1.1</td>\n",
              "      <td>31.0</td>\n",
              "      <td>36.0</td>\n",
              "      <td>96.0</td>\n",
              "      <td>3.0</td>\n",
              "      <td>NaN</td>\n",
              "      <td>1</td>\n",
              "      <td>NaN</td>\n",
              "      <td>NaN</td>\n",
              "      <td>NaN</td>\n",
              "      <td>NaN</td>\n",
              "      <td>2.0</td>\n",
              "      <td>20171219</td>\n",
              "      <td>20.0</td>\n",
              "    </tr>\n",
              "    <tr>\n",
              "      <th>1</th>\n",
              "      <td>2016</td>\n",
              "      <td>565871</td>\n",
              "      <td>1</td>\n",
              "      <td>10</td>\n",
              "      <td>41</td>\n",
              "      <td>160.0</td>\n",
              "      <td>60.0</td>\n",
              "      <td>81.0</td>\n",
              "      <td>1.2</td>\n",
              "      <td>1.0</td>\n",
              "      <td>1.0</td>\n",
              "      <td>1.0</td>\n",
              "      <td>134.0</td>\n",
              "      <td>84.0</td>\n",
              "      <td>105.0</td>\n",
              "      <td>143.0</td>\n",
              "      <td>84.0</td>\n",
              "      <td>33.0</td>\n",
              "      <td>93.0</td>\n",
              "      <td>16.2</td>\n",
              "      <td>1.0</td>\n",
              "      <td>1.0</td>\n",
              "      <td>20.0</td>\n",
              "      <td>23.0</td>\n",
              "      <td>14.0</td>\n",
              "      <td>1.0</td>\n",
              "      <td>NaN</td>\n",
              "      <td>0</td>\n",
              "      <td>NaN</td>\n",
              "      <td>NaN</td>\n",
              "      <td>NaN</td>\n",
              "      <td>NaN</td>\n",
              "      <td>NaN</td>\n",
              "      <td>20171219</td>\n",
              "      <td>17.0</td>\n",
              "    </tr>\n",
              "  </tbody>\n",
              "</table>\n",
              "</div>"
            ],
            "text/plain": [
              "   기준년도  가입자일련번호  성별코드  연령대코드(5세단위)  ...  제3대구치(사랑니)이상   치석   데이터공개일자  IDL콜레스테롤\n",
              "0  2016   465969     1            8  ...           NaN  2.0  20171219      20.0\n",
              "1  2016   565871     1           10  ...           NaN  NaN  20171219      17.0\n",
              "\n",
              "[2 rows x 35 columns]"
            ]
          },
          "metadata": {},
          "execution_count": 95
        }
      ]
    },
    {
      "cell_type": "markdown",
      "source": [
        "확실히 IDL콜레스테롤과 트리클리세라이드는 상관성이 매우 높아 보입니다 "
      ],
      "metadata": {
        "id": "lFbJXOo8gOpJ"
      }
    },
    {
      "cell_type": "code",
      "source": [
        "sns.jointplot(data=rawData_without_outlier, x='IDL콜레스테롤', y='트리글리세라이드')"
      ],
      "metadata": {
        "colab": {
          "base_uri": "https://localhost:8080/",
          "height": 458
        },
        "id": "49hpaA0FKDyQ",
        "outputId": "aacbb4ba-205e-4a73-d2e5-c5b9e493b1d0"
      },
      "execution_count": null,
      "outputs": [
        {
          "output_type": "execute_result",
          "data": {
            "text/plain": [
              "<seaborn.axisgrid.JointGrid at 0x7f0b71886510>"
            ]
          },
          "metadata": {},
          "execution_count": 96
        },
        {
          "output_type": "display_data",
          "data": {
            "image/png": "[encoded data removed]",
            "text/plain": [
              "<Figure size 432x432 with 3 Axes>"
            ]
          },
          "metadata": {
            "needs_background": "light"
          }
        }
      ]
    },
    {
      "cell_type": "markdown",
      "source": [
        "보통 통계가 잘 적용되고 있는 분야\n",
        "  - 날씨, 항공, 군사, 마켓팅, ...\n",
        "  - 이런 분야들에서는 변수에 대한 연구가 10-20년 동안 계속 이뤄지고 있습니다. \n",
        "\n",
        "  - 추천논문\n",
        "    - [Simple and scalable response prediction for display advertising](https://people.csail.mit.edu/romer/papers/TISTRespPredAds.pdf)\n",
        "    - NHN에서 신입 분석가 채용공고\n",
        "      - 5편의 논문을 적어놓고 그 중에 한 편을 골라서 리뷰\n",
        "      - 5편의 논문중에 하나이기도 했고\n",
        "    - 실제 마케팅 분야에서 사용되고 연구된 변수들에 대한 내용도 확인 \n",
        "    - 데이터 분석(변수분석), 알고리즘(로지스틱 회귀), 데이터 수집부터 적용까지 이 논문 한편에 다 들어있어요\n",
        "      - 초보자가 읽기에는 어려운 내용인데, 초보자가 반드시 이해해야 되는 내용 이라고 생각해요 "
      ],
      "metadata": {
        "id": "vUPgYNBTKW9-"
      }
    },
    {
      "cell_type": "markdown",
      "source": [
        "### 연속형 변수와 범주형 변수\n",
        "- barplot(비율)"
      ],
      "metadata": {
        "id": "JK6hmYL2KivY"
      }
    },
    {
      "cell_type": "markdown",
      "source": [
        "흡연과 콜레스테롤과 관계를 확인해 봅시다. "
      ],
      "metadata": {
        "id": "_YrEZ_y1g6Xs"
      }
    },
    {
      "cell_type": "code",
      "source": [
        "sns.barplot(data=rawData_without_outlier, x='흡연상태', y='IDL콜레스테롤')"
      ],
      "metadata": {
        "colab": {
          "base_uri": "https://localhost:8080/",
          "height": 295
        },
        "id": "2JdxcFLPhAoB",
        "outputId": "7ffdb854-85d7-4343-a07f-47e1a65e52d1"
      },
      "execution_count": null,
      "outputs": [
        {
          "output_type": "execute_result",
          "data": {
            "text/plain": [
              "<matplotlib.axes._subplots.AxesSubplot at 0x7f0b71480b50>"
            ]
          },
          "metadata": {},
          "execution_count": 102
        },
        {
          "output_type": "display_data",
          "data": {
            "image/png": "[encoded data removed]",
            "text/plain": [
              "<Figure size 432x288 with 1 Axes>"
            ]
          },
          "metadata": {
            "needs_background": "light"
          }
        }
      ]
    },
    {
      "cell_type": "code",
      "source": [
        "sns.barplot(data=rawData_without_outlier, x='흡연상태', y='총콜레스테롤')"
      ],
      "metadata": {
        "colab": {
          "base_uri": "https://localhost:8080/",
          "height": 295
        },
        "id": "6e4alDn3h-0O",
        "outputId": "68e49a9f-3d24-4218-84c6-42bf2502e6e5"
      },
      "execution_count": null,
      "outputs": [
        {
          "output_type": "execute_result",
          "data": {
            "text/plain": [
              "<matplotlib.axes._subplots.AxesSubplot at 0x7f0b715be1d0>"
            ]
          },
          "metadata": {},
          "execution_count": 99
        },
        {
          "output_type": "display_data",
          "data": {
            "image/png": "[encoded data removed]",
            "text/plain": [
              "<Figure size 432x288 with 1 Axes>"
            ]
          },
          "metadata": {
            "needs_background": "light"
          }
        }
      ]
    },
    {
      "cell_type": "code",
      "source": [
        "sns.barplot(data=rawData_without_outlier, x='흡연상태', y='IDL콜레스테롤', ci=False)"
      ],
      "metadata": {
        "colab": {
          "base_uri": "https://localhost:8080/",
          "height": 295
        },
        "id": "L0PqumkkiYrE",
        "outputId": "39fa9444-d529-48dc-ccca-bf6706c4b796"
      },
      "execution_count": null,
      "outputs": [
        {
          "output_type": "execute_result",
          "data": {
            "text/plain": [
              "<matplotlib.axes._subplots.AxesSubplot at 0x7f0b715c3990>"
            ]
          },
          "metadata": {},
          "execution_count": 100
        },
        {
          "output_type": "display_data",
          "data": {
            "image/png": "[encoded data removed]",
            "text/plain": [
              "<Figure size 432x288 with 1 Axes>"
            ]
          },
          "metadata": {
            "needs_background": "light"
          }
        }
      ]
    },
    {
      "cell_type": "code",
      "source": [
        "sns.histplot(data=rawData_without_outlier, x='IDL콜레스테롤', hue='흡연상태')"
      ],
      "metadata": {
        "colab": {
          "base_uri": "https://localhost:8080/",
          "height": 295
        },
        "id": "1906pF4NjVe7",
        "outputId": "d50ea47d-a545-4c5d-c554-f759734876ef"
      },
      "execution_count": null,
      "outputs": [
        {
          "output_type": "execute_result",
          "data": {
            "text/plain": [
              "<matplotlib.axes._subplots.AxesSubplot at 0x7f0b71270510>"
            ]
          },
          "metadata": {},
          "execution_count": 106
        },
        {
          "output_type": "display_data",
          "data": {
            "image/png": "[encoded data removed]",
            "text/plain": [
              "<Figure size 432x288 with 1 Axes>"
            ]
          },
          "metadata": {
            "needs_background": "light"
          }
        }
      ]
    },
    {
      "cell_type": "code",
      "source": [
        "plt.figure( figsize=(15,5) )\n",
        "sns.histplot(data=rawData_without_outlier, x='IDL콜레스테롤', hue='성별코드', multiple='fill')"
      ],
      "metadata": {
        "colab": {
          "base_uri": "https://localhost:8080/",
          "height": 353
        },
        "id": "RFA0954ojsc7",
        "outputId": "a6c94088-73fd-49a9-b557-4e579b37f02c"
      },
      "execution_count": null,
      "outputs": [
        {
          "output_type": "execute_result",
          "data": {
            "text/plain": [
              "<matplotlib.axes._subplots.AxesSubplot at 0x7f0b705f4b50>"
            ]
          },
          "metadata": {},
          "execution_count": 112
        },
        {
          "output_type": "display_data",
          "data": {
            "image/png": "[encoded data removed]",
            "text/plain": [
              "<Figure size 1080x360 with 1 Axes>"
            ]
          },
          "metadata": {
            "needs_background": "light"
          }
        }
      ]
    },
    {
      "cell_type": "markdown",
      "source": [
        "#### boxplot\n",
        "- 탐색적 자료 분석(EDA)에서 주로 많이 사용\n",
        "- 4분위수를 이용한 시각화\n",
        "  - 이상치(outlier)를 확인하는 용도로 사용\n",
        "  - 자료를 4개의 구간으로 나눈 값\n",
        "  - 1분위수: 자료의 25%에 해당하는 값\n",
        "  - 2분위수: 자료의 50%에 해당하는 값(중앙값과 동일)\n",
        "  - 3분위수: 자료의 75%에 해당하는 값\n",
        "\n",
        "![](https://i.imgur.com/tssRkgA.jpg)\n",
        "\n",
        "- IQR(Inter Quantile Range)\n",
        "  - IQR = Q3 - Q1\n",
        "  - 최대제한선 = Q3 + (IQR * 1.5)\n",
        "  - 최소제한선 = Q1 - (IQR * 1.5)\n",
        "\n",
        "![](https://i.imgur.com/CnFsXL9.png)"
      ],
      "metadata": {
        "id": "SRMfxCBkk9xs"
      }
    },
    {
      "cell_type": "code",
      "source": [
        "plt.figure( figsize=(12,7) )\n",
        "sns.boxplot(data=rawData_without_outlier, x='흡연상태', y='IDL콜레스테롤')"
      ],
      "metadata": {
        "colab": {
          "base_uri": "https://localhost:8080/",
          "height": 458
        },
        "id": "AslA-zbOmD7E",
        "outputId": "81737b92-a4ba-48cc-a261-f7341a927d07"
      },
      "execution_count": null,
      "outputs": [
        {
          "output_type": "execute_result",
          "data": {
            "text/plain": [
              "<matplotlib.axes._subplots.AxesSubplot at 0x7f0b702fa8d0>"
            ]
          },
          "metadata": {},
          "execution_count": 115
        },
        {
          "output_type": "display_data",
          "data": {
            "image/png": "[encoded data removed]",
            "text/plain": [
              "<Figure size 864x504 with 1 Axes>"
            ]
          },
          "metadata": {
            "needs_background": "light"
          }
        }
      ]
    },
    {
      "cell_type": "markdown",
      "source": [
        "### 두 변수 모두 범주형\n"
      ],
      "metadata": {
        "id": "Puq9_OAoi0DT"
      }
    },
    {
      "cell_type": "code",
      "source": [
        "sns.countplot(data=rawData_without_outlier, x='성별코드', hue='흡연상태')"
      ],
      "metadata": {
        "colab": {
          "base_uri": "https://localhost:8080/",
          "height": 295
        },
        "id": "4xwNSVhHi2mS",
        "outputId": "0d9c82e4-a5ff-47b5-ca02-9b819b19854c"
      },
      "execution_count": null,
      "outputs": [
        {
          "output_type": "execute_result",
          "data": {
            "text/plain": [
              "<matplotlib.axes._subplots.AxesSubplot at 0x7f0b713cb850>"
            ]
          },
          "metadata": {},
          "execution_count": 104
        },
        {
          "output_type": "display_data",
          "data": {
            "image/png": "[encoded data removed]",
            "text/plain": [
              "<Figure size 432x288 with 1 Axes>"
            ]
          },
          "metadata": {
            "needs_background": "light"
          }
        }
      ]
    },
    {
      "cell_type": "markdown",
      "source": [
        "## 변수가 3개 이상인 경우\n",
        "- 최대 4개까지 표현을 해볼 수 있습니다. \n",
        "  - 변수의 종류에 따라 달라집니다. "
      ],
      "metadata": {
        "id": "LIHTV7tBnH5-"
      }
    },
    {
      "cell_type": "code",
      "source": [
        "sns.barplot(data=rawData_without_outlier, x='흡연상태', y='IDL콜레스테롤', hue='성별코드')"
      ],
      "metadata": {
        "colab": {
          "base_uri": "https://localhost:8080/",
          "height": 295
        },
        "id": "aE9K-AVVnP0l",
        "outputId": "10308df9-13bc-4ace-c8f9-1ee08e76fbcf"
      },
      "execution_count": null,
      "outputs": [
        {
          "output_type": "execute_result",
          "data": {
            "text/plain": [
              "<matplotlib.axes._subplots.AxesSubplot at 0x7f0b6f8ce790>"
            ]
          },
          "metadata": {},
          "execution_count": 129
        },
        {
          "output_type": "display_data",
          "data": {
            "image/png": "[encoded data removed]",
            "text/plain": [
              "<Figure size 432x288 with 1 Axes>"
            ]
          },
          "metadata": {
            "needs_background": "light"
          }
        }
      ]
    },
    {
      "cell_type": "code",
      "source": [
        "sns.jointplot(data=rawData_without_outlier, x='IDL콜레스테롤', y='트리글리세라이드', hue='흡연상태')"
      ],
      "metadata": {
        "colab": {
          "base_uri": "https://localhost:8080/",
          "height": 458
        },
        "id": "C-iaVGbCn18U",
        "outputId": "5ac5b0e6-64c7-442c-8367-6efab2eb955f"
      },
      "execution_count": null,
      "outputs": [
        {
          "output_type": "execute_result",
          "data": {
            "text/plain": [
              "<seaborn.axisgrid.JointGrid at 0x7f0b700863d0>"
            ]
          },
          "metadata": {},
          "execution_count": 117
        },
        {
          "output_type": "display_data",
          "data": {
            "image/png": "[encoded data removed]",
            "text/plain": [
              "<Figure size 432x432 with 3 Axes>"
            ]
          },
          "metadata": {
            "needs_background": "light"
          }
        }
      ]
    },
    {
      "cell_type": "code",
      "source": [
        "plt.figure( figsize=(15,5) )\n",
        "sns.scatterplot(data=rawData_without_outlier, x='IDL콜레스테롤', y='트리글리세라이드', hue='흡연상태', size='총콜레스테롤', sizes=(30,500))"
      ],
      "metadata": {
        "colab": {
          "base_uri": "https://localhost:8080/",
          "height": 350
        },
        "id": "WCjP-JbVoJGr",
        "outputId": "14ad0223-a8cc-4cfd-ecca-9abfe22f01b1"
      },
      "execution_count": null,
      "outputs": [
        {
          "output_type": "execute_result",
          "data": {
            "text/plain": [
              "<matplotlib.axes._subplots.AxesSubplot at 0x7f0b708084d0>"
            ]
          },
          "metadata": {},
          "execution_count": 127
        },
        {
          "output_type": "display_data",
          "data": {
            "image/png": "[encoded data removed]",
            "text/plain": [
              "<Figure size 1080x360 with 1 Axes>"
            ]
          },
          "metadata": {
            "needs_background": "light"
          }
        }
      ]
    },
    {
      "cell_type": "markdown",
      "source": [
        "# 그래프 표현\n",
        "- subplot\n",
        "- subplots"
      ],
      "metadata": {
        "id": "mv4jp5n9u6DW"
      }
    },
    {
      "cell_type": "markdown",
      "source": [
        "## 레이아웃 분할"
      ],
      "metadata": {
        "id": "hVto1l0DylJP"
      }
    },
    {
      "cell_type": "code",
      "source": [
        "plt.figure( figsize=(12,5) )\n",
        "plt.subplot( 2, 2, 1)\n",
        "sns.countplot(data=rawData, x='흡연상태')\n",
        "\n",
        "plt.subplot( 2, 2, 2)\n",
        "sns.barplot(data=rawData_without_outlier, x='흡연상태', y='IDL콜레스테롤')\n",
        "\n",
        "plt.subplot( 2, 2, 3)\n",
        "sns.boxplot(data=rawData_without_outlier, x='흡연상태', y='IDL콜레스테롤')\n",
        "\n",
        "plt.show()"
      ],
      "metadata": {
        "colab": {
          "base_uri": "https://localhost:8080/",
          "height": 332
        },
        "id": "rUEf0LS2wGKq",
        "outputId": "c9359130-0499-41d1-b52d-c76b3928b2fe"
      },
      "execution_count": null,
      "outputs": [
        {
          "output_type": "display_data",
          "data": {
            "image/png": "[encoded data removed]",
            "text/plain": [
              "<Figure size 864x360 with 3 Axes>"
            ]
          },
          "metadata": {
            "needs_background": "light"
          }
        }
      ]
    },
    {
      "cell_type": "code",
      "source": [
        "plt.subplots(2, 2, figsize=(15,5) )"
      ],
      "metadata": {
        "colab": {
          "base_uri": "https://localhost:8080/",
          "height": 426
        },
        "id": "QY96sbQaxkWF",
        "outputId": "aef69612-73e3-4eb3-80e6-2f1c0428332c"
      },
      "execution_count": null,
      "outputs": [
        {
          "output_type": "execute_result",
          "data": {
            "text/plain": [
              "(<Figure size 1080x360 with 4 Axes>,\n",
              " array([[<matplotlib.axes._subplots.AxesSubplot object at 0x7f0b6f55f250>,\n",
              "         <matplotlib.axes._subplots.AxesSubplot object at 0x7f0b6f506610>],\n",
              "        [<matplotlib.axes._subplots.AxesSubplot object at 0x7f0b6f4bbad0>,\n",
              "         <matplotlib.axes._subplots.AxesSubplot object at 0x7f0b6f47e050>]],\n",
              "       dtype=object))"
            ]
          },
          "metadata": {},
          "execution_count": 134
        },
        {
          "output_type": "display_data",
          "data": {
            "image/png": "[encoded data removed]",
            "text/plain": [
              "<Figure size 1080x360 with 4 Axes>"
            ]
          },
          "metadata": {
            "needs_background": "light"
          }
        }
      ]
    },
    {
      "cell_type": "code",
      "source": [
        "fig, ax = plt.subplots(2, 2, figsize=(15,5) )\n",
        "sns.countplot(data=rawData, x='흡연상태', ax=ax[0,0])\n",
        "sns.barplot(data=rawData_without_outlier, x='흡연상태', y='IDL콜레스테롤', ax=ax[0,1])\n",
        "sns.boxplot(data=rawData_without_outlier, x='흡연상태', y='IDL콜레스테롤', ax=ax[1,0])"
      ],
      "metadata": {
        "colab": {
          "base_uri": "https://localhost:8080/",
          "height": 349
        },
        "id": "Z7ODFJPfx6_U",
        "outputId": "5da59b39-cf51-4251-817b-850ca80a6784"
      },
      "execution_count": null,
      "outputs": [
        {
          "output_type": "execute_result",
          "data": {
            "text/plain": [
              "<matplotlib.axes._subplots.AxesSubplot at 0x7f0b6f3a0290>"
            ]
          },
          "metadata": {},
          "execution_count": 135
        },
        {
          "output_type": "display_data",
          "data": {
            "image/png": "[encoded data removed]",
            "text/plain": [
              "<Figure size 1080x360 with 4 Axes>"
            ]
          },
          "metadata": {
            "needs_background": "light"
          }
        }
      ]
    },
    {
      "cell_type": "markdown",
      "source": [
        "## 색지정"
      ],
      "metadata": {
        "id": "OeXSAziCyjB-"
      }
    },
    {
      "cell_type": "code",
      "source": [
        "sns.palplot( sns.color_palette('hls', 20) )"
      ],
      "metadata": {
        "colab": {
          "base_uri": "https://localhost:8080/",
          "height": 85
        },
        "id": "poiEUZVeykKx",
        "outputId": "0d656343-9194-42fa-9f28-39312cf3c548"
      },
      "execution_count": null,
      "outputs": [
        {
          "output_type": "display_data",
          "data": {
            "image/png": "[encoded data removed]",
            "text/plain": [
              "<Figure size 1440x72 with 1 Axes>"
            ]
          },
          "metadata": {
            "needs_background": "light"
          }
        }
      ]
    },
    {
      "cell_type": "code",
      "source": [
        "sns.palplot( sns.color_palette('coolwarm', 20) )"
      ],
      "metadata": {
        "colab": {
          "base_uri": "https://localhost:8080/",
          "height": 85
        },
        "id": "1uXtcSEly_Tu",
        "outputId": "35658a01-dc1f-4e29-8217-0a4e2165ad90"
      },
      "execution_count": null,
      "outputs": [
        {
          "output_type": "display_data",
          "data": {
            "image/png": "[encoded data removed]",
            "text/plain": [
              "<Figure size 1440x72 with 1 Axes>"
            ]
          },
          "metadata": {
            "needs_background": "light"
          }
        }
      ]
    },
    {
      "cell_type": "code",
      "source": [
        "sns.palplot( sns.color_palette('rocket', 20) )"
      ],
      "metadata": {
        "colab": {
          "base_uri": "https://localhost:8080/",
          "height": 85
        },
        "id": "r-9Ve6pvzGx1",
        "outputId": "ac83f5a2-97df-4f43-8d2a-2e99b7373aa1"
      },
      "execution_count": null,
      "outputs": [
        {
          "output_type": "display_data",
          "data": {
            "image/png": "[encoded data removed]",
            "text/plain": [
              "<Figure size 1440x72 with 1 Axes>"
            ]
          },
          "metadata": {
            "needs_background": "light"
          }
        }
      ]
    },
    {
      "cell_type": "code",
      "source": [
        "sns.palplot( sns.color_palette('YlOrBr', 20) )"
      ],
      "metadata": {
        "colab": {
          "base_uri": "https://localhost:8080/",
          "height": 85
        },
        "id": "NqcVA5mVzNx6",
        "outputId": "d7e992ce-d934-427d-d359-f52291413864"
      },
      "execution_count": null,
      "outputs": [
        {
          "output_type": "display_data",
          "data": {
            "image/png": "[encoded data removed]",
            "text/plain": [
              "<Figure size 1440x72 with 1 Axes>"
            ]
          },
          "metadata": {
            "needs_background": "light"
          }
        }
      ]
    },
    {
      "cell_type": "code",
      "source": [
        "colors = sns.color_palette('hls')\n",
        "sns.countplot(data=rawData, x='연령대코드(5세단위)', palette=colors)"
      ],
      "metadata": {
        "colab": {
          "base_uri": "https://localhost:8080/",
          "height": 296
        },
        "id": "_pqXyFARzVgQ",
        "outputId": "1e107117-6ae2-48a8-cf38-6453044afc97"
      },
      "execution_count": null,
      "outputs": [
        {
          "output_type": "execute_result",
          "data": {
            "text/plain": [
              "<matplotlib.axes._subplots.AxesSubplot at 0x7f0b6efddd50>"
            ]
          },
          "metadata": {},
          "execution_count": 142
        },
        {
          "output_type": "display_data",
          "data": {
            "image/png": "[encoded data removed]",
            "text/plain": [
              "<Figure size 432x288 with 1 Axes>"
            ]
          },
          "metadata": {
            "needs_background": "light"
          }
        }
      ]
    }
  ]
}