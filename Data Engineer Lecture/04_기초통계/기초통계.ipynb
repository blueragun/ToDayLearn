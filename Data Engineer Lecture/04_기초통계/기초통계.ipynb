{
  "nbformat": 4,
  "nbformat_minor": 0,
  "metadata": {
    "colab": {
      "name": "기초통계.ipynb",
      "provenance": [],
      "toc_visible": true,
      "collapsed_sections": [
        "RhxKC1bLhos4",
        "TVzmubpmq4p0"
      ]
    },
    "kernelspec": {
      "name": "python3",
      "display_name": "Python 3"
    },
    "language_info": {
      "name": "python"
    }
  },
  "cells": [
    {
      "cell_type": "code",
      "execution_count": null,
      "metadata": {
        "id": "bjjFQQstUgIv"
      },
      "outputs": [],
      "source": [
        "import warnings\n",
        "warnings.filterwarnings('always')\n",
        "warnings.filterwarnings('ignore')\n",
        "\n",
        "import numpy as np \n",
        "import pandas as pd\n",
        "\n",
        "import matplotlib.pyplot as plt\n",
        "import seaborn as sns"
      ]
    },
    {
      "cell_type": "markdown",
      "source": [
        "# 통계\n",
        "- 교재: 챕터2(p. 30 ~ )\n",
        "- 예제: 책표지(아래쪽) -> 소스코드 다운로드\n",
        "  - 교재의 예제는 직접 다운로드 해주세요\n",
        "\n",
        "- 통계란? \n",
        "  - 관찰(수집)된 자료(현상/상태)에 대해서 통계적(수치적)으로 처리하고 연구\n",
        "  - 기술통계와 추론통계"
      ],
      "metadata": {
        "id": "UpvkkQOMUrox"
      }
    },
    {
      "cell_type": "markdown",
      "source": [
        "## 기술통계\n",
        "- 기초통계를 이용해서 자료의 성질(특성)을 확인(설명)하는 것\n",
        "- 자료의 요약된 정보\n",
        "  - 자료의 자세한 정보 까지는 확인할 수 없습니다. \n",
        "    - 자료의 세세한 정보까지 확인이 가능하면, 통계 없이 확인 가능한 정도로 아주 작은 파일\n",
        "    - 즉, 빅데이터에서 아주아주 큰 파일에 대해서 확인할 수 있는 방법은 통계외에는 접근하는 방법조차 없습니다. \n",
        "    - 자료의 아주 세세한 정보는 통계에 있어서는 큰 관심사가 되지 않습니다. \n",
        "  - 자료의 커다란 특성을 확인할 수 있습니다. \n",
        "  - 통계가 아니고는 대용량의 자료를 설명할 방법이 없습니다. \n",
        "\n",
        "- 통계적 수치(통계량)\n",
        "  - 중심에 대한 통계(교재: 2.1 데이터 중심의 지표)\n",
        "  - 산포에 대한 통계(교재: 2.2 데이터의 산포도 지표)\n",
        "  - 관계에 대한 통계(교재: 3.1 두 데이터 사이의 관계를 나타내는 지표)\n",
        "  - 형태에 대한 통계"
      ],
      "metadata": {
        "id": "IZE_58maWTli"
      }
    },
    {
      "cell_type": "markdown",
      "source": [
        "### 중심에 대한 통계\n",
        "- 자료의 중심에 대한 경향을 나타내는 수치\n",
        "- 평균: 자료에 대한 평균(모평균/표본평균/샘플평균)\n",
        "- 중앙값: 자료의 50%에 해당하는 값\n",
        "  - 자료를 정렬했을 때, 가운데 오는 값\n",
        "- 최빈값: 가장 많이 등장하는 값"
      ],
      "metadata": {
        "id": "dGo00vqVaU3Z"
      }
    },
    {
      "cell_type": "code",
      "source": [
        "df = pd.read_csv('/content/drive/MyDrive/멀티캠퍼스/data/stat/ch2_scores_em.csv')\n",
        "df.head(2)"
      ],
      "metadata": {
        "colab": {
          "base_uri": "https://localhost:8080/",
          "height": 112
        },
        "id": "yX1T1esRcB6o",
        "outputId": "96f5d6b6-01ba-4e36-f7ff-29790dad10f1"
      },
      "execution_count": null,
      "outputs": [
        {
          "output_type": "execute_result",
          "data": {
            "text/html": [
              "<div>\n",
              "<style scoped>\n",
              "    .dataframe tbody tr th:only-of-type {\n",
              "        vertical-align: middle;\n",
              "    }\n",
              "\n",
              "    .dataframe tbody tr th {\n",
              "        vertical-align: top;\n",
              "    }\n",
              "\n",
              "    .dataframe thead th {\n",
              "        text-align: right;\n",
              "    }\n",
              "</style>\n",
              "<table border=\"1\" class=\"dataframe\">\n",
              "  <thead>\n",
              "    <tr style=\"text-align: right;\">\n",
              "      <th></th>\n",
              "      <th>student number</th>\n",
              "      <th>english</th>\n",
              "      <th>mathematics</th>\n",
              "    </tr>\n",
              "  </thead>\n",
              "  <tbody>\n",
              "    <tr>\n",
              "      <th>0</th>\n",
              "      <td>1</td>\n",
              "      <td>42</td>\n",
              "      <td>65</td>\n",
              "    </tr>\n",
              "    <tr>\n",
              "      <th>1</th>\n",
              "      <td>2</td>\n",
              "      <td>69</td>\n",
              "      <td>80</td>\n",
              "    </tr>\n",
              "  </tbody>\n",
              "</table>\n",
              "</div>"
            ],
            "text/plain": [
              "   student number  english  mathematics\n",
              "0               1       42           65\n",
              "1               2       69           80"
            ]
          },
          "metadata": {},
          "execution_count": 2
        }
      ]
    },
    {
      "cell_type": "markdown",
      "source": [
        "평균 구하기"
      ],
      "metadata": {
        "id": "--lipfpAeGa1"
      }
    },
    {
      "cell_type": "code",
      "source": [
        "# 학생 10명의 영어점수\n",
        "scores = np.array( df['english'][:10] )\n",
        "scores "
      ],
      "metadata": {
        "colab": {
          "base_uri": "https://localhost:8080/"
        },
        "id": "_wJFO9Amcwu-",
        "outputId": "fdf926f0-0df2-4805-b660-fabe04ae579d"
      },
      "execution_count": null,
      "outputs": [
        {
          "output_type": "execute_result",
          "data": {
            "text/plain": [
              "array([42, 69, 56, 41, 57, 48, 65, 49, 65, 58])"
            ]
          },
          "metadata": {},
          "execution_count": 3
        }
      ]
    },
    {
      "cell_type": "code",
      "source": [
        "sum(scores) / len(scores)"
      ],
      "metadata": {
        "colab": {
          "base_uri": "https://localhost:8080/"
        },
        "id": "HJm4rEs3dEE9",
        "outputId": "e52e3952-c539-43d9-946a-bdaa89228a52"
      },
      "execution_count": null,
      "outputs": [
        {
          "output_type": "execute_result",
          "data": {
            "text/plain": [
              "55.0"
            ]
          },
          "metadata": {},
          "execution_count": 4
        }
      ]
    },
    {
      "cell_type": "code",
      "source": [
        "np.mean( scores )"
      ],
      "metadata": {
        "colab": {
          "base_uri": "https://localhost:8080/"
        },
        "id": "aLo1LtADdIbw",
        "outputId": "82338e35-786f-4bfd-e07b-7df8a086a243"
      },
      "execution_count": null,
      "outputs": [
        {
          "output_type": "execute_result",
          "data": {
            "text/plain": [
              "55.0"
            ]
          },
          "metadata": {},
          "execution_count": 5
        }
      ]
    },
    {
      "cell_type": "code",
      "source": [
        "df['english'][:10].mean()"
      ],
      "metadata": {
        "colab": {
          "base_uri": "https://localhost:8080/"
        },
        "id": "LuqjW6zXdMhv",
        "outputId": "bb0ecab3-cb65-4818-9ed0-0a368c9ee86f"
      },
      "execution_count": null,
      "outputs": [
        {
          "output_type": "execute_result",
          "data": {
            "text/plain": [
              "55.0"
            ]
          },
          "metadata": {},
          "execution_count": 6
        }
      ]
    },
    {
      "cell_type": "markdown",
      "source": [
        "중앙값 구하기"
      ],
      "metadata": {
        "id": "o7evZcb_eIVm"
      }
    },
    {
      "cell_type": "code",
      "source": [
        "sort_scores = np.sort( scores )\n",
        "sort_scores"
      ],
      "metadata": {
        "colab": {
          "base_uri": "https://localhost:8080/"
        },
        "id": "W3ENG9aPeJv_",
        "outputId": "c45e0f54-4ad4-4e29-fdf6-38fe673a26fa"
      },
      "execution_count": null,
      "outputs": [
        {
          "output_type": "execute_result",
          "data": {
            "text/plain": [
              "array([41, 42, 48, 49, 56, 57, 58, 65, 65, 69])"
            ]
          },
          "metadata": {},
          "execution_count": 7
        }
      ]
    },
    {
      "cell_type": "code",
      "source": [
        "size = len(sort_scores)\n",
        "if size % 2 == 0:\n",
        "  m0 = sort_scores[size//2 - 1]\n",
        "  m1 = sort_scores[size//2]\n",
        "  mid = (m0 + m1) / 2\n",
        "else:\n",
        "  mid = sort_scores[(size+1)//2-1]\n",
        "\n",
        "mid"
      ],
      "metadata": {
        "colab": {
          "base_uri": "https://localhost:8080/"
        },
        "id": "PCrdiNEreU9X",
        "outputId": "754cc1d2-2979-40b0-be10-e540fecc9dde"
      },
      "execution_count": null,
      "outputs": [
        {
          "output_type": "execute_result",
          "data": {
            "text/plain": [
              "56.5"
            ]
          },
          "metadata": {},
          "execution_count": 8
        }
      ]
    },
    {
      "cell_type": "code",
      "source": [
        "np.median(scores)"
      ],
      "metadata": {
        "colab": {
          "base_uri": "https://localhost:8080/"
        },
        "id": "LroZsUN-e9Eu",
        "outputId": "f5e59be5-2098-4fc3-bbaf-96b33a2c7a6b"
      },
      "execution_count": null,
      "outputs": [
        {
          "output_type": "execute_result",
          "data": {
            "text/plain": [
              "56.5"
            ]
          },
          "metadata": {},
          "execution_count": 9
        }
      ]
    },
    {
      "cell_type": "code",
      "source": [
        "df['english'][:10].median()"
      ],
      "metadata": {
        "colab": {
          "base_uri": "https://localhost:8080/"
        },
        "id": "ZrR-40LqfbVN",
        "outputId": "d7356442-460f-44d9-ec01-52be3530570e"
      },
      "execution_count": null,
      "outputs": [
        {
          "output_type": "execute_result",
          "data": {
            "text/plain": [
              "56.5"
            ]
          },
          "metadata": {},
          "execution_count": 10
        }
      ]
    },
    {
      "cell_type": "markdown",
      "source": [
        "최빈값 구하기"
      ],
      "metadata": {
        "id": "nMf8GCydg665"
      }
    },
    {
      "cell_type": "code",
      "source": [
        "# 넘파이에서는 최빈값을 구하는 함수가 없어요\n",
        "pd.Series( scores ).mode()"
      ],
      "metadata": {
        "colab": {
          "base_uri": "https://localhost:8080/"
        },
        "id": "hVvKtMeng_Wz",
        "outputId": "6fd78ec2-3540-4720-8ffb-28b4377ce2d8"
      },
      "execution_count": null,
      "outputs": [
        {
          "output_type": "execute_result",
          "data": {
            "text/plain": [
              "0    65\n",
              "dtype: int64"
            ]
          },
          "metadata": {},
          "execution_count": 11
        }
      ]
    },
    {
      "cell_type": "code",
      "source": [
        "df['english'][:10].mode()"
      ],
      "metadata": {
        "colab": {
          "base_uri": "https://localhost:8080/"
        },
        "id": "j0Gu96-ThJrQ",
        "outputId": "9e703014-f8cf-4a04-900a-b78cdec585ec"
      },
      "execution_count": null,
      "outputs": [
        {
          "output_type": "execute_result",
          "data": {
            "text/plain": [
              "0    65\n",
              "dtype: int64"
            ]
          },
          "metadata": {},
          "execution_count": 12
        }
      ]
    },
    {
      "cell_type": "markdown",
      "source": [
        "### 산포에 대한 통계\n",
        "- 자료의 변동성을 나타내는 수치\n",
        "  - 자료들이 중심으로부터 얼마나 멀리 떨어져 있는가의 정도를 나타내는 수치 \n",
        "- 편차(deviation): 관측(수집)값과 평균의 차이\n",
        "  - 평균(중심)으로부터 얼마나 멀리 떨어져 있는가\n",
        "- 변동(variation): 편차의 제곱합\n",
        "- 분산(variance): 변동을 데이터의 수로 나눈 값\n",
        "- 표준편차(Standard Deviation): 분산의 제곱근"
      ],
      "metadata": {
        "id": "RhxKC1bLhos4"
      }
    },
    {
      "cell_type": "markdown",
      "source": [
        "편차 구하기"
      ],
      "metadata": {
        "id": "TNrvsfd_hy2p"
      }
    },
    {
      "cell_type": "code",
      "source": [
        "mean = np.mean(scores)\n",
        "\n",
        "# 관측(수집)값과 평균의 차이\n",
        "deviation = mean - scores\n",
        "deviation"
      ],
      "metadata": {
        "colab": {
          "base_uri": "https://localhost:8080/"
        },
        "id": "3fE7bS5ZiTeK",
        "outputId": "8d534a40-8e25-412c-f7b5-ba8c9887f5fb"
      },
      "execution_count": null,
      "outputs": [
        {
          "output_type": "execute_result",
          "data": {
            "text/plain": [
              "array([ 13., -14.,  -1.,  14.,  -2.,   7., -10.,   6., -10.,  -3.])"
            ]
          },
          "metadata": {},
          "execution_count": 13
        }
      ]
    },
    {
      "cell_type": "markdown",
      "source": [
        "변동 구하기"
      ],
      "metadata": {
        "id": "LCcUdufhivPY"
      }
    },
    {
      "cell_type": "code",
      "source": [
        "variation = np.sum( deviation ** 2 )\n",
        "variation"
      ],
      "metadata": {
        "colab": {
          "base_uri": "https://localhost:8080/"
        },
        "id": "_CMGB4fLiz72",
        "outputId": "10aeb205-7043-4bd2-8fac-8287eb5a8e98"
      },
      "execution_count": null,
      "outputs": [
        {
          "output_type": "execute_result",
          "data": {
            "text/plain": [
              "860.0"
            ]
          },
          "metadata": {},
          "execution_count": 14
        }
      ]
    },
    {
      "cell_type": "code",
      "source": [
        "variation / len(scores)"
      ],
      "metadata": {
        "colab": {
          "base_uri": "https://localhost:8080/"
        },
        "id": "_eAYH1uVmF__",
        "outputId": "e5aaf726-c82c-463e-8c9f-c800877eb907"
      },
      "execution_count": null,
      "outputs": [
        {
          "output_type": "execute_result",
          "data": {
            "text/plain": [
              "86.0"
            ]
          },
          "metadata": {},
          "execution_count": 15
        }
      ]
    },
    {
      "cell_type": "code",
      "source": [
        "variation / (len(scores) - 1)"
      ],
      "metadata": {
        "colab": {
          "base_uri": "https://localhost:8080/"
        },
        "id": "3nEHvZ3FmPSP",
        "outputId": "b71bcc0b-d879-4149-95db-1f02af2da310"
      },
      "execution_count": null,
      "outputs": [
        {
          "output_type": "execute_result",
          "data": {
            "text/plain": [
              "95.55555555555556"
            ]
          },
          "metadata": {},
          "execution_count": 16
        }
      ]
    },
    {
      "cell_type": "code",
      "source": [
        "np.var(scores)"
      ],
      "metadata": {
        "colab": {
          "base_uri": "https://localhost:8080/"
        },
        "id": "8gU4tJ6VmUGW",
        "outputId": "34b06975-d465-4151-cc25-9d71dfa34d76"
      },
      "execution_count": null,
      "outputs": [
        {
          "output_type": "execute_result",
          "data": {
            "text/plain": [
              "86.0"
            ]
          },
          "metadata": {},
          "execution_count": 17
        }
      ]
    },
    {
      "cell_type": "code",
      "source": [
        "df['english'][:10].var()"
      ],
      "metadata": {
        "colab": {
          "base_uri": "https://localhost:8080/"
        },
        "id": "w_rl5oTvmWGo",
        "outputId": "d0ddca32-f1bb-4e4f-a17a-6737d35d3421"
      },
      "execution_count": null,
      "outputs": [
        {
          "output_type": "execute_result",
          "data": {
            "text/plain": [
              "95.55555555555556"
            ]
          },
          "metadata": {},
          "execution_count": 18
        }
      ]
    },
    {
      "cell_type": "markdown",
      "source": [
        "표준편차 구하기"
      ],
      "metadata": {
        "id": "BOOFvGUWnJXP"
      }
    },
    {
      "cell_type": "code",
      "source": [
        "np.std(scores)"
      ],
      "metadata": {
        "colab": {
          "base_uri": "https://localhost:8080/"
        },
        "id": "lwAkPXPynOmo",
        "outputId": "74b30292-c682-4e04-b156-baceaf9cc593"
      },
      "execution_count": null,
      "outputs": [
        {
          "output_type": "execute_result",
          "data": {
            "text/plain": [
              "9.273618495495704"
            ]
          },
          "metadata": {},
          "execution_count": 19
        }
      ]
    },
    {
      "cell_type": "code",
      "source": [
        "df['english'][:10].std()"
      ],
      "metadata": {
        "colab": {
          "base_uri": "https://localhost:8080/"
        },
        "id": "TR40jTI8nQaP",
        "outputId": "a451d3f5-d1eb-4af4-c6ba-bc876d8c9995"
      },
      "execution_count": null,
      "outputs": [
        {
          "output_type": "execute_result",
          "data": {
            "text/plain": [
              "9.775252199076787"
            ]
          },
          "metadata": {},
          "execution_count": 20
        }
      ]
    },
    {
      "cell_type": "markdown",
      "source": [
        "판다스는 이러한 통계량을 한 번에 계산"
      ],
      "metadata": {
        "id": "LV9H4rHTnavv"
      }
    },
    {
      "cell_type": "code",
      "source": [
        "df['english'][:10].describe()"
      ],
      "metadata": {
        "colab": {
          "base_uri": "https://localhost:8080/"
        },
        "id": "bC8iWlxfndre",
        "outputId": "f4199fcb-705e-49e9-bad6-afc71304efd0"
      },
      "execution_count": null,
      "outputs": [
        {
          "output_type": "execute_result",
          "data": {
            "text/plain": [
              "count    10.000000\n",
              "mean     55.000000\n",
              "std       9.775252\n",
              "min      41.000000\n",
              "25%      48.250000\n",
              "50%      56.500000\n",
              "75%      63.250000\n",
              "max      69.000000\n",
              "Name: english, dtype: float64"
            ]
          },
          "metadata": {},
          "execution_count": 21
        }
      ]
    },
    {
      "cell_type": "markdown",
      "source": [
        "표준화와 편차\n",
        "- 데이터에서 평균을 빼고 표준편차로 나누는 작업\n",
        "  - 자료들이 서로 다른 분포를 가지고 있다면, 비교 작업이 어렵다.\n",
        "  - 자료들이 정규분포임을 가정 즉, 정규분포가 아니라면 최선이 아닐 수 있다. \n",
        "  - 평균이나 분산에 상관 없이 표준화된 지표를 얻을 수 있다.\n",
        "\n",
        "- 최소/최대, Robust, ... "
      ],
      "metadata": {
        "id": "Z9Ct0Fw7o0X4"
      }
    },
    {
      "cell_type": "code",
      "source": [
        "z = (scores - mean) / np.std(scores)\n",
        "z"
      ],
      "metadata": {
        "colab": {
          "base_uri": "https://localhost:8080/"
        },
        "id": "J-_dgBj3pesJ",
        "outputId": "2a505632-540e-4950-fbff-bedaf7803985"
      },
      "execution_count": null,
      "outputs": [
        {
          "output_type": "execute_result",
          "data": {
            "text/plain": [
              "array([-1.40182605,  1.50965882,  0.10783277, -1.50965882,  0.21566555,\n",
              "       -0.75482941,  1.07832773, -0.64699664,  1.07832773,  0.32349832])"
            ]
          },
          "metadata": {},
          "execution_count": 22
        }
      ]
    },
    {
      "cell_type": "markdown",
      "source": [
        "평균이 0이고 표준편차는 1이 됩니다."
      ],
      "metadata": {
        "id": "jrnLL93ZprKo"
      }
    },
    {
      "cell_type": "code",
      "source": [
        "np.mean(z), np.std(z)"
      ],
      "metadata": {
        "colab": {
          "base_uri": "https://localhost:8080/"
        },
        "id": "72TP9eg3pqa4",
        "outputId": "a353188e-a51c-4688-f9ab-ee163d73322b"
      },
      "execution_count": null,
      "outputs": [
        {
          "output_type": "execute_result",
          "data": {
            "text/plain": [
              "(-1.6653345369377347e-17, 0.9999999999999999)"
            ]
          },
          "metadata": {},
          "execution_count": 23
        }
      ]
    },
    {
      "cell_type": "markdown",
      "source": [
        "편차값\n",
        "- 평균이 50, 표준편차가 10이 되도록 정규화\n",
        "- 편차값이 50이면 평균적인 결과\n",
        "- 50보다 클 수록 상위 결과라는 의미로 해석"
      ],
      "metadata": {
        "id": "Ro6Xd69JqLkn"
      }
    },
    {
      "cell_type": "code",
      "source": [
        "z = 50 + 10 * (scores - mean) / np.std(scores)\n",
        "z"
      ],
      "metadata": {
        "colab": {
          "base_uri": "https://localhost:8080/"
        },
        "id": "_DJxGtgtqWI7",
        "outputId": "65ba4f1d-89bd-4df8-8587-6d0f439acd9b"
      },
      "execution_count": null,
      "outputs": [
        {
          "output_type": "execute_result",
          "data": {
            "text/plain": [
              "array([35.98173948, 65.09658825, 51.07832773, 34.90341175, 52.15665546,\n",
              "       42.45170588, 60.78327732, 43.53003361, 60.78327732, 53.2349832 ])"
            ]
          },
          "metadata": {},
          "execution_count": 24
        }
      ]
    },
    {
      "cell_type": "markdown",
      "source": [
        "### 관계에 대한 통계\n",
        "- 자료와 자료간의 관계를 나타내는 수치\n",
        "  - 수치일 뿐, 실제 관계를 수치만 가지고 정확하게 표현할 수 없다.\n",
        "  - 수치를 가지고 해석하는 것은 분석하는 사람의 몫\n",
        "\n",
        "1. 상관관계\n",
        "- 공분산(Co-variance)\n",
        "- 두 변수 사이의 분산 \n",
        "  - 결과적으로 두 변수의 분산이 같이 커지거나, 작아지면 상관성이 있다라고 해석\n",
        "  - 혹은 분산이 커지는데, 반대로 작아지거나, 분산이 작아지는에, 분산이 커지거나 상관성이 있다로 해석\n",
        "\n",
        "$$\n",
        "cov(x, y) = \\frac{\\sum(x-\\bar{x})(y-\\bar{y})\n",
        "}{n-1}\n",
        "$$\n",
        "\n",
        "- 공분산의 해석은 다음과 같습니다. \n",
        "  - cov > 0: x가 큰값(작은값)을 가질 때, y도 큰값(작은값)을 가지는 경우\n",
        "    - x의 분산이 커질 때, y의 분산 또한 커지는 경우\n",
        "    - x의 분산이 작아질 때, y의 분산이 같이 작아지는 경우\n",
        "    - 즉, x와 y 사이에 양의 상관성이 있다로 해석\n",
        "  - cov < 0: x와 y가 반대인 경우\n",
        "    - x의 분산이 작아질 때, y의 분산이 커지거나\n",
        "    - x의 분산이 커질 때, y의 분산이 작아지거나\n",
        "    - 이런 경우에는 x와 y 사이에 음의 상관성이 있다로 해석\n",
        "  - cov = 0인 경우, 0에 가까운 경우\n",
        "    - x의 분산과 상관없이 y가 존재하는 경우\n",
        "      - 음수와 양수가 섞이기 때문에, 0에 가까운 값을 가지게 됩니다. \n",
        "      - 두 변수는 상관성이 적다로 해석\n",
        "\n",
        "  - 단점\n",
        "    - 두 변수 사이의 상관성이 낮아도 수치가 크면, 공분산 값이 크게 나올 수 있다. \n",
        "    - 반대소 두 변수 사이의 상관성이 높아도 수치나 낮으면, 공분산 값은 작게 나올 가능성이 있다. \n",
        "    - 상관계수: 공분산의 값을 -1과 1사이의 값으로 표준화 한 값\n",
        "      - -1과 1에 가까울 수록 상관성이 높다고 해석\n",
        "      - 0에 가까울 수록 상관성이 낮다로 해석\n",
        "\n",
        "2. 인과관계\n",
        "- 추론통계에서 확인하고자 하는 것이 인과성이 될 수 있습니다. \n",
        "- 어떤 자료가 다른 자료의 원인이 되는 경우\n",
        "  - 모든 변수가 무조건 원인이 될 수 있는 것은 아닙니다."
      ],
      "metadata": {
        "id": "TVzmubpmq4p0"
      }
    },
    {
      "cell_type": "code",
      "source": [
        "# 영어점수와 수학점수의 공분산\n",
        "en_scores = np.array(df['english'][:10])\n",
        "ma_scores = np.array(df['mathematics'][:10])"
      ],
      "metadata": {
        "id": "tFZihq5Xrcom"
      },
      "execution_count": null,
      "outputs": []
    },
    {
      "cell_type": "code",
      "source": [
        "cov = np.cov( en_scores, ma_scores, ddof=0 )\n",
        "cov"
      ],
      "metadata": {
        "colab": {
          "base_uri": "https://localhost:8080/"
        },
        "id": "inP-38zgtqxs",
        "outputId": "5f7d046f-d4b2-4280-8ef0-559a520de762"
      },
      "execution_count": null,
      "outputs": [
        {
          "output_type": "execute_result",
          "data": {
            "text/plain": [
              "array([[86.  , 62.8 ],\n",
              "       [62.8 , 68.44]])"
            ]
          },
          "metadata": {},
          "execution_count": 26
        }
      ]
    },
    {
      "cell_type": "code",
      "source": [
        "np.corrcoef( en_scores, ma_scores )"
      ],
      "metadata": {
        "colab": {
          "base_uri": "https://localhost:8080/"
        },
        "id": "sA2A_zZmuAPL",
        "outputId": "ea2f01ee-bbd5-4443-913c-eb2bb0fd56d1"
      },
      "execution_count": null,
      "outputs": [
        {
          "output_type": "execute_result",
          "data": {
            "text/plain": [
              "array([[1.        , 0.81856923],\n",
              "       [0.81856923, 1.        ]])"
            ]
          },
          "metadata": {},
          "execution_count": 27
        }
      ]
    },
    {
      "cell_type": "code",
      "source": [
        "df[['english', 'mathematics']].corr()"
      ],
      "metadata": {
        "colab": {
          "base_uri": "https://localhost:8080/",
          "height": 132
        },
        "id": "25wqUDDduHY5",
        "outputId": "f45c7a4e-e186-4958-f478-5d2cf820fa53"
      },
      "execution_count": null,
      "outputs": [
        {
          "output_type": "execute_result",
          "data": {
            "text/html": [
              "<div>\n",
              "<style scoped>\n",
              "    .dataframe tbody tr th:only-of-type {\n",
              "        vertical-align: middle;\n",
              "    }\n",
              "\n",
              "    .dataframe tbody tr th {\n",
              "        vertical-align: top;\n",
              "    }\n",
              "\n",
              "    .dataframe thead th {\n",
              "        text-align: right;\n",
              "    }\n",
              "</style>\n",
              "<table border=\"1\" class=\"dataframe\">\n",
              "  <thead>\n",
              "    <tr style=\"text-align: right;\">\n",
              "      <th></th>\n",
              "      <th>english</th>\n",
              "      <th>mathematics</th>\n",
              "    </tr>\n",
              "  </thead>\n",
              "  <tbody>\n",
              "    <tr>\n",
              "      <th>english</th>\n",
              "      <td>1.000000</td>\n",
              "      <td>0.723741</td>\n",
              "    </tr>\n",
              "    <tr>\n",
              "      <th>mathematics</th>\n",
              "      <td>0.723741</td>\n",
              "      <td>1.000000</td>\n",
              "    </tr>\n",
              "  </tbody>\n",
              "</table>\n",
              "</div>"
            ],
            "text/plain": [
              "              english  mathematics\n",
              "english      1.000000     0.723741\n",
              "mathematics  0.723741     1.000000"
            ]
          },
          "metadata": {},
          "execution_count": 28
        }
      ]
    },
    {
      "cell_type": "markdown",
      "source": [
        "두 변수의 상관성을 확인하기 좋은 시각화 `pair_plot`을 이용해볼 수 있습니다. \n",
        "- pair_plot은 변수가 많아지면, 굉장히 느려지기 때문에, 주의 해야 합니다. "
      ],
      "metadata": {
        "id": "y6Ih76HDuXCy"
      }
    },
    {
      "cell_type": "code",
      "source": [
        "sns.pairplot( df[['english', 'mathematics']] )"
      ],
      "metadata": {
        "colab": {
          "base_uri": "https://localhost:8080/",
          "height": 72
        },
        "id": "pjkdfdKjudem",
        "outputId": "3b556223-3c1c-4765-ce86-54eb0fa1e39b"
      },
      "execution_count": null,
      "outputs": [
        {
          "output_type": "execute_result",
          "data": {
            "text/plain": [
              "<seaborn.axisgrid.PairGrid at 0x7fd1817893d0>"
            ]
          },
          "metadata": {},
          "execution_count": 29
        },
        {
          "output_type": "display_data",
          "data": {
            "image/png": "[encoded data removed]",
            "text/plain": [
              "<Figure size 360x360 with 6 Axes>"
            ]
          },
          "metadata": {
            "needs_background": "light"
          }
        }
      ]
    },
    {
      "cell_type": "markdown",
      "source": [
        "### 형태에 대한 통계\n",
        "- 자료의 분포나 왜곡된 형태\n",
        "  - 왜도(Skewness): 편향, 중심을 기준으로 좌우의 데이터가 편향되어 있는 형태를 나타내는 수치 \n",
        "  - 첨도(kurtosis): 뾰족함의 정도\n",
        "\n",
        "![](https://t1.daumcdn.net/cfile/tistory/994FDB3F5D65168524)"
      ],
      "metadata": {
        "id": "mYu1_zrqv01x"
      }
    },
    {
      "cell_type": "markdown",
      "source": [
        "## 추론통계\n",
        "- 표본을 통해서 모집단을 추론하는 과정\n",
        "\n",
        "![](https://phhp-faculty-cantrell.sites.medinfo.ufl.edu/files/2012/07/big_picture_producing_data.gif)\n",
        "\n",
        "- 통계를 대하는 자세\n",
        "  - 마크 트웨인\n",
        "    - 거짓말의 3가지 종류: 거짓말, 새빨간 거짓말, 그리고 통계\n",
        "    - 통계가 모집단의 모든 특징을 전부 설명할 수는 없다.\n",
        "  - 통계의 한계\n",
        "    - 일단! 모집단의 특성을 표본을 통해서 통계로 설명한다는 것은 매우 괜찮은 생각입니다. \n",
        "    - 표본의 특성이 꼭 모집단과 같을거라는 보장이 없다\n",
        "      - 표본이 모집단을 대표하는 특성인지 아닌지, 알 수 있는 방법도 없다\n",
        "      - 누구도 알 수 없다.\n",
        "    - 표본을 통해서 모집단의 평균은 알 수 없지만, 추측은 가능하다.\n",
        "    - 추측이니깐 99%의 확률로 맞을수도 있지만, 1%의 확률로 틀렸을 가능성 또한 반드시 존재\n",
        "  - 모집단을 알 수 없습니다. \n",
        "    - 모집단은 시간이 지나면서 변하기 때문에, 표본이 모집단을 완벽하게 설명하는 것은 불가능\n",
        "    - 일반적으로 ML/DL에서 하려는 건 과거의 데이터를 이용해서 현재나, 미래를 설명하고 싶은건데(이게 말이 되는가?)\n",
        "\n",
        "- 이후에 수업시간에 얘기하는 확률과 통계는 모집단을 가정하고 진행\n",
        "\n",
        "- 통계를 사용하지 않을수는 없다. \n",
        "  - 통계가 아니고는 대규모의 데이터를 해석할 수도 없고, 설명도 안됩니다.\n",
        "  - 자료간의 다소의 차이는 있겠지만, 공통적인 특징은 확인할 수 있습니다. \n",
        "    - 코로나 백신의 효능을 증명하려면?\n",
        "      - 화이자나, 얀센등의 효과는 어떻게 나온 것인가?\n",
        "      - 표본지역을 정해놓고 먼저 접종을 진행한 후에 감염되는 사람수를 센 것 \n",
        "\n",
        "  - 통계는 항상 거짓말로부터 출발한다는 사실을 알고 있어야 합니다. \n",
        "    - 그래서 여러분들은 스스로 입증해야만 합니다.\n",
        "  - 잘 쓰면 굉장한 무기가 되지만, 그렇지 않으면? \n",
        "  - 주사위 문제, 동전 던지기\n",
        "    - 주사위나 동전을 던져서 확률적 데이터를 얻는다고 가정\n",
        "    - 이때 이 주사위나, 동전은 공정할 것인가? \n",
        "    - 던지는 사람이 매번 똑같은 힘으로 동일한 방향에 던질 수 있다?\n",
        "    - 무한히 반복해서 주사위를 던지면, 제 아무리 강철로 만들어져 있어도 주사위 모양은 변하지 않을까? "
      ],
      "metadata": {
        "id": "WyJudV4jwCCP"
      }
    },
    {
      "cell_type": "markdown",
      "source": [
        "## 모집단과 표본"
      ],
      "metadata": {
        "id": "itXJrGiLzpsq"
      }
    },
    {
      "cell_type": "code",
      "source": [
        "df = pd.read_csv('/content/drive/MyDrive/멀티캠퍼스/data/stat/ch4_scores400.csv')\n",
        "scores = np.array(df['score'])\n",
        "scores[:10]"
      ],
      "metadata": {
        "colab": {
          "base_uri": "https://localhost:8080/"
        },
        "id": "tRyIvyLe7wBV",
        "outputId": "5182270c-148a-4771-b734-162d21804fd8"
      },
      "execution_count": null,
      "outputs": [
        {
          "output_type": "execute_result",
          "data": {
            "text/plain": [
              "array([76, 55, 80, 80, 74, 61, 81, 76, 23, 80])"
            ]
          },
          "metadata": {},
          "execution_count": 30
        }
      ]
    },
    {
      "cell_type": "markdown",
      "source": [
        "복원 추출과 비복원 추출"
      ],
      "metadata": {
        "id": "2VerCNwX8xx7"
      }
    },
    {
      "cell_type": "code",
      "source": [
        "np.random.choice(scores, 20)"
      ],
      "metadata": {
        "colab": {
          "base_uri": "https://localhost:8080/"
        },
        "id": "p_VcChTg8zqN",
        "outputId": "328b53ec-2834-4bf6-a5ab-7bcbeefe5673"
      },
      "execution_count": null,
      "outputs": [
        {
          "output_type": "execute_result",
          "data": {
            "text/plain": [
              "array([97, 90, 57, 71, 54, 60, 68, 75, 46, 77, 81, 61, 74, 68, 52, 65, 99,\n",
              "       54, 85, 90])"
            ]
          },
          "metadata": {},
          "execution_count": 31
        }
      ]
    },
    {
      "cell_type": "code",
      "source": [
        "np.random.choice(scores, 20, replace=False)"
      ],
      "metadata": {
        "colab": {
          "base_uri": "https://localhost:8080/"
        },
        "id": "A1DJJUVB8640",
        "outputId": "e50cc560-30bb-4a91-b59a-049d6b970d74"
      },
      "execution_count": null,
      "outputs": [
        {
          "output_type": "execute_result",
          "data": {
            "text/plain": [
              "array([45, 78, 57, 60, 78, 47, 49, 61, 68, 71, 80, 77, 83, 67, 90, 60, 78,\n",
              "       76, 92, 50])"
            ]
          },
          "metadata": {},
          "execution_count": 32
        }
      ]
    },
    {
      "cell_type": "code",
      "source": [
        "for i in range(5):\n",
        "  sample = np.random.choice(scores, 20)\n",
        "  print('{}번째 무작위 추출 얻은 표본평균: {}'.format(i+1, sample.mean()))"
      ],
      "metadata": {
        "colab": {
          "base_uri": "https://localhost:8080/"
        },
        "id": "Kg7uyPCL9Dll",
        "outputId": "2e02c290-7709-4b0d-80b4-4827598de12f"
      },
      "execution_count": null,
      "outputs": [
        {
          "output_type": "stream",
          "name": "stdout",
          "text": [
            "1번째 무작위 추출 얻은 표본평균: 70.5\n",
            "2번째 무작위 추출 얻은 표본평균: 74.15\n",
            "3번째 무작위 추출 얻은 표본평균: 67.85\n",
            "4번째 무작위 추출 얻은 표본평균: 72.0\n",
            "5번째 무작위 추출 얻은 표본평균: 72.05\n"
          ]
        }
      ]
    },
    {
      "cell_type": "code",
      "source": [
        "# 모집단의 평균\n",
        "scores.mean()"
      ],
      "metadata": {
        "colab": {
          "base_uri": "https://localhost:8080/"
        },
        "id": "w4vmodN99RSC",
        "outputId": "3fd5fcfb-29b6-485f-87e5-326a39f49e82"
      },
      "execution_count": null,
      "outputs": [
        {
          "output_type": "execute_result",
          "data": {
            "text/plain": [
              "69.53"
            ]
          },
          "metadata": {},
          "execution_count": 34
        }
      ]
    },
    {
      "cell_type": "markdown",
      "source": [
        "# 확률\n",
        "- 미래에 발생할 사건에 대한 믿음에 대한 측정값\n",
        "  - 내일 비가 올 확률이 70%다\n",
        "- 물리, 화학, 사회 과학 등에서 발생하는 관심 현상의 측정값을 불확실성에 의해 예측할 수 없는 경우에 사용\n",
        "  - 동전을 던졌을 때(앞,뒤|1/2)\n",
        "  - 동전을 던졌을 때 앞이 나오면 앞으로 한칸 이동 뒷면이 나오면 뒤로 한칸 이동\n",
        "  - 동전을 던지는 시행을 여러번(무한히)했을 경우, 결국 원점으로 돌아와야 한다. \n",
        "- 이런 상환을 랜덤이라고 하며, 랜덤이라고 해도, 이 사건에 대한 상대 빈도 정보가 이미 있다면 예측도 가능"
      ],
      "metadata": {
        "id": "KWAj1-ArSyna"
      }
    },
    {
      "cell_type": "markdown",
      "source": [
        "## 빈도론적 확률\n",
        "- 우리한테 일반적으로 잘 알려져 있는 확률(고전 확률)\n",
        "- 어떤 사건을 반복해서 관찰(수집)했을 때, 발생하는 상대 빈도수를 확률로 정의\n",
        "- 어떤 사건이 무한히 반복된다고 가정 했을 때, 이 사건이 발생할 확률을 상대빈도로 정의\n",
        "  - 시행을 한 번도 안했거나, 한 번뿐인 사건은 정의가 되지 않는다.\n",
        "  - 현실적으로, 무한히 시행을 하는 것은 불가능하기 때문에, 실제 확률값을 알 수 없는 경우가 더 많다.\n",
        "\n",
        "- 수집된 자료들의 변수들도, 확률적으로 주어지는 값으로 해석\n",
        "  - 꼭, 주사위를 던지거나 동전을 던져서 관찰된 값만 확률적인 값으로 보지 않습니다. \n",
        "  - 수집된 자료의 변수 x들도 전부 확률적으로 주어진 값으로 해석 \n",
        "  - 변수 x들을 `확률변수`라고 부릅니다. \n",
        "\n",
        "- 동전 던지기의 역사\n",
        "  - 앞면이 나왔을 때를 성공이라고 가정\n",
        "  - 1707-1788(Count Buffon): 4040번 동전 던지기 실험 앞(2048회) = 0.5069\n",
        "  - 1900(Karl Pearson): 24,000번 동전 던지기 앞(12,012) = 0.5005\n",
        "  - John Kerrich: 10,000번 던지기 앞(5067) = 0.5067"
      ],
      "metadata": {
        "id": "FNppK1g3S1Zg"
      }
    },
    {
      "cell_type": "markdown",
      "source": [
        "## Laplace 확률\n",
        "- 고전적 확률에 대한 정의\n",
        "- 표본공간의 각 원소들이 일어날 가능성이 같다고 가정하여 확률을 정의\n",
        "- 주사위를 던져서 짝수가 나올 확률은 3/6 = 2/1로 정의\n",
        "  - 표본공간의 원소의 개수는 6개이고, 짝수 사건의 원소는 3개 이므로, 짝수가 발생한 확률은 0.이다. \n",
        "  - 각 원소(주사위 눈금)가 모두 동일한 확률(1/6)에 의해서 나타남을 가정\n",
        "- 일반적으로 표본공간의 개수가 유한하고, 원소 모두를 알고 있을 때, 사용할 수 있다. "
      ],
      "metadata": {
        "id": "yTWxVoh4VGM-"
      }
    },
    {
      "cell_type": "markdown",
      "source": [
        "## 확률의 공리\n",
        "- 확률의 단순한 정의\n",
        "- 확률은 항상 0보다 크거나 같고, 1보다 작거나 같다. \n",
        "\n",
        "$$\n",
        "  0 \\le \\mathbb{P} \\le 1\n",
        "$$\n",
        "\n",
        "- 전체사건을 S에 대해서, 각각의 사건들이 상호배반적($A \\cap B = \\phi$) 이라면, 각 사건들이 발생하는 확률은 각 확률을 더한것과 같다. \n",
        "\n",
        "$$\n",
        "  \\mathbb{P}(S) = 1\n",
        "$$\n",
        "\n",
        "- 주사위를 던졌을 때, 1 또는 2가 나올 확률은 1이 나올 확률과 2가 나올 확률을 더한것과 같다. \n",
        "\n",
        "$$\n",
        "  \\begin{align}\n",
        "    \\mathbb{P}(S) & = 1/6 + 1/6 + 1/6 + 1/6 + 1/6 + 1/6 = 1 \\\\ \n",
        "    \\mathbb{P}(1) + \\mathbb{P}(2) & = 1/6 + 1/6\n",
        "  \\end{align}\n",
        "$$"
      ],
      "metadata": {
        "id": "VpOENw6WXqnM"
      }
    },
    {
      "cell_type": "markdown",
      "source": [
        "## 확률분포\n",
        "- 교재 4.2(p. 98)"
      ],
      "metadata": {
        "id": "65Na60LnYy1B"
      }
    },
    {
      "cell_type": "code",
      "source": [
        "dice = [ 1, 2, 3, 4, 5, 6 ]\n",
        "prob = [ 1/21, 2/21, 3/21, 4/21, 5/21, 6/21 ]"
      ],
      "metadata": {
        "id": "wrE8xqUGYLcY"
      },
      "execution_count": null,
      "outputs": []
    },
    {
      "cell_type": "code",
      "source": [
        "num_trial = 100\n",
        "sample = np.random.choice( dice, num_trial, p=prob)\n",
        "sample"
      ],
      "metadata": {
        "colab": {
          "base_uri": "https://localhost:8080/"
        },
        "id": "7Uq3R5KyZOtH",
        "outputId": "ce3573d0-952f-4885-a924-cdf8e5b4d742"
      },
      "execution_count": null,
      "outputs": [
        {
          "output_type": "execute_result",
          "data": {
            "text/plain": [
              "array([6, 3, 6, 1, 2, 5, 2, 6, 6, 5, 5, 3, 4, 6, 6, 5, 6, 3, 3, 6, 6, 3,\n",
              "       2, 2, 4, 6, 4, 6, 3, 3, 6, 4, 3, 5, 2, 3, 6, 4, 3, 6, 6, 4, 6, 2,\n",
              "       5, 5, 4, 3, 4, 6, 6, 6, 3, 6, 5, 3, 4, 2, 4, 6, 6, 4, 3, 3, 5, 2,\n",
              "       6, 3, 5, 4, 4, 4, 6, 4, 5, 6, 6, 6, 4, 6, 4, 4, 6, 3, 6, 5, 5, 3,\n",
              "       6, 6, 5, 3, 5, 5, 5, 5, 2, 4, 6, 3])"
            ]
          },
          "metadata": {},
          "execution_count": 51
        }
      ]
    },
    {
      "cell_type": "code",
      "source": [
        "freq, _ = np.histogram(sample, bins=6, range=(1,7))\n",
        "pd.DataFrame( {'빈도수':freq, '상대 빈도수':freq/num_trial}, index=pd.Index(np.arange(1,7), name='dice'))"
      ],
      "metadata": {
        "colab": {
          "base_uri": "https://localhost:8080/",
          "height": 269
        },
        "id": "UdJGq7UHZ0Ni",
        "outputId": "424400b2-927b-48b4-f1bf-ff8f20ebe106"
      },
      "execution_count": null,
      "outputs": [
        {
          "output_type": "execute_result",
          "data": {
            "text/html": [
              "<div>\n",
              "<style scoped>\n",
              "    .dataframe tbody tr th:only-of-type {\n",
              "        vertical-align: middle;\n",
              "    }\n",
              "\n",
              "    .dataframe tbody tr th {\n",
              "        vertical-align: top;\n",
              "    }\n",
              "\n",
              "    .dataframe thead th {\n",
              "        text-align: right;\n",
              "    }\n",
              "</style>\n",
              "<table border=\"1\" class=\"dataframe\">\n",
              "  <thead>\n",
              "    <tr style=\"text-align: right;\">\n",
              "      <th></th>\n",
              "      <th>빈도수</th>\n",
              "      <th>상대 빈도수</th>\n",
              "    </tr>\n",
              "    <tr>\n",
              "      <th>dice</th>\n",
              "      <th></th>\n",
              "      <th></th>\n",
              "    </tr>\n",
              "  </thead>\n",
              "  <tbody>\n",
              "    <tr>\n",
              "      <th>1</th>\n",
              "      <td>1</td>\n",
              "      <td>0.01</td>\n",
              "    </tr>\n",
              "    <tr>\n",
              "      <th>2</th>\n",
              "      <td>9</td>\n",
              "      <td>0.09</td>\n",
              "    </tr>\n",
              "    <tr>\n",
              "      <th>3</th>\n",
              "      <td>20</td>\n",
              "      <td>0.20</td>\n",
              "    </tr>\n",
              "    <tr>\n",
              "      <th>4</th>\n",
              "      <td>19</td>\n",
              "      <td>0.19</td>\n",
              "    </tr>\n",
              "    <tr>\n",
              "      <th>5</th>\n",
              "      <td>18</td>\n",
              "      <td>0.18</td>\n",
              "    </tr>\n",
              "    <tr>\n",
              "      <th>6</th>\n",
              "      <td>33</td>\n",
              "      <td>0.33</td>\n",
              "    </tr>\n",
              "  </tbody>\n",
              "</table>\n",
              "</div>"
            ],
            "text/plain": [
              "      빈도수  상대 빈도수\n",
              "dice             \n",
              "1       1    0.01\n",
              "2       9    0.09\n",
              "3      20    0.20\n",
              "4      19    0.19\n",
              "5      18    0.18\n",
              "6      33    0.33"
            ]
          },
          "metadata": {},
          "execution_count": 52
        }
      ]
    },
    {
      "cell_type": "code",
      "source": [
        "fig = plt.figure(figsize=(10, 6))\n",
        "ax = fig.add_subplot(111)\n",
        "ax.hist(sample, bins=6, range=(1, 7), density=True, rwidth=0.8)\n",
        "# 실제의 확률분포를 가로선으로 표시\n",
        "ax.hlines(prob, np.arange(1, 7), np.arange(2, 8), colors='gray')\n",
        "# 막대 그래프의 [1.5, 2.5, ..., 6.5]에 눈금을 표시\n",
        "ax.set_xticks(np.linspace(1.5, 6.5, 6))\n",
        "# 주사위 눈의 값은 [1, 2, 3, 4, 5, 6]\n",
        "ax.set_xticklabels(np.arange(1, 7))\n",
        "ax.set_xlabel('dice')\n",
        "ax.set_ylabel('relative frequency')\n",
        "plt.show()"
      ],
      "metadata": {
        "colab": {
          "base_uri": "https://localhost:8080/",
          "height": 388
        },
        "id": "37xccSYmaZ1G",
        "outputId": "2af89b74-78ed-46af-a8d1-4321ecb5dcc4"
      },
      "execution_count": null,
      "outputs": [
        {
          "output_type": "display_data",
          "data": {
            "image/png": "[encoded data removed]",
            "text/plain": [
              "<Figure size 720x432 with 1 Axes>"
            ]
          },
          "metadata": {
            "needs_background": "light"
          }
        }
      ]
    },
    {
      "cell_type": "markdown",
      "source": [
        "결국 시행이 무한히 많이 발생할 수록 모집단의 분포에 가까워 진다. \n",
        "- 대수의 법칙"
      ],
      "metadata": {
        "id": "YMUNpm4LeftH"
      }
    },
    {
      "cell_type": "code",
      "source": [
        "num_trial = 100000\n",
        "sample = np.random.choice( dice, num_trial, p=prob)\n",
        "\n",
        "fig = plt.figure(figsize=(10, 6))\n",
        "ax = fig.add_subplot(111)\n",
        "ax.hist(sample, bins=6, range=(1, 7), density=True, rwidth=0.8)\n",
        "# 실제의 확률분포를 가로선으로 표시\n",
        "ax.hlines(prob, np.arange(1, 7), np.arange(2, 8), colors='gray')\n",
        "# 막대 그래프의 [1.5, 2.5, ..., 6.5]에 눈금을 표시\n",
        "ax.set_xticks(np.linspace(1.5, 6.5, 6))\n",
        "# 주사위 눈의 값은 [1, 2, 3, 4, 5, 6]\n",
        "ax.set_xticklabels(np.arange(1, 7))\n",
        "ax.set_xlabel('dice')\n",
        "ax.set_ylabel('relative frequency')\n",
        "plt.show()"
      ],
      "metadata": {
        "colab": {
          "base_uri": "https://localhost:8080/",
          "height": 392
        },
        "id": "2V22ET-GeBoj",
        "outputId": "15a1c8f4-9514-460e-ebd6-feaf0d900200"
      },
      "execution_count": null,
      "outputs": [
        {
          "output_type": "display_data",
          "data": {
            "image/png": "[encoded data removed]",
            "text/plain": [
              "<Figure size 720x432 with 1 Axes>"
            ]
          },
          "metadata": {
            "needs_background": "light"
          }
        }
      ]
    },
    {
      "cell_type": "markdown",
      "source": [
        "### 추론통계에서의 확률\n",
        "- 교재 4.3(p. 106)"
      ],
      "metadata": {
        "id": "cravcLm-hocX"
      }
    },
    {
      "cell_type": "code",
      "source": [
        "fig = plt.figure(figsize=(10, 6))\n",
        "ax = fig.add_subplot(111)\n",
        "ax.hist(scores, bins=100, range=(0, 100), density=True)\n",
        "ax.set_xlim(20, 100)\n",
        "ax.set_ylim(0, 0.042)\n",
        "ax.set_xlabel('score')\n",
        "ax.set_ylabel('relative frequency')\n",
        "plt.show()"
      ],
      "metadata": {
        "colab": {
          "base_uri": "https://localhost:8080/",
          "height": 388
        },
        "id": "EDLCmSdaiG3V",
        "outputId": "21f6544b-59de-4bd0-8329-d1065d2817ea"
      },
      "execution_count": null,
      "outputs": [
        {
          "output_type": "display_data",
          "data": {
            "image/png": "[encoded data removed]",
            "text/plain": [
              "<Figure size 720x432 with 1 Axes>"
            ]
          },
          "metadata": {
            "needs_background": "light"
          }
        }
      ]
    },
    {
      "cell_type": "markdown",
      "source": [
        "표본추출을 통한 확률분포"
      ],
      "metadata": {
        "id": "sXlZaSLoi09l"
      }
    },
    {
      "cell_type": "code",
      "source": [
        "sample = np.random.choice(scores, 10000)\n",
        "\n",
        "fig = plt.figure(figsize=(10, 6))\n",
        "ax = fig.add_subplot(111)\n",
        "ax.hist(sample, bins=100, range=(0, 100), density=True)\n",
        "ax.set_xlim(20, 100)\n",
        "ax.set_ylim(0, 0.042)\n",
        "ax.set_xlabel('score')\n",
        "ax.set_ylabel('relative frequency')\n",
        "plt.show()"
      ],
      "metadata": {
        "colab": {
          "base_uri": "https://localhost:8080/",
          "height": 388
        },
        "id": "4Lx70_jticoT",
        "outputId": "1596fe5c-6bf4-42c7-dd25-bdea40748ad8"
      },
      "execution_count": null,
      "outputs": [
        {
          "output_type": "display_data",
          "data": {
            "image/png": "[encoded data removed]",
            "text/plain": [
              "<Figure size 720x432 with 1 Axes>"
            ]
          },
          "metadata": {
            "needs_background": "light"
          }
        }
      ]
    },
    {
      "cell_type": "markdown",
      "source": [
        "과연 표본들의 평균은 모평균을 잘 설명할 수 있을까?\n",
        "- 주어진 점수에서 20개의 표본을 골라서 표본평균을 계산\n",
        "  - 10000번 수행했을 때의 표본평균의 분포는?"
      ],
      "metadata": {
        "id": "GJmow_YPjlYk"
      }
    },
    {
      "cell_type": "code",
      "source": [
        "sample_means = []\n",
        "for _ in range(10000):\n",
        "  sample_means.append( np.random.choice(scores, 20).mean() )"
      ],
      "metadata": {
        "id": "0kN8GS54jv0b"
      },
      "execution_count": null,
      "outputs": []
    },
    {
      "cell_type": "code",
      "source": [
        "fig = plt.figure(figsize=(10, 6))\n",
        "ax = fig.add_subplot(111)\n",
        "ax.hist(sample_means, bins=100, range=(0, 100), density=True)\n",
        "# 모평균을 세로선으로 표시\n",
        "ax.vlines(np.mean(scores), 0, 1, 'gray')\n",
        "ax.set_xlim(50, 90)\n",
        "ax.set_ylim(0, 0.13)\n",
        "ax.set_xlabel('score')\n",
        "ax.set_ylabel('relative frequency')\n",
        "plt.show()"
      ],
      "metadata": {
        "colab": {
          "base_uri": "https://localhost:8080/",
          "height": 388
        },
        "id": "k6fkRP2FkM5_",
        "outputId": "27b19335-7d4d-4006-f48f-7448d27d3194"
      },
      "execution_count": null,
      "outputs": [
        {
          "output_type": "display_data",
          "data": {
            "image/png": "[encoded data removed]",
            "text/plain": [
              "<Figure size 720x432 with 1 Axes>"
            ]
          },
          "metadata": {
            "needs_background": "light"
          }
        }
      ]
    },
    {
      "cell_type": "code",
      "source": [
        "np.mean(scores)"
      ],
      "metadata": {
        "colab": {
          "base_uri": "https://localhost:8080/"
        },
        "id": "g5CgALY3kffl",
        "outputId": "55e50b4f-fbb4-4492-c01f-96d333da310c"
      },
      "execution_count": null,
      "outputs": [
        {
          "output_type": "execute_result",
          "data": {
            "text/plain": [
              "69.53"
            ]
          },
          "metadata": {},
          "execution_count": 60
        }
      ]
    },
    {
      "cell_type": "markdown",
      "source": [
        "## 확률변수와 확률분포\n",
        "- 잘 알려진 확률분포들에 대해서 확인을 합니다. \n",
        "- 교재는 챕터06, 챕터 08에 해당 합니다."
      ],
      "metadata": {
        "id": "dbMbzuzWlcnT"
      }
    },
    {
      "cell_type": "markdown",
      "source": [
        "### 확률변수 \n",
        "- 확률적인 과정에 따라서, 값이 결정되는 변수/함수를 `확률변수`라고 합니다. \n",
        "  - 수집된 자료의 변수(Feature)X들도 어떤 확률적인 과정에 따라서 주어지는 값으로 해석"
      ],
      "metadata": {
        "id": "NFlcmzsblfN4"
      }
    },
    {
      "cell_type": "markdown",
      "source": [
        "### 확률분포\n",
        "- 확률변수가 특정한 값을 가지게 될 확률을 나타내는 함수를 `확률분포`라고 합니다. \n",
        "- 현실세계의 자료는 확률분포를 알 수 없는 경우가 더 많기 때문에, 일반적으로 잘 알려진 확률분포를 가정"
      ],
      "metadata": {
        "id": "RqJ1FJbKmKv2"
      }
    },
    {
      "cell_type": "markdown",
      "source": [
        "#### 이산확률변수 \n",
        "- 확률변수가 이산적인 값을 가 질때, 이 변수를 `이산확률변수`라고 합니다. \n",
        "  - 셀수 있는 값이거나, 범주형 자료들이 이에 해당합니다. \n",
        "  - 대표적인 분포는 `베르누이 분포`, `이항 분포` 등이 있습니다. \n",
        "- 이때의 확률분포를 확률변수 x의 `확률질량함수(PMF/Probability Mass Function)`라고합니다. \n",
        "  - 확률분포를 알고 있으면, 확률질량함수를 알 수 있고, 확률질량함수를 알고 있으면, 확률분포를 알 수 있습니다. "
      ],
      "metadata": {
        "id": "TNHEna7Qm1f9"
      }
    },
    {
      "cell_type": "markdown",
      "source": [
        "#### 이산확률분포\n",
        "- 베르누이 분포\n",
        "  - 가능한 사건의 경우가 두 가지로 구분되는 시행을 `베르누이 시행` 이라고 합니다. \n",
        "    - 성공, 실패로 구분되는 경우가 대표적으로 사용되는 분포\n",
        "    - 동전 던지기 => 앞면이 나오는 경우(성공), 뒷면이 나오는 경우(실패)\n",
        "    - 복권 당첨의 여부\n",
        "    - 주사위를 던졌을 때, 특정 눈금이 나오는 경우(성공), 나머지는 실패로 간주\n",
        "  - 베르누이 시행은 0(실패), 1(성공)으로 구분해서 간단하게 나타나게 됩니다. "
      ],
      "metadata": {
        "id": "NeSSS6zcnmdk"
      }
    },
    {
      "cell_type": "code",
      "source": [
        "from scipy.stats import bernoulli, binom, poisson"
      ],
      "metadata": {
        "id": "kJ8xKPBqoKD-"
      },
      "execution_count": null,
      "outputs": []
    },
    {
      "cell_type": "markdown",
      "source": [
        "주사위를 던졌을 때, 특정 눈금이 나오는 경우를 성공이라고 가정\n",
        "  - 1이 나오는 경우를 성공이라고 가정\n",
        "  - 성공확률이 1/6인 베르누이 분포를 따른다고 할 수 있습니다. \n",
        "  - 표본의 자료가 베르누이 분포를 따른다면, 모집단에서의 성공확률을 알고 싶은거죠"
      ],
      "metadata": {
        "id": "FnxewlCgq0OY"
      }
    },
    {
      "cell_type": "code",
      "source": [
        "rv = bernoulli(1/6)"
      ],
      "metadata": {
        "id": "DOsO42CVoUmG"
      },
      "execution_count": null,
      "outputs": []
    },
    {
      "cell_type": "markdown",
      "source": [
        "파이썬에서는 생성된 객체의 pmf 메소드를 통해서 확률질량함수를 계산할 수 있습니다. "
      ],
      "metadata": {
        "id": "FsiMXR1GrYl6"
      }
    },
    {
      "cell_type": "code",
      "source": [
        "x = [0, 1]\n",
        "rv.pmf(x)"
      ],
      "metadata": {
        "colab": {
          "base_uri": "https://localhost:8080/"
        },
        "id": "E6q8WjaGrXPU",
        "outputId": "fd3515d2-2039-40cb-c6b6-b4f62bbb1d75"
      },
      "execution_count": null,
      "outputs": [
        {
          "output_type": "execute_result",
          "data": {
            "text/plain": [
              "array([0.83333333, 0.16666667])"
            ]
          },
          "metadata": {},
          "execution_count": 63
        }
      ]
    },
    {
      "cell_type": "markdown",
      "source": [
        "모집단에서의 확률분포"
      ],
      "metadata": {
        "id": "kYuzqIytrsJ4"
      }
    },
    {
      "cell_type": "code",
      "source": [
        "plt.bar(x, rv.pmf(x) )\n",
        "plt.xticks( [0, 1], ['fail', 'success'])\n",
        "plt.show()"
      ],
      "metadata": {
        "colab": {
          "base_uri": "https://localhost:8080/",
          "height": 265
        },
        "id": "uQ3bBd6zrvf9",
        "outputId": "badffd77-24ee-40f2-a74e-e3a98a6ef79a"
      },
      "execution_count": null,
      "outputs": [
        {
          "output_type": "display_data",
          "data": {
            "image/png": "[encoded data removed]",
            "text/plain": [
              "<Figure size 432x288 with 1 Axes>"
            ]
          },
          "metadata": {
            "needs_background": "light"
          }
        }
      ]
    },
    {
      "cell_type": "markdown",
      "source": [
        "표본추출\n",
        "- 파이썬에서는 각 객체들 마다 난수를 생성하는 함수들을 지원\n",
        "  - 주사위를 100번 정도 던져서 1이 몇번 정도 나오는지를 알고 싶다고 가정\n",
        "  - 성공확률이 1/6인 베르누이 분포에서 표본을 추출하는 것과 동일 합니다. \n",
        "  - 과연 100번 수행한 결과가 베르누이 분포를 따르는가?"
      ],
      "metadata": {
        "id": "rPK7m9Uvr-PX"
      }
    },
    {
      "cell_type": "code",
      "source": [
        "count = 100\n",
        "x = rv.rvs( count )\n",
        "x"
      ],
      "metadata": {
        "colab": {
          "base_uri": "https://localhost:8080/"
        },
        "id": "TaL1Mt3lsSkm",
        "outputId": "c6b114f4-144a-49e3-ea38-2743df34393c"
      },
      "execution_count": null,
      "outputs": [
        {
          "output_type": "execute_result",
          "data": {
            "text/plain": [
              "array([0, 0, 0, 0, 1, 1, 0, 0, 0, 0, 0, 0, 1, 0, 1, 0, 0, 0, 0, 0, 1, 0,\n",
              "       0, 0, 0, 1, 0, 0, 0, 0, 0, 0, 0, 0, 1, 0, 0, 0, 0, 0, 1, 0, 0, 0,\n",
              "       0, 0, 0, 0, 0, 0, 0, 0, 0, 0, 0, 0, 0, 1, 0, 1, 0, 1, 0, 0, 1, 0,\n",
              "       0, 0, 0, 0, 1, 0, 0, 0, 1, 1, 0, 1, 1, 0, 0, 0, 1, 0, 1, 1, 0, 1,\n",
              "       0, 0, 0, 0, 1, 1, 0, 0, 0, 0, 0, 0])"
            ]
          },
          "metadata": {},
          "execution_count": 67
        }
      ]
    },
    {
      "cell_type": "markdown",
      "source": [
        "그렇다면, 샘플들의 분포는?"
      ],
      "metadata": {
        "id": "8EuHD4M-skao"
      }
    },
    {
      "cell_type": "code",
      "source": [
        "sns.countplot(x)\n",
        "plt.show()"
      ],
      "metadata": {
        "colab": {
          "base_uri": "https://localhost:8080/",
          "height": 267
        },
        "id": "D2uFbrNTsmTw",
        "outputId": "d16e69f2-8b8c-47d3-d639-86265f39b4ad"
      },
      "execution_count": null,
      "outputs": [
        {
          "output_type": "display_data",
          "data": {
            "image/png": "[encoded data removed]",
            "text/plain": [
              "<Figure size 432x288 with 1 Axes>"
            ]
          },
          "metadata": {
            "needs_background": "light"
          }
        }
      ]
    },
    {
      "cell_type": "code",
      "source": [
        "np.bincount(x) / count"
      ],
      "metadata": {
        "colab": {
          "base_uri": "https://localhost:8080/"
        },
        "id": "29vjD4-JsseP",
        "outputId": "e05cdb27-b404-42ea-9338-cca7ac8521cc"
      },
      "execution_count": null,
      "outputs": [
        {
          "output_type": "execute_result",
          "data": {
            "text/plain": [
              "array([0.77, 0.23])"
            ]
          },
          "metadata": {},
          "execution_count": 70
        }
      ]
    },
    {
      "cell_type": "markdown",
      "source": [
        "결국, 시행이 무한히 많아진다면 모집단의 분포에 근사하게 될 것"
      ],
      "metadata": {
        "id": "kdIAgYwHs473"
      }
    },
    {
      "cell_type": "code",
      "source": [
        "count = 10000\n",
        "x = rv.rvs( count )\n",
        "\n",
        "sns.countplot(x)\n",
        "plt.show()"
      ],
      "metadata": {
        "colab": {
          "base_uri": "https://localhost:8080/",
          "height": 265
        },
        "id": "Em24m8nWs8dY",
        "outputId": "ecce06d3-b447-4755-f529-c34b2ab07afa"
      },
      "execution_count": null,
      "outputs": [
        {
          "output_type": "display_data",
          "data": {
            "image/png": "[encoded data removed]",
            "text/plain": [
              "<Figure size 432x288 with 1 Axes>"
            ]
          },
          "metadata": {
            "needs_background": "light"
          }
        }
      ]
    },
    {
      "cell_type": "code",
      "source": [
        "np.bincount(x) / count"
      ],
      "metadata": {
        "colab": {
          "base_uri": "https://localhost:8080/"
        },
        "id": "Em2fl9eRtChO",
        "outputId": "381ebbdd-8856-4729-e7bb-78cd3a78be06"
      },
      "execution_count": null,
      "outputs": [
        {
          "output_type": "execute_result",
          "data": {
            "text/plain": [
              "array([0.8319, 0.1681])"
            ]
          },
          "metadata": {},
          "execution_count": 73
        }
      ]
    },
    {
      "cell_type": "markdown",
      "source": [
        "이항분포(binom distribution)\n",
        "- 베르누이 시행을 여러번 했을 경우의 분포\n",
        "- 주사위를 10번 던졌을 때 1이 나오는 경우를 성공이라고 가정"
      ],
      "metadata": {
        "id": "xABPgd4bvQ-z"
      }
    },
    {
      "cell_type": "code",
      "source": [
        "# 이항분포는 시행횟수가 1이면 베르누이 분포와 같습니다. \n",
        "binom(1, 1/6).pmf([0,1])"
      ],
      "metadata": {
        "colab": {
          "base_uri": "https://localhost:8080/"
        },
        "id": "ERd12GxJvuoc",
        "outputId": "86ba634e-5cd3-4d5d-c5a1-9e1e947cfd84"
      },
      "execution_count": null,
      "outputs": [
        {
          "output_type": "execute_result",
          "data": {
            "text/plain": [
              "array([0.83333333, 0.16666667])"
            ]
          },
          "metadata": {},
          "execution_count": 75
        }
      ]
    },
    {
      "cell_type": "code",
      "source": [
        "rv = binom(10, 1/6)"
      ],
      "metadata": {
        "id": "XEoxkOLPv72t"
      },
      "execution_count": null,
      "outputs": []
    },
    {
      "cell_type": "code",
      "source": [
        "x = np.arange(11)\n",
        "rv.pmf(x)"
      ],
      "metadata": {
        "colab": {
          "base_uri": "https://localhost:8080/"
        },
        "id": "B_B944sTwEe5",
        "outputId": "5a7299a5-0c36-48c4-8bed-4c23853c8782"
      },
      "execution_count": null,
      "outputs": [
        {
          "output_type": "execute_result",
          "data": {
            "text/plain": [
              "array([1.61505583e-01, 3.23011166e-01, 2.90710049e-01, 1.55045360e-01,\n",
              "       5.42658759e-02, 1.30238102e-02, 2.17063503e-03, 2.48072575e-04,\n",
              "       1.86054431e-05, 8.26908584e-07, 1.65381717e-08])"
            ]
          },
          "metadata": {},
          "execution_count": 77
        }
      ]
    },
    {
      "cell_type": "code",
      "source": [
        "plt.bar( x, rv.pmf(x) )\n",
        "plt.show()"
      ],
      "metadata": {
        "colab": {
          "base_uri": "https://localhost:8080/",
          "height": 265
        },
        "id": "HarBsFwiwKL_",
        "outputId": "e6ffcb02-509e-40fc-9f47-ff02263a5474"
      },
      "execution_count": null,
      "outputs": [
        {
          "output_type": "display_data",
          "data": {
            "image/png": "[encoded data removed]",
            "text/plain": [
              "<Figure size 432x288 with 1 Axes>"
            ]
          },
          "metadata": {
            "needs_background": "light"
          }
        }
      ]
    },
    {
      "cell_type": "markdown",
      "source": [
        "표본 추출"
      ],
      "metadata": {
        "id": "mAussypowzfn"
      }
    },
    {
      "cell_type": "code",
      "source": [
        "x = rv.rvs(100000000)"
      ],
      "metadata": {
        "id": "kamrUWCiw0am"
      },
      "execution_count": null,
      "outputs": []
    },
    {
      "cell_type": "code",
      "source": [
        "sns.countplot(x)\n",
        "plt.show()"
      ],
      "metadata": {
        "colab": {
          "base_uri": "https://localhost:8080/",
          "height": 276
        },
        "id": "lCbFp1Kjw4Mj",
        "outputId": "bb008d8f-c4a2-4f59-c186-02bee6b066c8"
      },
      "execution_count": null,
      "outputs": [
        {
          "output_type": "display_data",
          "data": {
            "image/png": "[encoded data removed]",
            "text/plain": [
              "<Figure size 432x288 with 1 Axes>"
            ]
          },
          "metadata": {
            "needs_background": "light"
          }
        }
      ]
    },
    {
      "cell_type": "markdown",
      "source": [
        "누적분포함수\n",
        "- 주어진 확률변수가 특정값보다 크거나 작아질 확률\n",
        "- 누적분포함수는 항상 0과 1사이의 값을 가지게 됩니다.\n",
        "- 주사위를 10번 던졌을 때, 1이 3번 이하 나오게 될 확률은?"
      ],
      "metadata": {
        "id": "wTLdQ_Pcyy4F"
      }
    },
    {
      "cell_type": "markdown",
      "source": [
        "파이썬에서는 cdf함수를 누적분포 함수를 계산해볼 수 있습니다."
      ],
      "metadata": {
        "id": "52HoL9QUzFl1"
      }
    },
    {
      "cell_type": "code",
      "source": [
        "x = np.arange(11)\n",
        "rv.cdf(x)"
      ],
      "metadata": {
        "colab": {
          "base_uri": "https://localhost:8080/"
        },
        "id": "JzM-hHBCzLzY",
        "outputId": "eaebf091-831a-4c88-af91-78ca9dc5166c"
      },
      "execution_count": null,
      "outputs": [
        {
          "output_type": "execute_result",
          "data": {
            "text/plain": [
              "array([0.16150558, 0.48451675, 0.7752268 , 0.93027216, 0.98453803,\n",
              "       0.99756184, 0.99973248, 0.99998055, 0.99999916, 0.99999998,\n",
              "       1.        ])"
            ]
          },
          "metadata": {},
          "execution_count": 94
        }
      ]
    },
    {
      "cell_type": "code",
      "source": [
        "plt.plot(x, rv.cdf(x) )\n",
        "plt.show()"
      ],
      "metadata": {
        "colab": {
          "base_uri": "https://localhost:8080/",
          "height": 265
        },
        "id": "wx8iazC9zUsc",
        "outputId": "48cbe24c-997b-477d-c591-0b226341c342"
      },
      "execution_count": null,
      "outputs": [
        {
          "output_type": "display_data",
          "data": {
            "image/png": "[encoded data removed]",
            "text/plain": [
              "<Figure size 432x288 with 1 Axes>"
            ]
          },
          "metadata": {
            "needs_background": "light"
          }
        }
      ]
    },
    {
      "cell_type": "markdown",
      "source": [
        "1이 3번 이하가 나오게 될 확률은?"
      ],
      "metadata": {
        "id": "cmLoZNOXzq88"
      }
    },
    {
      "cell_type": "code",
      "source": [
        "prob = rv.cdf(x)\n",
        "prob[3]"
      ],
      "metadata": {
        "colab": {
          "base_uri": "https://localhost:8080/"
        },
        "id": "prA0hSuHzh7V",
        "outputId": "56ddaa9c-10e4-4af2-f621-7a9c63b3642c"
      },
      "execution_count": null,
      "outputs": [
        {
          "output_type": "execute_result",
          "data": {
            "text/plain": [
              "0.9302721574455114"
            ]
          },
          "metadata": {},
          "execution_count": 97
        }
      ]
    },
    {
      "cell_type": "markdown",
      "source": [
        "포아송 분포\n",
        "- 시간이나, 면적등을 구간으로 나눠서 표현\n",
        "- 각 구간별 사건은 독립적이고, 사건의 발생확률은 동일(베르누이 동일)\n",
        "- 각 구간의 사건 발생확률은 구간의 크기에 비례\n",
        "- 정해진 시간 안에 어떤 사건이 일어날 횟수에 대한 값을 람다라고 한다면\n",
        "  - 사건이 k회 일어날 확률"
      ],
      "metadata": {
        "id": "Okay1u9yz3Zw"
      }
    },
    {
      "cell_type": "markdown",
      "source": [
        "하루평균 2건의 교통사고가 발생하는 지역에서, 하루 교통사고 발생 건수"
      ],
      "metadata": {
        "id": "FjtXvO5L0PZT"
      }
    },
    {
      "cell_type": "code",
      "source": [
        "rv = poisson(2)"
      ],
      "metadata": {
        "id": "_PVpaq1l0Loa"
      },
      "execution_count": null,
      "outputs": []
    },
    {
      "cell_type": "code",
      "source": [
        "x = np.arange(11)\n",
        "plt.bar(x, rv.pmf(x) )\n",
        "plt.show()"
      ],
      "metadata": {
        "colab": {
          "base_uri": "https://localhost:8080/",
          "height": 265
        },
        "id": "AJAR-GCa0ZIN",
        "outputId": "acf0da09-0ea5-41b2-da5e-c3af9611ccd7"
      },
      "execution_count": null,
      "outputs": [
        {
          "output_type": "display_data",
          "data": {
            "image/png": "[encoded data removed]",
            "text/plain": [
              "<Figure size 432x288 with 1 Axes>"
            ]
          },
          "metadata": {
            "needs_background": "light"
          }
        }
      ]
    },
    {
      "cell_type": "code",
      "source": [
        "x = rv.rvs(10000)\n",
        "sns.countplot(x)\n",
        "plt.show()"
      ],
      "metadata": {
        "colab": {
          "base_uri": "https://localhost:8080/",
          "height": 265
        },
        "id": "OYC14vV70bL8",
        "outputId": "16c2a29f-8774-42ec-8b69-143c04f588bb"
      },
      "execution_count": null,
      "outputs": [
        {
          "output_type": "display_data",
          "data": {
            "image/png": "[encoded data removed]",
            "text/plain": [
              "<Figure size 432x288 with 1 Axes>"
            ]
          },
          "metadata": {
            "needs_background": "light"
          }
        }
      ]
    },
    {
      "cell_type": "code",
      "source": [
        "x.mean()"
      ],
      "metadata": {
        "colab": {
          "base_uri": "https://localhost:8080/"
        },
        "id": "fXwQl35K08bu",
        "outputId": "08552a2b-0860-41e4-e648-08b0c14abc48"
      },
      "execution_count": null,
      "outputs": [
        {
          "output_type": "execute_result",
          "data": {
            "text/plain": [
              "1.9805"
            ]
          },
          "metadata": {},
          "execution_count": 102
        }
      ]
    },
    {
      "cell_type": "markdown",
      "source": [
        "#### 연속확률변수 \n",
        "- 확률변수가 연속적인 값을 가지는 경우를 `연속확률변수`라고 합니다. \n",
        "  - 이때의 확률분포를 확률변수의 `확률밀도함수(PDF/Probability Density Function)`라고 합니다. \n",
        "  - 수업시간에는 가장 대표적인 `정규분포`를 살펴봅니다. "
      ],
      "metadata": {
        "id": "jWfd_giBHZQn"
      }
    },
    {
      "cell_type": "markdown",
      "source": [
        "정규분포(Normal Distribution)\n",
        "- 통계학자들이 가장 사랑하는 분포\n",
        "- 수학자 가우스에 의해서 처음 알려졌고, `가우스 분포`로도 잘 알려져 있습니다. \n",
        "- 선형회귀 모형에서는 자료의 분포, 오차항의 분포를 정규분포로 가정을 합니다. \n",
        "- 평균이 0이고, 표준편차가 1인 정규분포를 `표준정규분포`라고 합니다. "
      ],
      "metadata": {
        "id": "OoMdZ9eBHtAY"
      }
    },
    {
      "cell_type": "code",
      "source": [
        "from scipy.stats import norm"
      ],
      "metadata": {
        "id": "7EqO759PIU66"
      },
      "execution_count": null,
      "outputs": []
    },
    {
      "cell_type": "code",
      "source": [
        "rv = norm( loc=0, scale=1 )"
      ],
      "metadata": {
        "id": "Gf776P_PIZyY"
      },
      "execution_count": null,
      "outputs": []
    },
    {
      "cell_type": "code",
      "source": [
        "x = np.linspace(-5, 5, 1000)\n",
        "plt.plot(x, rv.pdf(x) )\n",
        "plt.show()"
      ],
      "metadata": {
        "colab": {
          "base_uri": "https://localhost:8080/",
          "height": 265
        },
        "id": "38xipugjId3T",
        "outputId": "1591400e-03de-447c-e7e3-c534ec8f6e96"
      },
      "execution_count": null,
      "outputs": [
        {
          "output_type": "display_data",
          "data": {
            "image/png": "[encoded data removed]",
            "text/plain": [
              "<Figure size 432x288 with 1 Axes>"
            ]
          },
          "metadata": {
            "needs_background": "light"
          }
        }
      ]
    },
    {
      "cell_type": "markdown",
      "source": [
        "정규분포의 누적분포함수\n",
        "- 정규분포의 누적분포함수는 구할 수 없음이 알려져 있는데 \n",
        "  - 파이썬은 근사한 결과를 돌려줍니다. \n",
        "\n",
        "- 일반화선형모형에서 logit함수나 딥러닝에서 활성화 함수 등이 정규분포의 누적분포함수를 사용을 하게 됩니다. "
      ],
      "metadata": {
        "id": "7eII9OrzIxXp"
      }
    },
    {
      "cell_type": "code",
      "source": [
        "x = np.linspace(-3, 3, 1000)\n",
        "plt.plot(x, rv.cdf(x) )\n",
        "plt.show()"
      ],
      "metadata": {
        "colab": {
          "base_uri": "https://localhost:8080/",
          "height": 265
        },
        "id": "oLrvFZ2KJE7B",
        "outputId": "6254a08d-3ce9-41f5-9e70-919866f03866"
      },
      "execution_count": null,
      "outputs": [
        {
          "output_type": "display_data",
          "data": {
            "image/png": "[encoded data removed]",
            "text/plain": [
              "<Figure size 432x288 with 1 Axes>"
            ]
          },
          "metadata": {
            "needs_background": "light"
          }
        }
      ]
    },
    {
      "cell_type": "markdown",
      "source": [
        "# 중심극한의 정리\n",
        "- 물론 증명도 되어 있고, 통계적 모형을 세울때, 정규분포를 사용할 수 있는 중요한 이론\n",
        "  - 너무 맹신하거나, 오해 하는 경우가 많아요\n",
        "- 모집단의 분포가 무엇이든 상관이 없이 \n",
        "  - 어떤 분포를 갖든 동일하기만 하면 상관이 없습니다. \n",
        "  - 표본들의 평균은 결국 정규분포로 수렴하게 된다.\n",
        "    - 단, 표본의 크기가 충분 하다면\n",
        "\n",
        "  - **중요한 것은 자료의 분포가 정규분포임을 증명하지 않습니다**"
      ],
      "metadata": {
        "id": "s7P7OWx7JyRq"
      }
    },
    {
      "cell_type": "markdown",
      "source": [
        "- 표본이 얼마나 커야 충분히 크다고 얘기할 수 있는가? \n",
        "- 표본의 크기가 정말 충분히 크다면, 그 평균들은 정말 정규분포가 되는가? \n",
        "- 수업시간에는 균등분포를 가정\n",
        "  - 각 구간마다 동일한 분포를 갖는 형태"
      ],
      "metadata": {
        "id": "O4lSsyGyKS1A"
      }
    },
    {
      "cell_type": "code",
      "source": [
        "from scipy.stats import uniform"
      ],
      "metadata": {
        "id": "EMCpysbmK1MD"
      },
      "execution_count": null,
      "outputs": []
    },
    {
      "cell_type": "code",
      "source": [
        "n = 20\n",
        "m = 100000\n",
        "mean = []\n",
        "\n",
        "rv = uniform(n)\n",
        "for _ in range(m):\n",
        "  x = rv.rvs(n)\n",
        "  mean.append(x.mean())"
      ],
      "metadata": {
        "id": "1YqmoK0CK6nZ"
      },
      "execution_count": null,
      "outputs": []
    },
    {
      "cell_type": "code",
      "source": [
        "sns.displot(mean)"
      ],
      "metadata": {
        "colab": {
          "base_uri": "https://localhost:8080/",
          "height": 386
        },
        "id": "nkRWfdMPLGAu",
        "outputId": "b19a1e74-8752-4c43-e291-596694b6dc8b"
      },
      "execution_count": null,
      "outputs": [
        {
          "output_type": "execute_result",
          "data": {
            "text/plain": [
              "<seaborn.axisgrid.FacetGrid at 0x7fd176afab90>"
            ]
          },
          "metadata": {},
          "execution_count": 119
        },
        {
          "output_type": "display_data",
          "data": {
            "image/png": "[encoded data removed]",
            "text/plain": [
              "<Figure size 360x360 with 1 Axes>"
            ]
          },
          "metadata": {
            "needs_background": "light"
          }
        }
      ]
    },
    {
      "cell_type": "markdown",
      "source": [
        "# 몬테카를로 시뮬레이션\n",
        "- 난수를 이용해서 시행하는 모의실험\n",
        "- 맨하탄 프로젝트에서 처음 시작\n",
        "  - 핵무기 연구에 사용\n",
        "  - 아주 많은 연산을 필요로 하는 경우에, 효과적인 알고리즘이 필요\n",
        "  - 난수를 이용해서 푸는 방법을 제안"
      ],
      "metadata": {
        "id": "1yU1sfnCLOhd"
      }
    },
    {
      "cell_type": "markdown",
      "source": [
        "## 도박사의 몰락\n",
        "- 도박사는 과연 얼마만에 파산을 할 것인가? \n",
        "- 이런 경우에는 확률분포를 가정하기 어렵습니다. \n",
        "- 이런 경우에, 시뮬레이션을 통해서 표본을 추출하고, 이를 통해서 모집단의 모수를 추정\n",
        "  - 모수란: 평균, 분산, ... "
      ],
      "metadata": {
        "id": "L6k_hwfUL_mX"
      }
    },
    {
      "cell_type": "markdown",
      "source": [
        "## 카지노의 승률\n",
        "- 카지노마다 승률이 다르게 설정이 되어 있고\n",
        "- 게임마다 승률이 전부 다릅니다. \n",
        "- 일반적으로는 승률이 49%를 넘어가지 않습니다. \n",
        "  - 성공할 확률이 49%인 베르누이 분포를 생각해볼 수 있습니다. "
      ],
      "metadata": {
        "id": "tX5qJHNfMaaC"
      }
    },
    {
      "cell_type": "code",
      "source": [
        "# 초기자금이 10,000원이고\n",
        "# 49%의 확률로 100원을 따거나, 51%의 확률로 100원을 잃는 베르누이 분포를 가정\n",
        "# 도박사는 얼마만에 파산할 것인가?(파산하지 않는 경우는 고려하지 않는가?)\n",
        "\n",
        "n = 10000\n",
        "p = 0.49\n",
        "r = []\n",
        "x = [-100, 100]\n",
        "\n",
        "while True:\n",
        "  i = bernoulli(p).rvs(1)[0]\n",
        "  n += x[i]\n",
        "  r.append(n)\n",
        "  if n < 0: break"
      ],
      "metadata": {
        "id": "HR6x5xRMM2Qk"
      },
      "execution_count": null,
      "outputs": []
    },
    {
      "cell_type": "code",
      "source": [
        "plt.plot(r)\n",
        "plt.show()"
      ],
      "metadata": {
        "colab": {
          "base_uri": "https://localhost:8080/",
          "height": 265
        },
        "id": "prSYKvkONi4l",
        "outputId": "f587cf22-fc85-4c8a-911b-c42cee661fbd"
      },
      "execution_count": null,
      "outputs": [
        {
          "output_type": "display_data",
          "data": {
            "image/png": "[encoded data removed]",
            "text/plain": [
              "<Figure size 432x288 with 1 Axes>"
            ]
          },
          "metadata": {
            "needs_background": "light"
          }
        }
      ]
    },
    {
      "cell_type": "markdown",
      "source": [
        "이때, 도박사가 파산할 때 까지의 게임의 횟수를 m이라고 한다면 \n",
        "- 이때, m이 확률변수가 됩니다.\n",
        "- 평균적으로 몇회만에 파산하는지를 확인하고 싶다면\n",
        "- 충분히 시뮬레이션을 해보고 그 결과를 확인\n",
        "  - 수업 시간에는 많이 해볼수는 없고\n",
        "  - 1000회 정도의 몬테카를로 시뮬레이션을 진행\n",
        "  - 시간이 꽤 걸립니다."
      ],
      "metadata": {
        "id": "272W3M_vOOKH"
      }
    },
    {
      "cell_type": "code",
      "source": [
        "p = 0.49\n",
        "m = []\n",
        "x = [-100, 100]\n",
        "\n",
        "for _ in range(1000):\n",
        "  n = 10000\n",
        "  cnt = 0\n",
        "  while True:\n",
        "    cnt += 1\n",
        "    i = bernoulli(p).rvs(1)[0]\n",
        "    n += x[i]\n",
        "    if n < 0: break\n",
        "  m.append(cnt)"
      ],
      "metadata": {
        "id": "04bYS9vTO0EV"
      },
      "execution_count": null,
      "outputs": []
    },
    {
      "cell_type": "markdown",
      "source": [
        "도박사가 파산하기 까지의 게임 횟수에 대한 분포"
      ],
      "metadata": {
        "id": "MQSycDHLeu6R"
      }
    },
    {
      "cell_type": "code",
      "source": [
        "sns.displot(m)\n",
        "plt.show()"
      ],
      "metadata": {
        "colab": {
          "base_uri": "https://localhost:8080/",
          "height": 369
        },
        "id": "fb-pPvN_eumo",
        "outputId": "7525b399-428a-4c0f-c762-d7097cba744d"
      },
      "execution_count": null,
      "outputs": [
        {
          "output_type": "display_data",
          "data": {
            "image/png": "[encoded data removed]",
            "text/plain": [
              "<Figure size 360x360 with 1 Axes>"
            ]
          },
          "metadata": {
            "needs_background": "light"
          }
        }
      ]
    },
    {
      "cell_type": "markdown",
      "source": [
        "확률분포에서 평균과 분산을 확인"
      ],
      "metadata": {
        "id": "Z4C1QA9ae9C-"
      }
    },
    {
      "cell_type": "code",
      "source": [
        "print( np.mean(m) )\n",
        "print( np.var(m) )\n",
        "print( np.std(m) )"
      ],
      "metadata": {
        "colab": {
          "base_uri": "https://localhost:8080/"
        },
        "id": "rR4N-hcGfBME",
        "outputId": "baeb3df7-0228-431d-f989-34356e2626aa"
      },
      "execution_count": null,
      "outputs": [
        {
          "output_type": "stream",
          "name": "stdout",
          "text": [
            "5214.264\n",
            "15313513.490304\n",
            "3913.2484575227268\n"
          ]
        }
      ]
    }
  ]
}