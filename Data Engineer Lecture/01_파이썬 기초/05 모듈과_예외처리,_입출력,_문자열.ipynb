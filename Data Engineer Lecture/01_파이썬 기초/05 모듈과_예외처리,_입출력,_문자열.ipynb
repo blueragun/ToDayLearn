{
  "nbformat": 4,
  "nbformat_minor": 0,
  "metadata": {
    "colab": {
      "name": "모듈과 예외처리, 입출력, 문자열.ipynb",
      "provenance": [],
      "collapsed_sections": []
    },
    "kernelspec": {
      "name": "python3",
      "display_name": "Python 3"
    },
    "language_info": {
      "name": "python"
    }
  },
  "cells": [
    {
      "cell_type": "markdown",
      "metadata": {
        "id": "drN9T1L-UV1S"
      },
      "source": [
        "# 모듈\n",
        "- 미리 만들어진 파이썬 소스파일(라이브러리)\n",
        "  - 파이썬은 모듈을 만들기 위한 추가적인 과정은 요구하지 않습니다. \n",
        "  - 파이썬 소스파일은 모듈이 될 수 있습니다. \n",
        "    - 다른 파이썬 소스파일에서 가져다 사용할 수 있습니다. \n",
        "  - 모듈은 재사용성을 위해서 나온 개념\n",
        "\n",
        "- 주피터 노트북은 모듈이 될 수 없습니다. \n",
        "  - `ipynb` 파일은 모듈이 될 수 없습니다. \n",
        "  - 모듈은 확장자가 `py`인 파이썬 소스파일만 가능합니다. \n",
        "\n",
        "- 데이터 분석을 위한 파이썬 철저 입문\n",
        "  - [예제 파일](https://github.com/wikibook/python-for-data-analysis-rev)\n",
        "  - 책 맨 앞에 목차 부분 `VIII` 페이지 하단에 적혀 있습니다. "
      ]
    },
    {
      "cell_type": "markdown",
      "metadata": {
        "id": "BcWDL5L9Y44E"
      },
      "source": [
        "## 드라이브 연동 해결 방법\n",
        "- 콜랩은 리눅스 환경의 가상 시스템(클라우드)\n",
        "  - 구글 드라이브를 연동하게 되면 기본적인 경로는 다음과 같습니다. \n",
        "  - /content/drive/MyDrive/개인폴더/myPyCode\n",
        "  - /content/gdrive/MyDrive/개인폴더/myPyCode\n",
        "\n",
        "- 리눅스의 경로는 `/` 시작\n",
        "- 폴더와 폴더 사이의 구분자 `/`를 사용합니다. "
      ]
    },
    {
      "cell_type": "code",
      "metadata": {
        "colab": {
          "base_uri": "https://localhost:8080/"
        },
        "id": "_z0FOgrZUgKJ",
        "outputId": "2600ee66-da07-42bf-8cd1-8b3672e2d13b"
      },
      "source": [
        "from google.colab import drive \n",
        "drive.mount('/content/gdrive/')"
      ],
      "execution_count": null,
      "outputs": [
        {
          "output_type": "stream",
          "name": "stdout",
          "text": [
            "Mounted at /content/gdrive/\n"
          ]
        }
      ]
    },
    {
      "cell_type": "code",
      "metadata": {
        "colab": {
          "base_uri": "https://localhost:8080/"
        },
        "id": "y6Pj8wb0hTjP",
        "outputId": "a4f6956c-0651-49f5-91e9-9a79b112db9d"
      },
      "source": [
        "%%writefile /content/gdrive/MyDrive/멀티캠퍼스/myPyCode/my_first_module.py\n",
        "# File name: my_first_module.py\n",
        "\n",
        "def my_function():\n",
        "    print(\"This is my first module.\") "
      ],
      "execution_count": null,
      "outputs": [
        {
          "output_type": "stream",
          "name": "stdout",
          "text": [
            "Writing /content/gdrive/MyDrive/멀티캠퍼스/myPyCode/my_first_module.py\n"
          ]
        }
      ]
    },
    {
      "cell_type": "markdown",
      "metadata": {
        "id": "sJ-t9wEWj-pd"
      },
      "source": [
        "모듈을 가져오는 방법은 아래와 같습니다. \n",
        "\n",
        "```\n",
        "import 모듈이름\n",
        "```\n",
        "\n",
        "- 모듈이름은 확장자를 제외한 파일이름이 모듈이름이 됩니다. "
      ]
    },
    {
      "cell_type": "code",
      "metadata": {
        "colab": {
          "base_uri": "https://localhost:8080/",
          "height": 309
        },
        "id": "gGzvr-E5kHEh",
        "outputId": "55b1ac42-ebfa-44ae-e501-f321e6ac66df"
      },
      "source": [
        "# 지금은 가져올 수 없습니다\n",
        "import my_first_module"
      ],
      "execution_count": null,
      "outputs": [
        {
          "output_type": "error",
          "ename": "ModuleNotFoundError",
          "evalue": "ignored",
          "traceback": [
            "\u001b[0;31m---------------------------------------------------------------------------\u001b[0m",
            "\u001b[0;31mModuleNotFoundError\u001b[0m                       Traceback (most recent call last)",
            "\u001b[0;32m<ipython-input-3-701cbb5780a3>\u001b[0m in \u001b[0;36m<module>\u001b[0;34m()\u001b[0m\n\u001b[0;32m----> 1\u001b[0;31m \u001b[0;32mimport\u001b[0m \u001b[0mmy_first_module\u001b[0m\u001b[0;34m\u001b[0m\u001b[0;34m\u001b[0m\u001b[0m\n\u001b[0m",
            "\u001b[0;31mModuleNotFoundError\u001b[0m: No module named 'my_first_module'",
            "",
            "\u001b[0;31m---------------------------------------------------------------------------\u001b[0;32m\nNOTE: If your import is failing due to a missing package, you can\nmanually install dependencies using either !pip or !apt.\n\nTo view examples of installing some common dependencies, click the\n\"Open Examples\" button below.\n\u001b[0;31m---------------------------------------------------------------------------\u001b[0m\n"
          ],
          "errorDetails": {
            "actions": [
              {
                "action": "open_url",
                "actionText": "Open Examples",
                "url": "/notebooks/snippets/importing_libraries.ipynb"
              }
            ]
          }
        }
      ]
    },
    {
      "cell_type": "markdown",
      "metadata": {
        "id": "PcXXHGfIkcZO"
      },
      "source": [
        "## 모듈은 어디서 가져오는가?\n",
        "- 파이썬 소스파일이 어디에 있든지 가져 올 수는 있는데, 알려는 줘야합니다. \n",
        "  - 파이썬 인터프리터한테 어디에 있다고는 알려줘야 합니다. \n",
        "  - 그래서, 모듈의 위치를 미리 정해놓습니다. \n",
        "  - 모듈은 항상 그 위치에서 가져오도록 만들어 놓습니다. "
      ]
    },
    {
      "cell_type": "code",
      "metadata": {
        "id": "KErnKKgukoFU"
      },
      "source": [
        "# 위치는 정해져 있습니다. \n",
        "# 확인하려면 다른 모듈이 필요합니다. \n",
        "import sys"
      ],
      "execution_count": null,
      "outputs": []
    },
    {
      "cell_type": "code",
      "metadata": {
        "colab": {
          "base_uri": "https://localhost:8080/"
        },
        "id": "r57AbK_Pk1JQ",
        "outputId": "04d4ef3e-3ba8-4053-917f-9ac75dbd0699"
      },
      "source": [
        "# path 리스트에 들어있는 경로들에서 해당 파일을 찾습니다.\n",
        "sys.path"
      ],
      "execution_count": null,
      "outputs": [
        {
          "output_type": "execute_result",
          "data": {
            "text/plain": [
              "['',\n",
              " '/content',\n",
              " '/env/python',\n",
              " '/usr/lib/python37.zip',\n",
              " '/usr/lib/python3.7',\n",
              " '/usr/lib/python3.7/lib-dynload',\n",
              " '/usr/local/lib/python3.7/dist-packages',\n",
              " '/usr/lib/python3/dist-packages',\n",
              " '/usr/local/lib/python3.7/dist-packages/IPython/extensions',\n",
              " '/root/.ipython']"
            ]
          },
          "metadata": {},
          "execution_count": 5
        }
      ]
    },
    {
      "cell_type": "markdown",
      "metadata": {
        "id": "AvuNox0flSYe"
      },
      "source": [
        "새로운 경로를 path에 추가\n",
        "- 콜랩과 같은 환경에서는 사용할 수 있는 유일한 방법\n",
        "- 가져오고 싶은 모듈이 들어있는 폴더의 경로를 추가해주면 됩니다. \n",
        "  - **파일의 경로가 아닙니다**\n",
        "  - 파일의 들어 있는 폴더의 경로"
      ]
    },
    {
      "cell_type": "code",
      "metadata": {
        "id": "4wHwAKkflXgq"
      },
      "source": [
        "# 가져오고자 하는 모듈(파이썬 소스파일)이 들어있는 폴더의 경로를\n",
        "# sys.path 리스트에 추가\n",
        "sys.path.append('/content/gdrive/MyDrive/멀티캠퍼스/myPyCode')"
      ],
      "execution_count": null,
      "outputs": []
    },
    {
      "cell_type": "code",
      "metadata": {
        "colab": {
          "base_uri": "https://localhost:8080/"
        },
        "id": "fRv1EwjZlsuL",
        "outputId": "c1d59ec5-14f1-43be-aea4-7d2b33328287"
      },
      "source": [
        "sys.path"
      ],
      "execution_count": null,
      "outputs": [
        {
          "output_type": "execute_result",
          "data": {
            "text/plain": [
              "['',\n",
              " '/content',\n",
              " '/env/python',\n",
              " '/usr/lib/python37.zip',\n",
              " '/usr/lib/python3.7',\n",
              " '/usr/lib/python3.7/lib-dynload',\n",
              " '/usr/local/lib/python3.7/dist-packages',\n",
              " '/usr/lib/python3/dist-packages',\n",
              " '/usr/local/lib/python3.7/dist-packages/IPython/extensions',\n",
              " '/root/.ipython',\n",
              " '/content/gdrive/MyDrive/멀티캠퍼스/myPyCode']"
            ]
          },
          "metadata": {},
          "execution_count": 7
        }
      ]
    },
    {
      "cell_type": "code",
      "metadata": {
        "id": "6OSkJPwTl3qC"
      },
      "source": [
        "# 추가된 경로에서도 모듈을 검색\n",
        "import my_first_module"
      ],
      "execution_count": null,
      "outputs": []
    },
    {
      "cell_type": "code",
      "metadata": {
        "colab": {
          "base_uri": "https://localhost:8080/"
        },
        "id": "bGJzff9Rl9o1",
        "outputId": "71f76e19-f11a-404d-c923-05904605a248"
      },
      "source": [
        "my_first_module.my_function()"
      ],
      "execution_count": null,
      "outputs": [
        {
          "output_type": "stream",
          "name": "stdout",
          "text": [
            "This is my first module.\n"
          ]
        }
      ]
    },
    {
      "cell_type": "code",
      "metadata": {
        "colab": {
          "base_uri": "https://localhost:8080/"
        },
        "id": "SNIjuZKdqpWY",
        "outputId": "f4ce8ca3-38a0-4491-cdc4-e79c3a5f4b42"
      },
      "source": [
        "%%writefile /content/gdrive/MyDrive/멀티캠퍼스/myPyCode/modules/my_area.py\n",
        "# File name: my_area.py\n",
        "\n",
        "PI = 3.14\n",
        "def square_area(a): # 정사각형의 넓이 반환\n",
        "    return a ** 2\n",
        "\n",
        "def circle_area(r): # 원의 넓이 반환\n",
        "    return PI * r ** 2"
      ],
      "execution_count": null,
      "outputs": [
        {
          "output_type": "stream",
          "name": "stdout",
          "text": [
            "Writing /content/gdrive/MyDrive/멀티캠퍼스/myPyCode/modules/my_area.py\n"
          ]
        }
      ]
    },
    {
      "cell_type": "code",
      "metadata": {
        "colab": {
          "base_uri": "https://localhost:8080/",
          "height": 309
        },
        "id": "CEtCsI_mq8K3",
        "outputId": "10be828f-61c2-468d-e489-439fd78a732c"
      },
      "source": [
        "import my_area"
      ],
      "execution_count": null,
      "outputs": [
        {
          "output_type": "error",
          "ename": "ModuleNotFoundError",
          "evalue": "ignored",
          "traceback": [
            "\u001b[0;31m---------------------------------------------------------------------------\u001b[0m",
            "\u001b[0;31mModuleNotFoundError\u001b[0m                       Traceback (most recent call last)",
            "\u001b[0;32m<ipython-input-13-c651e0bca9b9>\u001b[0m in \u001b[0;36m<module>\u001b[0;34m()\u001b[0m\n\u001b[0;32m----> 1\u001b[0;31m \u001b[0;32mimport\u001b[0m \u001b[0mmy_area\u001b[0m\u001b[0;34m\u001b[0m\u001b[0;34m\u001b[0m\u001b[0m\n\u001b[0m",
            "\u001b[0;31mModuleNotFoundError\u001b[0m: No module named 'my_area'",
            "",
            "\u001b[0;31m---------------------------------------------------------------------------\u001b[0;32m\nNOTE: If your import is failing due to a missing package, you can\nmanually install dependencies using either !pip or !apt.\n\nTo view examples of installing some common dependencies, click the\n\"Open Examples\" button below.\n\u001b[0;31m---------------------------------------------------------------------------\u001b[0m\n"
          ],
          "errorDetails": {
            "actions": [
              {
                "action": "open_url",
                "actionText": "Open Examples",
                "url": "/notebooks/snippets/importing_libraries.ipynb"
              }
            ]
          }
        }
      ]
    },
    {
      "cell_type": "markdown",
      "metadata": {
        "id": "5q1L2CDrrAfn"
      },
      "source": [
        "## 패키지\n",
        "- 여러개의 모듈(파일)을 하나로 묶어서 패키지 라고 합니다. \n",
        "- 파이썬 패키지를 폴더로 관리\n",
        "  - 같은 폴더에 있으면 같은 패키지가 됩니다. \n",
        "  - 패키지의 이름은 폴더의 이름이 패키지의 이름이 됩니다. \n",
        "\n",
        "- 파이썬 버전에 따라서 폴더를 패키지로 인식할 수도 있고, 하지 않을수도 있습니다. \n",
        "  - 그런 경우 해당 폴더에 `__init__.py`파일이 있으면 패키지로 인식하게 됩니다. \n",
        "  - 버전과 상관없이 패키지로 인식하려면 파일을 만들어 두면 안되는 경우는 없을 겁니다. \n",
        "  - 이때, 파일의 내용은 없어도 됩니다. "
      ]
    },
    {
      "cell_type": "code",
      "metadata": {
        "id": "u8OU3I3mrkDl"
      },
      "source": [
        "# 이때 모듈의 경로는 폴더의 경로와 동일\n",
        "# 구분자인 / 혹은 \\ 대신에 . 으로 표현\n",
        "import modules.my_area"
      ],
      "execution_count": null,
      "outputs": []
    },
    {
      "cell_type": "code",
      "metadata": {
        "colab": {
          "base_uri": "https://localhost:8080/"
        },
        "id": "x_mSCjXLspUY",
        "outputId": "dbfd456c-fb89-458d-fd9b-7f4741cff73f"
      },
      "source": [
        "modules.my_area.PI"
      ],
      "execution_count": null,
      "outputs": [
        {
          "output_type": "execute_result",
          "data": {
            "text/plain": [
              "3.14"
            ]
          },
          "metadata": {},
          "execution_count": 18
        }
      ]
    },
    {
      "cell_type": "markdown",
      "metadata": {
        "id": "oRSJEwoctgEQ"
      },
      "source": [
        "## 여러가지 형태의 import"
      ]
    },
    {
      "cell_type": "markdown",
      "metadata": {
        "id": "D02nje85tjls"
      },
      "source": [
        "### 모듈의 이름이 너무 긴 경우"
      ]
    },
    {
      "cell_type": "code",
      "metadata": {
        "id": "i8GGCUjutmXi"
      },
      "source": [
        "# as를 이용해서 별칭을 설정\n",
        "# 별칭을 통해서 모듈을 참조\n",
        "import my_first_module as lib"
      ],
      "execution_count": null,
      "outputs": []
    },
    {
      "cell_type": "code",
      "metadata": {
        "colab": {
          "base_uri": "https://localhost:8080/"
        },
        "id": "Vp-4ZMCCtz4V",
        "outputId": "e527ebd9-ffaf-4b39-cf39-979f99f4f70b"
      },
      "source": [
        "lib.my_function()"
      ],
      "execution_count": null,
      "outputs": [
        {
          "output_type": "stream",
          "name": "stdout",
          "text": [
            "This is my first module.\n"
          ]
        }
      ]
    },
    {
      "cell_type": "markdown",
      "metadata": {
        "id": "YX_Op6BSuB6Y"
      },
      "source": [
        "### from을 이용한 정의"
      ]
    },
    {
      "cell_type": "code",
      "metadata": {
        "id": "bP5gyqqkuEp5"
      },
      "source": [
        "# from을 이용해서 모듈 내에서 임포트 하고자 하는 내용을 정확히 지정\n",
        "from my_first_module import my_function"
      ],
      "execution_count": null,
      "outputs": []
    },
    {
      "cell_type": "code",
      "metadata": {
        "colab": {
          "base_uri": "https://localhost:8080/"
        },
        "id": "pGAqi5ZhuKhR",
        "outputId": "1860e53c-b697-4be9-a5b2-ef589b1712fb"
      },
      "source": [
        "my_function()"
      ],
      "execution_count": null,
      "outputs": [
        {
          "output_type": "stream",
          "name": "stdout",
          "text": [
            "This is my first module.\n"
          ]
        }
      ]
    },
    {
      "cell_type": "code",
      "metadata": {
        "id": "PMquqzRruOvP"
      },
      "source": [
        "# 패키지인 경우에는 패키지 내의 특정 모듈을 선택\n",
        "from modules import my_area"
      ],
      "execution_count": null,
      "outputs": []
    },
    {
      "cell_type": "code",
      "metadata": {
        "colab": {
          "base_uri": "https://localhost:8080/"
        },
        "id": "zeCEgi3LuRl9",
        "outputId": "5f486796-62e6-4a52-a843-ae19f73db7cf"
      },
      "source": [
        "my_area.PI"
      ],
      "execution_count": null,
      "outputs": [
        {
          "output_type": "execute_result",
          "data": {
            "text/plain": [
              "3.14"
            ]
          },
          "metadata": {},
          "execution_count": 24
        }
      ]
    },
    {
      "cell_type": "code",
      "metadata": {
        "id": "0q0rEwiMuVcS"
      },
      "source": [
        "from modules import my_area as my"
      ],
      "execution_count": null,
      "outputs": []
    },
    {
      "cell_type": "code",
      "metadata": {
        "colab": {
          "base_uri": "https://localhost:8080/"
        },
        "id": "zpfTYxcWuWzF",
        "outputId": "93806f9a-1d36-411c-d842-52c3ec9f3d02"
      },
      "source": [
        "my.PI"
      ],
      "execution_count": null,
      "outputs": [
        {
          "output_type": "execute_result",
          "data": {
            "text/plain": [
              "3.14"
            ]
          },
          "metadata": {},
          "execution_count": 26
        }
      ]
    },
    {
      "cell_type": "code",
      "metadata": {
        "id": "V6yVdHjQuZs8"
      },
      "source": [
        "# 패키지 내의 특정 모듈의 특정 내용을 정확히 지정\n",
        "from modules.my_area import PI"
      ],
      "execution_count": null,
      "outputs": []
    },
    {
      "cell_type": "code",
      "metadata": {
        "colab": {
          "base_uri": "https://localhost:8080/"
        },
        "id": "reI7c3WJuclz",
        "outputId": "9bf83303-f150-450f-f269-89dda208524f"
      },
      "source": [
        "PI"
      ],
      "execution_count": null,
      "outputs": [
        {
          "output_type": "execute_result",
          "data": {
            "text/plain": [
              "3.14"
            ]
          },
          "metadata": {},
          "execution_count": 28
        }
      ]
    },
    {
      "cell_type": "code",
      "metadata": {
        "id": "DIGR2Sq5ueqb"
      },
      "source": [
        "# *(와일드카드/all)\n",
        "# 모듈내의 모든 내용을 전부 가져올 수도 있습니다. \n",
        "from modules.my_area import *"
      ],
      "execution_count": null,
      "outputs": []
    },
    {
      "cell_type": "code",
      "metadata": {
        "colab": {
          "base_uri": "https://localhost:8080/"
        },
        "id": "vdM8Txidumlw",
        "outputId": "da36b72b-8e75-4b8f-a869-e1adfc2b30f3"
      },
      "source": [
        "PI"
      ],
      "execution_count": null,
      "outputs": [
        {
          "output_type": "execute_result",
          "data": {
            "text/plain": [
              "3.14"
            ]
          },
          "metadata": {},
          "execution_count": 30
        }
      ]
    },
    {
      "cell_type": "code",
      "metadata": {
        "colab": {
          "base_uri": "https://localhost:8080/"
        },
        "id": "T7ipSyirunHX",
        "outputId": "e0f63af5-ab8f-4e69-d75f-1b1baa2368c9"
      },
      "source": [
        "square_area(2)"
      ],
      "execution_count": null,
      "outputs": [
        {
          "output_type": "execute_result",
          "data": {
            "text/plain": [
              "4"
            ]
          },
          "metadata": {},
          "execution_count": 31
        }
      ]
    },
    {
      "cell_type": "markdown",
      "metadata": {
        "id": "EXzm0k1owfSW"
      },
      "source": [
        "## 파이썬 소스 파일의 실행\n",
        "- 파이썬 인터프리터는 아래의 두 경우를 구분\n",
        "  1. 파이썬 소스 파일을 직접 실행\n",
        "    - `__name__`변수의 값은 `__main__`이 됩니다. \n",
        "\n",
        "  2. 모듈로써 임포트 되어서 실행이 되는 경우\n",
        "    - `__name__` 변수의 값은 모듈 이름이 됩니다. \n",
        "\n",
        "- 콜랩에서는 확인이 어렵기 때문에 보여만 드리겠습니다. \n",
        "  - 콜랩에서는 `.py` 파일은 실행이 안됩니다. "
      ]
    },
    {
      "cell_type": "markdown",
      "metadata": {
        "id": "ifzraoStwyTz"
      },
      "source": [
        "# 예외처리\n",
        "- 코드를 작성하면서 발생할 수 있는 예외(에러, 경고, .. )에 대해서 처리할 수 있는 방법 2가지\n",
        "  1. LBYL(Look Before You Leap)\n",
        "    - `도약하기 전에 확인해라`\n",
        "    - 코드를 실행하기 전에 예외가 발생하지 않도록 미리 검증하고 실행을 하자\n",
        "    - 즉, 발생할 수 있는 모든 예외적인 상황들에 대해서 미리 예측하고, 미연에 방지 \n",
        "    - 현실적으로는 불가능한 방법\n",
        "      - 완벽하게 예외를 예측하고, 전부 처리할 수 없습니다. \n",
        "      - 만약에 이게 가능했다면, 패치나 업데이트 라는 개념도 없었겠죠 \n",
        "    - 전통적으로 예외를 처리해오던 방법\n",
        "\n",
        "  2. EAFP(It's Easier Ask Forgiveness Than Permission)\n",
        "    - `허락보다 용서가 쉽다`\n",
        "      - 모 광고의 광고문구로도 사용이 되었습니다.(플스5)\n",
        "    - 일단 코드를 실행하고, 예외가 발생하면, 그때 처리하자\n",
        "    - 파이썬 표준에서 권장하는 방식"
      ]
    },
    {
      "cell_type": "markdown",
      "metadata": {
        "id": "v7Qv4R0y3dcd"
      },
      "source": [
        "## 전통적인 방식의 예외처리"
      ]
    },
    {
      "cell_type": "code",
      "metadata": {
        "id": "K7fGnNJ_5IAS"
      },
      "source": [
        "# 문자열을 입력하면, 숫자로 바꿔서 돌려주는 함수를 가정\n",
        "def convert(strs):\n",
        "  return int(strs)"
      ],
      "execution_count": null,
      "outputs": []
    },
    {
      "cell_type": "code",
      "metadata": {
        "colab": {
          "base_uri": "https://localhost:8080/"
        },
        "id": "1BWZQlNF5T8c",
        "outputId": "0b0982bc-16ff-46c2-c82a-9d4e130c8ca0"
      },
      "source": [
        "convert('10')"
      ],
      "execution_count": null,
      "outputs": [
        {
          "output_type": "execute_result",
          "data": {
            "text/plain": [
              "10"
            ]
          },
          "metadata": {},
          "execution_count": 44
        }
      ]
    },
    {
      "cell_type": "code",
      "metadata": {
        "colab": {
          "base_uri": "https://localhost:8080/",
          "height": 256
        },
        "id": "Vkkqpy1a5V5z",
        "outputId": "102a9490-cf98-46d7-aad4-7f30feea8ffd"
      },
      "source": [
        "convert('a')"
      ],
      "execution_count": null,
      "outputs": [
        {
          "output_type": "error",
          "ename": "ValueError",
          "evalue": "ignored",
          "traceback": [
            "\u001b[0;31m---------------------------------------------------------------------------\u001b[0m",
            "\u001b[0;31mValueError\u001b[0m                                Traceback (most recent call last)",
            "\u001b[0;32m<ipython-input-45-b39c02f99b9f>\u001b[0m in \u001b[0;36m<module>\u001b[0;34m()\u001b[0m\n\u001b[0;32m----> 1\u001b[0;31m \u001b[0mconvert\u001b[0m\u001b[0;34m(\u001b[0m\u001b[0;34m'a'\u001b[0m\u001b[0;34m)\u001b[0m\u001b[0;34m\u001b[0m\u001b[0;34m\u001b[0m\u001b[0m\n\u001b[0m",
            "\u001b[0;32m<ipython-input-43-22cea89e9c81>\u001b[0m in \u001b[0;36mconvert\u001b[0;34m(strs)\u001b[0m\n\u001b[1;32m      1\u001b[0m \u001b[0;31m# 문자열을 입력하면, 숫자로 바꿔서 돌려주는 함수를 가정\u001b[0m\u001b[0;34m\u001b[0m\u001b[0;34m\u001b[0m\u001b[0;34m\u001b[0m\u001b[0m\n\u001b[1;32m      2\u001b[0m \u001b[0;32mdef\u001b[0m \u001b[0mconvert\u001b[0m\u001b[0;34m(\u001b[0m\u001b[0mstrs\u001b[0m\u001b[0;34m)\u001b[0m\u001b[0;34m:\u001b[0m\u001b[0;34m\u001b[0m\u001b[0;34m\u001b[0m\u001b[0m\n\u001b[0;32m----> 3\u001b[0;31m   \u001b[0;32mreturn\u001b[0m \u001b[0mint\u001b[0m\u001b[0;34m(\u001b[0m\u001b[0mstrs\u001b[0m\u001b[0;34m)\u001b[0m\u001b[0;34m\u001b[0m\u001b[0;34m\u001b[0m\u001b[0m\n\u001b[0m",
            "\u001b[0;31mValueError\u001b[0m: invalid literal for int() with base 10: 'a'"
          ]
        }
      ]
    },
    {
      "cell_type": "markdown",
      "metadata": {
        "id": "OY5mXd7j5XCS"
      },
      "source": [
        "이런 예외를 방지하려면 문자열이 10진수 정수로만 이루어진 경우에만 변환 \n",
        "  - 결국 입력값에 대한 검증을 수행한 이후에 변환"
      ]
    },
    {
      "cell_type": "markdown",
      "metadata": {
        "id": "v83XygtS59sC"
      },
      "source": [
        "정수로 변경 가능한 경우"
      ]
    },
    {
      "cell_type": "code",
      "metadata": {
        "colab": {
          "base_uri": "https://localhost:8080/"
        },
        "id": "iF5i3rKt5_Hz",
        "outputId": "547f5c82-9b39-429e-b3b4-06d6d5624bcd"
      },
      "source": [
        "print( int('10') )\n",
        "print( int('-10') )\n",
        "print( int('+10') )"
      ],
      "execution_count": null,
      "outputs": [
        {
          "output_type": "stream",
          "name": "stdout",
          "text": [
            "10\n",
            "-10\n",
            "10\n"
          ]
        }
      ]
    },
    {
      "cell_type": "code",
      "metadata": {
        "id": "yDKYF3Hr5qO_"
      },
      "source": [
        "# 전통적인 방식으로 이러한 예외를 처리한다면\n",
        "# 함수 내에서는 숫자로 변경 가능한 경우에만 변환할 수 있도록 체크\n",
        "def convert(strs):\n",
        "  \n",
        "  # 1. 입력이 반드시 문자열 일거라는 보장이 있는가?\n",
        "  # 그래서 타입 체크를 먼저 수행(문자열인 경우에만 진행이 가능)\n",
        "  if isinstance(strs, str):\n",
        "\n",
        "    # 2. 문자열 이라면, 첫번째 원소의 값은 반드시 셋 중에 하나(-, +, 정수)가 되어야 합니다. \n",
        "    if strs[0] == '-' or strs[0] == '+' or strs[0].isdecimal():\n",
        "\n",
        "      # 3. 첫번째 원소를 제외한 나머지 원소는 전부 정수여야 한다.\n",
        "      if strs[1:].isdecimal(): return int(strs)\n",
        "      else: return False\n",
        "\n",
        "    else: return False\n",
        "\n",
        "  else: return False"
      ],
      "execution_count": null,
      "outputs": []
    },
    {
      "cell_type": "code",
      "metadata": {
        "colab": {
          "base_uri": "https://localhost:8080/",
          "height": 309
        },
        "id": "hDYJBUU06Ias",
        "outputId": "78395a64-47f4-49c0-8fee-bf1bab255ac6"
      },
      "source": [
        "# 완벽하게 예외를 제어할 수 없다\n",
        "convert('')"
      ],
      "execution_count": null,
      "outputs": [
        {
          "output_type": "error",
          "ename": "IndexError",
          "evalue": "ignored",
          "traceback": [
            "\u001b[0;31m---------------------------------------------------------------------------\u001b[0m",
            "\u001b[0;31mIndexError\u001b[0m                                Traceback (most recent call last)",
            "\u001b[0;32m<ipython-input-67-aa4ea189c85c>\u001b[0m in \u001b[0;36m<module>\u001b[0;34m()\u001b[0m\n\u001b[1;32m      1\u001b[0m \u001b[0;31m# 완벽하게 예외를 제어할 수 없다\u001b[0m\u001b[0;34m\u001b[0m\u001b[0;34m\u001b[0m\u001b[0;34m\u001b[0m\u001b[0m\n\u001b[0;32m----> 2\u001b[0;31m \u001b[0mconvert\u001b[0m\u001b[0;34m(\u001b[0m\u001b[0;34m''\u001b[0m\u001b[0;34m)\u001b[0m\u001b[0;34m\u001b[0m\u001b[0;34m\u001b[0m\u001b[0m\n\u001b[0m",
            "\u001b[0;32m<ipython-input-64-b8e894fd2652>\u001b[0m in \u001b[0;36mconvert\u001b[0;34m(strs)\u001b[0m\n\u001b[1;32m      8\u001b[0m \u001b[0;34m\u001b[0m\u001b[0m\n\u001b[1;32m      9\u001b[0m     \u001b[0;31m# 2. 문자열 이라면, 첫번째 원소의 값은 반드시 셋 중에 하나(-, +, 정수)가 되어야 합니다.\u001b[0m\u001b[0;34m\u001b[0m\u001b[0;34m\u001b[0m\u001b[0;34m\u001b[0m\u001b[0m\n\u001b[0;32m---> 10\u001b[0;31m     \u001b[0;32mif\u001b[0m \u001b[0mstrs\u001b[0m\u001b[0;34m[\u001b[0m\u001b[0;36m0\u001b[0m\u001b[0;34m]\u001b[0m \u001b[0;34m==\u001b[0m \u001b[0;34m'-'\u001b[0m \u001b[0;32mor\u001b[0m \u001b[0mstrs\u001b[0m\u001b[0;34m[\u001b[0m\u001b[0;36m0\u001b[0m\u001b[0;34m]\u001b[0m \u001b[0;34m==\u001b[0m \u001b[0;34m'+'\u001b[0m \u001b[0;32mor\u001b[0m \u001b[0mstrs\u001b[0m\u001b[0;34m[\u001b[0m\u001b[0;36m0\u001b[0m\u001b[0;34m]\u001b[0m\u001b[0;34m.\u001b[0m\u001b[0misdecimal\u001b[0m\u001b[0;34m(\u001b[0m\u001b[0;34m)\u001b[0m\u001b[0;34m:\u001b[0m\u001b[0;34m\u001b[0m\u001b[0;34m\u001b[0m\u001b[0m\n\u001b[0m\u001b[1;32m     11\u001b[0m \u001b[0;34m\u001b[0m\u001b[0m\n\u001b[1;32m     12\u001b[0m       \u001b[0;31m# 3. 첫번째 원소를 제외한 나머지 원소는 전부 정수여야 한다.\u001b[0m\u001b[0;34m\u001b[0m\u001b[0;34m\u001b[0m\u001b[0;34m\u001b[0m\u001b[0m\n",
            "\u001b[0;31mIndexError\u001b[0m: string index out of range"
          ]
        }
      ]
    },
    {
      "cell_type": "markdown",
      "metadata": {
        "id": "_2F4gl5y8Tlq"
      },
      "source": [
        "## EAFP 방식의 예외처리"
      ]
    },
    {
      "cell_type": "code",
      "metadata": {
        "id": "jpRX6P-7_xx5"
      },
      "source": [
        "def convert(strs):\n",
        "  # 예외가 발생할 것 같은 코드를 try 블록으로 넣어줍니다. \n",
        "  # try 블록내의 코드를 모니터링 합니다(인터프리터가)\n",
        "  try:\n",
        "    return int(strs)\n",
        "  except: # try 블록내의 코드에서 예외가 발생하면 except 블록으로 예외가 넘어오게 됩니다. \n",
        "    # 발생한 예외를 어떻게 처리 할 것인가?\n",
        "    # 예외가 발생하면 함수를 종료 하도록 만든 것 뿐입니다\n",
        "    return False"
      ],
      "execution_count": null,
      "outputs": []
    },
    {
      "cell_type": "code",
      "metadata": {
        "colab": {
          "base_uri": "https://localhost:8080/"
        },
        "id": "8ZKSLecZAJKS",
        "outputId": "86032ba5-e787-40fd-c390-837aed9d4895"
      },
      "source": [
        "convert('')"
      ],
      "execution_count": null,
      "outputs": [
        {
          "output_type": "execute_result",
          "data": {
            "text/plain": [
              "False"
            ]
          },
          "metadata": {},
          "execution_count": 75
        }
      ]
    },
    {
      "cell_type": "markdown",
      "metadata": {
        "id": "9s0j_OFSAfgc"
      },
      "source": [
        "> 어느 한 가지 방법만을 이용하지는 않습니다 \n",
        "  - 두 가지 방식을 적절하게 잘 응용할 수 있어야 합니다. \n",
        "  - try, except 만으로 모든 예외가 처리될 수는 없습니다. "
      ]
    },
    {
      "cell_type": "markdown",
      "metadata": {
        "id": "fB56tfLTV843"
      },
      "source": [
        "### 다양한 형태의 예외처리 방법"
      ]
    },
    {
      "cell_type": "markdown",
      "metadata": {
        "id": "6UMEpCqgWDzr"
      },
      "source": [
        "#### 특정 예외만 처리하는 경우"
      ]
    },
    {
      "cell_type": "code",
      "metadata": {
        "id": "UX2u9tVnApQx"
      },
      "source": [
        "def convert(strs):\n",
        "  try:\n",
        "    return int(strs)\n",
        "  except ValueError:\n",
        "    return False"
      ],
      "execution_count": null,
      "outputs": []
    },
    {
      "cell_type": "code",
      "metadata": {
        "colab": {
          "base_uri": "https://localhost:8080/",
          "height": 287
        },
        "id": "RVgPVPyTWWGk",
        "outputId": "ade22c8c-c41d-4880-ad1a-3ad0f7573bd7"
      },
      "source": [
        "convert([])"
      ],
      "execution_count": null,
      "outputs": [
        {
          "output_type": "error",
          "ename": "TypeError",
          "evalue": "ignored",
          "traceback": [
            "\u001b[0;31m---------------------------------------------------------------------------\u001b[0m",
            "\u001b[0;31mTypeError\u001b[0m                                 Traceback (most recent call last)",
            "\u001b[0;32m<ipython-input-11-54ed4199855c>\u001b[0m in \u001b[0;36m<module>\u001b[0;34m()\u001b[0m\n\u001b[0;32m----> 1\u001b[0;31m \u001b[0mconvert\u001b[0m\u001b[0;34m(\u001b[0m\u001b[0;34m[\u001b[0m\u001b[0;34m]\u001b[0m\u001b[0;34m)\u001b[0m\u001b[0;34m\u001b[0m\u001b[0;34m\u001b[0m\u001b[0m\n\u001b[0m",
            "\u001b[0;32m<ipython-input-7-0418bc43ec0d>\u001b[0m in \u001b[0;36mconvert\u001b[0;34m(strs)\u001b[0m\n\u001b[1;32m      1\u001b[0m \u001b[0;32mdef\u001b[0m \u001b[0mconvert\u001b[0m\u001b[0;34m(\u001b[0m\u001b[0mstrs\u001b[0m\u001b[0;34m)\u001b[0m\u001b[0;34m:\u001b[0m\u001b[0;34m\u001b[0m\u001b[0;34m\u001b[0m\u001b[0m\n\u001b[1;32m      2\u001b[0m   \u001b[0;32mtry\u001b[0m\u001b[0;34m:\u001b[0m\u001b[0;34m\u001b[0m\u001b[0;34m\u001b[0m\u001b[0m\n\u001b[0;32m----> 3\u001b[0;31m     \u001b[0;32mreturn\u001b[0m \u001b[0mint\u001b[0m\u001b[0;34m(\u001b[0m\u001b[0mstrs\u001b[0m\u001b[0;34m)\u001b[0m\u001b[0;34m\u001b[0m\u001b[0;34m\u001b[0m\u001b[0m\n\u001b[0m\u001b[1;32m      4\u001b[0m   \u001b[0;32mexcept\u001b[0m \u001b[0mValueError\u001b[0m\u001b[0;34m:\u001b[0m\u001b[0;34m\u001b[0m\u001b[0;34m\u001b[0m\u001b[0m\n\u001b[1;32m      5\u001b[0m     \u001b[0;32mreturn\u001b[0m \u001b[0;32mFalse\u001b[0m\u001b[0;34m\u001b[0m\u001b[0;34m\u001b[0m\u001b[0m\n",
            "\u001b[0;31mTypeError\u001b[0m: int() argument must be a string, a bytes-like object or a number, not 'list'"
          ]
        }
      ]
    },
    {
      "cell_type": "markdown",
      "metadata": {
        "id": "PAcNGWqQX3Nu"
      },
      "source": [
        "`elif` 구문처럼 여러개의 예외를 처리할 수 있습니다. "
      ]
    },
    {
      "cell_type": "code",
      "metadata": {
        "id": "Z0yWiZMQX78R"
      },
      "source": [
        "def convert(strs):\n",
        "  try:\n",
        "    return int(strs)\n",
        "  except ValueError:\n",
        "    print('ValueError')\n",
        "  except TypeError:\n",
        "    print('TypeError')"
      ],
      "execution_count": null,
      "outputs": []
    },
    {
      "cell_type": "code",
      "metadata": {
        "colab": {
          "base_uri": "https://localhost:8080/"
        },
        "id": "iZWfFPkvYC4O",
        "outputId": "71bfc543-ed14-4ca8-d430-0ebc37048079"
      },
      "source": [
        "convert('a')"
      ],
      "execution_count": null,
      "outputs": [
        {
          "output_type": "stream",
          "name": "stdout",
          "text": [
            "ValueError\n"
          ]
        }
      ]
    },
    {
      "cell_type": "code",
      "metadata": {
        "colab": {
          "base_uri": "https://localhost:8080/"
        },
        "id": "fv3JKBhhYFYL",
        "outputId": "3700689d-452b-4798-96a6-7be0badcd87f"
      },
      "source": [
        "convert([])"
      ],
      "execution_count": null,
      "outputs": [
        {
          "output_type": "stream",
          "name": "stdout",
          "text": [
            "TypeError\n"
          ]
        }
      ]
    },
    {
      "cell_type": "markdown",
      "metadata": {
        "id": "vF0WSiY7Y0Ai"
      },
      "source": [
        "예외별로 정확한 예외 메시지를 확인"
      ]
    },
    {
      "cell_type": "code",
      "metadata": {
        "id": "OKa3TRNaY2Mb"
      },
      "source": [
        "def convert(strs):\n",
        "  try:\n",
        "    return int(strs)\n",
        "  except ValueError as e:\n",
        "    print(e)\n",
        "  except TypeError as e:\n",
        "    print(e)"
      ],
      "execution_count": null,
      "outputs": []
    },
    {
      "cell_type": "code",
      "metadata": {
        "colab": {
          "base_uri": "https://localhost:8080/"
        },
        "id": "30j1z9iYY8NO",
        "outputId": "2b88fa4c-e784-483c-8179-36aedf8fcb9d"
      },
      "source": [
        "convert('a')"
      ],
      "execution_count": null,
      "outputs": [
        {
          "output_type": "stream",
          "name": "stdout",
          "text": [
            "invalid literal for int() with base 10: 'a'\n"
          ]
        }
      ]
    },
    {
      "cell_type": "code",
      "metadata": {
        "colab": {
          "base_uri": "https://localhost:8080/"
        },
        "id": "JHA7ZieEY_OK",
        "outputId": "2a9aa836-693b-4fac-aa2b-030deaa34d4c"
      },
      "source": [
        "convert([])"
      ],
      "execution_count": null,
      "outputs": [
        {
          "output_type": "stream",
          "name": "stdout",
          "text": [
            "int() argument must be a string, a bytes-like object or a number, not 'list'\n"
          ]
        }
      ]
    },
    {
      "cell_type": "markdown",
      "metadata": {
        "id": "szew_p_GZYKd"
      },
      "source": [
        "여러개의 예외를 하나로 묶어서 처리"
      ]
    },
    {
      "cell_type": "code",
      "metadata": {
        "id": "doFgNP6_ZaUL"
      },
      "source": [
        "def convert(strs):\n",
        "  try:\n",
        "    return int(strs)\n",
        "  except (ValueError, TypeError) as e:\n",
        "    print(e)"
      ],
      "execution_count": null,
      "outputs": []
    },
    {
      "cell_type": "code",
      "metadata": {
        "colab": {
          "base_uri": "https://localhost:8080/"
        },
        "id": "Il0iVZ3yZftS",
        "outputId": "e01828e3-3ac6-4fc5-cdaa-99845efba4cb"
      },
      "source": [
        "convert('a')"
      ],
      "execution_count": null,
      "outputs": [
        {
          "output_type": "stream",
          "name": "stdout",
          "text": [
            "invalid literal for int() with base 10: 'a'\n"
          ]
        }
      ]
    },
    {
      "cell_type": "code",
      "metadata": {
        "colab": {
          "base_uri": "https://localhost:8080/"
        },
        "id": "o2TDCbnGZhSK",
        "outputId": "ea626dda-48c4-48c4-dbf0-92c2eccf2696"
      },
      "source": [
        "convert([])"
      ],
      "execution_count": null,
      "outputs": [
        {
          "output_type": "stream",
          "name": "stdout",
          "text": [
            "int() argument must be a string, a bytes-like object or a number, not 'list'\n"
          ]
        }
      ]
    },
    {
      "cell_type": "markdown",
      "metadata": {
        "id": "w213milVaR_4"
      },
      "source": [
        "- 파이썬은 예외도 객체 입니다. \n",
        "  - 파이썬의 모든 예외 클래스들은 전부 `Exception` 클래스를 상속 받아서 정의가 됩니다. \n",
        "  - `is-a` 속성에 따라서, 모든 예외는 `Exception` 이라고 얘기할 수 있습니다. \n",
        "\n",
        "- object 클래스\n",
        "  - 모든 클래스의 `최상위 클래스` 입니다. \n",
        "  - 클래스를 정의할 때, 상속을 하지 않아도 기본적으로 `object` 클래스를 상속해서 정의하게 됩니다. \n",
        "    - 굳이 상속을 정의하지 않아도 생략 가능한 형태로, 항상 상속이 된다. "
      ]
    },
    {
      "cell_type": "code",
      "metadata": {
        "id": "F-KVXloUbNFs"
      },
      "source": [
        "class Person(object):\n",
        "  pass"
      ],
      "execution_count": null,
      "outputs": []
    },
    {
      "cell_type": "code",
      "metadata": {
        "colab": {
          "base_uri": "https://localhost:8080/"
        },
        "id": "HUQZkU1tahMX",
        "outputId": "b630cf06-5500-461e-9005-635619ed7c64"
      },
      "source": [
        "ValueError.mro()"
      ],
      "execution_count": null,
      "outputs": [
        {
          "output_type": "execute_result",
          "data": {
            "text/plain": [
              "[ValueError, Exception, BaseException, object]"
            ]
          },
          "metadata": {},
          "execution_count": 26
        }
      ]
    },
    {
      "cell_type": "code",
      "metadata": {
        "id": "YRssgX-9c-8o"
      },
      "source": [
        "def convert(strs):\n",
        "  try:\n",
        "    return int(strs)\n",
        "  except Exception as e:\n",
        "    print(e)"
      ],
      "execution_count": null,
      "outputs": []
    },
    {
      "cell_type": "code",
      "metadata": {
        "colab": {
          "base_uri": "https://localhost:8080/"
        },
        "id": "O19rMaGqdCSG",
        "outputId": "3d1bfc98-867e-4268-f083-faa1ca0ef18e"
      },
      "source": [
        "convert('a')"
      ],
      "execution_count": null,
      "outputs": [
        {
          "output_type": "stream",
          "name": "stdout",
          "text": [
            "invalid literal for int() with base 10: 'a'\n"
          ]
        }
      ]
    },
    {
      "cell_type": "code",
      "metadata": {
        "colab": {
          "base_uri": "https://localhost:8080/"
        },
        "id": "j2ybByHDdDz6",
        "outputId": "cfa0f3e8-b77b-48fc-8a39-3bd15e849e30"
      },
      "source": [
        "convert([])"
      ],
      "execution_count": null,
      "outputs": [
        {
          "output_type": "stream",
          "name": "stdout",
          "text": [
            "int() argument must be a string, a bytes-like object or a number, not 'list'\n"
          ]
        }
      ]
    },
    {
      "cell_type": "code",
      "metadata": {
        "id": "sqA3pGFPhckC"
      },
      "source": [
        "def convert(strs):\n",
        "  try:\n",
        "    return int(strs)\n",
        "  except ValueError as e:\n",
        "    print('ValueError', e)\n",
        "  except Exception as e:\n",
        "    print('Unkown Exception', e)"
      ],
      "execution_count": null,
      "outputs": []
    },
    {
      "cell_type": "code",
      "metadata": {
        "colab": {
          "base_uri": "https://localhost:8080/"
        },
        "id": "2PgqGbdmhgTV",
        "outputId": "2a4b5205-a0b3-4ee4-8b81-069d07426ccd"
      },
      "source": [
        "convert([])"
      ],
      "execution_count": null,
      "outputs": [
        {
          "output_type": "stream",
          "name": "stdout",
          "text": [
            "Unkown Exception int() argument must be a string, a bytes-like object or a number, not 'list'\n"
          ]
        }
      ]
    },
    {
      "cell_type": "code",
      "metadata": {
        "id": "JJOj0btyh24B"
      },
      "source": [
        "def convert(strs):\n",
        "  try:\n",
        "    return int(strs)\n",
        "\n",
        "  # 주의!\n",
        "  # 가장 큰 범위의 예외 클래스가 먼저 오지 않도록 해주세요\n",
        "  except Exception as e:\n",
        "    print('Unkown Exception', e)\n",
        "  except ValueError as e:\n",
        "    print('ValueError', e)"
      ],
      "execution_count": null,
      "outputs": []
    },
    {
      "cell_type": "code",
      "metadata": {
        "colab": {
          "base_uri": "https://localhost:8080/"
        },
        "id": "a-RUwx-Fh5Qw",
        "outputId": "5ccca058-79b1-482d-9706-e797babae201"
      },
      "source": [
        "# 이렇게 되면 ValueError는 절대 처리되지 않습니다\n",
        "convert('a')"
      ],
      "execution_count": null,
      "outputs": [
        {
          "output_type": "stream",
          "name": "stdout",
          "text": [
            "Unkown Exception invalid literal for int() with base 10: 'a'\n"
          ]
        }
      ]
    },
    {
      "cell_type": "markdown",
      "metadata": {
        "id": "7rO4TZ9Ni4Yr"
      },
      "source": [
        "#### 확장된 형태\n",
        "- else, finally"
      ]
    },
    {
      "cell_type": "code",
      "metadata": {
        "id": "p7RNOMH3i7rA"
      },
      "source": [
        "def convert(strs):\n",
        "  try:\n",
        "    print( int(strs) )\n",
        "  except ValueError as e:\n",
        "    print('ValueError', e)\n",
        "  except Exception as e:\n",
        "    print('Unkown Exception', e)\n",
        "  else:\n",
        "    print('예외가 발생하지 않으면 실행')\n",
        "  finally:\n",
        "    print('예외 유무와 상관없이 마지막에 항상 무조건 실행')"
      ],
      "execution_count": null,
      "outputs": []
    },
    {
      "cell_type": "code",
      "metadata": {
        "colab": {
          "base_uri": "https://localhost:8080/"
        },
        "id": "MgN3HAqDjEmL",
        "outputId": "20c5a1cb-5b2b-4415-e8ff-97d438269780"
      },
      "source": [
        "convert('10')"
      ],
      "execution_count": null,
      "outputs": [
        {
          "output_type": "stream",
          "name": "stdout",
          "text": [
            "10\n",
            "예외가 발생하지 않으면 실행\n",
            "예외 유무와 상관없이 마지막에 항상 무조건 실행\n"
          ]
        }
      ]
    },
    {
      "cell_type": "code",
      "metadata": {
        "colab": {
          "base_uri": "https://localhost:8080/"
        },
        "id": "LixF8vtijYMa",
        "outputId": "9eff0f62-726a-4429-ac26-2e19ba235033"
      },
      "source": [
        "convert('a')"
      ],
      "execution_count": null,
      "outputs": [
        {
          "output_type": "stream",
          "name": "stdout",
          "text": [
            "ValueError invalid literal for int() with base 10: 'a'\n",
            "예외 유무와 상관없이 마지막에 항상 무조건 실행\n"
          ]
        }
      ]
    },
    {
      "cell_type": "markdown",
      "metadata": {
        "id": "fZ50bEewkX-y"
      },
      "source": [
        "### 예외를 응용하는 경우\n",
        "- 파이썬은 `EOF`도 예외로 처리 합니다. \n",
        "  - `EOL` ( End Of Line ) => 라인의 끝 (\\n)\n",
        "  - `EOF` ( End Of File )\n",
        "  - 파일의 가장 마지막에 들어가는 문자\n",
        "  - 입력이 끝을 표현 하는 경우\n",
        "\n",
        "- 파이썬은 EOF를 처리하지 못합니다. \n",
        "  - 입력의 끝을 알 수 없습니다. \n",
        "  - 예외로 처리\n",
        "  - windows: ctrl + z\n",
        "  - linux, max: ctrl + d"
      ]
    },
    {
      "cell_type": "code",
      "metadata": {
        "colab": {
          "base_uri": "https://localhost:8080/",
          "height": 555
        },
        "id": "pKDI0Ilskb8M",
        "outputId": "55c547b4-33b6-4f46-c749-e8161dda0e2a"
      },
      "source": [
        "while True:\n",
        "  # 표준입력을 받는 함수\n",
        "  # input은 키보드로 한 라인을 입력\n",
        "  read = input()\n",
        "  print( read )"
      ],
      "execution_count": null,
      "outputs": [
        {
          "name": "stdout",
          "output_type": "stream",
          "text": [
            "hello\n",
            "hello\n",
            "python\n",
            "python\n",
            "무한히 입력\n",
            "무한히 입력\n",
            "또 입력\n",
            "또 입력\n",
            "그럼 이걸 언제까지 입력?\n",
            "그럼 이걸 언제까지 입력?\n",
            "\u0004\n"
          ]
        },
        {
          "output_type": "error",
          "ename": "EOFError",
          "evalue": "ignored",
          "traceback": [
            "\u001b[0;31m---------------------------------------------------------------------------\u001b[0m",
            "\u001b[0;31mEOFError\u001b[0m                                  Traceback (most recent call last)",
            "\u001b[0;32m<ipython-input-45-9f5f8863c027>\u001b[0m in \u001b[0;36m<module>\u001b[0;34m()\u001b[0m\n\u001b[1;32m      2\u001b[0m   \u001b[0;31m# 표준입력을 받는 함수\u001b[0m\u001b[0;34m\u001b[0m\u001b[0;34m\u001b[0m\u001b[0;34m\u001b[0m\u001b[0m\n\u001b[1;32m      3\u001b[0m   \u001b[0;31m# input은 키보드로 한 라인을 입력\u001b[0m\u001b[0;34m\u001b[0m\u001b[0;34m\u001b[0m\u001b[0;34m\u001b[0m\u001b[0m\n\u001b[0;32m----> 4\u001b[0;31m   \u001b[0mread\u001b[0m \u001b[0;34m=\u001b[0m \u001b[0minput\u001b[0m\u001b[0;34m(\u001b[0m\u001b[0;34m)\u001b[0m\u001b[0;34m\u001b[0m\u001b[0;34m\u001b[0m\u001b[0m\n\u001b[0m\u001b[1;32m      5\u001b[0m   \u001b[0mprint\u001b[0m\u001b[0;34m(\u001b[0m \u001b[0mread\u001b[0m \u001b[0;34m)\u001b[0m\u001b[0;34m\u001b[0m\u001b[0;34m\u001b[0m\u001b[0m\n",
            "\u001b[0;32m/usr/local/lib/python3.7/dist-packages/ipykernel/kernelbase.py\u001b[0m in \u001b[0;36mraw_input\u001b[0;34m(self, prompt)\u001b[0m\n\u001b[1;32m    702\u001b[0m             \u001b[0mself\u001b[0m\u001b[0;34m.\u001b[0m\u001b[0m_parent_ident\u001b[0m\u001b[0;34m,\u001b[0m\u001b[0;34m\u001b[0m\u001b[0;34m\u001b[0m\u001b[0m\n\u001b[1;32m    703\u001b[0m             \u001b[0mself\u001b[0m\u001b[0;34m.\u001b[0m\u001b[0m_parent_header\u001b[0m\u001b[0;34m,\u001b[0m\u001b[0;34m\u001b[0m\u001b[0;34m\u001b[0m\u001b[0m\n\u001b[0;32m--> 704\u001b[0;31m             \u001b[0mpassword\u001b[0m\u001b[0;34m=\u001b[0m\u001b[0;32mFalse\u001b[0m\u001b[0;34m,\u001b[0m\u001b[0;34m\u001b[0m\u001b[0;34m\u001b[0m\u001b[0m\n\u001b[0m\u001b[1;32m    705\u001b[0m         )\n\u001b[1;32m    706\u001b[0m \u001b[0;34m\u001b[0m\u001b[0m\n",
            "\u001b[0;32m/usr/local/lib/python3.7/dist-packages/ipykernel/kernelbase.py\u001b[0m in \u001b[0;36m_input_request\u001b[0;34m(self, prompt, ident, parent, password)\u001b[0m\n\u001b[1;32m    742\u001b[0m         \u001b[0;32mif\u001b[0m \u001b[0mvalue\u001b[0m \u001b[0;34m==\u001b[0m \u001b[0;34m'\\x04'\u001b[0m\u001b[0;34m:\u001b[0m\u001b[0;34m\u001b[0m\u001b[0;34m\u001b[0m\u001b[0m\n\u001b[1;32m    743\u001b[0m             \u001b[0;31m# EOF\u001b[0m\u001b[0;34m\u001b[0m\u001b[0;34m\u001b[0m\u001b[0;34m\u001b[0m\u001b[0m\n\u001b[0;32m--> 744\u001b[0;31m             \u001b[0;32mraise\u001b[0m \u001b[0mEOFError\u001b[0m\u001b[0;34m\u001b[0m\u001b[0;34m\u001b[0m\u001b[0m\n\u001b[0m\u001b[1;32m    745\u001b[0m         \u001b[0;32mreturn\u001b[0m \u001b[0mvalue\u001b[0m\u001b[0;34m\u001b[0m\u001b[0;34m\u001b[0m\u001b[0m\n\u001b[1;32m    746\u001b[0m \u001b[0;34m\u001b[0m\u001b[0m\n",
            "\u001b[0;31mEOFError\u001b[0m: "
          ]
        }
      ]
    },
    {
      "cell_type": "code",
      "metadata": {
        "colab": {
          "base_uri": "https://localhost:8080/",
          "height": 537
        },
        "id": "LwV5Vy72lSGp",
        "outputId": "abf96ce4-4b03-4ee1-9667-c088f8692a10"
      },
      "source": [
        "while True:\n",
        "  try:\n",
        "    read = input()\n",
        "  except EOFError:\n",
        "    break\n",
        "  print( read )"
      ],
      "execution_count": null,
      "outputs": [
        {
          "output_type": "error",
          "ename": "KeyboardInterrupt",
          "evalue": "ignored",
          "traceback": [
            "\u001b[0;31m---------------------------------------------------------------------------\u001b[0m",
            "\u001b[0;31mKeyboardInterrupt\u001b[0m                         Traceback (most recent call last)",
            "\u001b[0;32m/usr/local/lib/python3.7/dist-packages/ipykernel/kernelbase.py\u001b[0m in \u001b[0;36m_input_request\u001b[0;34m(self, prompt, ident, parent, password)\u001b[0m\n\u001b[1;32m    728\u001b[0m             \u001b[0;32mtry\u001b[0m\u001b[0;34m:\u001b[0m\u001b[0;34m\u001b[0m\u001b[0;34m\u001b[0m\u001b[0m\n\u001b[0;32m--> 729\u001b[0;31m                 \u001b[0mident\u001b[0m\u001b[0;34m,\u001b[0m \u001b[0mreply\u001b[0m \u001b[0;34m=\u001b[0m \u001b[0mself\u001b[0m\u001b[0;34m.\u001b[0m\u001b[0msession\u001b[0m\u001b[0;34m.\u001b[0m\u001b[0mrecv\u001b[0m\u001b[0;34m(\u001b[0m\u001b[0mself\u001b[0m\u001b[0;34m.\u001b[0m\u001b[0mstdin_socket\u001b[0m\u001b[0;34m,\u001b[0m \u001b[0;36m0\u001b[0m\u001b[0;34m)\u001b[0m\u001b[0;34m\u001b[0m\u001b[0;34m\u001b[0m\u001b[0m\n\u001b[0m\u001b[1;32m    730\u001b[0m             \u001b[0;32mexcept\u001b[0m \u001b[0mException\u001b[0m\u001b[0;34m:\u001b[0m\u001b[0;34m\u001b[0m\u001b[0;34m\u001b[0m\u001b[0m\n",
            "\u001b[0;32m/usr/local/lib/python3.7/dist-packages/jupyter_client/session.py\u001b[0m in \u001b[0;36mrecv\u001b[0;34m(self, socket, mode, content, copy)\u001b[0m\n\u001b[1;32m    802\u001b[0m         \u001b[0;32mtry\u001b[0m\u001b[0;34m:\u001b[0m\u001b[0;34m\u001b[0m\u001b[0;34m\u001b[0m\u001b[0m\n\u001b[0;32m--> 803\u001b[0;31m             \u001b[0mmsg_list\u001b[0m \u001b[0;34m=\u001b[0m \u001b[0msocket\u001b[0m\u001b[0;34m.\u001b[0m\u001b[0mrecv_multipart\u001b[0m\u001b[0;34m(\u001b[0m\u001b[0mmode\u001b[0m\u001b[0;34m,\u001b[0m \u001b[0mcopy\u001b[0m\u001b[0;34m=\u001b[0m\u001b[0mcopy\u001b[0m\u001b[0;34m)\u001b[0m\u001b[0;34m\u001b[0m\u001b[0;34m\u001b[0m\u001b[0m\n\u001b[0m\u001b[1;32m    804\u001b[0m         \u001b[0;32mexcept\u001b[0m \u001b[0mzmq\u001b[0m\u001b[0;34m.\u001b[0m\u001b[0mZMQError\u001b[0m \u001b[0;32mas\u001b[0m \u001b[0me\u001b[0m\u001b[0;34m:\u001b[0m\u001b[0;34m\u001b[0m\u001b[0;34m\u001b[0m\u001b[0m\n",
            "\u001b[0;32m/usr/local/lib/python3.7/dist-packages/zmq/sugar/socket.py\u001b[0m in \u001b[0;36mrecv_multipart\u001b[0;34m(self, flags, copy, track)\u001b[0m\n\u001b[1;32m    624\u001b[0m         \"\"\"\n\u001b[0;32m--> 625\u001b[0;31m         \u001b[0mparts\u001b[0m \u001b[0;34m=\u001b[0m \u001b[0;34m[\u001b[0m\u001b[0mself\u001b[0m\u001b[0;34m.\u001b[0m\u001b[0mrecv\u001b[0m\u001b[0;34m(\u001b[0m\u001b[0mflags\u001b[0m\u001b[0;34m,\u001b[0m \u001b[0mcopy\u001b[0m\u001b[0;34m=\u001b[0m\u001b[0mcopy\u001b[0m\u001b[0;34m,\u001b[0m \u001b[0mtrack\u001b[0m\u001b[0;34m=\u001b[0m\u001b[0mtrack\u001b[0m\u001b[0;34m)\u001b[0m\u001b[0;34m]\u001b[0m\u001b[0;34m\u001b[0m\u001b[0;34m\u001b[0m\u001b[0m\n\u001b[0m\u001b[1;32m    626\u001b[0m         \u001b[0;31m# have first part already, only loop while more to receive\u001b[0m\u001b[0;34m\u001b[0m\u001b[0;34m\u001b[0m\u001b[0;34m\u001b[0m\u001b[0m\n",
            "\u001b[0;32mzmq/backend/cython/socket.pyx\u001b[0m in \u001b[0;36mzmq.backend.cython.socket.Socket.recv\u001b[0;34m()\u001b[0m\n",
            "\u001b[0;32mzmq/backend/cython/socket.pyx\u001b[0m in \u001b[0;36mzmq.backend.cython.socket.Socket.recv\u001b[0;34m()\u001b[0m\n",
            "\u001b[0;32mzmq/backend/cython/socket.pyx\u001b[0m in \u001b[0;36mzmq.backend.cython.socket._recv_copy\u001b[0;34m()\u001b[0m\n",
            "\u001b[0;32m/usr/local/lib/python3.7/dist-packages/zmq/backend/cython/checkrc.pxd\u001b[0m in \u001b[0;36mzmq.backend.cython.checkrc._check_rc\u001b[0;34m()\u001b[0m\n",
            "\u001b[0;31mKeyboardInterrupt\u001b[0m: ",
            "\nDuring handling of the above exception, another exception occurred:\n",
            "\u001b[0;31mKeyboardInterrupt\u001b[0m                         Traceback (most recent call last)",
            "\u001b[0;32m<ipython-input-47-e9adf33b3ec9>\u001b[0m in \u001b[0;36m<module>\u001b[0;34m()\u001b[0m\n\u001b[1;32m      1\u001b[0m \u001b[0;32mwhile\u001b[0m \u001b[0;32mTrue\u001b[0m\u001b[0;34m:\u001b[0m\u001b[0;34m\u001b[0m\u001b[0;34m\u001b[0m\u001b[0m\n\u001b[1;32m      2\u001b[0m   \u001b[0;32mtry\u001b[0m\u001b[0;34m:\u001b[0m\u001b[0;34m\u001b[0m\u001b[0;34m\u001b[0m\u001b[0m\n\u001b[0;32m----> 3\u001b[0;31m     \u001b[0mread\u001b[0m \u001b[0;34m=\u001b[0m \u001b[0minput\u001b[0m\u001b[0;34m(\u001b[0m\u001b[0;34m)\u001b[0m\u001b[0;34m\u001b[0m\u001b[0;34m\u001b[0m\u001b[0m\n\u001b[0m\u001b[1;32m      4\u001b[0m   \u001b[0;32mexcept\u001b[0m \u001b[0mEOFError\u001b[0m\u001b[0;34m:\u001b[0m\u001b[0;34m\u001b[0m\u001b[0;34m\u001b[0m\u001b[0m\n\u001b[1;32m      5\u001b[0m     \u001b[0;32mbreak\u001b[0m\u001b[0;34m\u001b[0m\u001b[0;34m\u001b[0m\u001b[0m\n",
            "\u001b[0;32m/usr/local/lib/python3.7/dist-packages/ipykernel/kernelbase.py\u001b[0m in \u001b[0;36mraw_input\u001b[0;34m(self, prompt)\u001b[0m\n\u001b[1;32m    702\u001b[0m             \u001b[0mself\u001b[0m\u001b[0;34m.\u001b[0m\u001b[0m_parent_ident\u001b[0m\u001b[0;34m,\u001b[0m\u001b[0;34m\u001b[0m\u001b[0;34m\u001b[0m\u001b[0m\n\u001b[1;32m    703\u001b[0m             \u001b[0mself\u001b[0m\u001b[0;34m.\u001b[0m\u001b[0m_parent_header\u001b[0m\u001b[0;34m,\u001b[0m\u001b[0;34m\u001b[0m\u001b[0;34m\u001b[0m\u001b[0m\n\u001b[0;32m--> 704\u001b[0;31m             \u001b[0mpassword\u001b[0m\u001b[0;34m=\u001b[0m\u001b[0;32mFalse\u001b[0m\u001b[0;34m,\u001b[0m\u001b[0;34m\u001b[0m\u001b[0;34m\u001b[0m\u001b[0m\n\u001b[0m\u001b[1;32m    705\u001b[0m         )\n\u001b[1;32m    706\u001b[0m \u001b[0;34m\u001b[0m\u001b[0m\n",
            "\u001b[0;32m/usr/local/lib/python3.7/dist-packages/ipykernel/kernelbase.py\u001b[0m in \u001b[0;36m_input_request\u001b[0;34m(self, prompt, ident, parent, password)\u001b[0m\n\u001b[1;32m    732\u001b[0m             \u001b[0;32mexcept\u001b[0m \u001b[0mKeyboardInterrupt\u001b[0m\u001b[0;34m:\u001b[0m\u001b[0;34m\u001b[0m\u001b[0;34m\u001b[0m\u001b[0m\n\u001b[1;32m    733\u001b[0m                 \u001b[0;31m# re-raise KeyboardInterrupt, to truncate traceback\u001b[0m\u001b[0;34m\u001b[0m\u001b[0;34m\u001b[0m\u001b[0;34m\u001b[0m\u001b[0m\n\u001b[0;32m--> 734\u001b[0;31m                 \u001b[0;32mraise\u001b[0m \u001b[0mKeyboardInterrupt\u001b[0m\u001b[0;34m\u001b[0m\u001b[0;34m\u001b[0m\u001b[0m\n\u001b[0m\u001b[1;32m    735\u001b[0m             \u001b[0;32melse\u001b[0m\u001b[0;34m:\u001b[0m\u001b[0;34m\u001b[0m\u001b[0;34m\u001b[0m\u001b[0m\n\u001b[1;32m    736\u001b[0m                 \u001b[0;32mbreak\u001b[0m\u001b[0;34m\u001b[0m\u001b[0;34m\u001b[0m\u001b[0m\n",
            "\u001b[0;31mKeyboardInterrupt\u001b[0m: "
          ]
        }
      ]
    },
    {
      "cell_type": "markdown",
      "metadata": {
        "id": "gFtxjP0znrKc"
      },
      "source": [
        "### 처리되지 않은 예외\n",
        "- 모든 예외를 전부 처리할 수 있지 않습니다. \n",
        "- 예외도 여러가지 종류가 있습니다. \n",
        "  - 에러도 예외의 한 종류 입니다.\n",
        "  - 경고, 인터럽트, 등 여러 종류의 예외가 존재\n",
        "  - 에러는 여러가지 예외들 중에서도 프로그램 실행에 영향을 줄 만큼 심각한 오류\n",
        "- 에러도 여러가지 종류가 있습니다. \n",
        "  1. 컴파일 에러\n",
        "    - 파이썬은 컴파일 과정이 없고 인터프리트 방식으로 동작 \n",
        "    - 파이썬 에서는 컴파일이 아닌, 인터프리트 과정에서 발생하는 에러\n",
        "    - REPL 과정에서 Read => Evaluation 사이에 번역이 이루어 지는데, 그때 발생하는 에러\n",
        "    - 문법적인 오류등은 이 과정에서 발생\n",
        "    - 예외처리가 되지 않습니다. \n",
        "\n",
        "  2. 런타임 에러\n",
        "    - 프로그램을 실행중(프로세스)인 상태에서 발생하는 에러\n",
        "    - 번역은 끝난 상태에서(문법적인 오류는 없는 상태) 실행하는 도중에 문제가 발생하는 경우\n",
        "    - 파이썬 Evaluation 과정에서 발생하는 오류"
      ]
    },
    {
      "cell_type": "code",
      "metadata": {
        "colab": {
          "base_uri": "https://localhost:8080/",
          "height": 131
        },
        "id": "wy7SlXM9n7bW",
        "outputId": "d7e50740-cb4f-40b3-ddc4-400da51f0382"
      },
      "source": [
        "# SyntexError\n",
        "try:\n",
        "  print('hello python)\n",
        "except Exception as e:\n",
        "  print(e)"
      ],
      "execution_count": null,
      "outputs": [
        {
          "output_type": "error",
          "ename": "SyntaxError",
          "evalue": "ignored",
          "traceback": [
            "\u001b[0;36m  File \u001b[0;32m\"<ipython-input-48-6c522f015bd1>\"\u001b[0;36m, line \u001b[0;32m3\u001b[0m\n\u001b[0;31m    print('hello python)\u001b[0m\n\u001b[0m                        ^\u001b[0m\n\u001b[0;31mSyntaxError\u001b[0m\u001b[0;31m:\u001b[0m EOL while scanning string literal\n"
          ]
        }
      ]
    },
    {
      "cell_type": "code",
      "metadata": {
        "colab": {
          "base_uri": "https://localhost:8080/",
          "height": 131
        },
        "id": "85jSzxNtpI7X",
        "outputId": "f799a357-906d-4365-848d-ba7d8f25c46f"
      },
      "source": [
        "# IndentationError 또한 컴파일 에러의 한 종류 입니다. \n",
        "try:\n",
        "  print('hello')\n",
        "   print('python')\n",
        "except Exception as e:\n",
        "  print(e)"
      ],
      "execution_count": null,
      "outputs": [
        {
          "output_type": "error",
          "ename": "IndentationError",
          "evalue": "ignored",
          "traceback": [
            "\u001b[0;36m  File \u001b[0;32m\"<ipython-input-49-4d8217172a5d>\"\u001b[0;36m, line \u001b[0;32m4\u001b[0m\n\u001b[0;31m    print('python')\u001b[0m\n\u001b[0m    ^\u001b[0m\n\u001b[0;31mIndentationError\u001b[0m\u001b[0;31m:\u001b[0m unexpected indent\n"
          ]
        }
      ]
    },
    {
      "cell_type": "markdown",
      "metadata": {
        "id": "QOmeSXIbu6tx"
      },
      "source": [
        "# 문자열 메소드\n",
        "- 파이썬에서 제공하는 문자열과 관련된 기능들은 진짜 많습니다. \n",
        "- [파이썬 공식 문자열 레퍼런스](https://docs.python.org/ko/3/library/stdtypes.html#text-sequence-type-str)\n",
        "- 자주 사용되는 문자열 메소드\n",
        "  - split()\n",
        "  - replace()\n",
        "  - strip()\n",
        "  - join()\n",
        "  - format()"
      ]
    },
    {
      "cell_type": "markdown",
      "metadata": {
        "id": "SfrbQfL-vbxs"
      },
      "source": [
        "## split\n",
        "- 문자열을 분할 한다고 보면 됩니다. \n",
        "- 기준?\n",
        "  - 화이트 스페이스 => 문자열에서 단어를 구분하는 기준\n",
        "  - 공백, 탭, 뉴라인\n",
        "  - split은 기본적으로 화이트 스페이스 기준으로 분할\n",
        "\n",
        "- 클래스 내부 구현은 알 필요가 없습니다.\n",
        "- 메소드를 호출하는데 필요한 객체의 타입과 메소드의 파라미터만 알고 있으면 사용할 수 있습니다.\n",
        "\n",
        "```\n",
        " str.split(sep=None, maxsplit=- 1)\n",
        "```"
      ]
    },
    {
      "cell_type": "code",
      "metadata": {
        "colab": {
          "base_uri": "https://localhost:8080/",
          "height": 35
        },
        "id": "NUyCF0iqvNQY",
        "outputId": "85d2d8d4-fd20-4499-fec8-10713fcdb3b5"
      },
      "source": [
        "strs = 'Lorem ipsum dolor sit amet'\n",
        "strs"
      ],
      "execution_count": null,
      "outputs": [
        {
          "output_type": "execute_result",
          "data": {
            "application/vnd.google.colaboratory.intrinsic+json": {
              "type": "string"
            },
            "text/plain": [
              "'Lorem ipsum dolor sit amet'"
            ]
          },
          "metadata": {},
          "execution_count": 51
        }
      ]
    },
    {
      "cell_type": "code",
      "metadata": {
        "colab": {
          "base_uri": "https://localhost:8080/"
        },
        "id": "TnC6f7HDvuMy",
        "outputId": "80c94df0-379a-45ea-bc48-d9b07415850e"
      },
      "source": [
        "strs.split()"
      ],
      "execution_count": null,
      "outputs": [
        {
          "output_type": "execute_result",
          "data": {
            "text/plain": [
              "['Lorem', 'ipsum', 'dolor', 'sit', 'amet']"
            ]
          },
          "metadata": {},
          "execution_count": 52
        }
      ]
    },
    {
      "cell_type": "code",
      "metadata": {
        "colab": {
          "base_uri": "https://localhost:8080/",
          "height": 35
        },
        "id": "vGf2As10xKKb",
        "outputId": "f4720e2f-21c9-4ab7-cd7c-52078bf0d3a7"
      },
      "source": [
        "strs = 'Lorem/ipsum/dolor/sit/amet'\n",
        "strs"
      ],
      "execution_count": null,
      "outputs": [
        {
          "output_type": "execute_result",
          "data": {
            "application/vnd.google.colaboratory.intrinsic+json": {
              "type": "string"
            },
            "text/plain": [
              "'Lorem/ipsum/dolor/sit/amet'"
            ]
          },
          "metadata": {},
          "execution_count": 53
        }
      ]
    },
    {
      "cell_type": "code",
      "metadata": {
        "colab": {
          "base_uri": "https://localhost:8080/"
        },
        "id": "H3cj3gxCxMnW",
        "outputId": "690b99f6-0aac-4f1e-ea1e-285c380a9e5c"
      },
      "source": [
        "strs.split('/')"
      ],
      "execution_count": null,
      "outputs": [
        {
          "output_type": "execute_result",
          "data": {
            "text/plain": [
              "['Lorem', 'ipsum', 'dolor', 'sit', 'amet']"
            ]
          },
          "metadata": {},
          "execution_count": 55
        }
      ]
    },
    {
      "cell_type": "code",
      "metadata": {
        "colab": {
          "base_uri": "https://localhost:8080/"
        },
        "id": "gsJNG-NByT6S",
        "outputId": "260f7f10-356a-47b3-9eed-d37fbe444eb3"
      },
      "source": [
        "strs.split('/', 2)"
      ],
      "execution_count": null,
      "outputs": [
        {
          "output_type": "execute_result",
          "data": {
            "text/plain": [
              "['Lorem', 'ipsum', 'dolor/sit/amet']"
            ]
          },
          "metadata": {},
          "execution_count": 56
        }
      ]
    },
    {
      "cell_type": "code",
      "metadata": {
        "colab": {
          "base_uri": "https://localhost:8080/",
          "height": 166
        },
        "id": "AkR7WsLPyWXp",
        "outputId": "f76a85a6-aeda-419b-a886-8075973de6e3"
      },
      "source": [
        "strs.split(2, '/')"
      ],
      "execution_count": null,
      "outputs": [
        {
          "output_type": "error",
          "ename": "TypeError",
          "evalue": "ignored",
          "traceback": [
            "\u001b[0;31m---------------------------------------------------------------------------\u001b[0m",
            "\u001b[0;31mTypeError\u001b[0m                                 Traceback (most recent call last)",
            "\u001b[0;32m<ipython-input-57-69f0a74141be>\u001b[0m in \u001b[0;36m<module>\u001b[0;34m()\u001b[0m\n\u001b[0;32m----> 1\u001b[0;31m \u001b[0mstrs\u001b[0m\u001b[0;34m.\u001b[0m\u001b[0msplit\u001b[0m\u001b[0;34m(\u001b[0m\u001b[0;36m2\u001b[0m\u001b[0;34m,\u001b[0m \u001b[0;34m'/'\u001b[0m\u001b[0;34m)\u001b[0m\u001b[0;34m\u001b[0m\u001b[0;34m\u001b[0m\u001b[0m\n\u001b[0m",
            "\u001b[0;31mTypeError\u001b[0m: 'str' object cannot be interpreted as an integer"
          ]
        }
      ]
    },
    {
      "cell_type": "code",
      "metadata": {
        "colab": {
          "base_uri": "https://localhost:8080/"
        },
        "id": "fwaFfHzPym0V",
        "outputId": "418b6765-a784-42d0-82a7-6514c4646204"
      },
      "source": [
        "# 전달 하려는 매개변수의 이름을 같이 입력하면,\n",
        "# 순서가 바뀌어도 상관이 없습니다. \n",
        "strs.split( maxsplit=2, sep='/' )"
      ],
      "execution_count": null,
      "outputs": [
        {
          "output_type": "execute_result",
          "data": {
            "text/plain": [
              "['Lorem', 'ipsum', 'dolor/sit/amet']"
            ]
          },
          "metadata": {},
          "execution_count": 59
        }
      ]
    },
    {
      "cell_type": "code",
      "metadata": {
        "colab": {
          "base_uri": "https://localhost:8080/",
          "height": 35
        },
        "id": "n2Rcu8YuyvZn",
        "outputId": "2b98e56e-222c-4181-d582-4f74d33b4cb5"
      },
      "source": [
        "# 화이트 스페이스\n",
        "strs = 'Lorem\\tipsum dolor\\nsit    amet'\n",
        "strs"
      ],
      "execution_count": null,
      "outputs": [
        {
          "output_type": "execute_result",
          "data": {
            "application/vnd.google.colaboratory.intrinsic+json": {
              "type": "string"
            },
            "text/plain": [
              "'Lorem\\tipsum dolor\\nsit    amet'"
            ]
          },
          "metadata": {},
          "execution_count": 60
        }
      ]
    },
    {
      "cell_type": "code",
      "metadata": {
        "colab": {
          "base_uri": "https://localhost:8080/"
        },
        "id": "7OkKm4zmzS8z",
        "outputId": "4f2db387-5805-46a4-a8bd-94823695cb94"
      },
      "source": [
        "strs.split()"
      ],
      "execution_count": null,
      "outputs": [
        {
          "output_type": "execute_result",
          "data": {
            "text/plain": [
              "['Lorem', 'ipsum', 'dolor', 'sit', 'amet']"
            ]
          },
          "metadata": {},
          "execution_count": 61
        }
      ]
    },
    {
      "cell_type": "markdown",
      "metadata": {
        "id": "ajsFLvBPzq_R"
      },
      "source": [
        "## replace\n",
        "- 문자열 치환\n",
        "  - 조건에 맞는 문자열을 치환\n",
        "  - 메모장에서 바꾸기 기능과 같은 기능 입니다. \n",
        "\n",
        "```\n",
        "str.replace(old, new[, count])\n",
        "```"
      ]
    },
    {
      "cell_type": "code",
      "metadata": {
        "colab": {
          "base_uri": "https://localhost:8080/",
          "height": 35
        },
        "id": "wSZlBGUxzxAD",
        "outputId": "b0cdf5fc-0e21-4901-9e81-4a1cb5d3c764"
      },
      "source": [
        "strs = 'Lorem ipsum dolor sit amet'\n",
        "strs"
      ],
      "execution_count": null,
      "outputs": [
        {
          "output_type": "execute_result",
          "data": {
            "application/vnd.google.colaboratory.intrinsic+json": {
              "type": "string"
            },
            "text/plain": [
              "'Lorem ipsum dolor sit amet'"
            ]
          },
          "metadata": {},
          "execution_count": 62
        }
      ]
    },
    {
      "cell_type": "code",
      "metadata": {
        "colab": {
          "base_uri": "https://localhost:8080/",
          "height": 35
        },
        "id": "p2P01bNP0BHh",
        "outputId": "4c041365-eb81-4cd9-c77a-557cc797cff8"
      },
      "source": [
        "strs.replace('Lorem', 'A')"
      ],
      "execution_count": null,
      "outputs": [
        {
          "output_type": "execute_result",
          "data": {
            "application/vnd.google.colaboratory.intrinsic+json": {
              "type": "string"
            },
            "text/plain": [
              "'A ipsum dolor sit amet'"
            ]
          },
          "metadata": {},
          "execution_count": 64
        }
      ]
    },
    {
      "cell_type": "markdown",
      "metadata": {
        "id": "ngVGuZhK1E0m"
      },
      "source": [
        "## strip\n",
        "- 문자열의 앞, 뒤에 존재하는 화이트 스페이스를 전부 제거\n",
        "  - 문자열의 마지막에 뉴라인의 존재 여부\n",
        "  - 불필요한 문자들은 전부 제거 할 수 있다.\n",
        "  - 문자열 중간에 있는 화이트 스페이스는 제거되지 않습니다\n",
        "\n",
        "- 메소드의 원형\n",
        "```\n",
        "str.strip([chars])\n",
        "```"
      ]
    },
    {
      "cell_type": "code",
      "metadata": {
        "colab": {
          "base_uri": "https://localhost:8080/",
          "height": 35
        },
        "id": "KBVUnZ0Z1UMK",
        "outputId": "0bb178fb-47b0-4963-f79a-9ab8c7121b08"
      },
      "source": [
        "strs = '     \\n    \\t     ABCD\\nEFGH        \\n    \\t'\n",
        "strs"
      ],
      "execution_count": null,
      "outputs": [
        {
          "output_type": "execute_result",
          "data": {
            "application/vnd.google.colaboratory.intrinsic+json": {
              "type": "string"
            },
            "text/plain": [
              "'     \\n    \\t     ABCD\\nEFGH        \\n    \\t'"
            ]
          },
          "metadata": {},
          "execution_count": 66
        }
      ]
    },
    {
      "cell_type": "code",
      "metadata": {
        "colab": {
          "base_uri": "https://localhost:8080/",
          "height": 35
        },
        "id": "2vX3zyZo1sEi",
        "outputId": "fa3e222c-689a-4e20-a865-e3b793e6ce50"
      },
      "source": [
        "strs.strip()"
      ],
      "execution_count": null,
      "outputs": [
        {
          "output_type": "execute_result",
          "data": {
            "application/vnd.google.colaboratory.intrinsic+json": {
              "type": "string"
            },
            "text/plain": [
              "'ABCD\\nEFGH'"
            ]
          },
          "metadata": {},
          "execution_count": 68
        }
      ]
    },
    {
      "cell_type": "code",
      "metadata": {
        "colab": {
          "base_uri": "https://localhost:8080/"
        },
        "id": "-8eVWKMZ2rGs",
        "outputId": "6bbe55ce-17ce-4f7f-dbaf-227310b44fc8"
      },
      "source": [
        "help(str.strip)"
      ],
      "execution_count": null,
      "outputs": [
        {
          "output_type": "stream",
          "name": "stdout",
          "text": [
            "Help on method_descriptor:\n",
            "\n",
            "strip(self, chars=None, /)\n",
            "    Return a copy of the string with leading and trailing whitespace removed.\n",
            "    \n",
            "    If chars is given and not None, remove characters in chars instead.\n",
            "\n"
          ]
        }
      ]
    },
    {
      "cell_type": "markdown",
      "metadata": {
        "id": "Vo09ptuE3GRJ"
      },
      "source": [
        "## join\n",
        "- 여러개의 문자열을 하나의 문자열로 합쳐서 새로운 문자열을 돌려줍니다. \n",
        "  - 여러개의 문자열은 반복가능한 객체여야 합니다. \n",
        "\n",
        "- 메소드의 원형\n",
        "```\n",
        "str.join(iterable)\n",
        "```"
      ]
    },
    {
      "cell_type": "code",
      "metadata": {
        "colab": {
          "base_uri": "https://localhost:8080/",
          "height": 35
        },
        "id": "wpYNYECm3TRD",
        "outputId": "c58445b1-63f3-402d-aae9-7e5c19f88ef6"
      },
      "source": [
        "''.join( ['Lorem', 'ipsum', 'dolor', 'sit', 'amet'] )"
      ],
      "execution_count": null,
      "outputs": [
        {
          "output_type": "execute_result",
          "data": {
            "application/vnd.google.colaboratory.intrinsic+json": {
              "type": "string"
            },
            "text/plain": [
              "'Loremipsumdolorsitamet'"
            ]
          },
          "metadata": {},
          "execution_count": 74
        }
      ]
    },
    {
      "cell_type": "code",
      "metadata": {
        "colab": {
          "base_uri": "https://localhost:8080/",
          "height": 35
        },
        "id": "rbvbMCf53ecl",
        "outputId": "96678305-ecf9-4d93-bafb-4e4172ef0006"
      },
      "source": [
        "' '.join( ['Lorem', 'ipsum', 'dolor', 'sit', 'amet'] )"
      ],
      "execution_count": null,
      "outputs": [
        {
          "output_type": "execute_result",
          "data": {
            "application/vnd.google.colaboratory.intrinsic+json": {
              "type": "string"
            },
            "text/plain": [
              "'Lorem ipsum dolor sit amet'"
            ]
          },
          "metadata": {},
          "execution_count": 75
        }
      ]
    },
    {
      "cell_type": "code",
      "metadata": {
        "colab": {
          "base_uri": "https://localhost:8080/",
          "height": 35
        },
        "id": "pW6jT0XB4XUB",
        "outputId": "34051576-a15d-450d-d4fa-457ab42b1b43"
      },
      "source": [
        "'   구분자    '.join( ['Lorem', 'ipsum', 'dolor', 'sit', 'amet'] )"
      ],
      "execution_count": null,
      "outputs": [
        {
          "output_type": "execute_result",
          "data": {
            "application/vnd.google.colaboratory.intrinsic+json": {
              "type": "string"
            },
            "text/plain": [
              "'Lorem   구분자   ipsum   구분자   dolor   구분자   sit   구분자   amet'"
            ]
          },
          "metadata": {},
          "execution_count": 76
        }
      ]
    },
    {
      "cell_type": "markdown",
      "metadata": {
        "id": "QTUa2uyzK180"
      },
      "source": [
        "## 출력 문자열 꾸미기\n",
        "- 출력하고 싶은 문자열을 꾸며볼 수 있습니다. \n",
        "  1. fstring\n",
        "  2. format"
      ]
    },
    {
      "cell_type": "code",
      "metadata": {
        "colab": {
          "base_uri": "https://localhost:8080/",
          "height": 35
        },
        "id": "6oNScl3xK8nJ",
        "outputId": "9f8ecc3f-4c5c-4a5c-ea1d-8bdb1b78c4e1"
      },
      "source": [
        "'The sum of 1 + 2 = 3'"
      ],
      "execution_count": null,
      "outputs": [
        {
          "output_type": "execute_result",
          "data": {
            "application/vnd.google.colaboratory.intrinsic+json": {
              "type": "string"
            },
            "text/plain": [
              "'The sum of 1 + 2 = 3'"
            ]
          },
          "metadata": {},
          "execution_count": 79
        }
      ]
    },
    {
      "cell_type": "markdown",
      "metadata": {
        "id": "fJasPwrILAOw"
      },
      "source": [
        "사실은 이렇게 출력 하고 싶지 않았을까요? \n",
        "- 연산의 결과를 문자열에 포함해서 출력하고 싶지 않았을까요?\n",
        "- 하지만 문자열 내에서는 연산을 할 수가 없습니다. "
      ]
    },
    {
      "cell_type": "code",
      "metadata": {
        "colab": {
          "base_uri": "https://localhost:8080/",
          "height": 35
        },
        "id": "NQtL35z7K-CC",
        "outputId": "9c03c646-c287-4c83-8500-ceab7aae20da"
      },
      "source": [
        "'The sum of 1 + 2 = 1 + 2'"
      ],
      "execution_count": null,
      "outputs": [
        {
          "output_type": "execute_result",
          "data": {
            "application/vnd.google.colaboratory.intrinsic+json": {
              "type": "string"
            },
            "text/plain": [
              "'The sum of 1 + 2 = 1 + 2'"
            ]
          },
          "metadata": {},
          "execution_count": 80
        }
      ]
    },
    {
      "cell_type": "markdown",
      "metadata": {
        "id": "-tLcTFIOLVO9"
      },
      "source": [
        "### fstring\n",
        "- 문자열 앞에 `f`를 붙여주면 됩니다. "
      ]
    },
    {
      "cell_type": "code",
      "metadata": {
        "colab": {
          "base_uri": "https://localhost:8080/",
          "height": 35
        },
        "id": "ps3WLCnQLWcL",
        "outputId": "6064ade3-5037-4b78-8455-c736c066b61b"
      },
      "source": [
        "f'이것은 fstring 입니다'"
      ],
      "execution_count": null,
      "outputs": [
        {
          "output_type": "execute_result",
          "data": {
            "application/vnd.google.colaboratory.intrinsic+json": {
              "type": "string"
            },
            "text/plain": [
              "'이것은 fstring 입니다'"
            ]
          },
          "metadata": {},
          "execution_count": 81
        }
      ]
    },
    {
      "cell_type": "code",
      "metadata": {
        "colab": {
          "base_uri": "https://localhost:8080/"
        },
        "id": "N0GsZoOALdC9",
        "outputId": "bf8db761-5308-4eb9-bb11-99253a6e5cfc"
      },
      "source": [
        "print( f'The sum of 1 + 2 = {1 + 2}' )"
      ],
      "execution_count": null,
      "outputs": [
        {
          "output_type": "stream",
          "name": "stdout",
          "text": [
            "The sum of 1 + 2 = 3\n"
          ]
        }
      ]
    },
    {
      "cell_type": "code",
      "metadata": {
        "colab": {
          "base_uri": "https://localhost:8080/"
        },
        "id": "o5zYPyoOMCTK",
        "outputId": "91ba90bb-506f-4287-bbc3-a0c896781829"
      },
      "source": [
        "a = 1\n",
        "b = 2\n",
        "add = a + b\n",
        "print( f'The sum of {a} + {b} = {add}' )"
      ],
      "execution_count": null,
      "outputs": [
        {
          "output_type": "stream",
          "name": "stdout",
          "text": [
            "The sum of 1 + 2 = 3\n"
          ]
        }
      ]
    },
    {
      "cell_type": "code",
      "metadata": {
        "colab": {
          "base_uri": "https://localhost:8080/"
        },
        "id": "UdWVAlXGMd4g",
        "outputId": "df2d787f-55e9-4db2-eb17-87b837dbd779"
      },
      "source": [
        "print( 'The sum of', a, '+', b, '=', add )"
      ],
      "execution_count": null,
      "outputs": [
        {
          "output_type": "stream",
          "name": "stdout",
          "text": [
            "The sum of 1 + 2 = 3\n"
          ]
        }
      ]
    },
    {
      "cell_type": "markdown",
      "metadata": {
        "id": "0haFZB8mMo-p"
      },
      "source": [
        "### format\n",
        "\n",
        "- 메소드의 원형\n",
        "```\n",
        "str.format(*args, **kwargs)\n",
        "```"
      ]
    },
    {
      "cell_type": "code",
      "metadata": {
        "colab": {
          "base_uri": "https://localhost:8080/",
          "height": 35
        },
        "id": "xBaXtthZMvf3",
        "outputId": "6c52d4ac-024e-4a20-c804-6eda779c9239"
      },
      "source": [
        "'The sum of 1 + 2 = {}'.format( 1 + 2 )"
      ],
      "execution_count": null,
      "outputs": [
        {
          "output_type": "execute_result",
          "data": {
            "application/vnd.google.colaboratory.intrinsic+json": {
              "type": "string"
            },
            "text/plain": [
              "'The sum of 1 + 2 = 3'"
            ]
          },
          "metadata": {},
          "execution_count": 86
        }
      ]
    },
    {
      "cell_type": "code",
      "metadata": {
        "colab": {
          "base_uri": "https://localhost:8080/"
        },
        "id": "ttW-fEVjNkRf",
        "outputId": "94788167-7942-43aa-efe9-3487abe0bc2e"
      },
      "source": [
        "a = 1\n",
        "b = 2\n",
        "add = a + b\n",
        "print( 'The sum of {} + {} = {}'.format(a, b, a + b) )"
      ],
      "execution_count": null,
      "outputs": [
        {
          "output_type": "stream",
          "name": "stdout",
          "text": [
            "The sum of 1 + 2 = 3\n"
          ]
        }
      ]
    },
    {
      "cell_type": "code",
      "metadata": {
        "colab": {
          "base_uri": "https://localhost:8080/"
        },
        "id": "wDvF9DsNOjsP",
        "outputId": "3cf48484-6007-4bc3-f20d-5eeac99e001e"
      },
      "source": [
        "# {}안에 들어가는 숫자는 format 매개변수의 순서를 의미 합니다. \n",
        "# 리스트의 인덱스 처럼 format의 첫 번째 매개변수가 0이 됩니다. \n",
        "a = 1\n",
        "b = 2\n",
        "add = a + b\n",
        "print( 'The sum of {0} + {1} = {2}'.format(a, b, a + b) )"
      ],
      "execution_count": null,
      "outputs": [
        {
          "output_type": "stream",
          "name": "stdout",
          "text": [
            "The sum of 1 + 2 = 3\n"
          ]
        }
      ]
    },
    {
      "cell_type": "code",
      "metadata": {
        "colab": {
          "base_uri": "https://localhost:8080/"
        },
        "id": "25-EwraKOxS0",
        "outputId": "f05637fa-bfca-475d-87a5-1957ec50ca81"
      },
      "source": [
        "# 출력되는 순서를 바꿔줄 수 있습니다. \n",
        "a = 1\n",
        "b = 2\n",
        "add = a + b\n",
        "print( 'The sum of {2} + {1} = {0}'.format(a, b, a + b) )"
      ],
      "execution_count": null,
      "outputs": [
        {
          "output_type": "stream",
          "name": "stdout",
          "text": [
            "The sum of 3 + 2 = 1\n"
          ]
        }
      ]
    },
    {
      "cell_type": "markdown",
      "metadata": {
        "id": "ADB9O228O1s8"
      },
      "source": [
        "# 입/출력\n",
        "- 파이썬 에서의 입/출력은 크게 3가지 정도가 있습니다. \n",
        "  1. 표준 입/출력\n",
        "  2. 파일 입/출력\n",
        "  3. 네트워크 통신(네트워크 장치를 통한 입/출력)\n",
        "    - 크롤링 수업 때, 간단하게만 확인\n",
        "    - 라이브러리를 사용할 거라서 간단하게만 다룹니다.\n",
        "    - 네트워크에 대한 사전지식이 필요합니다."
      ]
    },
    {
      "cell_type": "markdown",
      "metadata": {
        "id": "SZwJiB4rQGQb"
      },
      "source": [
        "## 표준 입/출력\n",
        "- `표준` 이라는 단어를 사용하고 있다는 것 자체가 입/출력이 정해져 있다는 의미로 해석\n",
        "  - 표준이란, 환경과 상관없이 언제나 동일한 입/출력을 할 수 있어야 합니다. \n",
        "  - 표준 입력장치 = 키보드 정도로 이해\n",
        "  - 표준 출력장치 = 모니터 정도로 이해"
      ]
    },
    {
      "cell_type": "markdown",
      "metadata": {
        "id": "vg3Hsb0yQwoc"
      },
      "source": [
        "### 표준 입력\n",
        "- 키보드로부터 입력을 받는 경우\n",
        "- input()함수를 통해서 표준 입력을 받을 수 있습니다.\n",
        "  - 블록 함수\n",
        "  - 사용자가 입력을 할 때까지 무한히 대기\n",
        "  - 입력의 끝은? \n",
        "    - 뉴라인(LF, \\n, 0x0a)\n",
        "    - EOF\n",
        "  - input()은 기본적으로 한 번에 한 라인을 입력\n",
        "\n",
        "- input()는 입력받은 내용을 `문자열` 형태로 돌려줍니다. \n",
        "  - 입력한 모든 내용은 문자열이 됩니다. \n",
        "    - 숫자나 문자열 이스케이프는 통하지 않습니다. \n",
        "  - 여러라인을 입력 받고 싶다면, input()을 라인수만큼 실행"
      ]
    },
    {
      "cell_type": "code",
      "metadata": {
        "colab": {
          "base_uri": "https://localhost:8080/",
          "height": 52
        },
        "id": "m7sF1ytTRh1U",
        "outputId": "951a9646-6326-45c2-feee-8dc9f5b4d688"
      },
      "source": [
        "input()"
      ],
      "execution_count": null,
      "outputs": [
        {
          "name": "stdout",
          "output_type": "stream",
          "text": [
            "문자를 입력해도 끝나지 않아요 ... \n"
          ]
        },
        {
          "output_type": "execute_result",
          "data": {
            "application/vnd.google.colaboratory.intrinsic+json": {
              "type": "string"
            },
            "text/plain": [
              "'문자를 입력해도 끝나지 않아요 ... '"
            ]
          },
          "metadata": {},
          "execution_count": 90
        }
      ]
    },
    {
      "cell_type": "code",
      "metadata": {
        "colab": {
          "base_uri": "https://localhost:8080/",
          "height": 52
        },
        "id": "2J48G6ovSN04",
        "outputId": "ae41e928-11ce-4b6b-9ef9-d0a28fde150e"
      },
      "source": [
        "# 숫자를 입력해도 문자열이 되요 \n",
        "# 숫자는 입력할 수 없습니다. \n",
        "input()"
      ],
      "execution_count": null,
      "outputs": [
        {
          "name": "stdout",
          "output_type": "stream",
          "text": [
            "10 \\x0a\n"
          ]
        },
        {
          "output_type": "execute_result",
          "data": {
            "application/vnd.google.colaboratory.intrinsic+json": {
              "type": "string"
            },
            "text/plain": [
              "'10 \\\\x0a'"
            ]
          },
          "metadata": {},
          "execution_count": 96
        }
      ]
    },
    {
      "cell_type": "code",
      "metadata": {
        "colab": {
          "base_uri": "https://localhost:8080/",
          "height": 52
        },
        "id": "oiqQBvOWSSaw",
        "outputId": "814123b7-96c1-4997-c1a1-d6766ba1ae92"
      },
      "source": [
        "# prompt\n",
        "input('입력해주세요: ')"
      ],
      "execution_count": null,
      "outputs": [
        {
          "name": "stdout",
          "output_type": "stream",
          "text": [
            "입력해주세요: 1111\n"
          ]
        },
        {
          "output_type": "execute_result",
          "data": {
            "application/vnd.google.colaboratory.intrinsic+json": {
              "type": "string"
            },
            "text/plain": [
              "'1111'"
            ]
          },
          "metadata": {},
          "execution_count": 95
        }
      ]
    },
    {
      "cell_type": "markdown",
      "metadata": {
        "id": "HdAZxcTMTai0"
      },
      "source": [
        "### 표준 출력\n",
        "- print()는 파이썬의 표준 출력 함수 입니다.\n",
        "  - 표준 출력 장치(모니터)로 출력을 보내주는 것입니다. \n",
        "- display()는 표준 출력 함수가 아닙니다.\n",
        "  - display는 표준 출력 장치로 출력을 내보내지 않습니다\n",
        "\n",
        "- print()의 원형\n",
        "```\n",
        "print(*objects, sep=' ', end='\\n', file=sys.stdout, flush=False)\n",
        "```"
      ]
    },
    {
      "cell_type": "code",
      "metadata": {
        "colab": {
          "base_uri": "https://localhost:8080/"
        },
        "id": "PqFdVJn7Ts6H",
        "outputId": "55fb47b3-3a8a-4fbc-d04c-664b27f31ba3"
      },
      "source": [
        "# print 함수의 첫 번째 매개변수는 가변인자 입니다.\n",
        "# 출력하고 싶은 내용이 몇개이든 상관없이 출력이 가능\n",
        "print(1, 2, 3, 4, 5, 6, )"
      ],
      "execution_count": null,
      "outputs": [
        {
          "output_type": "stream",
          "name": "stdout",
          "text": [
            "1 2 3 4 5 6\n"
          ]
        }
      ]
    },
    {
      "cell_type": "code",
      "metadata": {
        "colab": {
          "base_uri": "https://localhost:8080/"
        },
        "id": "i3zmmwuQUOGn",
        "outputId": "9737dfeb-6526-4a05-b14e-6f5471158234"
      },
      "source": [
        "# print 함수의 sep 매개변수의 기본값은 공백 입니다. \n",
        "print('hello', 'python', sep='/')"
      ],
      "execution_count": null,
      "outputs": [
        {
          "output_type": "stream",
          "name": "stdout",
          "text": [
            "hello/python\n"
          ]
        }
      ]
    },
    {
      "cell_type": "code",
      "metadata": {
        "colab": {
          "base_uri": "https://localhost:8080/"
        },
        "id": "-xWRnslEUf9j",
        "outputId": "c0b16871-7d4f-4a41-c6b9-732b10da093c"
      },
      "source": [
        "# print 함수의 end 매개변수의 기본값은 뉴라인 입니다. \n",
        "print('hello', end=' ')\n",
        "print('python')"
      ],
      "execution_count": null,
      "outputs": [
        {
          "output_type": "stream",
          "name": "stdout",
          "text": [
            "hello python\n"
          ]
        }
      ]
    },
    {
      "cell_type": "markdown",
      "metadata": {
        "id": "PHeFZFJhUpWN"
      },
      "source": [
        "## 파일 입/출력\n",
        "- 표준이 빠져 있다. \n",
        "  - 입/출력이 정해져 있지 않습니다. \n",
        "  - 입력과 출력을 정해줘야 합니다. \n",
        "    - 입력과 출력이 표준 장치에서 파일로 바뀐거에요\n",
        "\n",
        "- 입/출력을 하기 위한 객체를 따로 생성\n",
        "  - open()를 통해서 입/출력 객체를 따로 생성해준다.\n",
        "  - 표준은? \n",
        "    - 이미, 표준 입/출력 장치에 대한 객체가 이미 만들어 진것 \n",
        "\n",
        "- open함수의 원형\n",
        "```\n",
        "open(file, mode='r', buffering=- 1, encoding=None, errors=None, newline=None, closefd=True, opener=None)\n",
        "```\n",
        "\n",
        "- open 함수의 매개변수\n",
        "  - file: 읽거나/쓸 파일에 대한 경로\n",
        "  - mode: 읽기/쓰기/추가/바이너리, ... \n",
        "  - encoding: 읽거나/쓸 파일의 인코딩 셋을 지정\n",
        "    - 파이썬의 기본 인코딩: UTF-8"
      ]
    },
    {
      "cell_type": "markdown",
      "metadata": {
        "id": "iHdpjDBDVSgu"
      },
      "source": [
        "### 파일 입력(읽기)"
      ]
    },
    {
      "cell_type": "code",
      "metadata": {
        "id": "syuEm0k0dfYs"
      },
      "source": [
        "# 파일 입력을 위한 객체를 생성합니다.\n",
        "# open()을 통해서 해당 객체를 얻어와야 합니다. \n",
        "readFile = open('/content/sample_data/README.md', 'r')"
      ],
      "execution_count": null,
      "outputs": []
    },
    {
      "cell_type": "code",
      "metadata": {
        "colab": {
          "base_uri": "https://localhost:8080/"
        },
        "id": "uxa3Ib3HdptS",
        "outputId": "aa051392-8577-46c3-b981-05584ee5bdfb"
      },
      "source": [
        "# 생성된 객체를 통해서 파일 입력을 받을 수 있습니다. \n",
        "# input이 아닌 파일 클래스에서 정의된 read 메소드를 이용해서\n",
        "# 파일의 내용을 읽어올 수 있습니다. \n",
        "print( readFile.read() )"
      ],
      "execution_count": null,
      "outputs": [
        {
          "output_type": "stream",
          "name": "stdout",
          "text": [
            "This directory includes a few sample datasets to get you started.\n",
            "\n",
            "*   `california_housing_data*.csv` is California housing data from the 1990 US\n",
            "    Census; more information is available at:\n",
            "    https://developers.google.com/machine-learning/crash-course/california-housing-data-description\n",
            "\n",
            "*   `mnist_*.csv` is a small sample of the\n",
            "    [MNIST database](https://en.wikipedia.org/wiki/MNIST_database), which is\n",
            "    described at: http://yann.lecun.com/exdb/mnist/\n",
            "\n",
            "*   `anscombe.json` contains a copy of\n",
            "    [Anscombe's quartet](https://en.wikipedia.org/wiki/Anscombe%27s_quartet); it\n",
            "    was originally described in\n",
            "\n",
            "    Anscombe, F. J. (1973). 'Graphs in Statistical Analysis'. American\n",
            "    Statistician. 27 (1): 17-21. JSTOR 2682899.\n",
            "\n",
            "    and our copy was prepared by the\n",
            "    [vega_datasets library](https://github.com/altair-viz/vega_datasets/blob/4f67bdaad10f45e3549984e17e1b3088c731503d/vega_datasets/_data/anscombe.json).\n",
            "\n"
          ]
        }
      ]
    },
    {
      "cell_type": "code",
      "metadata": {
        "id": "ndazz8FfefKG"
      },
      "source": [
        "# 다 처리가 완료되면 생성된 객체는 닫아줘야 합니다. \n",
        "# 메모리에서 제거를 하는거죠\n",
        "readFile.close()"
      ],
      "execution_count": null,
      "outputs": []
    },
    {
      "cell_type": "markdown",
      "metadata": {
        "id": "04Mii9WSfWWa"
      },
      "source": [
        "### 파일 출력(쓰기)\n",
        "- 파일을 쓰기 위해서 객체를 생성하면\n",
        "  - 해당 파일이 없으면, 파일을 새로 생성\n",
        "  - 해당 파일이 있으면, 기존의 파일은 삭제되고, 새로 생성(주의!)"
      ]
    },
    {
      "cell_type": "code",
      "metadata": {
        "id": "Z12_Apywfj2R"
      },
      "source": [
        "# 역시, open을 통해서 쓰기용 파일 객체를 생성합니다. \n",
        "writeFile = open('/content/sample_data/README.md', 'w')"
      ],
      "execution_count": null,
      "outputs": []
    },
    {
      "cell_type": "markdown",
      "metadata": {
        "id": "ewn_3GFmfwQg"
      },
      "source": [
        "쓰기 모드인 경우 \n",
        "- 읽기 모드의 `read()`처럼 `write()`메소드를 이용해서 파일에 내용을 쓸 수 있습니다. \n",
        "- print()를 이용해서 표준 출력을 파일 출력으로 바꿀 수 있습니다. "
      ]
    },
    {
      "cell_type": "code",
      "metadata": {
        "id": "TTw0_gFDgPO-"
      },
      "source": [
        "# file 매개변수의 값을 쓰기용 파일 객체로 변경해줍니다. \n",
        "# 화면으로는 출력이 안되고 파일에 출력(쓰기)\n",
        "print('hello python', file=writeFile)"
      ],
      "execution_count": null,
      "outputs": []
    },
    {
      "cell_type": "markdown",
      "metadata": {
        "id": "q44q5xRVgnUO"
      },
      "source": [
        "입/출력 너무 빈번하게 발생하면, 부하가 많이 생겨요\n",
        "- 보통 입/출력은 한번에 처리 하려고 합니다. \n",
        "  - 생성했던 장치를 닫으면, 일괄적으로 파일에 기록\n",
        "  - 메모리가 일정크기 이상 사용이 되면, 파일에 기록"
      ]
    },
    {
      "cell_type": "code",
      "metadata": {
        "id": "3juU8X6Ug1Mv"
      },
      "source": [
        "# 생성된 파일 객체를 다으면, 메모리에 있던 값을 한번에 \n",
        "# 파일에 기록\n",
        "writeFile.close()"
      ],
      "execution_count": null,
      "outputs": []
    },
    {
      "cell_type": "markdown",
      "metadata": {
        "id": "k1R7vRbIlTmI"
      },
      "source": [
        "print의 flush를 이용하면, 바로바로 파일에 출력을 합니다. \n",
        "- write() 메소드를 사용하는 경우에는 flush를 지원하지 않습니다 "
      ]
    },
    {
      "cell_type": "code",
      "metadata": {
        "id": "1IL0lgNnhtkk"
      },
      "source": [
        "print('hello python', file=writeFile, flush=True)"
      ],
      "execution_count": null,
      "outputs": []
    },
    {
      "cell_type": "markdown",
      "metadata": {
        "id": "1mOMvQuVlljP"
      },
      "source": [
        "write() 메소드는 flush가 없어요"
      ]
    },
    {
      "cell_type": "code",
      "metadata": {
        "colab": {
          "base_uri": "https://localhost:8080/"
        },
        "id": "fYbl193GloFw",
        "outputId": "4900763b-0478-4baf-ad91-1d44d8f3f506"
      },
      "source": [
        "# write가 돌려주는 값은 파일에 쓴 문자열의 길이 입니다\n",
        "writeFile.write('hello python')"
      ],
      "execution_count": null,
      "outputs": [
        {
          "output_type": "execute_result",
          "data": {
            "text/plain": [
              "12"
            ]
          },
          "metadata": {},
          "execution_count": 126
        }
      ]
    },
    {
      "cell_type": "code",
      "metadata": {
        "id": "iB4hhHRRlv_X"
      },
      "source": [
        "writeFile.close()"
      ],
      "execution_count": null,
      "outputs": []
    },
    {
      "cell_type": "markdown",
      "metadata": {
        "id": "6Vfhb-jRmIbY"
      },
      "source": [
        "### 주의사항\n",
        "- 파일 입/출력에서는 open과 close가 중요한데, 맞춰주기가 쉽지 않죠\n",
        "- 그래서 파이썬은 `with` 문법을 지원\n",
        "  - 자동으로 열린 객체를 닫아주기 때문에 더 안전하게 사용할 수 있습니다. \n",
        "\n",
        "- 파이썬에서 파일 입/출력은 `with`와 함께 사용하는 것이 권장되는 방법 입니다. "
      ]
    },
    {
      "cell_type": "code",
      "metadata": {
        "id": "cznm8Ub-mYM4"
      },
      "source": [
        "with open('/content/sample_data/README.md', 'w') as file:\n",
        "  file.write('새로 기록되는 파일 내용')"
      ],
      "execution_count": null,
      "outputs": []
    },
    {
      "cell_type": "code",
      "metadata": {
        "colab": {
          "base_uri": "https://localhost:8080/"
        },
        "id": "1XK6Hr1JmjD8",
        "outputId": "8b69e3c8-358d-4ae7-e3b2-96b6642fab9f"
      },
      "source": [
        "with open('/content/sample_data/README.md', 'r') as file:\n",
        "  print( file.read() )"
      ],
      "execution_count": null,
      "outputs": [
        {
          "output_type": "stream",
          "name": "stdout",
          "text": [
            "새로 기록되는 파일 내용\n"
          ]
        }
      ]
    }
  ]
}