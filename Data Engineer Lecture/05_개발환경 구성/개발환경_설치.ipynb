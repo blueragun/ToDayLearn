{
  "nbformat": 4,
  "nbformat_minor": 0,
  "metadata": {
    "colab": {
      "name": "개발환경 설치.ipynb",
      "provenance": [],
      "collapsed_sections": [],
      "toc_visible": true
    },
    "kernelspec": {
      "name": "python3",
      "display_name": "Python 3"
    },
    "language_info": {
      "name": "python"
    }
  },
  "cells": [
    {
      "cell_type": "markdown",
      "source": [
        "# 파이썬 개발환경"
      ],
      "metadata": {
        "id": "EzwqXprl3poC"
      }
    },
    {
      "cell_type": "markdown",
      "source": [
        "## 파이썬 인터프리터의 설치\n",
        "- [파이썬 공식 홈페이지](http://www.python.org)\n",
        "  - 파이썬은 기본적으로 한 버전만 설치하는 것이 원칙입니다. \n",
        "  - 여러개의 버전을 동시에 여러개 설치해서 사용할 수 없다는 의미\n",
        "    - 억지로 억지로 여러개를 설치할 수 있지만, 그렇게 사용하지는 않습니다.\n",
        "\n",
        "  - **설치시 주의사항은 `Add to python to PATH` 항목 체크**\n",
        "  - 파이썬 쉘을 종료할 때는 EOF를 사용하면 됩니다. \n",
        "    - 윈도우즈: ctrl + z\n",
        "    - 맥OS: ctrl + d"
      ],
      "metadata": {
        "id": "0bXVduwB4Z-v"
      }
    },
    {
      "cell_type": "markdown",
      "source": [
        "## 가상환경\n",
        "- 여러개의 파이썬을 설치해서 격리(독립)된 환경을 구축\n",
        "- 파이썬에서는 가상환경을 지원하는 여러가지 프로그램이 있습니다. \n",
        "  - Anaconda, VirtualEnv, ... \n",
        "  - 수업시간에는 `Anaconda`를 사용하도록 합니다. \n",
        "- 아나콘다 설치\n",
        "  - [Anaconda](https://www.anaconda.com/products/individual)\n",
        "  - 설치는 기본적으로 긍정적으로 하시면 됩니다. \n",
        "    - `next`, `Agree`, `install`, ... \n",
        "  - 주의사항은 설치 도중에 `Advanced Installation Options` 에서\n",
        "    - **`Add Anaconda3 to the system PATH environment variable` 항목을 꼭 체크를 해주세요**\n",
        "\n",
        "  - CLI 기반의 명령어를 통해서 가상환경을 생성, 삭제, 확인, ...\n",
        "    - CLI(Command Line Interface)\n",
        "    - GUI(Graphic User Interface)\n",
        "  - 명령어 기반이 익숙해지면 다루기는 더 편하지만, 처음 사용하시는 분들을 위해 `Anaconda Nevigator`를 통해서 가상환경을 다루도록 합니다. "
      ],
      "metadata": {
        "id": "oqHal-LQ8lmQ"
      }
    },
    {
      "cell_type": "markdown",
      "source": [
        "## IDE(Integrated Development Environment)\n",
        "- 통합개발환경\n",
        "  - 지난수업시간까지 사용했던 IDE `주피터`라는 IDE를 사용\n",
        "  - 로컬환경에서 사용가능한 또다른 개발환경\n",
        "  - `Visual Studio Code`\n",
        "    - `Visual Studo`라는 개발도구도 있습니다. \n",
        "    - 이름이 같고, 비슷하게 생겼어요!\n",
        "    - 전혀다른 개발도구 입니다. \n",
        "    - 만든 회사는 둘다 MS에서 개포하는 개발도구\n",
        "\n",
        "- VScode(Visual Studio Code)\n",
        "  - 파이썬이 아니어도 다른 개발에도 사용가능합니다\n",
        "  - [다운로드](https://code.visualstudio.com/download)\n",
        "  - 컴파일러(인터프리터) + 에디터 + 디버거 + 유틸 ... \n",
        "  - VScode는 인터프리터를 따로 설치(가상환경)"
      ],
      "metadata": {
        "id": "TiphB1m09BPn"
      }
    },
    {
      "cell_type": "markdown",
      "source": [
        "# 웹프로그래밍 개발 환경\n",
        "- HTML, CSS, JavaScript(프론트-엔드)\n",
        "\n",
        "- JavaScript\n",
        "  - [node.js](https://nodejs.org/ko/download/): 자바스크립트를 실행하기 위한 인터프리터\n",
        "  - VScode 에서는 `code runner` 패키지를 설치해주시면 됩니다. \n",
        "\n",
        "- HTML & CSS\n",
        "  - 테스트를 위해서 아래의 방법으로 코드를 자동으로 생성해줍니다. \n",
        "    - 확장자가 `.html`인 파일을 하나 생성해줍니다. \n",
        "    - 해당 파일에서 아래와 같이 자동으로 코드를 생성해줍니다. \n",
        "      - ![tab]\n",
        "      - html:5[tab]\n",
        "  - `open in browser` 확장 패키지를 설치 해줍니다. \n",
        "    - 파일 탭에서 마우스 우클릭 => `open in default browser` 선택\n",
        "  - `Live Server` 확장 패키지를 설치 해줍니다. \n",
        "    - 에디터에서 마우스 우클릭 => `open with live server` 선택"
      ],
      "metadata": {
        "id": "CsTDHAllzNt1"
      }
    },
    {
      "cell_type": "code",
      "source": [
        ""
      ],
      "metadata": {
        "id": "UenkpKSjCy4U"
      },
      "execution_count": null,
      "outputs": []
    }
  ]
}